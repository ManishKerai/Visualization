{
 "cells": [
  {
   "cell_type": "markdown",
   "id": "fd270726",
   "metadata": {},
   "source": [
    "## Imports "
   ]
  },
  {
   "cell_type": "code",
   "execution_count": 5,
   "id": "7afe9817",
   "metadata": {},
   "outputs": [
    {
     "name": "stdout",
     "output_type": "stream",
     "text": [
      "Requirement already satisfied: plotly in c:\\users\\manish kerai\\anaconda3\\lib\\site-packages (5.14.1)\n",
      "Requirement already satisfied: tenacity>=6.2.0 in c:\\users\\manish kerai\\anaconda3\\lib\\site-packages (from plotly) (8.2.2)\n",
      "Requirement already satisfied: packaging in c:\\users\\manish kerai\\anaconda3\\lib\\site-packages (from plotly) (21.0)\n",
      "Requirement already satisfied: pyparsing>=2.0.2 in c:\\users\\manish kerai\\anaconda3\\lib\\site-packages (from packaging->plotly) (3.0.4)\n",
      "Requirement already satisfied: cufflinks in c:\\users\\manish kerai\\anaconda3\\lib\\site-packages (0.17.3)\n",
      "Requirement already satisfied: plotly>=4.1.1 in c:\\users\\manish kerai\\anaconda3\\lib\\site-packages (from cufflinks) (5.14.1)\n",
      "Requirement already satisfied: numpy>=1.9.2 in c:\\users\\manish kerai\\anaconda3\\lib\\site-packages (from cufflinks) (1.20.3)\n",
      "Requirement already satisfied: ipython>=5.3.0 in c:\\users\\manish kerai\\anaconda3\\lib\\site-packages (from cufflinks) (7.29.0)\n",
      "Requirement already satisfied: colorlover>=0.2.1 in c:\\users\\manish kerai\\anaconda3\\lib\\site-packages (from cufflinks) (0.3.0)\n",
      "Requirement already satisfied: setuptools>=34.4.1 in c:\\users\\manish kerai\\anaconda3\\lib\\site-packages (from cufflinks) (58.0.4)\n",
      "Requirement already satisfied: ipywidgets>=7.0.0 in c:\\users\\manish kerai\\anaconda3\\lib\\site-packages (from cufflinks) (7.6.5)\n",
      "Requirement already satisfied: six>=1.9.0 in c:\\users\\manish kerai\\anaconda3\\lib\\site-packages (from cufflinks) (1.16.0)\n",
      "Requirement already satisfied: pandas>=0.19.2 in c:\\users\\manish kerai\\anaconda3\\lib\\site-packages (from cufflinks) (1.3.4)\n",
      "Requirement already satisfied: prompt-toolkit!=3.0.0,!=3.0.1,<3.1.0,>=2.0.0 in c:\\users\\manish kerai\\anaconda3\\lib\\site-packages (from ipython>=5.3.0->cufflinks) (3.0.20)\n",
      "Requirement already satisfied: colorama in c:\\users\\manish kerai\\anaconda3\\lib\\site-packages (from ipython>=5.3.0->cufflinks) (0.4.4)\n",
      "Requirement already satisfied: decorator in c:\\users\\manish kerai\\anaconda3\\lib\\site-packages (from ipython>=5.3.0->cufflinks) (5.1.0)\n",
      "Requirement already satisfied: pickleshare in c:\\users\\manish kerai\\anaconda3\\lib\\site-packages (from ipython>=5.3.0->cufflinks) (0.7.5)\n",
      "Requirement already satisfied: pygments in c:\\users\\manish kerai\\anaconda3\\lib\\site-packages (from ipython>=5.3.0->cufflinks) (2.10.0)\n",
      "Requirement already satisfied: backcall in c:\\users\\manish kerai\\anaconda3\\lib\\site-packages (from ipython>=5.3.0->cufflinks) (0.2.0)\n",
      "Requirement already satisfied: jedi>=0.16 in c:\\users\\manish kerai\\anaconda3\\lib\\site-packages (from ipython>=5.3.0->cufflinks) (0.18.0)\n",
      "Requirement already satisfied: matplotlib-inline in c:\\users\\manish kerai\\anaconda3\\lib\\site-packages (from ipython>=5.3.0->cufflinks) (0.1.2)\n",
      "Requirement already satisfied: traitlets>=4.2 in c:\\users\\manish kerai\\anaconda3\\lib\\site-packages (from ipython>=5.3.0->cufflinks) (5.1.0)\n",
      "Requirement already satisfied: jupyterlab-widgets>=1.0.0 in c:\\users\\manish kerai\\anaconda3\\lib\\site-packages (from ipywidgets>=7.0.0->cufflinks) (1.0.0)\n",
      "Requirement already satisfied: widgetsnbextension~=3.5.0 in c:\\users\\manish kerai\\anaconda3\\lib\\site-packages (from ipywidgets>=7.0.0->cufflinks) (3.5.1)\n",
      "Requirement already satisfied: ipython-genutils~=0.2.0 in c:\\users\\manish kerai\\anaconda3\\lib\\site-packages (from ipywidgets>=7.0.0->cufflinks) (0.2.0)\n",
      "Requirement already satisfied: ipykernel>=4.5.1 in c:\\users\\manish kerai\\anaconda3\\lib\\site-packages (from ipywidgets>=7.0.0->cufflinks) (6.4.1)\n",
      "Requirement already satisfied: nbformat>=4.2.0 in c:\\users\\manish kerai\\anaconda3\\lib\\site-packages (from ipywidgets>=7.0.0->cufflinks) (5.1.3)\n",
      "Requirement already satisfied: jupyter-client<8.0 in c:\\users\\manish kerai\\anaconda3\\lib\\site-packages (from ipykernel>=4.5.1->ipywidgets>=7.0.0->cufflinks) (6.1.12)\n",
      "Requirement already satisfied: tornado<7.0,>=4.2 in c:\\users\\manish kerai\\anaconda3\\lib\\site-packages (from ipykernel>=4.5.1->ipywidgets>=7.0.0->cufflinks) (6.1)\n",
      "Requirement already satisfied: debugpy<2.0,>=1.0.0 in c:\\users\\manish kerai\\anaconda3\\lib\\site-packages (from ipykernel>=4.5.1->ipywidgets>=7.0.0->cufflinks) (1.4.1)\n",
      "Requirement already satisfied: parso<0.9.0,>=0.8.0 in c:\\users\\manish kerai\\anaconda3\\lib\\site-packages (from jedi>=0.16->ipython>=5.3.0->cufflinks) (0.8.2)\n",
      "Requirement already satisfied: jupyter-core>=4.6.0 in c:\\users\\manish kerai\\anaconda3\\lib\\site-packages (from jupyter-client<8.0->ipykernel>=4.5.1->ipywidgets>=7.0.0->cufflinks) (4.8.1)\n",
      "Requirement already satisfied: python-dateutil>=2.1 in c:\\users\\manish kerai\\anaconda3\\lib\\site-packages (from jupyter-client<8.0->ipykernel>=4.5.1->ipywidgets>=7.0.0->cufflinks) (2.8.2)\n",
      "Requirement already satisfied: pyzmq>=13 in c:\\users\\manish kerai\\anaconda3\\lib\\site-packages (from jupyter-client<8.0->ipykernel>=4.5.1->ipywidgets>=7.0.0->cufflinks) (22.2.1)\n",
      "Requirement already satisfied: pywin32>=1.0 in c:\\users\\manish kerai\\anaconda3\\lib\\site-packages (from jupyter-core>=4.6.0->jupyter-client<8.0->ipykernel>=4.5.1->ipywidgets>=7.0.0->cufflinks) (228)\n",
      "Requirement already satisfied: jsonschema!=2.5.0,>=2.4 in c:\\users\\manish kerai\\anaconda3\\lib\\site-packages (from nbformat>=4.2.0->ipywidgets>=7.0.0->cufflinks) (3.2.0)\n",
      "Requirement already satisfied: pyrsistent>=0.14.0 in c:\\users\\manish kerai\\anaconda3\\lib\\site-packages (from jsonschema!=2.5.0,>=2.4->nbformat>=4.2.0->ipywidgets>=7.0.0->cufflinks) (0.18.0)\n",
      "Requirement already satisfied: attrs>=17.4.0 in c:\\users\\manish kerai\\anaconda3\\lib\\site-packages (from jsonschema!=2.5.0,>=2.4->nbformat>=4.2.0->ipywidgets>=7.0.0->cufflinks) (21.2.0)\n",
      "Requirement already satisfied: pytz>=2017.3 in c:\\users\\manish kerai\\anaconda3\\lib\\site-packages (from pandas>=0.19.2->cufflinks) (2021.3)\n",
      "Requirement already satisfied: packaging in c:\\users\\manish kerai\\anaconda3\\lib\\site-packages (from plotly>=4.1.1->cufflinks) (21.0)\n",
      "Requirement already satisfied: tenacity>=6.2.0 in c:\\users\\manish kerai\\anaconda3\\lib\\site-packages (from plotly>=4.1.1->cufflinks) (8.2.2)\n",
      "Requirement already satisfied: wcwidth in c:\\users\\manish kerai\\anaconda3\\lib\\site-packages (from prompt-toolkit!=3.0.0,!=3.0.1,<3.1.0,>=2.0.0->ipython>=5.3.0->cufflinks) (0.2.5)\n",
      "Requirement already satisfied: notebook>=4.4.1 in c:\\users\\manish kerai\\anaconda3\\lib\\site-packages (from widgetsnbextension~=3.5.0->ipywidgets>=7.0.0->cufflinks) (6.4.5)\n",
      "Requirement already satisfied: prometheus-client in c:\\users\\manish kerai\\anaconda3\\lib\\site-packages (from notebook>=4.4.1->widgetsnbextension~=3.5.0->ipywidgets>=7.0.0->cufflinks) (0.11.0)\n",
      "Requirement already satisfied: argon2-cffi in c:\\users\\manish kerai\\anaconda3\\lib\\site-packages (from notebook>=4.4.1->widgetsnbextension~=3.5.0->ipywidgets>=7.0.0->cufflinks) (20.1.0)\n",
      "Requirement already satisfied: Send2Trash>=1.5.0 in c:\\users\\manish kerai\\anaconda3\\lib\\site-packages (from notebook>=4.4.1->widgetsnbextension~=3.5.0->ipywidgets>=7.0.0->cufflinks) (1.8.0)\n",
      "Requirement already satisfied: nbconvert in c:\\users\\manish kerai\\anaconda3\\lib\\site-packages (from notebook>=4.4.1->widgetsnbextension~=3.5.0->ipywidgets>=7.0.0->cufflinks) (6.1.0)\n",
      "Requirement already satisfied: jinja2 in c:\\users\\manish kerai\\anaconda3\\lib\\site-packages (from notebook>=4.4.1->widgetsnbextension~=3.5.0->ipywidgets>=7.0.0->cufflinks) (2.11.3)\n",
      "Requirement already satisfied: terminado>=0.8.3 in c:\\users\\manish kerai\\anaconda3\\lib\\site-packages (from notebook>=4.4.1->widgetsnbextension~=3.5.0->ipywidgets>=7.0.0->cufflinks) (0.9.4)\n",
      "Requirement already satisfied: pywinpty>=0.5 in c:\\users\\manish kerai\\anaconda3\\lib\\site-packages (from terminado>=0.8.3->notebook>=4.4.1->widgetsnbextension~=3.5.0->ipywidgets>=7.0.0->cufflinks) (0.5.7)\n",
      "Requirement already satisfied: cffi>=1.0.0 in c:\\users\\manish kerai\\anaconda3\\lib\\site-packages (from argon2-cffi->notebook>=4.4.1->widgetsnbextension~=3.5.0->ipywidgets>=7.0.0->cufflinks) (1.14.6)\n",
      "Requirement already satisfied: pycparser in c:\\users\\manish kerai\\anaconda3\\lib\\site-packages (from cffi>=1.0.0->argon2-cffi->notebook>=4.4.1->widgetsnbextension~=3.5.0->ipywidgets>=7.0.0->cufflinks) (2.20)\n",
      "Requirement already satisfied: MarkupSafe>=0.23 in c:\\users\\manish kerai\\anaconda3\\lib\\site-packages (from jinja2->notebook>=4.4.1->widgetsnbextension~=3.5.0->ipywidgets>=7.0.0->cufflinks) (1.1.1)\n",
      "Requirement already satisfied: pandocfilters>=1.4.1 in c:\\users\\manish kerai\\anaconda3\\lib\\site-packages (from nbconvert->notebook>=4.4.1->widgetsnbextension~=3.5.0->ipywidgets>=7.0.0->cufflinks) (1.4.3)\n",
      "Requirement already satisfied: defusedxml in c:\\users\\manish kerai\\anaconda3\\lib\\site-packages (from nbconvert->notebook>=4.4.1->widgetsnbextension~=3.5.0->ipywidgets>=7.0.0->cufflinks) (0.7.1)\n",
      "Requirement already satisfied: mistune<2,>=0.8.1 in c:\\users\\manish kerai\\anaconda3\\lib\\site-packages (from nbconvert->notebook>=4.4.1->widgetsnbextension~=3.5.0->ipywidgets>=7.0.0->cufflinks) (0.8.4)\n",
      "Requirement already satisfied: entrypoints>=0.2.2 in c:\\users\\manish kerai\\anaconda3\\lib\\site-packages (from nbconvert->notebook>=4.4.1->widgetsnbextension~=3.5.0->ipywidgets>=7.0.0->cufflinks) (0.3)\n",
      "Requirement already satisfied: bleach in c:\\users\\manish kerai\\anaconda3\\lib\\site-packages (from nbconvert->notebook>=4.4.1->widgetsnbextension~=3.5.0->ipywidgets>=7.0.0->cufflinks) (4.0.0)\n",
      "Requirement already satisfied: jupyterlab-pygments in c:\\users\\manish kerai\\anaconda3\\lib\\site-packages (from nbconvert->notebook>=4.4.1->widgetsnbextension~=3.5.0->ipywidgets>=7.0.0->cufflinks) (0.1.2)\n",
      "Requirement already satisfied: testpath in c:\\users\\manish kerai\\anaconda3\\lib\\site-packages (from nbconvert->notebook>=4.4.1->widgetsnbextension~=3.5.0->ipywidgets>=7.0.0->cufflinks) (0.5.0)\n",
      "Requirement already satisfied: nbclient<0.6.0,>=0.5.0 in c:\\users\\manish kerai\\anaconda3\\lib\\site-packages (from nbconvert->notebook>=4.4.1->widgetsnbextension~=3.5.0->ipywidgets>=7.0.0->cufflinks) (0.5.3)\n",
      "Requirement already satisfied: nest-asyncio in c:\\users\\manish kerai\\anaconda3\\lib\\site-packages (from nbclient<0.6.0,>=0.5.0->nbconvert->notebook>=4.4.1->widgetsnbextension~=3.5.0->ipywidgets>=7.0.0->cufflinks) (1.5.1)\n",
      "Requirement already satisfied: async-generator in c:\\users\\manish kerai\\anaconda3\\lib\\site-packages (from nbclient<0.6.0,>=0.5.0->nbconvert->notebook>=4.4.1->widgetsnbextension~=3.5.0->ipywidgets>=7.0.0->cufflinks) (1.10)\n",
      "Requirement already satisfied: webencodings in c:\\users\\manish kerai\\anaconda3\\lib\\site-packages (from bleach->nbconvert->notebook>=4.4.1->widgetsnbextension~=3.5.0->ipywidgets>=7.0.0->cufflinks) (0.5.1)\n",
      "Requirement already satisfied: pyparsing>=2.0.2 in c:\\users\\manish kerai\\anaconda3\\lib\\site-packages (from packaging->plotly>=4.1.1->cufflinks) (3.0.4)"
     ]
    }
   ],
   "source": [
    "!pip install plotly\n",
    "!pip install cufflinks"
   ]
  },
  {
   "cell_type": "code",
   "execution_count": 8,
   "id": "bad748dc",
   "metadata": {},
   "outputs": [],
   "source": [
    "import pandas as pd\n",
    "import numpy as np\n",
    "%matplotlib inline"
   ]
  },
  {
   "cell_type": "code",
   "execution_count": 10,
   "id": "7284b28e",
   "metadata": {},
   "outputs": [
    {
     "name": "stdout",
     "output_type": "stream",
     "text": [
      "5.14.1\n"
     ]
    }
   ],
   "source": [
    "from plotly import __version__\n",
    "from plotly.offline import download_plotlyjs, init_notebook_mode, plot, iplot\n",
    "\n",
    "print(__version__)"
   ]
  },
  {
   "cell_type": "code",
   "execution_count": 11,
   "id": "3de87c36",
   "metadata": {},
   "outputs": [],
   "source": [
    "import cufflinks as cf"
   ]
  },
  {
   "cell_type": "code",
   "execution_count": 13,
   "id": "db633762",
   "metadata": {},
   "outputs": [
    {
     "data": {
      "text/html": [
       "        <script type=\"text/javascript\">\n",
       "        window.PlotlyConfig = {MathJaxConfig: 'local'};\n",
       "        if (window.MathJax && window.MathJax.Hub && window.MathJax.Hub.Config) {window.MathJax.Hub.Config({SVG: {font: \"STIX-Web\"}});}\n",
       "        if (typeof require !== 'undefined') {\n",
       "        require.undef(\"plotly\");\n",
       "        requirejs.config({\n",
       "            paths: {\n",
       "                'plotly': ['https://cdn.plot.ly/plotly-2.20.0.min']\n",
       "            }\n",
       "        });\n",
       "        require(['plotly'], function(Plotly) {\n",
       "            window._Plotly = Plotly;\n",
       "        });\n",
       "        }\n",
       "        </script>\n",
       "        "
      ]
     },
     "metadata": {},
     "output_type": "display_data"
    }
   ],
   "source": [
    "#for Notebooks\n",
    "\n",
    "init_notebook_mode(connected = True)"
   ]
  },
  {
   "cell_type": "code",
   "execution_count": 14,
   "id": "1ce2e47d",
   "metadata": {},
   "outputs": [
    {
     "data": {
      "text/html": [
       "        <script type=\"text/javascript\">\n",
       "        window.PlotlyConfig = {MathJaxConfig: 'local'};\n",
       "        if (window.MathJax && window.MathJax.Hub && window.MathJax.Hub.Config) {window.MathJax.Hub.Config({SVG: {font: \"STIX-Web\"}});}\n",
       "        if (typeof require !== 'undefined') {\n",
       "        require.undef(\"plotly\");\n",
       "        requirejs.config({\n",
       "            paths: {\n",
       "                'plotly': ['https://cdn.plot.ly/plotly-2.20.0.min']\n",
       "            }\n",
       "        });\n",
       "        require(['plotly'], function(Plotly) {\n",
       "            window._Plotly = Plotly;\n",
       "        });\n",
       "        }\n",
       "        </script>\n",
       "        "
      ]
     },
     "metadata": {},
     "output_type": "display_data"
    },
    {
     "name": "stdout",
     "output_type": "stream",
     "text": [
      "Collecting plotly\n",
      "  Downloading plotly-5.14.1-py2.py3-none-any.whl (15.3 MB)\n",
      "Requirement already satisfied: packaging in c:\\users\\manish kerai\\anaconda3\\lib\\site-packages (from plotly) (21.0)\n",
      "Collecting tenacity>=6.2.0\n",
      "  Downloading tenacity-8.2.2-py3-none-any.whl (24 kB)\n",
      "Requirement already satisfied: pyparsing>=2.0.2 in c:\\users\\manish kerai\\anaconda3\\lib\\site-packages (from packaging->plotly) (3.0.4)\n",
      "Installing collected packages: tenacity, plotly\n",
      "Successfully installed plotly-5.14.1 tenacity-8.2.2\n"
     ]
    }
   ],
   "source": [
    "#for offline use\n",
    "\n",
    "cf.go_offline()"
   ]
  },
  {
   "cell_type": "markdown",
   "id": "6f91d1e1",
   "metadata": {},
   "source": [
    "### Dataset"
   ]
  },
  {
   "cell_type": "code",
   "execution_count": 15,
   "id": "4f8329c4",
   "metadata": {},
   "outputs": [],
   "source": [
    "df = pd.DataFrame(np.random.randn(100,4), columns = 'A B C D'.split())"
   ]
  },
  {
   "cell_type": "code",
   "execution_count": 16,
   "id": "d7a78bab",
   "metadata": {},
   "outputs": [
    {
     "data": {
      "text/html": [
       "<div>\n",
       "<style scoped>\n",
       "    .dataframe tbody tr th:only-of-type {\n",
       "        vertical-align: middle;\n",
       "    }\n",
       "\n",
       "    .dataframe tbody tr th {\n",
       "        vertical-align: top;\n",
       "    }\n",
       "\n",
       "    .dataframe thead th {\n",
       "        text-align: right;\n",
       "    }\n",
       "</style>\n",
       "<table border=\"1\" class=\"dataframe\">\n",
       "  <thead>\n",
       "    <tr style=\"text-align: right;\">\n",
       "      <th></th>\n",
       "      <th>A</th>\n",
       "      <th>B</th>\n",
       "      <th>C</th>\n",
       "      <th>D</th>\n",
       "    </tr>\n",
       "  </thead>\n",
       "  <tbody>\n",
       "    <tr>\n",
       "      <th>0</th>\n",
       "      <td>0.757831</td>\n",
       "      <td>-0.291289</td>\n",
       "      <td>1.028958</td>\n",
       "      <td>0.952649</td>\n",
       "    </tr>\n",
       "    <tr>\n",
       "      <th>1</th>\n",
       "      <td>0.670696</td>\n",
       "      <td>-0.509982</td>\n",
       "      <td>0.554622</td>\n",
       "      <td>-1.596810</td>\n",
       "    </tr>\n",
       "    <tr>\n",
       "      <th>2</th>\n",
       "      <td>-1.786751</td>\n",
       "      <td>1.190818</td>\n",
       "      <td>1.166275</td>\n",
       "      <td>-0.543330</td>\n",
       "    </tr>\n",
       "    <tr>\n",
       "      <th>3</th>\n",
       "      <td>0.560292</td>\n",
       "      <td>1.685265</td>\n",
       "      <td>2.407655</td>\n",
       "      <td>0.213879</td>\n",
       "    </tr>\n",
       "    <tr>\n",
       "      <th>4</th>\n",
       "      <td>1.209390</td>\n",
       "      <td>0.148822</td>\n",
       "      <td>1.120659</td>\n",
       "      <td>0.599263</td>\n",
       "    </tr>\n",
       "    <tr>\n",
       "      <th>...</th>\n",
       "      <td>...</td>\n",
       "      <td>...</td>\n",
       "      <td>...</td>\n",
       "      <td>...</td>\n",
       "    </tr>\n",
       "    <tr>\n",
       "      <th>95</th>\n",
       "      <td>1.662639</td>\n",
       "      <td>2.053427</td>\n",
       "      <td>-0.839631</td>\n",
       "      <td>-0.129402</td>\n",
       "    </tr>\n",
       "    <tr>\n",
       "      <th>96</th>\n",
       "      <td>-1.021618</td>\n",
       "      <td>0.865827</td>\n",
       "      <td>-1.704008</td>\n",
       "      <td>0.247628</td>\n",
       "    </tr>\n",
       "    <tr>\n",
       "      <th>97</th>\n",
       "      <td>-0.694947</td>\n",
       "      <td>1.845760</td>\n",
       "      <td>0.119735</td>\n",
       "      <td>0.123841</td>\n",
       "    </tr>\n",
       "    <tr>\n",
       "      <th>98</th>\n",
       "      <td>0.928569</td>\n",
       "      <td>-1.063519</td>\n",
       "      <td>-0.201300</td>\n",
       "      <td>-2.440242</td>\n",
       "    </tr>\n",
       "    <tr>\n",
       "      <th>99</th>\n",
       "      <td>-0.292614</td>\n",
       "      <td>1.002028</td>\n",
       "      <td>2.545171</td>\n",
       "      <td>-0.269963</td>\n",
       "    </tr>\n",
       "  </tbody>\n",
       "</table>\n",
       "<p>100 rows × 4 columns</p>\n",
       "</div>"
      ],
      "text/plain": [
       "           A         B         C         D\n",
       "0   0.757831 -0.291289  1.028958  0.952649\n",
       "1   0.670696 -0.509982  0.554622 -1.596810\n",
       "2  -1.786751  1.190818  1.166275 -0.543330\n",
       "3   0.560292  1.685265  2.407655  0.213879\n",
       "4   1.209390  0.148822  1.120659  0.599263\n",
       "..       ...       ...       ...       ...\n",
       "95  1.662639  2.053427 -0.839631 -0.129402\n",
       "96 -1.021618  0.865827 -1.704008  0.247628\n",
       "97 -0.694947  1.845760  0.119735  0.123841\n",
       "98  0.928569 -1.063519 -0.201300 -2.440242\n",
       "99 -0.292614  1.002028  2.545171 -0.269963\n",
       "\n",
       "[100 rows x 4 columns]"
      ]
     },
     "execution_count": 16,
     "metadata": {},
     "output_type": "execute_result"
    }
   ],
   "source": [
    "df"
   ]
  },
  {
   "cell_type": "code",
   "execution_count": 17,
   "id": "bdb6d922",
   "metadata": {},
   "outputs": [],
   "source": [
    "df2 = pd.DataFrame({'Category': ['A','B','C'],'Values': [32,43,50]})"
   ]
  },
  {
   "cell_type": "code",
   "execution_count": 18,
   "id": "3831fef6",
   "metadata": {},
   "outputs": [
    {
     "data": {
      "text/html": [
       "<div>\n",
       "<style scoped>\n",
       "    .dataframe tbody tr th:only-of-type {\n",
       "        vertical-align: middle;\n",
       "    }\n",
       "\n",
       "    .dataframe tbody tr th {\n",
       "        vertical-align: top;\n",
       "    }\n",
       "\n",
       "    .dataframe thead th {\n",
       "        text-align: right;\n",
       "    }\n",
       "</style>\n",
       "<table border=\"1\" class=\"dataframe\">\n",
       "  <thead>\n",
       "    <tr style=\"text-align: right;\">\n",
       "      <th></th>\n",
       "      <th>Category</th>\n",
       "      <th>Values</th>\n",
       "    </tr>\n",
       "  </thead>\n",
       "  <tbody>\n",
       "    <tr>\n",
       "      <th>0</th>\n",
       "      <td>A</td>\n",
       "      <td>32</td>\n",
       "    </tr>\n",
       "    <tr>\n",
       "      <th>1</th>\n",
       "      <td>B</td>\n",
       "      <td>43</td>\n",
       "    </tr>\n",
       "    <tr>\n",
       "      <th>2</th>\n",
       "      <td>C</td>\n",
       "      <td>50</td>\n",
       "    </tr>\n",
       "  </tbody>\n",
       "</table>\n",
       "</div>"
      ],
      "text/plain": [
       "  Category  Values\n",
       "0        A      32\n",
       "1        B      43\n",
       "2        C      50"
      ]
     },
     "execution_count": 18,
     "metadata": {},
     "output_type": "execute_result"
    }
   ],
   "source": [
    "df2"
   ]
  },
  {
   "cell_type": "markdown",
   "id": "859cc87b",
   "metadata": {},
   "source": [
    "## Use Cufflinks and iplot\n",
    "\n",
    "* Using Cufflinks and iplot()\n",
    "* scatter\n",
    "* bar\n",
    "* box\n",
    "* spread\n",
    "* ratio\n",
    "* heatmap\n",
    "* surface\n",
    "* histogram\n",
    "* bubble"
   ]
  },
  {
   "cell_type": "markdown",
   "id": "65d9285f",
   "metadata": {},
   "source": [
    "### Scatter"
   ]
  },
  {
   "cell_type": "code",
   "execution_count": 19,
   "id": "6c3de061",
   "metadata": {
    "scrolled": true
   },
   "outputs": [
    {
     "data": {
      "application/vnd.plotly.v1+json": {
       "config": {
        "linkText": "Export to plot.ly",
        "plotlyServerURL": "https://plot.ly",
        "showLink": true
       },
       "data": [
        {
         "line": {
          "color": "rgba(255, 153, 51, 1.0)",
          "dash": "solid",
          "shape": "linear",
          "width": 1.3
         },
         "marker": {
          "size": 10,
          "symbol": "circle"
         },
         "mode": "markers",
         "name": "B",
         "text": "",
         "type": "scatter",
         "x": [
          0.7578306652600714,
          0.6706958613531931,
          -1.786751065174122,
          0.5602920264863411,
          1.2093903118572087,
          -0.07721121963587653,
          -0.6006294853354058,
          -0.20549799611085745,
          0.14447932596359128,
          -0.6194297923494315,
          0.289965871828332,
          1.334295055420149,
          1.2776093322599726,
          0.6941583739260736,
          -0.4768485479531304,
          -1.3945337778497289,
          -0.8308943714415719,
          -0.1908555235678979,
          -0.35903626618040974,
          -2.0200458765769387,
          0.4448500215436498,
          0.20422160240325865,
          0.5392099010996428,
          -0.2690083112201799,
          -0.8563251939013093,
          0.3391207855185764,
          -0.7792248890505376,
          -0.02083868757770441,
          -0.03344647009605206,
          -1.3904501532020737,
          0.3608322091072763,
          -2.2848433711479856,
          -0.13177311715226472,
          -0.25776768300903474,
          0.027962301258553895,
          1.681435385772883,
          -0.6221469941651722,
          -1.1917502523025978,
          -2.1355438596372207,
          -0.29686712138952165,
          0.6467733369508364,
          -0.788778618157295,
          -0.9093268462871056,
          -0.6953376105722637,
          -0.23977448704372462,
          -0.3453021315051399,
          1.4490027915911707,
          0.32472600886413877,
          0.9359226852540424,
          2.6586112671481525,
          -0.32333375611415116,
          4.0344297621507454,
          -0.8205988894356041,
          -1.1362389424169994,
          -0.2111340316655757,
          0.33053613427656303,
          -2.2883541938471232,
          0.15101230122841047,
          0.5630993680418365,
          0.04005306805778204,
          0.7320047941010306,
          2.022400726278812,
          -1.110462875185184,
          1.815902928551929,
          0.23541742291644363,
          -0.299353695139132,
          1.782004055400953,
          0.5886194597980433,
          0.3249032927706249,
          0.22970085014314612,
          1.0296152959656006,
          0.3113892172505194,
          -0.6738285807996732,
          -1.4294071757980833,
          1.0331708534128439,
          1.0786061415606991,
          -1.0927355132299985,
          -0.26801167744466736,
          1.283875352142768,
          -1.1922505632319573,
          -0.11461499732670305,
          0.5612224005874871,
          -1.9495625965611316,
          -0.6754021167285816,
          -0.1713261396526278,
          2.3700737799129836,
          0.20724970718019972,
          0.36570347615770693,
          -0.7904553715348929,
          0.026238426697340594,
          -1.904503266356009,
          1.574480717301306,
          1.3400837073902583,
          -0.4839947096236791,
          -1.1813582092678951,
          1.6626390476575212,
          -1.0216179790542574,
          -0.6949471304302506,
          0.9285689130307127,
          -0.2926143093506573
         ],
         "y": [
          -0.2912892972987383,
          -0.5099817648528213,
          1.1908177594187945,
          1.6852654510348208,
          0.14882243470747117,
          -2.3037953168126015,
          -0.24570904973412847,
          0.27026697246654063,
          0.5489241190861819,
          1.0494892047672069,
          1.6449557327042612,
          -1.2435292515972494,
          1.0827059551477518,
          -2.3265514065069826,
          -1.8432176330776107,
          1.2563120938727566,
          2.1016432707721964,
          0.8835351387421774,
          0.7887795942984664,
          1.2320778057208106,
          -0.019410404695273668,
          -1.0221872298474088,
          -1.4324446606118177,
          1.0556769315616874,
          2.6333874524887424,
          1.0219370562933083,
          -1.0447863310211478,
          -0.31296385151259865,
          -0.5495225412079057,
          -0.5760573962317269,
          0.4189253096607101,
          1.471342914336534,
          1.0222367104442975,
          0.15985179971099342,
          -1.6756594262295046,
          -0.3772891667954507,
          0.5683044437292576,
          -2.049073107560736,
          0.4903378004188023,
          0.4530662374795767,
          -1.308635707523197,
          0.6446017773525391,
          -2.4390504610217976,
          1.4355999105681634,
          0.4014417106028471,
          -0.06582744145685468,
          0.4870730284017431,
          -1.9493842372661236,
          2.2826084790025343,
          -1.2718059047713601,
          -2.6857235646383626,
          -0.7201157734494502,
          -0.1920660069857729,
          0.5341498433545641,
          -0.6498776596158321,
          -0.6881579664154346,
          -0.017781421996660406,
          -0.006479640791160362,
          -1.4875180851261842,
          -2.151414005208173,
          -0.06862265103004218,
          -0.6809989254617403,
          0.07246770576574128,
          1.5709090059774033,
          1.2092234979821614,
          -1.7336592475299253,
          0.3750141896515368,
          -0.7224394257070924,
          1.569857139426887,
          0.6761954348997585,
          0.5973200260553962,
          -1.3395346590300246,
          -0.31508903188547854,
          -0.6159141442383137,
          -0.8342038355358447,
          1.5799669056690253,
          -0.8695982902595847,
          2.5086007158219537,
          -0.4983408276616498,
          0.9792467346219735,
          0.7202387436322023,
          1.565905215152806,
          0.11437371066288606,
          -0.2344926835279254,
          0.5064013627686159,
          0.9212884740745085,
          -2.438177970385512,
          -1.1653160008924643,
          0.5847791301571718,
          1.1658578569944609,
          -1.9586439283763402,
          -0.023745458263176616,
          -0.9644614734785698,
          -0.5583469240013501,
          0.6541854785700131,
          2.053427150608331,
          0.8658266947740538,
          1.8457601392044725,
          -1.0635193533480607,
          1.002028410054408
         ]
        }
       ],
       "layout": {
        "legend": {
         "bgcolor": "#F5F6F9",
         "font": {
          "color": "#4D5663"
         }
        },
        "paper_bgcolor": "#F5F6F9",
        "plot_bgcolor": "#F5F6F9",
        "template": {
         "data": {
          "bar": [
           {
            "error_x": {
             "color": "#2a3f5f"
            },
            "error_y": {
             "color": "#2a3f5f"
            },
            "marker": {
             "line": {
              "color": "#E5ECF6",
              "width": 0.5
             },
             "pattern": {
              "fillmode": "overlay",
              "size": 10,
              "solidity": 0.2
             }
            },
            "type": "bar"
           }
          ],
          "barpolar": [
           {
            "marker": {
             "line": {
              "color": "#E5ECF6",
              "width": 0.5
             },
             "pattern": {
              "fillmode": "overlay",
              "size": 10,
              "solidity": 0.2
             }
            },
            "type": "barpolar"
           }
          ],
          "carpet": [
           {
            "aaxis": {
             "endlinecolor": "#2a3f5f",
             "gridcolor": "white",
             "linecolor": "white",
             "minorgridcolor": "white",
             "startlinecolor": "#2a3f5f"
            },
            "baxis": {
             "endlinecolor": "#2a3f5f",
             "gridcolor": "white",
             "linecolor": "white",
             "minorgridcolor": "white",
             "startlinecolor": "#2a3f5f"
            },
            "type": "carpet"
           }
          ],
          "choropleth": [
           {
            "colorbar": {
             "outlinewidth": 0,
             "ticks": ""
            },
            "type": "choropleth"
           }
          ],
          "contour": [
           {
            "colorbar": {
             "outlinewidth": 0,
             "ticks": ""
            },
            "colorscale": [
             [
              0,
              "#0d0887"
             ],
             [
              0.1111111111111111,
              "#46039f"
             ],
             [
              0.2222222222222222,
              "#7201a8"
             ],
             [
              0.3333333333333333,
              "#9c179e"
             ],
             [
              0.4444444444444444,
              "#bd3786"
             ],
             [
              0.5555555555555556,
              "#d8576b"
             ],
             [
              0.6666666666666666,
              "#ed7953"
             ],
             [
              0.7777777777777778,
              "#fb9f3a"
             ],
             [
              0.8888888888888888,
              "#fdca26"
             ],
             [
              1,
              "#f0f921"
             ]
            ],
            "type": "contour"
           }
          ],
          "contourcarpet": [
           {
            "colorbar": {
             "outlinewidth": 0,
             "ticks": ""
            },
            "type": "contourcarpet"
           }
          ],
          "heatmap": [
           {
            "colorbar": {
             "outlinewidth": 0,
             "ticks": ""
            },
            "colorscale": [
             [
              0,
              "#0d0887"
             ],
             [
              0.1111111111111111,
              "#46039f"
             ],
             [
              0.2222222222222222,
              "#7201a8"
             ],
             [
              0.3333333333333333,
              "#9c179e"
             ],
             [
              0.4444444444444444,
              "#bd3786"
             ],
             [
              0.5555555555555556,
              "#d8576b"
             ],
             [
              0.6666666666666666,
              "#ed7953"
             ],
             [
              0.7777777777777778,
              "#fb9f3a"
             ],
             [
              0.8888888888888888,
              "#fdca26"
             ],
             [
              1,
              "#f0f921"
             ]
            ],
            "type": "heatmap"
           }
          ],
          "heatmapgl": [
           {
            "colorbar": {
             "outlinewidth": 0,
             "ticks": ""
            },
            "colorscale": [
             [
              0,
              "#0d0887"
             ],
             [
              0.1111111111111111,
              "#46039f"
             ],
             [
              0.2222222222222222,
              "#7201a8"
             ],
             [
              0.3333333333333333,
              "#9c179e"
             ],
             [
              0.4444444444444444,
              "#bd3786"
             ],
             [
              0.5555555555555556,
              "#d8576b"
             ],
             [
              0.6666666666666666,
              "#ed7953"
             ],
             [
              0.7777777777777778,
              "#fb9f3a"
             ],
             [
              0.8888888888888888,
              "#fdca26"
             ],
             [
              1,
              "#f0f921"
             ]
            ],
            "type": "heatmapgl"
           }
          ],
          "histogram": [
           {
            "marker": {
             "pattern": {
              "fillmode": "overlay",
              "size": 10,
              "solidity": 0.2
             }
            },
            "type": "histogram"
           }
          ],
          "histogram2d": [
           {
            "colorbar": {
             "outlinewidth": 0,
             "ticks": ""
            },
            "colorscale": [
             [
              0,
              "#0d0887"
             ],
             [
              0.1111111111111111,
              "#46039f"
             ],
             [
              0.2222222222222222,
              "#7201a8"
             ],
             [
              0.3333333333333333,
              "#9c179e"
             ],
             [
              0.4444444444444444,
              "#bd3786"
             ],
             [
              0.5555555555555556,
              "#d8576b"
             ],
             [
              0.6666666666666666,
              "#ed7953"
             ],
             [
              0.7777777777777778,
              "#fb9f3a"
             ],
             [
              0.8888888888888888,
              "#fdca26"
             ],
             [
              1,
              "#f0f921"
             ]
            ],
            "type": "histogram2d"
           }
          ],
          "histogram2dcontour": [
           {
            "colorbar": {
             "outlinewidth": 0,
             "ticks": ""
            },
            "colorscale": [
             [
              0,
              "#0d0887"
             ],
             [
              0.1111111111111111,
              "#46039f"
             ],
             [
              0.2222222222222222,
              "#7201a8"
             ],
             [
              0.3333333333333333,
              "#9c179e"
             ],
             [
              0.4444444444444444,
              "#bd3786"
             ],
             [
              0.5555555555555556,
              "#d8576b"
             ],
             [
              0.6666666666666666,
              "#ed7953"
             ],
             [
              0.7777777777777778,
              "#fb9f3a"
             ],
             [
              0.8888888888888888,
              "#fdca26"
             ],
             [
              1,
              "#f0f921"
             ]
            ],
            "type": "histogram2dcontour"
           }
          ],
          "mesh3d": [
           {
            "colorbar": {
             "outlinewidth": 0,
             "ticks": ""
            },
            "type": "mesh3d"
           }
          ],
          "parcoords": [
           {
            "line": {
             "colorbar": {
              "outlinewidth": 0,
              "ticks": ""
             }
            },
            "type": "parcoords"
           }
          ],
          "pie": [
           {
            "automargin": true,
            "type": "pie"
           }
          ],
          "scatter": [
           {
            "fillpattern": {
             "fillmode": "overlay",
             "size": 10,
             "solidity": 0.2
            },
            "type": "scatter"
           }
          ],
          "scatter3d": [
           {
            "line": {
             "colorbar": {
              "outlinewidth": 0,
              "ticks": ""
             }
            },
            "marker": {
             "colorbar": {
              "outlinewidth": 0,
              "ticks": ""
             }
            },
            "type": "scatter3d"
           }
          ],
          "scattercarpet": [
           {
            "marker": {
             "colorbar": {
              "outlinewidth": 0,
              "ticks": ""
             }
            },
            "type": "scattercarpet"
           }
          ],
          "scattergeo": [
           {
            "marker": {
             "colorbar": {
              "outlinewidth": 0,
              "ticks": ""
             }
            },
            "type": "scattergeo"
           }
          ],
          "scattergl": [
           {
            "marker": {
             "colorbar": {
              "outlinewidth": 0,
              "ticks": ""
             }
            },
            "type": "scattergl"
           }
          ],
          "scattermapbox": [
           {
            "marker": {
             "colorbar": {
              "outlinewidth": 0,
              "ticks": ""
             }
            },
            "type": "scattermapbox"
           }
          ],
          "scatterpolar": [
           {
            "marker": {
             "colorbar": {
              "outlinewidth": 0,
              "ticks": ""
             }
            },
            "type": "scatterpolar"
           }
          ],
          "scatterpolargl": [
           {
            "marker": {
             "colorbar": {
              "outlinewidth": 0,
              "ticks": ""
             }
            },
            "type": "scatterpolargl"
           }
          ],
          "scatterternary": [
           {
            "marker": {
             "colorbar": {
              "outlinewidth": 0,
              "ticks": ""
             }
            },
            "type": "scatterternary"
           }
          ],
          "surface": [
           {
            "colorbar": {
             "outlinewidth": 0,
             "ticks": ""
            },
            "colorscale": [
             [
              0,
              "#0d0887"
             ],
             [
              0.1111111111111111,
              "#46039f"
             ],
             [
              0.2222222222222222,
              "#7201a8"
             ],
             [
              0.3333333333333333,
              "#9c179e"
             ],
             [
              0.4444444444444444,
              "#bd3786"
             ],
             [
              0.5555555555555556,
              "#d8576b"
             ],
             [
              0.6666666666666666,
              "#ed7953"
             ],
             [
              0.7777777777777778,
              "#fb9f3a"
             ],
             [
              0.8888888888888888,
              "#fdca26"
             ],
             [
              1,
              "#f0f921"
             ]
            ],
            "type": "surface"
           }
          ],
          "table": [
           {
            "cells": {
             "fill": {
              "color": "#EBF0F8"
             },
             "line": {
              "color": "white"
             }
            },
            "header": {
             "fill": {
              "color": "#C8D4E3"
             },
             "line": {
              "color": "white"
             }
            },
            "type": "table"
           }
          ]
         },
         "layout": {
          "annotationdefaults": {
           "arrowcolor": "#2a3f5f",
           "arrowhead": 0,
           "arrowwidth": 1
          },
          "autotypenumbers": "strict",
          "coloraxis": {
           "colorbar": {
            "outlinewidth": 0,
            "ticks": ""
           }
          },
          "colorscale": {
           "diverging": [
            [
             0,
             "#8e0152"
            ],
            [
             0.1,
             "#c51b7d"
            ],
            [
             0.2,
             "#de77ae"
            ],
            [
             0.3,
             "#f1b6da"
            ],
            [
             0.4,
             "#fde0ef"
            ],
            [
             0.5,
             "#f7f7f7"
            ],
            [
             0.6,
             "#e6f5d0"
            ],
            [
             0.7,
             "#b8e186"
            ],
            [
             0.8,
             "#7fbc41"
            ],
            [
             0.9,
             "#4d9221"
            ],
            [
             1,
             "#276419"
            ]
           ],
           "sequential": [
            [
             0,
             "#0d0887"
            ],
            [
             0.1111111111111111,
             "#46039f"
            ],
            [
             0.2222222222222222,
             "#7201a8"
            ],
            [
             0.3333333333333333,
             "#9c179e"
            ],
            [
             0.4444444444444444,
             "#bd3786"
            ],
            [
             0.5555555555555556,
             "#d8576b"
            ],
            [
             0.6666666666666666,
             "#ed7953"
            ],
            [
             0.7777777777777778,
             "#fb9f3a"
            ],
            [
             0.8888888888888888,
             "#fdca26"
            ],
            [
             1,
             "#f0f921"
            ]
           ],
           "sequentialminus": [
            [
             0,
             "#0d0887"
            ],
            [
             0.1111111111111111,
             "#46039f"
            ],
            [
             0.2222222222222222,
             "#7201a8"
            ],
            [
             0.3333333333333333,
             "#9c179e"
            ],
            [
             0.4444444444444444,
             "#bd3786"
            ],
            [
             0.5555555555555556,
             "#d8576b"
            ],
            [
             0.6666666666666666,
             "#ed7953"
            ],
            [
             0.7777777777777778,
             "#fb9f3a"
            ],
            [
             0.8888888888888888,
             "#fdca26"
            ],
            [
             1,
             "#f0f921"
            ]
           ]
          },
          "colorway": [
           "#636efa",
           "#EF553B",
           "#00cc96",
           "#ab63fa",
           "#FFA15A",
           "#19d3f3",
           "#FF6692",
           "#B6E880",
           "#FF97FF",
           "#FECB52"
          ],
          "font": {
           "color": "#2a3f5f"
          },
          "geo": {
           "bgcolor": "white",
           "lakecolor": "white",
           "landcolor": "#E5ECF6",
           "showlakes": true,
           "showland": true,
           "subunitcolor": "white"
          },
          "hoverlabel": {
           "align": "left"
          },
          "hovermode": "closest",
          "mapbox": {
           "style": "light"
          },
          "paper_bgcolor": "white",
          "plot_bgcolor": "#E5ECF6",
          "polar": {
           "angularaxis": {
            "gridcolor": "white",
            "linecolor": "white",
            "ticks": ""
           },
           "bgcolor": "#E5ECF6",
           "radialaxis": {
            "gridcolor": "white",
            "linecolor": "white",
            "ticks": ""
           }
          },
          "scene": {
           "xaxis": {
            "backgroundcolor": "#E5ECF6",
            "gridcolor": "white",
            "gridwidth": 2,
            "linecolor": "white",
            "showbackground": true,
            "ticks": "",
            "zerolinecolor": "white"
           },
           "yaxis": {
            "backgroundcolor": "#E5ECF6",
            "gridcolor": "white",
            "gridwidth": 2,
            "linecolor": "white",
            "showbackground": true,
            "ticks": "",
            "zerolinecolor": "white"
           },
           "zaxis": {
            "backgroundcolor": "#E5ECF6",
            "gridcolor": "white",
            "gridwidth": 2,
            "linecolor": "white",
            "showbackground": true,
            "ticks": "",
            "zerolinecolor": "white"
           }
          },
          "shapedefaults": {
           "line": {
            "color": "#2a3f5f"
           }
          },
          "ternary": {
           "aaxis": {
            "gridcolor": "white",
            "linecolor": "white",
            "ticks": ""
           },
           "baxis": {
            "gridcolor": "white",
            "linecolor": "white",
            "ticks": ""
           },
           "bgcolor": "#E5ECF6",
           "caxis": {
            "gridcolor": "white",
            "linecolor": "white",
            "ticks": ""
           }
          },
          "title": {
           "x": 0.05
          },
          "xaxis": {
           "automargin": true,
           "gridcolor": "white",
           "linecolor": "white",
           "ticks": "",
           "title": {
            "standoff": 15
           },
           "zerolinecolor": "white",
           "zerolinewidth": 2
          },
          "yaxis": {
           "automargin": true,
           "gridcolor": "white",
           "linecolor": "white",
           "ticks": "",
           "title": {
            "standoff": 15
           },
           "zerolinecolor": "white",
           "zerolinewidth": 2
          }
         }
        },
        "title": {
         "font": {
          "color": "#4D5663"
         }
        },
        "xaxis": {
         "gridcolor": "#E1E5ED",
         "showgrid": true,
         "tickfont": {
          "color": "#4D5663"
         },
         "title": {
          "font": {
           "color": "#4D5663"
          },
          "text": ""
         },
         "zerolinecolor": "#E1E5ED"
        },
        "yaxis": {
         "gridcolor": "#E1E5ED",
         "showgrid": true,
         "tickfont": {
          "color": "#4D5663"
         },
         "title": {
          "font": {
           "color": "#4D5663"
          },
          "text": ""
         },
         "zerolinecolor": "#E1E5ED"
        }
       }
      },
      "text/html": [
       "<div>                            <div id=\"731edfa9-bb4f-4d23-aecd-e4b61ba02ea2\" class=\"plotly-graph-div\" style=\"height:525px; width:100%;\"></div>            <script type=\"text/javascript\">                require([\"plotly\"], function(Plotly) {                    window.PLOTLYENV=window.PLOTLYENV || {};\n",
       "                    window.PLOTLYENV.BASE_URL='https://plot.ly';                                    if (document.getElementById(\"731edfa9-bb4f-4d23-aecd-e4b61ba02ea2\")) {                    Plotly.newPlot(                        \"731edfa9-bb4f-4d23-aecd-e4b61ba02ea2\",                        [{\"line\":{\"color\":\"rgba(255, 153, 51, 1.0)\",\"dash\":\"solid\",\"shape\":\"linear\",\"width\":1.3},\"marker\":{\"size\":10,\"symbol\":\"circle\"},\"mode\":\"markers\",\"name\":\"B\",\"text\":\"\",\"x\":[0.7578306652600714,0.6706958613531931,-1.786751065174122,0.5602920264863411,1.2093903118572087,-0.07721121963587653,-0.6006294853354058,-0.20549799611085745,0.14447932596359128,-0.6194297923494315,0.289965871828332,1.334295055420149,1.2776093322599726,0.6941583739260736,-0.4768485479531304,-1.3945337778497289,-0.8308943714415719,-0.1908555235678979,-0.35903626618040974,-2.0200458765769387,0.4448500215436498,0.20422160240325865,0.5392099010996428,-0.2690083112201799,-0.8563251939013093,0.3391207855185764,-0.7792248890505376,-0.02083868757770441,-0.03344647009605206,-1.3904501532020737,0.3608322091072763,-2.2848433711479856,-0.13177311715226472,-0.25776768300903474,0.027962301258553895,1.681435385772883,-0.6221469941651722,-1.1917502523025978,-2.1355438596372207,-0.29686712138952165,0.6467733369508364,-0.788778618157295,-0.9093268462871056,-0.6953376105722637,-0.23977448704372462,-0.3453021315051399,1.4490027915911707,0.32472600886413877,0.9359226852540424,2.6586112671481525,-0.32333375611415116,4.0344297621507454,-0.8205988894356041,-1.1362389424169994,-0.2111340316655757,0.33053613427656303,-2.2883541938471232,0.15101230122841047,0.5630993680418365,0.04005306805778204,0.7320047941010306,2.022400726278812,-1.110462875185184,1.815902928551929,0.23541742291644363,-0.299353695139132,1.782004055400953,0.5886194597980433,0.3249032927706249,0.22970085014314612,1.0296152959656006,0.3113892172505194,-0.6738285807996732,-1.4294071757980833,1.0331708534128439,1.0786061415606991,-1.0927355132299985,-0.26801167744466736,1.283875352142768,-1.1922505632319573,-0.11461499732670305,0.5612224005874871,-1.9495625965611316,-0.6754021167285816,-0.1713261396526278,2.3700737799129836,0.20724970718019972,0.36570347615770693,-0.7904553715348929,0.026238426697340594,-1.904503266356009,1.574480717301306,1.3400837073902583,-0.4839947096236791,-1.1813582092678951,1.6626390476575212,-1.0216179790542574,-0.6949471304302506,0.9285689130307127,-0.2926143093506573],\"y\":[-0.2912892972987383,-0.5099817648528213,1.1908177594187945,1.6852654510348208,0.14882243470747117,-2.3037953168126015,-0.24570904973412847,0.27026697246654063,0.5489241190861819,1.0494892047672069,1.6449557327042612,-1.2435292515972494,1.0827059551477518,-2.3265514065069826,-1.8432176330776107,1.2563120938727566,2.1016432707721964,0.8835351387421774,0.7887795942984664,1.2320778057208106,-0.019410404695273668,-1.0221872298474088,-1.4324446606118177,1.0556769315616874,2.6333874524887424,1.0219370562933083,-1.0447863310211478,-0.31296385151259865,-0.5495225412079057,-0.5760573962317269,0.4189253096607101,1.471342914336534,1.0222367104442975,0.15985179971099342,-1.6756594262295046,-0.3772891667954507,0.5683044437292576,-2.049073107560736,0.4903378004188023,0.4530662374795767,-1.308635707523197,0.6446017773525391,-2.4390504610217976,1.4355999105681634,0.4014417106028471,-0.06582744145685468,0.4870730284017431,-1.9493842372661236,2.2826084790025343,-1.2718059047713601,-2.6857235646383626,-0.7201157734494502,-0.1920660069857729,0.5341498433545641,-0.6498776596158321,-0.6881579664154346,-0.017781421996660406,-0.006479640791160362,-1.4875180851261842,-2.151414005208173,-0.06862265103004218,-0.6809989254617403,0.07246770576574128,1.5709090059774033,1.2092234979821614,-1.7336592475299253,0.3750141896515368,-0.7224394257070924,1.569857139426887,0.6761954348997585,0.5973200260553962,-1.3395346590300246,-0.31508903188547854,-0.6159141442383137,-0.8342038355358447,1.5799669056690253,-0.8695982902595847,2.5086007158219537,-0.4983408276616498,0.9792467346219735,0.7202387436322023,1.565905215152806,0.11437371066288606,-0.2344926835279254,0.5064013627686159,0.9212884740745085,-2.438177970385512,-1.1653160008924643,0.5847791301571718,1.1658578569944609,-1.9586439283763402,-0.023745458263176616,-0.9644614734785698,-0.5583469240013501,0.6541854785700131,2.053427150608331,0.8658266947740538,1.8457601392044725,-1.0635193533480607,1.002028410054408],\"type\":\"scatter\"}],                        {\"legend\":{\"bgcolor\":\"#F5F6F9\",\"font\":{\"color\":\"#4D5663\"}},\"paper_bgcolor\":\"#F5F6F9\",\"plot_bgcolor\":\"#F5F6F9\",\"template\":{\"data\":{\"barpolar\":[{\"marker\":{\"line\":{\"color\":\"#E5ECF6\",\"width\":0.5},\"pattern\":{\"fillmode\":\"overlay\",\"size\":10,\"solidity\":0.2}},\"type\":\"barpolar\"}],\"bar\":[{\"error_x\":{\"color\":\"#2a3f5f\"},\"error_y\":{\"color\":\"#2a3f5f\"},\"marker\":{\"line\":{\"color\":\"#E5ECF6\",\"width\":0.5},\"pattern\":{\"fillmode\":\"overlay\",\"size\":10,\"solidity\":0.2}},\"type\":\"bar\"}],\"carpet\":[{\"aaxis\":{\"endlinecolor\":\"#2a3f5f\",\"gridcolor\":\"white\",\"linecolor\":\"white\",\"minorgridcolor\":\"white\",\"startlinecolor\":\"#2a3f5f\"},\"baxis\":{\"endlinecolor\":\"#2a3f5f\",\"gridcolor\":\"white\",\"linecolor\":\"white\",\"minorgridcolor\":\"white\",\"startlinecolor\":\"#2a3f5f\"},\"type\":\"carpet\"}],\"choropleth\":[{\"colorbar\":{\"outlinewidth\":0,\"ticks\":\"\"},\"type\":\"choropleth\"}],\"contourcarpet\":[{\"colorbar\":{\"outlinewidth\":0,\"ticks\":\"\"},\"type\":\"contourcarpet\"}],\"contour\":[{\"colorbar\":{\"outlinewidth\":0,\"ticks\":\"\"},\"colorscale\":[[0.0,\"#0d0887\"],[0.1111111111111111,\"#46039f\"],[0.2222222222222222,\"#7201a8\"],[0.3333333333333333,\"#9c179e\"],[0.4444444444444444,\"#bd3786\"],[0.5555555555555556,\"#d8576b\"],[0.6666666666666666,\"#ed7953\"],[0.7777777777777778,\"#fb9f3a\"],[0.8888888888888888,\"#fdca26\"],[1.0,\"#f0f921\"]],\"type\":\"contour\"}],\"heatmapgl\":[{\"colorbar\":{\"outlinewidth\":0,\"ticks\":\"\"},\"colorscale\":[[0.0,\"#0d0887\"],[0.1111111111111111,\"#46039f\"],[0.2222222222222222,\"#7201a8\"],[0.3333333333333333,\"#9c179e\"],[0.4444444444444444,\"#bd3786\"],[0.5555555555555556,\"#d8576b\"],[0.6666666666666666,\"#ed7953\"],[0.7777777777777778,\"#fb9f3a\"],[0.8888888888888888,\"#fdca26\"],[1.0,\"#f0f921\"]],\"type\":\"heatmapgl\"}],\"heatmap\":[{\"colorbar\":{\"outlinewidth\":0,\"ticks\":\"\"},\"colorscale\":[[0.0,\"#0d0887\"],[0.1111111111111111,\"#46039f\"],[0.2222222222222222,\"#7201a8\"],[0.3333333333333333,\"#9c179e\"],[0.4444444444444444,\"#bd3786\"],[0.5555555555555556,\"#d8576b\"],[0.6666666666666666,\"#ed7953\"],[0.7777777777777778,\"#fb9f3a\"],[0.8888888888888888,\"#fdca26\"],[1.0,\"#f0f921\"]],\"type\":\"heatmap\"}],\"histogram2dcontour\":[{\"colorbar\":{\"outlinewidth\":0,\"ticks\":\"\"},\"colorscale\":[[0.0,\"#0d0887\"],[0.1111111111111111,\"#46039f\"],[0.2222222222222222,\"#7201a8\"],[0.3333333333333333,\"#9c179e\"],[0.4444444444444444,\"#bd3786\"],[0.5555555555555556,\"#d8576b\"],[0.6666666666666666,\"#ed7953\"],[0.7777777777777778,\"#fb9f3a\"],[0.8888888888888888,\"#fdca26\"],[1.0,\"#f0f921\"]],\"type\":\"histogram2dcontour\"}],\"histogram2d\":[{\"colorbar\":{\"outlinewidth\":0,\"ticks\":\"\"},\"colorscale\":[[0.0,\"#0d0887\"],[0.1111111111111111,\"#46039f\"],[0.2222222222222222,\"#7201a8\"],[0.3333333333333333,\"#9c179e\"],[0.4444444444444444,\"#bd3786\"],[0.5555555555555556,\"#d8576b\"],[0.6666666666666666,\"#ed7953\"],[0.7777777777777778,\"#fb9f3a\"],[0.8888888888888888,\"#fdca26\"],[1.0,\"#f0f921\"]],\"type\":\"histogram2d\"}],\"histogram\":[{\"marker\":{\"pattern\":{\"fillmode\":\"overlay\",\"size\":10,\"solidity\":0.2}},\"type\":\"histogram\"}],\"mesh3d\":[{\"colorbar\":{\"outlinewidth\":0,\"ticks\":\"\"},\"type\":\"mesh3d\"}],\"parcoords\":[{\"line\":{\"colorbar\":{\"outlinewidth\":0,\"ticks\":\"\"}},\"type\":\"parcoords\"}],\"pie\":[{\"automargin\":true,\"type\":\"pie\"}],\"scatter3d\":[{\"line\":{\"colorbar\":{\"outlinewidth\":0,\"ticks\":\"\"}},\"marker\":{\"colorbar\":{\"outlinewidth\":0,\"ticks\":\"\"}},\"type\":\"scatter3d\"}],\"scattercarpet\":[{\"marker\":{\"colorbar\":{\"outlinewidth\":0,\"ticks\":\"\"}},\"type\":\"scattercarpet\"}],\"scattergeo\":[{\"marker\":{\"colorbar\":{\"outlinewidth\":0,\"ticks\":\"\"}},\"type\":\"scattergeo\"}],\"scattergl\":[{\"marker\":{\"colorbar\":{\"outlinewidth\":0,\"ticks\":\"\"}},\"type\":\"scattergl\"}],\"scattermapbox\":[{\"marker\":{\"colorbar\":{\"outlinewidth\":0,\"ticks\":\"\"}},\"type\":\"scattermapbox\"}],\"scatterpolargl\":[{\"marker\":{\"colorbar\":{\"outlinewidth\":0,\"ticks\":\"\"}},\"type\":\"scatterpolargl\"}],\"scatterpolar\":[{\"marker\":{\"colorbar\":{\"outlinewidth\":0,\"ticks\":\"\"}},\"type\":\"scatterpolar\"}],\"scatter\":[{\"fillpattern\":{\"fillmode\":\"overlay\",\"size\":10,\"solidity\":0.2},\"type\":\"scatter\"}],\"scatterternary\":[{\"marker\":{\"colorbar\":{\"outlinewidth\":0,\"ticks\":\"\"}},\"type\":\"scatterternary\"}],\"surface\":[{\"colorbar\":{\"outlinewidth\":0,\"ticks\":\"\"},\"colorscale\":[[0.0,\"#0d0887\"],[0.1111111111111111,\"#46039f\"],[0.2222222222222222,\"#7201a8\"],[0.3333333333333333,\"#9c179e\"],[0.4444444444444444,\"#bd3786\"],[0.5555555555555556,\"#d8576b\"],[0.6666666666666666,\"#ed7953\"],[0.7777777777777778,\"#fb9f3a\"],[0.8888888888888888,\"#fdca26\"],[1.0,\"#f0f921\"]],\"type\":\"surface\"}],\"table\":[{\"cells\":{\"fill\":{\"color\":\"#EBF0F8\"},\"line\":{\"color\":\"white\"}},\"header\":{\"fill\":{\"color\":\"#C8D4E3\"},\"line\":{\"color\":\"white\"}},\"type\":\"table\"}]},\"layout\":{\"annotationdefaults\":{\"arrowcolor\":\"#2a3f5f\",\"arrowhead\":0,\"arrowwidth\":1},\"autotypenumbers\":\"strict\",\"coloraxis\":{\"colorbar\":{\"outlinewidth\":0,\"ticks\":\"\"}},\"colorscale\":{\"diverging\":[[0,\"#8e0152\"],[0.1,\"#c51b7d\"],[0.2,\"#de77ae\"],[0.3,\"#f1b6da\"],[0.4,\"#fde0ef\"],[0.5,\"#f7f7f7\"],[0.6,\"#e6f5d0\"],[0.7,\"#b8e186\"],[0.8,\"#7fbc41\"],[0.9,\"#4d9221\"],[1,\"#276419\"]],\"sequential\":[[0.0,\"#0d0887\"],[0.1111111111111111,\"#46039f\"],[0.2222222222222222,\"#7201a8\"],[0.3333333333333333,\"#9c179e\"],[0.4444444444444444,\"#bd3786\"],[0.5555555555555556,\"#d8576b\"],[0.6666666666666666,\"#ed7953\"],[0.7777777777777778,\"#fb9f3a\"],[0.8888888888888888,\"#fdca26\"],[1.0,\"#f0f921\"]],\"sequentialminus\":[[0.0,\"#0d0887\"],[0.1111111111111111,\"#46039f\"],[0.2222222222222222,\"#7201a8\"],[0.3333333333333333,\"#9c179e\"],[0.4444444444444444,\"#bd3786\"],[0.5555555555555556,\"#d8576b\"],[0.6666666666666666,\"#ed7953\"],[0.7777777777777778,\"#fb9f3a\"],[0.8888888888888888,\"#fdca26\"],[1.0,\"#f0f921\"]]},\"colorway\":[\"#636efa\",\"#EF553B\",\"#00cc96\",\"#ab63fa\",\"#FFA15A\",\"#19d3f3\",\"#FF6692\",\"#B6E880\",\"#FF97FF\",\"#FECB52\"],\"font\":{\"color\":\"#2a3f5f\"},\"geo\":{\"bgcolor\":\"white\",\"lakecolor\":\"white\",\"landcolor\":\"#E5ECF6\",\"showlakes\":true,\"showland\":true,\"subunitcolor\":\"white\"},\"hoverlabel\":{\"align\":\"left\"},\"hovermode\":\"closest\",\"mapbox\":{\"style\":\"light\"},\"paper_bgcolor\":\"white\",\"plot_bgcolor\":\"#E5ECF6\",\"polar\":{\"angularaxis\":{\"gridcolor\":\"white\",\"linecolor\":\"white\",\"ticks\":\"\"},\"bgcolor\":\"#E5ECF6\",\"radialaxis\":{\"gridcolor\":\"white\",\"linecolor\":\"white\",\"ticks\":\"\"}},\"scene\":{\"xaxis\":{\"backgroundcolor\":\"#E5ECF6\",\"gridcolor\":\"white\",\"gridwidth\":2,\"linecolor\":\"white\",\"showbackground\":true,\"ticks\":\"\",\"zerolinecolor\":\"white\"},\"yaxis\":{\"backgroundcolor\":\"#E5ECF6\",\"gridcolor\":\"white\",\"gridwidth\":2,\"linecolor\":\"white\",\"showbackground\":true,\"ticks\":\"\",\"zerolinecolor\":\"white\"},\"zaxis\":{\"backgroundcolor\":\"#E5ECF6\",\"gridcolor\":\"white\",\"gridwidth\":2,\"linecolor\":\"white\",\"showbackground\":true,\"ticks\":\"\",\"zerolinecolor\":\"white\"}},\"shapedefaults\":{\"line\":{\"color\":\"#2a3f5f\"}},\"ternary\":{\"aaxis\":{\"gridcolor\":\"white\",\"linecolor\":\"white\",\"ticks\":\"\"},\"baxis\":{\"gridcolor\":\"white\",\"linecolor\":\"white\",\"ticks\":\"\"},\"bgcolor\":\"#E5ECF6\",\"caxis\":{\"gridcolor\":\"white\",\"linecolor\":\"white\",\"ticks\":\"\"}},\"title\":{\"x\":0.05},\"xaxis\":{\"automargin\":true,\"gridcolor\":\"white\",\"linecolor\":\"white\",\"ticks\":\"\",\"title\":{\"standoff\":15},\"zerolinecolor\":\"white\",\"zerolinewidth\":2},\"yaxis\":{\"automargin\":true,\"gridcolor\":\"white\",\"linecolor\":\"white\",\"ticks\":\"\",\"title\":{\"standoff\":15},\"zerolinecolor\":\"white\",\"zerolinewidth\":2}}},\"title\":{\"font\":{\"color\":\"#4D5663\"}},\"xaxis\":{\"gridcolor\":\"#E1E5ED\",\"showgrid\":true,\"tickfont\":{\"color\":\"#4D5663\"},\"title\":{\"font\":{\"color\":\"#4D5663\"},\"text\":\"\"},\"zerolinecolor\":\"#E1E5ED\"},\"yaxis\":{\"gridcolor\":\"#E1E5ED\",\"showgrid\":true,\"tickfont\":{\"color\":\"#4D5663\"},\"title\":{\"font\":{\"color\":\"#4D5663\"},\"text\":\"\"},\"zerolinecolor\":\"#E1E5ED\"}},                        {\"showLink\": true, \"linkText\": \"Export to plot.ly\", \"plotlyServerURL\": \"https://plot.ly\", \"responsive\": true}                    ).then(function(){\n",
       "                            \n",
       "var gd = document.getElementById('731edfa9-bb4f-4d23-aecd-e4b61ba02ea2');\n",
       "var x = new MutationObserver(function (mutations, observer) {{\n",
       "        var display = window.getComputedStyle(gd).display;\n",
       "        if (!display || display === 'none') {{\n",
       "            console.log([gd, 'removed!']);\n",
       "            Plotly.purge(gd);\n",
       "            observer.disconnect();\n",
       "        }}\n",
       "}});\n",
       "\n",
       "// Listen for the removal of the full notebook cells\n",
       "var notebookContainer = gd.closest('#notebook-container');\n",
       "if (notebookContainer) {{\n",
       "    x.observe(notebookContainer, {childList: true});\n",
       "}}\n",
       "\n",
       "// Listen for the clearing of the current output cell\n",
       "var outputEl = gd.closest('.output');\n",
       "if (outputEl) {{\n",
       "    x.observe(outputEl, {childList: true});\n",
       "}}\n",
       "\n",
       "                        })                };                });            </script>        </div>"
      ]
     },
     "metadata": {},
     "output_type": "display_data"
    }
   ],
   "source": [
    "df.iplot(kind = 'scatter', x = 'A', y = 'B', mode = 'markers', size = 10)"
   ]
  },
  {
   "cell_type": "markdown",
   "id": "ef9c3585",
   "metadata": {},
   "source": [
    "### Bar Plots"
   ]
  },
  {
   "cell_type": "code",
   "execution_count": 20,
   "id": "df748310",
   "metadata": {},
   "outputs": [
    {
     "data": {
      "application/vnd.plotly.v1+json": {
       "config": {
        "linkText": "Export to plot.ly",
        "plotlyServerURL": "https://plot.ly",
        "showLink": true
       },
       "data": [
        {
         "marker": {
          "color": "rgba(255, 153, 51, 0.6)",
          "line": {
           "color": "rgba(255, 153, 51, 1.0)",
           "width": 1
          }
         },
         "name": "Values",
         "orientation": "v",
         "text": "",
         "type": "bar",
         "x": [
          "A",
          "B",
          "C"
         ],
         "y": [
          32,
          43,
          50
         ]
        }
       ],
       "layout": {
        "legend": {
         "bgcolor": "#F5F6F9",
         "font": {
          "color": "#4D5663"
         }
        },
        "paper_bgcolor": "#F5F6F9",
        "plot_bgcolor": "#F5F6F9",
        "template": {
         "data": {
          "bar": [
           {
            "error_x": {
             "color": "#2a3f5f"
            },
            "error_y": {
             "color": "#2a3f5f"
            },
            "marker": {
             "line": {
              "color": "#E5ECF6",
              "width": 0.5
             },
             "pattern": {
              "fillmode": "overlay",
              "size": 10,
              "solidity": 0.2
             }
            },
            "type": "bar"
           }
          ],
          "barpolar": [
           {
            "marker": {
             "line": {
              "color": "#E5ECF6",
              "width": 0.5
             },
             "pattern": {
              "fillmode": "overlay",
              "size": 10,
              "solidity": 0.2
             }
            },
            "type": "barpolar"
           }
          ],
          "carpet": [
           {
            "aaxis": {
             "endlinecolor": "#2a3f5f",
             "gridcolor": "white",
             "linecolor": "white",
             "minorgridcolor": "white",
             "startlinecolor": "#2a3f5f"
            },
            "baxis": {
             "endlinecolor": "#2a3f5f",
             "gridcolor": "white",
             "linecolor": "white",
             "minorgridcolor": "white",
             "startlinecolor": "#2a3f5f"
            },
            "type": "carpet"
           }
          ],
          "choropleth": [
           {
            "colorbar": {
             "outlinewidth": 0,
             "ticks": ""
            },
            "type": "choropleth"
           }
          ],
          "contour": [
           {
            "colorbar": {
             "outlinewidth": 0,
             "ticks": ""
            },
            "colorscale": [
             [
              0,
              "#0d0887"
             ],
             [
              0.1111111111111111,
              "#46039f"
             ],
             [
              0.2222222222222222,
              "#7201a8"
             ],
             [
              0.3333333333333333,
              "#9c179e"
             ],
             [
              0.4444444444444444,
              "#bd3786"
             ],
             [
              0.5555555555555556,
              "#d8576b"
             ],
             [
              0.6666666666666666,
              "#ed7953"
             ],
             [
              0.7777777777777778,
              "#fb9f3a"
             ],
             [
              0.8888888888888888,
              "#fdca26"
             ],
             [
              1,
              "#f0f921"
             ]
            ],
            "type": "contour"
           }
          ],
          "contourcarpet": [
           {
            "colorbar": {
             "outlinewidth": 0,
             "ticks": ""
            },
            "type": "contourcarpet"
           }
          ],
          "heatmap": [
           {
            "colorbar": {
             "outlinewidth": 0,
             "ticks": ""
            },
            "colorscale": [
             [
              0,
              "#0d0887"
             ],
             [
              0.1111111111111111,
              "#46039f"
             ],
             [
              0.2222222222222222,
              "#7201a8"
             ],
             [
              0.3333333333333333,
              "#9c179e"
             ],
             [
              0.4444444444444444,
              "#bd3786"
             ],
             [
              0.5555555555555556,
              "#d8576b"
             ],
             [
              0.6666666666666666,
              "#ed7953"
             ],
             [
              0.7777777777777778,
              "#fb9f3a"
             ],
             [
              0.8888888888888888,
              "#fdca26"
             ],
             [
              1,
              "#f0f921"
             ]
            ],
            "type": "heatmap"
           }
          ],
          "heatmapgl": [
           {
            "colorbar": {
             "outlinewidth": 0,
             "ticks": ""
            },
            "colorscale": [
             [
              0,
              "#0d0887"
             ],
             [
              0.1111111111111111,
              "#46039f"
             ],
             [
              0.2222222222222222,
              "#7201a8"
             ],
             [
              0.3333333333333333,
              "#9c179e"
             ],
             [
              0.4444444444444444,
              "#bd3786"
             ],
             [
              0.5555555555555556,
              "#d8576b"
             ],
             [
              0.6666666666666666,
              "#ed7953"
             ],
             [
              0.7777777777777778,
              "#fb9f3a"
             ],
             [
              0.8888888888888888,
              "#fdca26"
             ],
             [
              1,
              "#f0f921"
             ]
            ],
            "type": "heatmapgl"
           }
          ],
          "histogram": [
           {
            "marker": {
             "pattern": {
              "fillmode": "overlay",
              "size": 10,
              "solidity": 0.2
             }
            },
            "type": "histogram"
           }
          ],
          "histogram2d": [
           {
            "colorbar": {
             "outlinewidth": 0,
             "ticks": ""
            },
            "colorscale": [
             [
              0,
              "#0d0887"
             ],
             [
              0.1111111111111111,
              "#46039f"
             ],
             [
              0.2222222222222222,
              "#7201a8"
             ],
             [
              0.3333333333333333,
              "#9c179e"
             ],
             [
              0.4444444444444444,
              "#bd3786"
             ],
             [
              0.5555555555555556,
              "#d8576b"
             ],
             [
              0.6666666666666666,
              "#ed7953"
             ],
             [
              0.7777777777777778,
              "#fb9f3a"
             ],
             [
              0.8888888888888888,
              "#fdca26"
             ],
             [
              1,
              "#f0f921"
             ]
            ],
            "type": "histogram2d"
           }
          ],
          "histogram2dcontour": [
           {
            "colorbar": {
             "outlinewidth": 0,
             "ticks": ""
            },
            "colorscale": [
             [
              0,
              "#0d0887"
             ],
             [
              0.1111111111111111,
              "#46039f"
             ],
             [
              0.2222222222222222,
              "#7201a8"
             ],
             [
              0.3333333333333333,
              "#9c179e"
             ],
             [
              0.4444444444444444,
              "#bd3786"
             ],
             [
              0.5555555555555556,
              "#d8576b"
             ],
             [
              0.6666666666666666,
              "#ed7953"
             ],
             [
              0.7777777777777778,
              "#fb9f3a"
             ],
             [
              0.8888888888888888,
              "#fdca26"
             ],
             [
              1,
              "#f0f921"
             ]
            ],
            "type": "histogram2dcontour"
           }
          ],
          "mesh3d": [
           {
            "colorbar": {
             "outlinewidth": 0,
             "ticks": ""
            },
            "type": "mesh3d"
           }
          ],
          "parcoords": [
           {
            "line": {
             "colorbar": {
              "outlinewidth": 0,
              "ticks": ""
             }
            },
            "type": "parcoords"
           }
          ],
          "pie": [
           {
            "automargin": true,
            "type": "pie"
           }
          ],
          "scatter": [
           {
            "fillpattern": {
             "fillmode": "overlay",
             "size": 10,
             "solidity": 0.2
            },
            "type": "scatter"
           }
          ],
          "scatter3d": [
           {
            "line": {
             "colorbar": {
              "outlinewidth": 0,
              "ticks": ""
             }
            },
            "marker": {
             "colorbar": {
              "outlinewidth": 0,
              "ticks": ""
             }
            },
            "type": "scatter3d"
           }
          ],
          "scattercarpet": [
           {
            "marker": {
             "colorbar": {
              "outlinewidth": 0,
              "ticks": ""
             }
            },
            "type": "scattercarpet"
           }
          ],
          "scattergeo": [
           {
            "marker": {
             "colorbar": {
              "outlinewidth": 0,
              "ticks": ""
             }
            },
            "type": "scattergeo"
           }
          ],
          "scattergl": [
           {
            "marker": {
             "colorbar": {
              "outlinewidth": 0,
              "ticks": ""
             }
            },
            "type": "scattergl"
           }
          ],
          "scattermapbox": [
           {
            "marker": {
             "colorbar": {
              "outlinewidth": 0,
              "ticks": ""
             }
            },
            "type": "scattermapbox"
           }
          ],
          "scatterpolar": [
           {
            "marker": {
             "colorbar": {
              "outlinewidth": 0,
              "ticks": ""
             }
            },
            "type": "scatterpolar"
           }
          ],
          "scatterpolargl": [
           {
            "marker": {
             "colorbar": {
              "outlinewidth": 0,
              "ticks": ""
             }
            },
            "type": "scatterpolargl"
           }
          ],
          "scatterternary": [
           {
            "marker": {
             "colorbar": {
              "outlinewidth": 0,
              "ticks": ""
             }
            },
            "type": "scatterternary"
           }
          ],
          "surface": [
           {
            "colorbar": {
             "outlinewidth": 0,
             "ticks": ""
            },
            "colorscale": [
             [
              0,
              "#0d0887"
             ],
             [
              0.1111111111111111,
              "#46039f"
             ],
             [
              0.2222222222222222,
              "#7201a8"
             ],
             [
              0.3333333333333333,
              "#9c179e"
             ],
             [
              0.4444444444444444,
              "#bd3786"
             ],
             [
              0.5555555555555556,
              "#d8576b"
             ],
             [
              0.6666666666666666,
              "#ed7953"
             ],
             [
              0.7777777777777778,
              "#fb9f3a"
             ],
             [
              0.8888888888888888,
              "#fdca26"
             ],
             [
              1,
              "#f0f921"
             ]
            ],
            "type": "surface"
           }
          ],
          "table": [
           {
            "cells": {
             "fill": {
              "color": "#EBF0F8"
             },
             "line": {
              "color": "white"
             }
            },
            "header": {
             "fill": {
              "color": "#C8D4E3"
             },
             "line": {
              "color": "white"
             }
            },
            "type": "table"
           }
          ]
         },
         "layout": {
          "annotationdefaults": {
           "arrowcolor": "#2a3f5f",
           "arrowhead": 0,
           "arrowwidth": 1
          },
          "autotypenumbers": "strict",
          "coloraxis": {
           "colorbar": {
            "outlinewidth": 0,
            "ticks": ""
           }
          },
          "colorscale": {
           "diverging": [
            [
             0,
             "#8e0152"
            ],
            [
             0.1,
             "#c51b7d"
            ],
            [
             0.2,
             "#de77ae"
            ],
            [
             0.3,
             "#f1b6da"
            ],
            [
             0.4,
             "#fde0ef"
            ],
            [
             0.5,
             "#f7f7f7"
            ],
            [
             0.6,
             "#e6f5d0"
            ],
            [
             0.7,
             "#b8e186"
            ],
            [
             0.8,
             "#7fbc41"
            ],
            [
             0.9,
             "#4d9221"
            ],
            [
             1,
             "#276419"
            ]
           ],
           "sequential": [
            [
             0,
             "#0d0887"
            ],
            [
             0.1111111111111111,
             "#46039f"
            ],
            [
             0.2222222222222222,
             "#7201a8"
            ],
            [
             0.3333333333333333,
             "#9c179e"
            ],
            [
             0.4444444444444444,
             "#bd3786"
            ],
            [
             0.5555555555555556,
             "#d8576b"
            ],
            [
             0.6666666666666666,
             "#ed7953"
            ],
            [
             0.7777777777777778,
             "#fb9f3a"
            ],
            [
             0.8888888888888888,
             "#fdca26"
            ],
            [
             1,
             "#f0f921"
            ]
           ],
           "sequentialminus": [
            [
             0,
             "#0d0887"
            ],
            [
             0.1111111111111111,
             "#46039f"
            ],
            [
             0.2222222222222222,
             "#7201a8"
            ],
            [
             0.3333333333333333,
             "#9c179e"
            ],
            [
             0.4444444444444444,
             "#bd3786"
            ],
            [
             0.5555555555555556,
             "#d8576b"
            ],
            [
             0.6666666666666666,
             "#ed7953"
            ],
            [
             0.7777777777777778,
             "#fb9f3a"
            ],
            [
             0.8888888888888888,
             "#fdca26"
            ],
            [
             1,
             "#f0f921"
            ]
           ]
          },
          "colorway": [
           "#636efa",
           "#EF553B",
           "#00cc96",
           "#ab63fa",
           "#FFA15A",
           "#19d3f3",
           "#FF6692",
           "#B6E880",
           "#FF97FF",
           "#FECB52"
          ],
          "font": {
           "color": "#2a3f5f"
          },
          "geo": {
           "bgcolor": "white",
           "lakecolor": "white",
           "landcolor": "#E5ECF6",
           "showlakes": true,
           "showland": true,
           "subunitcolor": "white"
          },
          "hoverlabel": {
           "align": "left"
          },
          "hovermode": "closest",
          "mapbox": {
           "style": "light"
          },
          "paper_bgcolor": "white",
          "plot_bgcolor": "#E5ECF6",
          "polar": {
           "angularaxis": {
            "gridcolor": "white",
            "linecolor": "white",
            "ticks": ""
           },
           "bgcolor": "#E5ECF6",
           "radialaxis": {
            "gridcolor": "white",
            "linecolor": "white",
            "ticks": ""
           }
          },
          "scene": {
           "xaxis": {
            "backgroundcolor": "#E5ECF6",
            "gridcolor": "white",
            "gridwidth": 2,
            "linecolor": "white",
            "showbackground": true,
            "ticks": "",
            "zerolinecolor": "white"
           },
           "yaxis": {
            "backgroundcolor": "#E5ECF6",
            "gridcolor": "white",
            "gridwidth": 2,
            "linecolor": "white",
            "showbackground": true,
            "ticks": "",
            "zerolinecolor": "white"
           },
           "zaxis": {
            "backgroundcolor": "#E5ECF6",
            "gridcolor": "white",
            "gridwidth": 2,
            "linecolor": "white",
            "showbackground": true,
            "ticks": "",
            "zerolinecolor": "white"
           }
          },
          "shapedefaults": {
           "line": {
            "color": "#2a3f5f"
           }
          },
          "ternary": {
           "aaxis": {
            "gridcolor": "white",
            "linecolor": "white",
            "ticks": ""
           },
           "baxis": {
            "gridcolor": "white",
            "linecolor": "white",
            "ticks": ""
           },
           "bgcolor": "#E5ECF6",
           "caxis": {
            "gridcolor": "white",
            "linecolor": "white",
            "ticks": ""
           }
          },
          "title": {
           "x": 0.05
          },
          "xaxis": {
           "automargin": true,
           "gridcolor": "white",
           "linecolor": "white",
           "ticks": "",
           "title": {
            "standoff": 15
           },
           "zerolinecolor": "white",
           "zerolinewidth": 2
          },
          "yaxis": {
           "automargin": true,
           "gridcolor": "white",
           "linecolor": "white",
           "ticks": "",
           "title": {
            "standoff": 15
           },
           "zerolinecolor": "white",
           "zerolinewidth": 2
          }
         }
        },
        "title": {
         "font": {
          "color": "#4D5663"
         }
        },
        "xaxis": {
         "gridcolor": "#E1E5ED",
         "showgrid": true,
         "tickfont": {
          "color": "#4D5663"
         },
         "title": {
          "font": {
           "color": "#4D5663"
          },
          "text": ""
         },
         "zerolinecolor": "#E1E5ED"
        },
        "yaxis": {
         "gridcolor": "#E1E5ED",
         "showgrid": true,
         "tickfont": {
          "color": "#4D5663"
         },
         "title": {
          "font": {
           "color": "#4D5663"
          },
          "text": ""
         },
         "zerolinecolor": "#E1E5ED"
        }
       }
      },
      "text/html": [
       "<div>                            <div id=\"93ebda41-c526-4a8f-a2b5-ee6514934c03\" class=\"plotly-graph-div\" style=\"height:525px; width:100%;\"></div>            <script type=\"text/javascript\">                require([\"plotly\"], function(Plotly) {                    window.PLOTLYENV=window.PLOTLYENV || {};\n",
       "                    window.PLOTLYENV.BASE_URL='https://plot.ly';                                    if (document.getElementById(\"93ebda41-c526-4a8f-a2b5-ee6514934c03\")) {                    Plotly.newPlot(                        \"93ebda41-c526-4a8f-a2b5-ee6514934c03\",                        [{\"marker\":{\"color\":\"rgba(255, 153, 51, 0.6)\",\"line\":{\"color\":\"rgba(255, 153, 51, 1.0)\",\"width\":1}},\"name\":\"Values\",\"orientation\":\"v\",\"text\":\"\",\"x\":[\"A\",\"B\",\"C\"],\"y\":[32,43,50],\"type\":\"bar\"}],                        {\"legend\":{\"bgcolor\":\"#F5F6F9\",\"font\":{\"color\":\"#4D5663\"}},\"paper_bgcolor\":\"#F5F6F9\",\"plot_bgcolor\":\"#F5F6F9\",\"template\":{\"data\":{\"barpolar\":[{\"marker\":{\"line\":{\"color\":\"#E5ECF6\",\"width\":0.5},\"pattern\":{\"fillmode\":\"overlay\",\"size\":10,\"solidity\":0.2}},\"type\":\"barpolar\"}],\"bar\":[{\"error_x\":{\"color\":\"#2a3f5f\"},\"error_y\":{\"color\":\"#2a3f5f\"},\"marker\":{\"line\":{\"color\":\"#E5ECF6\",\"width\":0.5},\"pattern\":{\"fillmode\":\"overlay\",\"size\":10,\"solidity\":0.2}},\"type\":\"bar\"}],\"carpet\":[{\"aaxis\":{\"endlinecolor\":\"#2a3f5f\",\"gridcolor\":\"white\",\"linecolor\":\"white\",\"minorgridcolor\":\"white\",\"startlinecolor\":\"#2a3f5f\"},\"baxis\":{\"endlinecolor\":\"#2a3f5f\",\"gridcolor\":\"white\",\"linecolor\":\"white\",\"minorgridcolor\":\"white\",\"startlinecolor\":\"#2a3f5f\"},\"type\":\"carpet\"}],\"choropleth\":[{\"colorbar\":{\"outlinewidth\":0,\"ticks\":\"\"},\"type\":\"choropleth\"}],\"contourcarpet\":[{\"colorbar\":{\"outlinewidth\":0,\"ticks\":\"\"},\"type\":\"contourcarpet\"}],\"contour\":[{\"colorbar\":{\"outlinewidth\":0,\"ticks\":\"\"},\"colorscale\":[[0.0,\"#0d0887\"],[0.1111111111111111,\"#46039f\"],[0.2222222222222222,\"#7201a8\"],[0.3333333333333333,\"#9c179e\"],[0.4444444444444444,\"#bd3786\"],[0.5555555555555556,\"#d8576b\"],[0.6666666666666666,\"#ed7953\"],[0.7777777777777778,\"#fb9f3a\"],[0.8888888888888888,\"#fdca26\"],[1.0,\"#f0f921\"]],\"type\":\"contour\"}],\"heatmapgl\":[{\"colorbar\":{\"outlinewidth\":0,\"ticks\":\"\"},\"colorscale\":[[0.0,\"#0d0887\"],[0.1111111111111111,\"#46039f\"],[0.2222222222222222,\"#7201a8\"],[0.3333333333333333,\"#9c179e\"],[0.4444444444444444,\"#bd3786\"],[0.5555555555555556,\"#d8576b\"],[0.6666666666666666,\"#ed7953\"],[0.7777777777777778,\"#fb9f3a\"],[0.8888888888888888,\"#fdca26\"],[1.0,\"#f0f921\"]],\"type\":\"heatmapgl\"}],\"heatmap\":[{\"colorbar\":{\"outlinewidth\":0,\"ticks\":\"\"},\"colorscale\":[[0.0,\"#0d0887\"],[0.1111111111111111,\"#46039f\"],[0.2222222222222222,\"#7201a8\"],[0.3333333333333333,\"#9c179e\"],[0.4444444444444444,\"#bd3786\"],[0.5555555555555556,\"#d8576b\"],[0.6666666666666666,\"#ed7953\"],[0.7777777777777778,\"#fb9f3a\"],[0.8888888888888888,\"#fdca26\"],[1.0,\"#f0f921\"]],\"type\":\"heatmap\"}],\"histogram2dcontour\":[{\"colorbar\":{\"outlinewidth\":0,\"ticks\":\"\"},\"colorscale\":[[0.0,\"#0d0887\"],[0.1111111111111111,\"#46039f\"],[0.2222222222222222,\"#7201a8\"],[0.3333333333333333,\"#9c179e\"],[0.4444444444444444,\"#bd3786\"],[0.5555555555555556,\"#d8576b\"],[0.6666666666666666,\"#ed7953\"],[0.7777777777777778,\"#fb9f3a\"],[0.8888888888888888,\"#fdca26\"],[1.0,\"#f0f921\"]],\"type\":\"histogram2dcontour\"}],\"histogram2d\":[{\"colorbar\":{\"outlinewidth\":0,\"ticks\":\"\"},\"colorscale\":[[0.0,\"#0d0887\"],[0.1111111111111111,\"#46039f\"],[0.2222222222222222,\"#7201a8\"],[0.3333333333333333,\"#9c179e\"],[0.4444444444444444,\"#bd3786\"],[0.5555555555555556,\"#d8576b\"],[0.6666666666666666,\"#ed7953\"],[0.7777777777777778,\"#fb9f3a\"],[0.8888888888888888,\"#fdca26\"],[1.0,\"#f0f921\"]],\"type\":\"histogram2d\"}],\"histogram\":[{\"marker\":{\"pattern\":{\"fillmode\":\"overlay\",\"size\":10,\"solidity\":0.2}},\"type\":\"histogram\"}],\"mesh3d\":[{\"colorbar\":{\"outlinewidth\":0,\"ticks\":\"\"},\"type\":\"mesh3d\"}],\"parcoords\":[{\"line\":{\"colorbar\":{\"outlinewidth\":0,\"ticks\":\"\"}},\"type\":\"parcoords\"}],\"pie\":[{\"automargin\":true,\"type\":\"pie\"}],\"scatter3d\":[{\"line\":{\"colorbar\":{\"outlinewidth\":0,\"ticks\":\"\"}},\"marker\":{\"colorbar\":{\"outlinewidth\":0,\"ticks\":\"\"}},\"type\":\"scatter3d\"}],\"scattercarpet\":[{\"marker\":{\"colorbar\":{\"outlinewidth\":0,\"ticks\":\"\"}},\"type\":\"scattercarpet\"}],\"scattergeo\":[{\"marker\":{\"colorbar\":{\"outlinewidth\":0,\"ticks\":\"\"}},\"type\":\"scattergeo\"}],\"scattergl\":[{\"marker\":{\"colorbar\":{\"outlinewidth\":0,\"ticks\":\"\"}},\"type\":\"scattergl\"}],\"scattermapbox\":[{\"marker\":{\"colorbar\":{\"outlinewidth\":0,\"ticks\":\"\"}},\"type\":\"scattermapbox\"}],\"scatterpolargl\":[{\"marker\":{\"colorbar\":{\"outlinewidth\":0,\"ticks\":\"\"}},\"type\":\"scatterpolargl\"}],\"scatterpolar\":[{\"marker\":{\"colorbar\":{\"outlinewidth\":0,\"ticks\":\"\"}},\"type\":\"scatterpolar\"}],\"scatter\":[{\"fillpattern\":{\"fillmode\":\"overlay\",\"size\":10,\"solidity\":0.2},\"type\":\"scatter\"}],\"scatterternary\":[{\"marker\":{\"colorbar\":{\"outlinewidth\":0,\"ticks\":\"\"}},\"type\":\"scatterternary\"}],\"surface\":[{\"colorbar\":{\"outlinewidth\":0,\"ticks\":\"\"},\"colorscale\":[[0.0,\"#0d0887\"],[0.1111111111111111,\"#46039f\"],[0.2222222222222222,\"#7201a8\"],[0.3333333333333333,\"#9c179e\"],[0.4444444444444444,\"#bd3786\"],[0.5555555555555556,\"#d8576b\"],[0.6666666666666666,\"#ed7953\"],[0.7777777777777778,\"#fb9f3a\"],[0.8888888888888888,\"#fdca26\"],[1.0,\"#f0f921\"]],\"type\":\"surface\"}],\"table\":[{\"cells\":{\"fill\":{\"color\":\"#EBF0F8\"},\"line\":{\"color\":\"white\"}},\"header\":{\"fill\":{\"color\":\"#C8D4E3\"},\"line\":{\"color\":\"white\"}},\"type\":\"table\"}]},\"layout\":{\"annotationdefaults\":{\"arrowcolor\":\"#2a3f5f\",\"arrowhead\":0,\"arrowwidth\":1},\"autotypenumbers\":\"strict\",\"coloraxis\":{\"colorbar\":{\"outlinewidth\":0,\"ticks\":\"\"}},\"colorscale\":{\"diverging\":[[0,\"#8e0152\"],[0.1,\"#c51b7d\"],[0.2,\"#de77ae\"],[0.3,\"#f1b6da\"],[0.4,\"#fde0ef\"],[0.5,\"#f7f7f7\"],[0.6,\"#e6f5d0\"],[0.7,\"#b8e186\"],[0.8,\"#7fbc41\"],[0.9,\"#4d9221\"],[1,\"#276419\"]],\"sequential\":[[0.0,\"#0d0887\"],[0.1111111111111111,\"#46039f\"],[0.2222222222222222,\"#7201a8\"],[0.3333333333333333,\"#9c179e\"],[0.4444444444444444,\"#bd3786\"],[0.5555555555555556,\"#d8576b\"],[0.6666666666666666,\"#ed7953\"],[0.7777777777777778,\"#fb9f3a\"],[0.8888888888888888,\"#fdca26\"],[1.0,\"#f0f921\"]],\"sequentialminus\":[[0.0,\"#0d0887\"],[0.1111111111111111,\"#46039f\"],[0.2222222222222222,\"#7201a8\"],[0.3333333333333333,\"#9c179e\"],[0.4444444444444444,\"#bd3786\"],[0.5555555555555556,\"#d8576b\"],[0.6666666666666666,\"#ed7953\"],[0.7777777777777778,\"#fb9f3a\"],[0.8888888888888888,\"#fdca26\"],[1.0,\"#f0f921\"]]},\"colorway\":[\"#636efa\",\"#EF553B\",\"#00cc96\",\"#ab63fa\",\"#FFA15A\",\"#19d3f3\",\"#FF6692\",\"#B6E880\",\"#FF97FF\",\"#FECB52\"],\"font\":{\"color\":\"#2a3f5f\"},\"geo\":{\"bgcolor\":\"white\",\"lakecolor\":\"white\",\"landcolor\":\"#E5ECF6\",\"showlakes\":true,\"showland\":true,\"subunitcolor\":\"white\"},\"hoverlabel\":{\"align\":\"left\"},\"hovermode\":\"closest\",\"mapbox\":{\"style\":\"light\"},\"paper_bgcolor\":\"white\",\"plot_bgcolor\":\"#E5ECF6\",\"polar\":{\"angularaxis\":{\"gridcolor\":\"white\",\"linecolor\":\"white\",\"ticks\":\"\"},\"bgcolor\":\"#E5ECF6\",\"radialaxis\":{\"gridcolor\":\"white\",\"linecolor\":\"white\",\"ticks\":\"\"}},\"scene\":{\"xaxis\":{\"backgroundcolor\":\"#E5ECF6\",\"gridcolor\":\"white\",\"gridwidth\":2,\"linecolor\":\"white\",\"showbackground\":true,\"ticks\":\"\",\"zerolinecolor\":\"white\"},\"yaxis\":{\"backgroundcolor\":\"#E5ECF6\",\"gridcolor\":\"white\",\"gridwidth\":2,\"linecolor\":\"white\",\"showbackground\":true,\"ticks\":\"\",\"zerolinecolor\":\"white\"},\"zaxis\":{\"backgroundcolor\":\"#E5ECF6\",\"gridcolor\":\"white\",\"gridwidth\":2,\"linecolor\":\"white\",\"showbackground\":true,\"ticks\":\"\",\"zerolinecolor\":\"white\"}},\"shapedefaults\":{\"line\":{\"color\":\"#2a3f5f\"}},\"ternary\":{\"aaxis\":{\"gridcolor\":\"white\",\"linecolor\":\"white\",\"ticks\":\"\"},\"baxis\":{\"gridcolor\":\"white\",\"linecolor\":\"white\",\"ticks\":\"\"},\"bgcolor\":\"#E5ECF6\",\"caxis\":{\"gridcolor\":\"white\",\"linecolor\":\"white\",\"ticks\":\"\"}},\"title\":{\"x\":0.05},\"xaxis\":{\"automargin\":true,\"gridcolor\":\"white\",\"linecolor\":\"white\",\"ticks\":\"\",\"title\":{\"standoff\":15},\"zerolinecolor\":\"white\",\"zerolinewidth\":2},\"yaxis\":{\"automargin\":true,\"gridcolor\":\"white\",\"linecolor\":\"white\",\"ticks\":\"\",\"title\":{\"standoff\":15},\"zerolinecolor\":\"white\",\"zerolinewidth\":2}}},\"title\":{\"font\":{\"color\":\"#4D5663\"}},\"xaxis\":{\"gridcolor\":\"#E1E5ED\",\"showgrid\":true,\"tickfont\":{\"color\":\"#4D5663\"},\"title\":{\"font\":{\"color\":\"#4D5663\"},\"text\":\"\"},\"zerolinecolor\":\"#E1E5ED\"},\"yaxis\":{\"gridcolor\":\"#E1E5ED\",\"showgrid\":true,\"tickfont\":{\"color\":\"#4D5663\"},\"title\":{\"font\":{\"color\":\"#4D5663\"},\"text\":\"\"},\"zerolinecolor\":\"#E1E5ED\"}},                        {\"showLink\": true, \"linkText\": \"Export to plot.ly\", \"plotlyServerURL\": \"https://plot.ly\", \"responsive\": true}                    ).then(function(){\n",
       "                            \n",
       "var gd = document.getElementById('93ebda41-c526-4a8f-a2b5-ee6514934c03');\n",
       "var x = new MutationObserver(function (mutations, observer) {{\n",
       "        var display = window.getComputedStyle(gd).display;\n",
       "        if (!display || display === 'none') {{\n",
       "            console.log([gd, 'removed!']);\n",
       "            Plotly.purge(gd);\n",
       "            observer.disconnect();\n",
       "        }}\n",
       "}});\n",
       "\n",
       "// Listen for the removal of the full notebook cells\n",
       "var notebookContainer = gd.closest('#notebook-container');\n",
       "if (notebookContainer) {{\n",
       "    x.observe(notebookContainer, {childList: true});\n",
       "}}\n",
       "\n",
       "// Listen for the clearing of the current output cell\n",
       "var outputEl = gd.closest('.output');\n",
       "if (outputEl) {{\n",
       "    x.observe(outputEl, {childList: true});\n",
       "}}\n",
       "\n",
       "                        })                };                });            </script>        </div>"
      ]
     },
     "metadata": {},
     "output_type": "display_data"
    }
   ],
   "source": [
    "df2.iplot(kind = 'bar', x = 'Category', y = 'Values')"
   ]
  },
  {
   "cell_type": "code",
   "execution_count": 22,
   "id": "532245b6",
   "metadata": {},
   "outputs": [
    {
     "data": {
      "application/vnd.plotly.v1+json": {
       "config": {
        "linkText": "Export to plot.ly",
        "plotlyServerURL": "https://plot.ly",
        "showLink": true
       },
       "data": [
        {
         "marker": {
          "color": "rgba(255, 153, 51, 0.6)",
          "line": {
           "color": "rgba(255, 153, 51, 1.0)",
           "width": 1
          }
         },
         "name": "None",
         "orientation": "v",
         "text": "",
         "type": "bar",
         "x": [
          "A",
          "B",
          "C",
          "D"
         ],
         "y": [
          100,
          100,
          100,
          100
         ]
        }
       ],
       "layout": {
        "legend": {
         "bgcolor": "#F5F6F9",
         "font": {
          "color": "#4D5663"
         }
        },
        "paper_bgcolor": "#F5F6F9",
        "plot_bgcolor": "#F5F6F9",
        "template": {
         "data": {
          "bar": [
           {
            "error_x": {
             "color": "#2a3f5f"
            },
            "error_y": {
             "color": "#2a3f5f"
            },
            "marker": {
             "line": {
              "color": "#E5ECF6",
              "width": 0.5
             },
             "pattern": {
              "fillmode": "overlay",
              "size": 10,
              "solidity": 0.2
             }
            },
            "type": "bar"
           }
          ],
          "barpolar": [
           {
            "marker": {
             "line": {
              "color": "#E5ECF6",
              "width": 0.5
             },
             "pattern": {
              "fillmode": "overlay",
              "size": 10,
              "solidity": 0.2
             }
            },
            "type": "barpolar"
           }
          ],
          "carpet": [
           {
            "aaxis": {
             "endlinecolor": "#2a3f5f",
             "gridcolor": "white",
             "linecolor": "white",
             "minorgridcolor": "white",
             "startlinecolor": "#2a3f5f"
            },
            "baxis": {
             "endlinecolor": "#2a3f5f",
             "gridcolor": "white",
             "linecolor": "white",
             "minorgridcolor": "white",
             "startlinecolor": "#2a3f5f"
            },
            "type": "carpet"
           }
          ],
          "choropleth": [
           {
            "colorbar": {
             "outlinewidth": 0,
             "ticks": ""
            },
            "type": "choropleth"
           }
          ],
          "contour": [
           {
            "colorbar": {
             "outlinewidth": 0,
             "ticks": ""
            },
            "colorscale": [
             [
              0,
              "#0d0887"
             ],
             [
              0.1111111111111111,
              "#46039f"
             ],
             [
              0.2222222222222222,
              "#7201a8"
             ],
             [
              0.3333333333333333,
              "#9c179e"
             ],
             [
              0.4444444444444444,
              "#bd3786"
             ],
             [
              0.5555555555555556,
              "#d8576b"
             ],
             [
              0.6666666666666666,
              "#ed7953"
             ],
             [
              0.7777777777777778,
              "#fb9f3a"
             ],
             [
              0.8888888888888888,
              "#fdca26"
             ],
             [
              1,
              "#f0f921"
             ]
            ],
            "type": "contour"
           }
          ],
          "contourcarpet": [
           {
            "colorbar": {
             "outlinewidth": 0,
             "ticks": ""
            },
            "type": "contourcarpet"
           }
          ],
          "heatmap": [
           {
            "colorbar": {
             "outlinewidth": 0,
             "ticks": ""
            },
            "colorscale": [
             [
              0,
              "#0d0887"
             ],
             [
              0.1111111111111111,
              "#46039f"
             ],
             [
              0.2222222222222222,
              "#7201a8"
             ],
             [
              0.3333333333333333,
              "#9c179e"
             ],
             [
              0.4444444444444444,
              "#bd3786"
             ],
             [
              0.5555555555555556,
              "#d8576b"
             ],
             [
              0.6666666666666666,
              "#ed7953"
             ],
             [
              0.7777777777777778,
              "#fb9f3a"
             ],
             [
              0.8888888888888888,
              "#fdca26"
             ],
             [
              1,
              "#f0f921"
             ]
            ],
            "type": "heatmap"
           }
          ],
          "heatmapgl": [
           {
            "colorbar": {
             "outlinewidth": 0,
             "ticks": ""
            },
            "colorscale": [
             [
              0,
              "#0d0887"
             ],
             [
              0.1111111111111111,
              "#46039f"
             ],
             [
              0.2222222222222222,
              "#7201a8"
             ],
             [
              0.3333333333333333,
              "#9c179e"
             ],
             [
              0.4444444444444444,
              "#bd3786"
             ],
             [
              0.5555555555555556,
              "#d8576b"
             ],
             [
              0.6666666666666666,
              "#ed7953"
             ],
             [
              0.7777777777777778,
              "#fb9f3a"
             ],
             [
              0.8888888888888888,
              "#fdca26"
             ],
             [
              1,
              "#f0f921"
             ]
            ],
            "type": "heatmapgl"
           }
          ],
          "histogram": [
           {
            "marker": {
             "pattern": {
              "fillmode": "overlay",
              "size": 10,
              "solidity": 0.2
             }
            },
            "type": "histogram"
           }
          ],
          "histogram2d": [
           {
            "colorbar": {
             "outlinewidth": 0,
             "ticks": ""
            },
            "colorscale": [
             [
              0,
              "#0d0887"
             ],
             [
              0.1111111111111111,
              "#46039f"
             ],
             [
              0.2222222222222222,
              "#7201a8"
             ],
             [
              0.3333333333333333,
              "#9c179e"
             ],
             [
              0.4444444444444444,
              "#bd3786"
             ],
             [
              0.5555555555555556,
              "#d8576b"
             ],
             [
              0.6666666666666666,
              "#ed7953"
             ],
             [
              0.7777777777777778,
              "#fb9f3a"
             ],
             [
              0.8888888888888888,
              "#fdca26"
             ],
             [
              1,
              "#f0f921"
             ]
            ],
            "type": "histogram2d"
           }
          ],
          "histogram2dcontour": [
           {
            "colorbar": {
             "outlinewidth": 0,
             "ticks": ""
            },
            "colorscale": [
             [
              0,
              "#0d0887"
             ],
             [
              0.1111111111111111,
              "#46039f"
             ],
             [
              0.2222222222222222,
              "#7201a8"
             ],
             [
              0.3333333333333333,
              "#9c179e"
             ],
             [
              0.4444444444444444,
              "#bd3786"
             ],
             [
              0.5555555555555556,
              "#d8576b"
             ],
             [
              0.6666666666666666,
              "#ed7953"
             ],
             [
              0.7777777777777778,
              "#fb9f3a"
             ],
             [
              0.8888888888888888,
              "#fdca26"
             ],
             [
              1,
              "#f0f921"
             ]
            ],
            "type": "histogram2dcontour"
           }
          ],
          "mesh3d": [
           {
            "colorbar": {
             "outlinewidth": 0,
             "ticks": ""
            },
            "type": "mesh3d"
           }
          ],
          "parcoords": [
           {
            "line": {
             "colorbar": {
              "outlinewidth": 0,
              "ticks": ""
             }
            },
            "type": "parcoords"
           }
          ],
          "pie": [
           {
            "automargin": true,
            "type": "pie"
           }
          ],
          "scatter": [
           {
            "fillpattern": {
             "fillmode": "overlay",
             "size": 10,
             "solidity": 0.2
            },
            "type": "scatter"
           }
          ],
          "scatter3d": [
           {
            "line": {
             "colorbar": {
              "outlinewidth": 0,
              "ticks": ""
             }
            },
            "marker": {
             "colorbar": {
              "outlinewidth": 0,
              "ticks": ""
             }
            },
            "type": "scatter3d"
           }
          ],
          "scattercarpet": [
           {
            "marker": {
             "colorbar": {
              "outlinewidth": 0,
              "ticks": ""
             }
            },
            "type": "scattercarpet"
           }
          ],
          "scattergeo": [
           {
            "marker": {
             "colorbar": {
              "outlinewidth": 0,
              "ticks": ""
             }
            },
            "type": "scattergeo"
           }
          ],
          "scattergl": [
           {
            "marker": {
             "colorbar": {
              "outlinewidth": 0,
              "ticks": ""
             }
            },
            "type": "scattergl"
           }
          ],
          "scattermapbox": [
           {
            "marker": {
             "colorbar": {
              "outlinewidth": 0,
              "ticks": ""
             }
            },
            "type": "scattermapbox"
           }
          ],
          "scatterpolar": [
           {
            "marker": {
             "colorbar": {
              "outlinewidth": 0,
              "ticks": ""
             }
            },
            "type": "scatterpolar"
           }
          ],
          "scatterpolargl": [
           {
            "marker": {
             "colorbar": {
              "outlinewidth": 0,
              "ticks": ""
             }
            },
            "type": "scatterpolargl"
           }
          ],
          "scatterternary": [
           {
            "marker": {
             "colorbar": {
              "outlinewidth": 0,
              "ticks": ""
             }
            },
            "type": "scatterternary"
           }
          ],
          "surface": [
           {
            "colorbar": {
             "outlinewidth": 0,
             "ticks": ""
            },
            "colorscale": [
             [
              0,
              "#0d0887"
             ],
             [
              0.1111111111111111,
              "#46039f"
             ],
             [
              0.2222222222222222,
              "#7201a8"
             ],
             [
              0.3333333333333333,
              "#9c179e"
             ],
             [
              0.4444444444444444,
              "#bd3786"
             ],
             [
              0.5555555555555556,
              "#d8576b"
             ],
             [
              0.6666666666666666,
              "#ed7953"
             ],
             [
              0.7777777777777778,
              "#fb9f3a"
             ],
             [
              0.8888888888888888,
              "#fdca26"
             ],
             [
              1,
              "#f0f921"
             ]
            ],
            "type": "surface"
           }
          ],
          "table": [
           {
            "cells": {
             "fill": {
              "color": "#EBF0F8"
             },
             "line": {
              "color": "white"
             }
            },
            "header": {
             "fill": {
              "color": "#C8D4E3"
             },
             "line": {
              "color": "white"
             }
            },
            "type": "table"
           }
          ]
         },
         "layout": {
          "annotationdefaults": {
           "arrowcolor": "#2a3f5f",
           "arrowhead": 0,
           "arrowwidth": 1
          },
          "autotypenumbers": "strict",
          "coloraxis": {
           "colorbar": {
            "outlinewidth": 0,
            "ticks": ""
           }
          },
          "colorscale": {
           "diverging": [
            [
             0,
             "#8e0152"
            ],
            [
             0.1,
             "#c51b7d"
            ],
            [
             0.2,
             "#de77ae"
            ],
            [
             0.3,
             "#f1b6da"
            ],
            [
             0.4,
             "#fde0ef"
            ],
            [
             0.5,
             "#f7f7f7"
            ],
            [
             0.6,
             "#e6f5d0"
            ],
            [
             0.7,
             "#b8e186"
            ],
            [
             0.8,
             "#7fbc41"
            ],
            [
             0.9,
             "#4d9221"
            ],
            [
             1,
             "#276419"
            ]
           ],
           "sequential": [
            [
             0,
             "#0d0887"
            ],
            [
             0.1111111111111111,
             "#46039f"
            ],
            [
             0.2222222222222222,
             "#7201a8"
            ],
            [
             0.3333333333333333,
             "#9c179e"
            ],
            [
             0.4444444444444444,
             "#bd3786"
            ],
            [
             0.5555555555555556,
             "#d8576b"
            ],
            [
             0.6666666666666666,
             "#ed7953"
            ],
            [
             0.7777777777777778,
             "#fb9f3a"
            ],
            [
             0.8888888888888888,
             "#fdca26"
            ],
            [
             1,
             "#f0f921"
            ]
           ],
           "sequentialminus": [
            [
             0,
             "#0d0887"
            ],
            [
             0.1111111111111111,
             "#46039f"
            ],
            [
             0.2222222222222222,
             "#7201a8"
            ],
            [
             0.3333333333333333,
             "#9c179e"
            ],
            [
             0.4444444444444444,
             "#bd3786"
            ],
            [
             0.5555555555555556,
             "#d8576b"
            ],
            [
             0.6666666666666666,
             "#ed7953"
            ],
            [
             0.7777777777777778,
             "#fb9f3a"
            ],
            [
             0.8888888888888888,
             "#fdca26"
            ],
            [
             1,
             "#f0f921"
            ]
           ]
          },
          "colorway": [
           "#636efa",
           "#EF553B",
           "#00cc96",
           "#ab63fa",
           "#FFA15A",
           "#19d3f3",
           "#FF6692",
           "#B6E880",
           "#FF97FF",
           "#FECB52"
          ],
          "font": {
           "color": "#2a3f5f"
          },
          "geo": {
           "bgcolor": "white",
           "lakecolor": "white",
           "landcolor": "#E5ECF6",
           "showlakes": true,
           "showland": true,
           "subunitcolor": "white"
          },
          "hoverlabel": {
           "align": "left"
          },
          "hovermode": "closest",
          "mapbox": {
           "style": "light"
          },
          "paper_bgcolor": "white",
          "plot_bgcolor": "#E5ECF6",
          "polar": {
           "angularaxis": {
            "gridcolor": "white",
            "linecolor": "white",
            "ticks": ""
           },
           "bgcolor": "#E5ECF6",
           "radialaxis": {
            "gridcolor": "white",
            "linecolor": "white",
            "ticks": ""
           }
          },
          "scene": {
           "xaxis": {
            "backgroundcolor": "#E5ECF6",
            "gridcolor": "white",
            "gridwidth": 2,
            "linecolor": "white",
            "showbackground": true,
            "ticks": "",
            "zerolinecolor": "white"
           },
           "yaxis": {
            "backgroundcolor": "#E5ECF6",
            "gridcolor": "white",
            "gridwidth": 2,
            "linecolor": "white",
            "showbackground": true,
            "ticks": "",
            "zerolinecolor": "white"
           },
           "zaxis": {
            "backgroundcolor": "#E5ECF6",
            "gridcolor": "white",
            "gridwidth": 2,
            "linecolor": "white",
            "showbackground": true,
            "ticks": "",
            "zerolinecolor": "white"
           }
          },
          "shapedefaults": {
           "line": {
            "color": "#2a3f5f"
           }
          },
          "ternary": {
           "aaxis": {
            "gridcolor": "white",
            "linecolor": "white",
            "ticks": ""
           },
           "baxis": {
            "gridcolor": "white",
            "linecolor": "white",
            "ticks": ""
           },
           "bgcolor": "#E5ECF6",
           "caxis": {
            "gridcolor": "white",
            "linecolor": "white",
            "ticks": ""
           }
          },
          "title": {
           "x": 0.05
          },
          "xaxis": {
           "automargin": true,
           "gridcolor": "white",
           "linecolor": "white",
           "ticks": "",
           "title": {
            "standoff": 15
           },
           "zerolinecolor": "white",
           "zerolinewidth": 2
          },
          "yaxis": {
           "automargin": true,
           "gridcolor": "white",
           "linecolor": "white",
           "ticks": "",
           "title": {
            "standoff": 15
           },
           "zerolinecolor": "white",
           "zerolinewidth": 2
          }
         }
        },
        "title": {
         "font": {
          "color": "#4D5663"
         }
        },
        "xaxis": {
         "gridcolor": "#E1E5ED",
         "showgrid": true,
         "tickfont": {
          "color": "#4D5663"
         },
         "title": {
          "font": {
           "color": "#4D5663"
          },
          "text": ""
         },
         "zerolinecolor": "#E1E5ED"
        },
        "yaxis": {
         "gridcolor": "#E1E5ED",
         "showgrid": true,
         "tickfont": {
          "color": "#4D5663"
         },
         "title": {
          "font": {
           "color": "#4D5663"
          },
          "text": ""
         },
         "zerolinecolor": "#E1E5ED"
        }
       }
      },
      "text/html": [
       "<div>                            <div id=\"adddbb84-3c71-4094-8f6f-7e5fb4cb3125\" class=\"plotly-graph-div\" style=\"height:525px; width:100%;\"></div>            <script type=\"text/javascript\">                require([\"plotly\"], function(Plotly) {                    window.PLOTLYENV=window.PLOTLYENV || {};\n",
       "                    window.PLOTLYENV.BASE_URL='https://plot.ly';                                    if (document.getElementById(\"adddbb84-3c71-4094-8f6f-7e5fb4cb3125\")) {                    Plotly.newPlot(                        \"adddbb84-3c71-4094-8f6f-7e5fb4cb3125\",                        [{\"marker\":{\"color\":\"rgba(255, 153, 51, 0.6)\",\"line\":{\"color\":\"rgba(255, 153, 51, 1.0)\",\"width\":1}},\"name\":\"None\",\"orientation\":\"v\",\"text\":\"\",\"x\":[\"A\",\"B\",\"C\",\"D\"],\"y\":[100,100,100,100],\"type\":\"bar\"}],                        {\"legend\":{\"bgcolor\":\"#F5F6F9\",\"font\":{\"color\":\"#4D5663\"}},\"paper_bgcolor\":\"#F5F6F9\",\"plot_bgcolor\":\"#F5F6F9\",\"template\":{\"data\":{\"barpolar\":[{\"marker\":{\"line\":{\"color\":\"#E5ECF6\",\"width\":0.5},\"pattern\":{\"fillmode\":\"overlay\",\"size\":10,\"solidity\":0.2}},\"type\":\"barpolar\"}],\"bar\":[{\"error_x\":{\"color\":\"#2a3f5f\"},\"error_y\":{\"color\":\"#2a3f5f\"},\"marker\":{\"line\":{\"color\":\"#E5ECF6\",\"width\":0.5},\"pattern\":{\"fillmode\":\"overlay\",\"size\":10,\"solidity\":0.2}},\"type\":\"bar\"}],\"carpet\":[{\"aaxis\":{\"endlinecolor\":\"#2a3f5f\",\"gridcolor\":\"white\",\"linecolor\":\"white\",\"minorgridcolor\":\"white\",\"startlinecolor\":\"#2a3f5f\"},\"baxis\":{\"endlinecolor\":\"#2a3f5f\",\"gridcolor\":\"white\",\"linecolor\":\"white\",\"minorgridcolor\":\"white\",\"startlinecolor\":\"#2a3f5f\"},\"type\":\"carpet\"}],\"choropleth\":[{\"colorbar\":{\"outlinewidth\":0,\"ticks\":\"\"},\"type\":\"choropleth\"}],\"contourcarpet\":[{\"colorbar\":{\"outlinewidth\":0,\"ticks\":\"\"},\"type\":\"contourcarpet\"}],\"contour\":[{\"colorbar\":{\"outlinewidth\":0,\"ticks\":\"\"},\"colorscale\":[[0.0,\"#0d0887\"],[0.1111111111111111,\"#46039f\"],[0.2222222222222222,\"#7201a8\"],[0.3333333333333333,\"#9c179e\"],[0.4444444444444444,\"#bd3786\"],[0.5555555555555556,\"#d8576b\"],[0.6666666666666666,\"#ed7953\"],[0.7777777777777778,\"#fb9f3a\"],[0.8888888888888888,\"#fdca26\"],[1.0,\"#f0f921\"]],\"type\":\"contour\"}],\"heatmapgl\":[{\"colorbar\":{\"outlinewidth\":0,\"ticks\":\"\"},\"colorscale\":[[0.0,\"#0d0887\"],[0.1111111111111111,\"#46039f\"],[0.2222222222222222,\"#7201a8\"],[0.3333333333333333,\"#9c179e\"],[0.4444444444444444,\"#bd3786\"],[0.5555555555555556,\"#d8576b\"],[0.6666666666666666,\"#ed7953\"],[0.7777777777777778,\"#fb9f3a\"],[0.8888888888888888,\"#fdca26\"],[1.0,\"#f0f921\"]],\"type\":\"heatmapgl\"}],\"heatmap\":[{\"colorbar\":{\"outlinewidth\":0,\"ticks\":\"\"},\"colorscale\":[[0.0,\"#0d0887\"],[0.1111111111111111,\"#46039f\"],[0.2222222222222222,\"#7201a8\"],[0.3333333333333333,\"#9c179e\"],[0.4444444444444444,\"#bd3786\"],[0.5555555555555556,\"#d8576b\"],[0.6666666666666666,\"#ed7953\"],[0.7777777777777778,\"#fb9f3a\"],[0.8888888888888888,\"#fdca26\"],[1.0,\"#f0f921\"]],\"type\":\"heatmap\"}],\"histogram2dcontour\":[{\"colorbar\":{\"outlinewidth\":0,\"ticks\":\"\"},\"colorscale\":[[0.0,\"#0d0887\"],[0.1111111111111111,\"#46039f\"],[0.2222222222222222,\"#7201a8\"],[0.3333333333333333,\"#9c179e\"],[0.4444444444444444,\"#bd3786\"],[0.5555555555555556,\"#d8576b\"],[0.6666666666666666,\"#ed7953\"],[0.7777777777777778,\"#fb9f3a\"],[0.8888888888888888,\"#fdca26\"],[1.0,\"#f0f921\"]],\"type\":\"histogram2dcontour\"}],\"histogram2d\":[{\"colorbar\":{\"outlinewidth\":0,\"ticks\":\"\"},\"colorscale\":[[0.0,\"#0d0887\"],[0.1111111111111111,\"#46039f\"],[0.2222222222222222,\"#7201a8\"],[0.3333333333333333,\"#9c179e\"],[0.4444444444444444,\"#bd3786\"],[0.5555555555555556,\"#d8576b\"],[0.6666666666666666,\"#ed7953\"],[0.7777777777777778,\"#fb9f3a\"],[0.8888888888888888,\"#fdca26\"],[1.0,\"#f0f921\"]],\"type\":\"histogram2d\"}],\"histogram\":[{\"marker\":{\"pattern\":{\"fillmode\":\"overlay\",\"size\":10,\"solidity\":0.2}},\"type\":\"histogram\"}],\"mesh3d\":[{\"colorbar\":{\"outlinewidth\":0,\"ticks\":\"\"},\"type\":\"mesh3d\"}],\"parcoords\":[{\"line\":{\"colorbar\":{\"outlinewidth\":0,\"ticks\":\"\"}},\"type\":\"parcoords\"}],\"pie\":[{\"automargin\":true,\"type\":\"pie\"}],\"scatter3d\":[{\"line\":{\"colorbar\":{\"outlinewidth\":0,\"ticks\":\"\"}},\"marker\":{\"colorbar\":{\"outlinewidth\":0,\"ticks\":\"\"}},\"type\":\"scatter3d\"}],\"scattercarpet\":[{\"marker\":{\"colorbar\":{\"outlinewidth\":0,\"ticks\":\"\"}},\"type\":\"scattercarpet\"}],\"scattergeo\":[{\"marker\":{\"colorbar\":{\"outlinewidth\":0,\"ticks\":\"\"}},\"type\":\"scattergeo\"}],\"scattergl\":[{\"marker\":{\"colorbar\":{\"outlinewidth\":0,\"ticks\":\"\"}},\"type\":\"scattergl\"}],\"scattermapbox\":[{\"marker\":{\"colorbar\":{\"outlinewidth\":0,\"ticks\":\"\"}},\"type\":\"scattermapbox\"}],\"scatterpolargl\":[{\"marker\":{\"colorbar\":{\"outlinewidth\":0,\"ticks\":\"\"}},\"type\":\"scatterpolargl\"}],\"scatterpolar\":[{\"marker\":{\"colorbar\":{\"outlinewidth\":0,\"ticks\":\"\"}},\"type\":\"scatterpolar\"}],\"scatter\":[{\"fillpattern\":{\"fillmode\":\"overlay\",\"size\":10,\"solidity\":0.2},\"type\":\"scatter\"}],\"scatterternary\":[{\"marker\":{\"colorbar\":{\"outlinewidth\":0,\"ticks\":\"\"}},\"type\":\"scatterternary\"}],\"surface\":[{\"colorbar\":{\"outlinewidth\":0,\"ticks\":\"\"},\"colorscale\":[[0.0,\"#0d0887\"],[0.1111111111111111,\"#46039f\"],[0.2222222222222222,\"#7201a8\"],[0.3333333333333333,\"#9c179e\"],[0.4444444444444444,\"#bd3786\"],[0.5555555555555556,\"#d8576b\"],[0.6666666666666666,\"#ed7953\"],[0.7777777777777778,\"#fb9f3a\"],[0.8888888888888888,\"#fdca26\"],[1.0,\"#f0f921\"]],\"type\":\"surface\"}],\"table\":[{\"cells\":{\"fill\":{\"color\":\"#EBF0F8\"},\"line\":{\"color\":\"white\"}},\"header\":{\"fill\":{\"color\":\"#C8D4E3\"},\"line\":{\"color\":\"white\"}},\"type\":\"table\"}]},\"layout\":{\"annotationdefaults\":{\"arrowcolor\":\"#2a3f5f\",\"arrowhead\":0,\"arrowwidth\":1},\"autotypenumbers\":\"strict\",\"coloraxis\":{\"colorbar\":{\"outlinewidth\":0,\"ticks\":\"\"}},\"colorscale\":{\"diverging\":[[0,\"#8e0152\"],[0.1,\"#c51b7d\"],[0.2,\"#de77ae\"],[0.3,\"#f1b6da\"],[0.4,\"#fde0ef\"],[0.5,\"#f7f7f7\"],[0.6,\"#e6f5d0\"],[0.7,\"#b8e186\"],[0.8,\"#7fbc41\"],[0.9,\"#4d9221\"],[1,\"#276419\"]],\"sequential\":[[0.0,\"#0d0887\"],[0.1111111111111111,\"#46039f\"],[0.2222222222222222,\"#7201a8\"],[0.3333333333333333,\"#9c179e\"],[0.4444444444444444,\"#bd3786\"],[0.5555555555555556,\"#d8576b\"],[0.6666666666666666,\"#ed7953\"],[0.7777777777777778,\"#fb9f3a\"],[0.8888888888888888,\"#fdca26\"],[1.0,\"#f0f921\"]],\"sequentialminus\":[[0.0,\"#0d0887\"],[0.1111111111111111,\"#46039f\"],[0.2222222222222222,\"#7201a8\"],[0.3333333333333333,\"#9c179e\"],[0.4444444444444444,\"#bd3786\"],[0.5555555555555556,\"#d8576b\"],[0.6666666666666666,\"#ed7953\"],[0.7777777777777778,\"#fb9f3a\"],[0.8888888888888888,\"#fdca26\"],[1.0,\"#f0f921\"]]},\"colorway\":[\"#636efa\",\"#EF553B\",\"#00cc96\",\"#ab63fa\",\"#FFA15A\",\"#19d3f3\",\"#FF6692\",\"#B6E880\",\"#FF97FF\",\"#FECB52\"],\"font\":{\"color\":\"#2a3f5f\"},\"geo\":{\"bgcolor\":\"white\",\"lakecolor\":\"white\",\"landcolor\":\"#E5ECF6\",\"showlakes\":true,\"showland\":true,\"subunitcolor\":\"white\"},\"hoverlabel\":{\"align\":\"left\"},\"hovermode\":\"closest\",\"mapbox\":{\"style\":\"light\"},\"paper_bgcolor\":\"white\",\"plot_bgcolor\":\"#E5ECF6\",\"polar\":{\"angularaxis\":{\"gridcolor\":\"white\",\"linecolor\":\"white\",\"ticks\":\"\"},\"bgcolor\":\"#E5ECF6\",\"radialaxis\":{\"gridcolor\":\"white\",\"linecolor\":\"white\",\"ticks\":\"\"}},\"scene\":{\"xaxis\":{\"backgroundcolor\":\"#E5ECF6\",\"gridcolor\":\"white\",\"gridwidth\":2,\"linecolor\":\"white\",\"showbackground\":true,\"ticks\":\"\",\"zerolinecolor\":\"white\"},\"yaxis\":{\"backgroundcolor\":\"#E5ECF6\",\"gridcolor\":\"white\",\"gridwidth\":2,\"linecolor\":\"white\",\"showbackground\":true,\"ticks\":\"\",\"zerolinecolor\":\"white\"},\"zaxis\":{\"backgroundcolor\":\"#E5ECF6\",\"gridcolor\":\"white\",\"gridwidth\":2,\"linecolor\":\"white\",\"showbackground\":true,\"ticks\":\"\",\"zerolinecolor\":\"white\"}},\"shapedefaults\":{\"line\":{\"color\":\"#2a3f5f\"}},\"ternary\":{\"aaxis\":{\"gridcolor\":\"white\",\"linecolor\":\"white\",\"ticks\":\"\"},\"baxis\":{\"gridcolor\":\"white\",\"linecolor\":\"white\",\"ticks\":\"\"},\"bgcolor\":\"#E5ECF6\",\"caxis\":{\"gridcolor\":\"white\",\"linecolor\":\"white\",\"ticks\":\"\"}},\"title\":{\"x\":0.05},\"xaxis\":{\"automargin\":true,\"gridcolor\":\"white\",\"linecolor\":\"white\",\"ticks\":\"\",\"title\":{\"standoff\":15},\"zerolinecolor\":\"white\",\"zerolinewidth\":2},\"yaxis\":{\"automargin\":true,\"gridcolor\":\"white\",\"linecolor\":\"white\",\"ticks\":\"\",\"title\":{\"standoff\":15},\"zerolinecolor\":\"white\",\"zerolinewidth\":2}}},\"title\":{\"font\":{\"color\":\"#4D5663\"}},\"xaxis\":{\"gridcolor\":\"#E1E5ED\",\"showgrid\":true,\"tickfont\":{\"color\":\"#4D5663\"},\"title\":{\"font\":{\"color\":\"#4D5663\"},\"text\":\"\"},\"zerolinecolor\":\"#E1E5ED\"},\"yaxis\":{\"gridcolor\":\"#E1E5ED\",\"showgrid\":true,\"tickfont\":{\"color\":\"#4D5663\"},\"title\":{\"font\":{\"color\":\"#4D5663\"},\"text\":\"\"},\"zerolinecolor\":\"#E1E5ED\"}},                        {\"showLink\": true, \"linkText\": \"Export to plot.ly\", \"plotlyServerURL\": \"https://plot.ly\", \"responsive\": true}                    ).then(function(){\n",
       "                            \n",
       "var gd = document.getElementById('adddbb84-3c71-4094-8f6f-7e5fb4cb3125');\n",
       "var x = new MutationObserver(function (mutations, observer) {{\n",
       "        var display = window.getComputedStyle(gd).display;\n",
       "        if (!display || display === 'none') {{\n",
       "            console.log([gd, 'removed!']);\n",
       "            Plotly.purge(gd);\n",
       "            observer.disconnect();\n",
       "        }}\n",
       "}});\n",
       "\n",
       "// Listen for the removal of the full notebook cells\n",
       "var notebookContainer = gd.closest('#notebook-container');\n",
       "if (notebookContainer) {{\n",
       "    x.observe(notebookContainer, {childList: true});\n",
       "}}\n",
       "\n",
       "// Listen for the clearing of the current output cell\n",
       "var outputEl = gd.closest('.output');\n",
       "if (outputEl) {{\n",
       "    x.observe(outputEl, {childList: true});\n",
       "}}\n",
       "\n",
       "                        })                };                });            </script>        </div>"
      ]
     },
     "metadata": {},
     "output_type": "display_data"
    }
   ],
   "source": [
    "df.count().iplot(kind = 'bar')"
   ]
  },
  {
   "cell_type": "markdown",
   "id": "a2035110",
   "metadata": {},
   "source": [
    "### Boxplots"
   ]
  },
  {
   "cell_type": "code",
   "execution_count": 24,
   "id": "d8672303",
   "metadata": {},
   "outputs": [
    {
     "data": {
      "application/vnd.plotly.v1+json": {
       "config": {
        "linkText": "Export to plot.ly",
        "plotlyServerURL": "https://plot.ly",
        "showLink": true
       },
       "data": [
        {
         "boxpoints": false,
         "line": {
          "width": 1.3
         },
         "marker": {
          "color": "rgba(255, 153, 51, 1.0)"
         },
         "name": "A",
         "orientation": "v",
         "type": "box",
         "y": [
          0.7578306652600714,
          0.6706958613531931,
          -1.786751065174122,
          0.5602920264863411,
          1.2093903118572087,
          -0.07721121963587653,
          -0.6006294853354058,
          -0.20549799611085745,
          0.14447932596359128,
          -0.6194297923494315,
          0.289965871828332,
          1.334295055420149,
          1.2776093322599726,
          0.6941583739260736,
          -0.4768485479531304,
          -1.3945337778497289,
          -0.8308943714415719,
          -0.1908555235678979,
          -0.35903626618040974,
          -2.0200458765769387,
          0.4448500215436498,
          0.20422160240325865,
          0.5392099010996428,
          -0.2690083112201799,
          -0.8563251939013093,
          0.3391207855185764,
          -0.7792248890505376,
          -0.02083868757770441,
          -0.03344647009605206,
          -1.3904501532020737,
          0.3608322091072763,
          -2.2848433711479856,
          -0.13177311715226472,
          -0.25776768300903474,
          0.027962301258553895,
          1.681435385772883,
          -0.6221469941651722,
          -1.1917502523025978,
          -2.1355438596372207,
          -0.29686712138952165,
          0.6467733369508364,
          -0.788778618157295,
          -0.9093268462871056,
          -0.6953376105722637,
          -0.23977448704372462,
          -0.3453021315051399,
          1.4490027915911707,
          0.32472600886413877,
          0.9359226852540424,
          2.6586112671481525,
          -0.32333375611415116,
          4.0344297621507454,
          -0.8205988894356041,
          -1.1362389424169994,
          -0.2111340316655757,
          0.33053613427656303,
          -2.2883541938471232,
          0.15101230122841047,
          0.5630993680418365,
          0.04005306805778204,
          0.7320047941010306,
          2.022400726278812,
          -1.110462875185184,
          1.815902928551929,
          0.23541742291644363,
          -0.299353695139132,
          1.782004055400953,
          0.5886194597980433,
          0.3249032927706249,
          0.22970085014314612,
          1.0296152959656006,
          0.3113892172505194,
          -0.6738285807996732,
          -1.4294071757980833,
          1.0331708534128439,
          1.0786061415606991,
          -1.0927355132299985,
          -0.26801167744466736,
          1.283875352142768,
          -1.1922505632319573,
          -0.11461499732670305,
          0.5612224005874871,
          -1.9495625965611316,
          -0.6754021167285816,
          -0.1713261396526278,
          2.3700737799129836,
          0.20724970718019972,
          0.36570347615770693,
          -0.7904553715348929,
          0.026238426697340594,
          -1.904503266356009,
          1.574480717301306,
          1.3400837073902583,
          -0.4839947096236791,
          -1.1813582092678951,
          1.6626390476575212,
          -1.0216179790542574,
          -0.6949471304302506,
          0.9285689130307127,
          -0.2926143093506573
         ]
        },
        {
         "boxpoints": false,
         "line": {
          "width": 1.3
         },
         "marker": {
          "color": "rgba(55, 128, 191, 1.0)"
         },
         "name": "B",
         "orientation": "v",
         "type": "box",
         "y": [
          -0.2912892972987383,
          -0.5099817648528213,
          1.1908177594187945,
          1.6852654510348208,
          0.14882243470747117,
          -2.3037953168126015,
          -0.24570904973412847,
          0.27026697246654063,
          0.5489241190861819,
          1.0494892047672069,
          1.6449557327042612,
          -1.2435292515972494,
          1.0827059551477518,
          -2.3265514065069826,
          -1.8432176330776107,
          1.2563120938727566,
          2.1016432707721964,
          0.8835351387421774,
          0.7887795942984664,
          1.2320778057208106,
          -0.019410404695273668,
          -1.0221872298474088,
          -1.4324446606118177,
          1.0556769315616874,
          2.6333874524887424,
          1.0219370562933083,
          -1.0447863310211478,
          -0.31296385151259865,
          -0.5495225412079057,
          -0.5760573962317269,
          0.4189253096607101,
          1.471342914336534,
          1.0222367104442975,
          0.15985179971099342,
          -1.6756594262295046,
          -0.3772891667954507,
          0.5683044437292576,
          -2.049073107560736,
          0.4903378004188023,
          0.4530662374795767,
          -1.308635707523197,
          0.6446017773525391,
          -2.4390504610217976,
          1.4355999105681634,
          0.4014417106028471,
          -0.06582744145685468,
          0.4870730284017431,
          -1.9493842372661236,
          2.2826084790025343,
          -1.2718059047713601,
          -2.6857235646383626,
          -0.7201157734494502,
          -0.1920660069857729,
          0.5341498433545641,
          -0.6498776596158321,
          -0.6881579664154346,
          -0.017781421996660406,
          -0.006479640791160362,
          -1.4875180851261842,
          -2.151414005208173,
          -0.06862265103004218,
          -0.6809989254617403,
          0.07246770576574128,
          1.5709090059774033,
          1.2092234979821614,
          -1.7336592475299253,
          0.3750141896515368,
          -0.7224394257070924,
          1.569857139426887,
          0.6761954348997585,
          0.5973200260553962,
          -1.3395346590300246,
          -0.31508903188547854,
          -0.6159141442383137,
          -0.8342038355358447,
          1.5799669056690253,
          -0.8695982902595847,
          2.5086007158219537,
          -0.4983408276616498,
          0.9792467346219735,
          0.7202387436322023,
          1.565905215152806,
          0.11437371066288606,
          -0.2344926835279254,
          0.5064013627686159,
          0.9212884740745085,
          -2.438177970385512,
          -1.1653160008924643,
          0.5847791301571718,
          1.1658578569944609,
          -1.9586439283763402,
          -0.023745458263176616,
          -0.9644614734785698,
          -0.5583469240013501,
          0.6541854785700131,
          2.053427150608331,
          0.8658266947740538,
          1.8457601392044725,
          -1.0635193533480607,
          1.002028410054408
         ]
        },
        {
         "boxpoints": false,
         "line": {
          "width": 1.3
         },
         "marker": {
          "color": "rgba(50, 171, 96, 1.0)"
         },
         "name": "C",
         "orientation": "v",
         "type": "box",
         "y": [
          1.0289581305438282,
          0.5546223404747419,
          1.1662749440164377,
          2.4076552326021776,
          1.1206589700874514,
          -1.1510965060464522,
          -1.036330097185283,
          1.1035664352354242,
          0.41018784624515064,
          -0.6031066567749889,
          -0.43523375737566006,
          0.7700034740062437,
          0.6566952435331103,
          -0.7114750137325586,
          -0.05927451573410519,
          -0.17907593395437119,
          -0.25568674008505926,
          1.3422155615457656,
          -1.0296012082087613,
          0.8080962087323785,
          -1.025456298374542,
          -0.46163767759108804,
          -1.1598702074305383,
          -0.6209716060525496,
          -0.26394655045047843,
          0.8271151780451435,
          -1.5574334981928357,
          0.12883112172237213,
          0.7907350832481647,
          -0.435427911330841,
          1.156895577875462,
          1.5893737702529305,
          -0.2848824769301489,
          0.09526302519980143,
          -1.9060801587965064,
          0.9482566637846065,
          0.44123374245965796,
          0.39369493025203933,
          0.2862434970044421,
          0.0019161241469577708,
          -1.002830579436456,
          -1.3323363041288334,
          -1.1928668685040442,
          1.3819702487291246,
          -0.12058307139354957,
          -0.5323794584400485,
          0.8609519082160938,
          -0.34774168612723666,
          -0.756392204555714,
          0.6256477073548026,
          0.46068477788193496,
          1.0473063481936853,
          0.9827780522835693,
          1.9158788978470005,
          -0.45044272223335735,
          0.622715458855441,
          0.39767977706126684,
          0.47695013610397186,
          -0.2730982441463706,
          -0.6543150918670932,
          -0.2229225756274758,
          -0.12938908818010844,
          0.9011976187385268,
          -0.8714209867366066,
          -0.04309649572211812,
          -1.337614470057924,
          0.3943511231930112,
          0.3294485083362826,
          -1.0098554567762619,
          -0.05027183388256316,
          0.06852094525818642,
          -0.8739080296140921,
          -0.20909017774675226,
          0.38091131571275527,
          0.0805704634826217,
          1.0467337941905117,
          -1.8512739800484475,
          -0.03893471147359269,
          -2.2452278339031078,
          0.08976975309328514,
          -0.2476763117555046,
          -0.7258674697306373,
          0.7005279592720636,
          -0.052074197751617694,
          -0.33574324432113484,
          0.531058971280717,
          -0.6360711258670565,
          -1.1402900718902977,
          -0.6595388839946046,
          -0.029147066769622476,
          -0.7648366879107783,
          -0.4232246795877898,
          -0.4195811108756407,
          -0.016863704992688168,
          -1.3511475249578464,
          -0.8396311579884472,
          -1.704008417464047,
          0.11973493174520473,
          -0.20130009398582185,
          2.54517125639914
         ]
        },
        {
         "boxpoints": false,
         "line": {
          "width": 1.3
         },
         "marker": {
          "color": "rgba(128, 0, 128, 1.0)"
         },
         "name": "D",
         "orientation": "v",
         "type": "box",
         "y": [
          0.9526488790960417,
          -1.5968100702183643,
          -0.5433295819264312,
          0.21387914156124838,
          0.5992632755866035,
          -0.03590331987408655,
          -0.16790739079250558,
          -0.6809471961924212,
          1.1128306773770202,
          -0.1242169865462312,
          -0.19310070189811843,
          -0.36464517280134023,
          0.310488599971796,
          -2.1630578876836144,
          -0.32972054778390103,
          0.25869221922838737,
          -1.0410314800247165,
          -0.3605355172297498,
          1.8471903313054505,
          -0.13560273947908436,
          -0.8071879070206959,
          -0.21518335457844917,
          -1.8203253804368487,
          1.3297605096549812,
          -0.7903310062065573,
          -0.9094544322492556,
          0.3371073345110966,
          0.7328193229092946,
          0.3086075733476576,
          0.45729867001915736,
          2.6522636307066563,
          1.5557283605369259,
          -0.6993369988342397,
          -0.7970781224855026,
          -0.33219249900301157,
          0.03137551427390909,
          0.4841698718340827,
          1.0664616449784468,
          -0.8654512204154237,
          -0.998662866066939,
          -0.8684079873945336,
          -0.9204533756188058,
          0.7399549704871922,
          -0.06769304274617806,
          -0.8407441248466904,
          -0.44226704586481114,
          -0.06859443206477811,
          0.04741011209263733,
          -0.4014834693298488,
          -0.32535576109556735,
          0.8224685680259435,
          -0.029326339591027987,
          -0.5310560745222764,
          0.42840277122352355,
          0.4719035497754577,
          1.1131298210261316,
          -0.5237001738833921,
          0.3057587673337682,
          -0.37628408527794727,
          -0.8865576707288084,
          -1.3114279026947866,
          0.5246334391909486,
          0.8771169910861834,
          -0.2759966284950859,
          -0.48074156270904084,
          0.14667455636236404,
          -1.1822688359181786,
          -0.8263875315015421,
          0.2552027396602155,
          -1.3389823363246451,
          -0.0739221809686225,
          -1.2826249948658528,
          0.12963514155415903,
          0.6520761962871522,
          -0.15440062020442194,
          2.256836634142194,
          -1.1812134030646015,
          -0.22704553641637804,
          1.5825158547690166,
          0.08476959376703497,
          1.0724541039190976,
          -0.2841540152432594,
          0.0005838753698127481,
          1.4141860476254873,
          -0.6445674809748125,
          -0.0028322728680268932,
          -0.28642983917000814,
          0.3480069259952904,
          -0.8102266727652506,
          0.11581712026168137,
          0.7405076829259916,
          -0.027371441823421164,
          0.8821390434101007,
          0.05335963364047773,
          0.35603809421414434,
          -0.12940225872618288,
          0.247627656095243,
          0.12384122479635257,
          -2.440242080691085,
          -0.2699634892117874
         ]
        }
       ],
       "layout": {
        "legend": {
         "bgcolor": "#F5F6F9",
         "font": {
          "color": "#4D5663"
         }
        },
        "paper_bgcolor": "#F5F6F9",
        "plot_bgcolor": "#F5F6F9",
        "template": {
         "data": {
          "bar": [
           {
            "error_x": {
             "color": "#2a3f5f"
            },
            "error_y": {
             "color": "#2a3f5f"
            },
            "marker": {
             "line": {
              "color": "#E5ECF6",
              "width": 0.5
             },
             "pattern": {
              "fillmode": "overlay",
              "size": 10,
              "solidity": 0.2
             }
            },
            "type": "bar"
           }
          ],
          "barpolar": [
           {
            "marker": {
             "line": {
              "color": "#E5ECF6",
              "width": 0.5
             },
             "pattern": {
              "fillmode": "overlay",
              "size": 10,
              "solidity": 0.2
             }
            },
            "type": "barpolar"
           }
          ],
          "carpet": [
           {
            "aaxis": {
             "endlinecolor": "#2a3f5f",
             "gridcolor": "white",
             "linecolor": "white",
             "minorgridcolor": "white",
             "startlinecolor": "#2a3f5f"
            },
            "baxis": {
             "endlinecolor": "#2a3f5f",
             "gridcolor": "white",
             "linecolor": "white",
             "minorgridcolor": "white",
             "startlinecolor": "#2a3f5f"
            },
            "type": "carpet"
           }
          ],
          "choropleth": [
           {
            "colorbar": {
             "outlinewidth": 0,
             "ticks": ""
            },
            "type": "choropleth"
           }
          ],
          "contour": [
           {
            "colorbar": {
             "outlinewidth": 0,
             "ticks": ""
            },
            "colorscale": [
             [
              0,
              "#0d0887"
             ],
             [
              0.1111111111111111,
              "#46039f"
             ],
             [
              0.2222222222222222,
              "#7201a8"
             ],
             [
              0.3333333333333333,
              "#9c179e"
             ],
             [
              0.4444444444444444,
              "#bd3786"
             ],
             [
              0.5555555555555556,
              "#d8576b"
             ],
             [
              0.6666666666666666,
              "#ed7953"
             ],
             [
              0.7777777777777778,
              "#fb9f3a"
             ],
             [
              0.8888888888888888,
              "#fdca26"
             ],
             [
              1,
              "#f0f921"
             ]
            ],
            "type": "contour"
           }
          ],
          "contourcarpet": [
           {
            "colorbar": {
             "outlinewidth": 0,
             "ticks": ""
            },
            "type": "contourcarpet"
           }
          ],
          "heatmap": [
           {
            "colorbar": {
             "outlinewidth": 0,
             "ticks": ""
            },
            "colorscale": [
             [
              0,
              "#0d0887"
             ],
             [
              0.1111111111111111,
              "#46039f"
             ],
             [
              0.2222222222222222,
              "#7201a8"
             ],
             [
              0.3333333333333333,
              "#9c179e"
             ],
             [
              0.4444444444444444,
              "#bd3786"
             ],
             [
              0.5555555555555556,
              "#d8576b"
             ],
             [
              0.6666666666666666,
              "#ed7953"
             ],
             [
              0.7777777777777778,
              "#fb9f3a"
             ],
             [
              0.8888888888888888,
              "#fdca26"
             ],
             [
              1,
              "#f0f921"
             ]
            ],
            "type": "heatmap"
           }
          ],
          "heatmapgl": [
           {
            "colorbar": {
             "outlinewidth": 0,
             "ticks": ""
            },
            "colorscale": [
             [
              0,
              "#0d0887"
             ],
             [
              0.1111111111111111,
              "#46039f"
             ],
             [
              0.2222222222222222,
              "#7201a8"
             ],
             [
              0.3333333333333333,
              "#9c179e"
             ],
             [
              0.4444444444444444,
              "#bd3786"
             ],
             [
              0.5555555555555556,
              "#d8576b"
             ],
             [
              0.6666666666666666,
              "#ed7953"
             ],
             [
              0.7777777777777778,
              "#fb9f3a"
             ],
             [
              0.8888888888888888,
              "#fdca26"
             ],
             [
              1,
              "#f0f921"
             ]
            ],
            "type": "heatmapgl"
           }
          ],
          "histogram": [
           {
            "marker": {
             "pattern": {
              "fillmode": "overlay",
              "size": 10,
              "solidity": 0.2
             }
            },
            "type": "histogram"
           }
          ],
          "histogram2d": [
           {
            "colorbar": {
             "outlinewidth": 0,
             "ticks": ""
            },
            "colorscale": [
             [
              0,
              "#0d0887"
             ],
             [
              0.1111111111111111,
              "#46039f"
             ],
             [
              0.2222222222222222,
              "#7201a8"
             ],
             [
              0.3333333333333333,
              "#9c179e"
             ],
             [
              0.4444444444444444,
              "#bd3786"
             ],
             [
              0.5555555555555556,
              "#d8576b"
             ],
             [
              0.6666666666666666,
              "#ed7953"
             ],
             [
              0.7777777777777778,
              "#fb9f3a"
             ],
             [
              0.8888888888888888,
              "#fdca26"
             ],
             [
              1,
              "#f0f921"
             ]
            ],
            "type": "histogram2d"
           }
          ],
          "histogram2dcontour": [
           {
            "colorbar": {
             "outlinewidth": 0,
             "ticks": ""
            },
            "colorscale": [
             [
              0,
              "#0d0887"
             ],
             [
              0.1111111111111111,
              "#46039f"
             ],
             [
              0.2222222222222222,
              "#7201a8"
             ],
             [
              0.3333333333333333,
              "#9c179e"
             ],
             [
              0.4444444444444444,
              "#bd3786"
             ],
             [
              0.5555555555555556,
              "#d8576b"
             ],
             [
              0.6666666666666666,
              "#ed7953"
             ],
             [
              0.7777777777777778,
              "#fb9f3a"
             ],
             [
              0.8888888888888888,
              "#fdca26"
             ],
             [
              1,
              "#f0f921"
             ]
            ],
            "type": "histogram2dcontour"
           }
          ],
          "mesh3d": [
           {
            "colorbar": {
             "outlinewidth": 0,
             "ticks": ""
            },
            "type": "mesh3d"
           }
          ],
          "parcoords": [
           {
            "line": {
             "colorbar": {
              "outlinewidth": 0,
              "ticks": ""
             }
            },
            "type": "parcoords"
           }
          ],
          "pie": [
           {
            "automargin": true,
            "type": "pie"
           }
          ],
          "scatter": [
           {
            "fillpattern": {
             "fillmode": "overlay",
             "size": 10,
             "solidity": 0.2
            },
            "type": "scatter"
           }
          ],
          "scatter3d": [
           {
            "line": {
             "colorbar": {
              "outlinewidth": 0,
              "ticks": ""
             }
            },
            "marker": {
             "colorbar": {
              "outlinewidth": 0,
              "ticks": ""
             }
            },
            "type": "scatter3d"
           }
          ],
          "scattercarpet": [
           {
            "marker": {
             "colorbar": {
              "outlinewidth": 0,
              "ticks": ""
             }
            },
            "type": "scattercarpet"
           }
          ],
          "scattergeo": [
           {
            "marker": {
             "colorbar": {
              "outlinewidth": 0,
              "ticks": ""
             }
            },
            "type": "scattergeo"
           }
          ],
          "scattergl": [
           {
            "marker": {
             "colorbar": {
              "outlinewidth": 0,
              "ticks": ""
             }
            },
            "type": "scattergl"
           }
          ],
          "scattermapbox": [
           {
            "marker": {
             "colorbar": {
              "outlinewidth": 0,
              "ticks": ""
             }
            },
            "type": "scattermapbox"
           }
          ],
          "scatterpolar": [
           {
            "marker": {
             "colorbar": {
              "outlinewidth": 0,
              "ticks": ""
             }
            },
            "type": "scatterpolar"
           }
          ],
          "scatterpolargl": [
           {
            "marker": {
             "colorbar": {
              "outlinewidth": 0,
              "ticks": ""
             }
            },
            "type": "scatterpolargl"
           }
          ],
          "scatterternary": [
           {
            "marker": {
             "colorbar": {
              "outlinewidth": 0,
              "ticks": ""
             }
            },
            "type": "scatterternary"
           }
          ],
          "surface": [
           {
            "colorbar": {
             "outlinewidth": 0,
             "ticks": ""
            },
            "colorscale": [
             [
              0,
              "#0d0887"
             ],
             [
              0.1111111111111111,
              "#46039f"
             ],
             [
              0.2222222222222222,
              "#7201a8"
             ],
             [
              0.3333333333333333,
              "#9c179e"
             ],
             [
              0.4444444444444444,
              "#bd3786"
             ],
             [
              0.5555555555555556,
              "#d8576b"
             ],
             [
              0.6666666666666666,
              "#ed7953"
             ],
             [
              0.7777777777777778,
              "#fb9f3a"
             ],
             [
              0.8888888888888888,
              "#fdca26"
             ],
             [
              1,
              "#f0f921"
             ]
            ],
            "type": "surface"
           }
          ],
          "table": [
           {
            "cells": {
             "fill": {
              "color": "#EBF0F8"
             },
             "line": {
              "color": "white"
             }
            },
            "header": {
             "fill": {
              "color": "#C8D4E3"
             },
             "line": {
              "color": "white"
             }
            },
            "type": "table"
           }
          ]
         },
         "layout": {
          "annotationdefaults": {
           "arrowcolor": "#2a3f5f",
           "arrowhead": 0,
           "arrowwidth": 1
          },
          "autotypenumbers": "strict",
          "coloraxis": {
           "colorbar": {
            "outlinewidth": 0,
            "ticks": ""
           }
          },
          "colorscale": {
           "diverging": [
            [
             0,
             "#8e0152"
            ],
            [
             0.1,
             "#c51b7d"
            ],
            [
             0.2,
             "#de77ae"
            ],
            [
             0.3,
             "#f1b6da"
            ],
            [
             0.4,
             "#fde0ef"
            ],
            [
             0.5,
             "#f7f7f7"
            ],
            [
             0.6,
             "#e6f5d0"
            ],
            [
             0.7,
             "#b8e186"
            ],
            [
             0.8,
             "#7fbc41"
            ],
            [
             0.9,
             "#4d9221"
            ],
            [
             1,
             "#276419"
            ]
           ],
           "sequential": [
            [
             0,
             "#0d0887"
            ],
            [
             0.1111111111111111,
             "#46039f"
            ],
            [
             0.2222222222222222,
             "#7201a8"
            ],
            [
             0.3333333333333333,
             "#9c179e"
            ],
            [
             0.4444444444444444,
             "#bd3786"
            ],
            [
             0.5555555555555556,
             "#d8576b"
            ],
            [
             0.6666666666666666,
             "#ed7953"
            ],
            [
             0.7777777777777778,
             "#fb9f3a"
            ],
            [
             0.8888888888888888,
             "#fdca26"
            ],
            [
             1,
             "#f0f921"
            ]
           ],
           "sequentialminus": [
            [
             0,
             "#0d0887"
            ],
            [
             0.1111111111111111,
             "#46039f"
            ],
            [
             0.2222222222222222,
             "#7201a8"
            ],
            [
             0.3333333333333333,
             "#9c179e"
            ],
            [
             0.4444444444444444,
             "#bd3786"
            ],
            [
             0.5555555555555556,
             "#d8576b"
            ],
            [
             0.6666666666666666,
             "#ed7953"
            ],
            [
             0.7777777777777778,
             "#fb9f3a"
            ],
            [
             0.8888888888888888,
             "#fdca26"
            ],
            [
             1,
             "#f0f921"
            ]
           ]
          },
          "colorway": [
           "#636efa",
           "#EF553B",
           "#00cc96",
           "#ab63fa",
           "#FFA15A",
           "#19d3f3",
           "#FF6692",
           "#B6E880",
           "#FF97FF",
           "#FECB52"
          ],
          "font": {
           "color": "#2a3f5f"
          },
          "geo": {
           "bgcolor": "white",
           "lakecolor": "white",
           "landcolor": "#E5ECF6",
           "showlakes": true,
           "showland": true,
           "subunitcolor": "white"
          },
          "hoverlabel": {
           "align": "left"
          },
          "hovermode": "closest",
          "mapbox": {
           "style": "light"
          },
          "paper_bgcolor": "white",
          "plot_bgcolor": "#E5ECF6",
          "polar": {
           "angularaxis": {
            "gridcolor": "white",
            "linecolor": "white",
            "ticks": ""
           },
           "bgcolor": "#E5ECF6",
           "radialaxis": {
            "gridcolor": "white",
            "linecolor": "white",
            "ticks": ""
           }
          },
          "scene": {
           "xaxis": {
            "backgroundcolor": "#E5ECF6",
            "gridcolor": "white",
            "gridwidth": 2,
            "linecolor": "white",
            "showbackground": true,
            "ticks": "",
            "zerolinecolor": "white"
           },
           "yaxis": {
            "backgroundcolor": "#E5ECF6",
            "gridcolor": "white",
            "gridwidth": 2,
            "linecolor": "white",
            "showbackground": true,
            "ticks": "",
            "zerolinecolor": "white"
           },
           "zaxis": {
            "backgroundcolor": "#E5ECF6",
            "gridcolor": "white",
            "gridwidth": 2,
            "linecolor": "white",
            "showbackground": true,
            "ticks": "",
            "zerolinecolor": "white"
           }
          },
          "shapedefaults": {
           "line": {
            "color": "#2a3f5f"
           }
          },
          "ternary": {
           "aaxis": {
            "gridcolor": "white",
            "linecolor": "white",
            "ticks": ""
           },
           "baxis": {
            "gridcolor": "white",
            "linecolor": "white",
            "ticks": ""
           },
           "bgcolor": "#E5ECF6",
           "caxis": {
            "gridcolor": "white",
            "linecolor": "white",
            "ticks": ""
           }
          },
          "title": {
           "x": 0.05
          },
          "xaxis": {
           "automargin": true,
           "gridcolor": "white",
           "linecolor": "white",
           "ticks": "",
           "title": {
            "standoff": 15
           },
           "zerolinecolor": "white",
           "zerolinewidth": 2
          },
          "yaxis": {
           "automargin": true,
           "gridcolor": "white",
           "linecolor": "white",
           "ticks": "",
           "title": {
            "standoff": 15
           },
           "zerolinecolor": "white",
           "zerolinewidth": 2
          }
         }
        },
        "title": {
         "font": {
          "color": "#4D5663"
         }
        },
        "xaxis": {
         "gridcolor": "#E1E5ED",
         "showgrid": true,
         "tickfont": {
          "color": "#4D5663"
         },
         "title": {
          "font": {
           "color": "#4D5663"
          },
          "text": ""
         },
         "zerolinecolor": "#E1E5ED"
        },
        "yaxis": {
         "gridcolor": "#E1E5ED",
         "showgrid": true,
         "tickfont": {
          "color": "#4D5663"
         },
         "title": {
          "font": {
           "color": "#4D5663"
          },
          "text": ""
         },
         "zerolinecolor": "#E1E5ED"
        }
       }
      },
      "text/html": [
       "<div>                            <div id=\"26889138-5cfb-49f6-b042-507b330d863d\" class=\"plotly-graph-div\" style=\"height:525px; width:100%;\"></div>            <script type=\"text/javascript\">                require([\"plotly\"], function(Plotly) {                    window.PLOTLYENV=window.PLOTLYENV || {};\n",
       "                    window.PLOTLYENV.BASE_URL='https://plot.ly';                                    if (document.getElementById(\"26889138-5cfb-49f6-b042-507b330d863d\")) {                    Plotly.newPlot(                        \"26889138-5cfb-49f6-b042-507b330d863d\",                        [{\"boxpoints\":false,\"line\":{\"width\":1.3},\"marker\":{\"color\":\"rgba(255, 153, 51, 1.0)\"},\"name\":\"A\",\"orientation\":\"v\",\"y\":[0.7578306652600714,0.6706958613531931,-1.786751065174122,0.5602920264863411,1.2093903118572087,-0.07721121963587653,-0.6006294853354058,-0.20549799611085745,0.14447932596359128,-0.6194297923494315,0.289965871828332,1.334295055420149,1.2776093322599726,0.6941583739260736,-0.4768485479531304,-1.3945337778497289,-0.8308943714415719,-0.1908555235678979,-0.35903626618040974,-2.0200458765769387,0.4448500215436498,0.20422160240325865,0.5392099010996428,-0.2690083112201799,-0.8563251939013093,0.3391207855185764,-0.7792248890505376,-0.02083868757770441,-0.03344647009605206,-1.3904501532020737,0.3608322091072763,-2.2848433711479856,-0.13177311715226472,-0.25776768300903474,0.027962301258553895,1.681435385772883,-0.6221469941651722,-1.1917502523025978,-2.1355438596372207,-0.29686712138952165,0.6467733369508364,-0.788778618157295,-0.9093268462871056,-0.6953376105722637,-0.23977448704372462,-0.3453021315051399,1.4490027915911707,0.32472600886413877,0.9359226852540424,2.6586112671481525,-0.32333375611415116,4.0344297621507454,-0.8205988894356041,-1.1362389424169994,-0.2111340316655757,0.33053613427656303,-2.2883541938471232,0.15101230122841047,0.5630993680418365,0.04005306805778204,0.7320047941010306,2.022400726278812,-1.110462875185184,1.815902928551929,0.23541742291644363,-0.299353695139132,1.782004055400953,0.5886194597980433,0.3249032927706249,0.22970085014314612,1.0296152959656006,0.3113892172505194,-0.6738285807996732,-1.4294071757980833,1.0331708534128439,1.0786061415606991,-1.0927355132299985,-0.26801167744466736,1.283875352142768,-1.1922505632319573,-0.11461499732670305,0.5612224005874871,-1.9495625965611316,-0.6754021167285816,-0.1713261396526278,2.3700737799129836,0.20724970718019972,0.36570347615770693,-0.7904553715348929,0.026238426697340594,-1.904503266356009,1.574480717301306,1.3400837073902583,-0.4839947096236791,-1.1813582092678951,1.6626390476575212,-1.0216179790542574,-0.6949471304302506,0.9285689130307127,-0.2926143093506573],\"type\":\"box\"},{\"boxpoints\":false,\"line\":{\"width\":1.3},\"marker\":{\"color\":\"rgba(55, 128, 191, 1.0)\"},\"name\":\"B\",\"orientation\":\"v\",\"y\":[-0.2912892972987383,-0.5099817648528213,1.1908177594187945,1.6852654510348208,0.14882243470747117,-2.3037953168126015,-0.24570904973412847,0.27026697246654063,0.5489241190861819,1.0494892047672069,1.6449557327042612,-1.2435292515972494,1.0827059551477518,-2.3265514065069826,-1.8432176330776107,1.2563120938727566,2.1016432707721964,0.8835351387421774,0.7887795942984664,1.2320778057208106,-0.019410404695273668,-1.0221872298474088,-1.4324446606118177,1.0556769315616874,2.6333874524887424,1.0219370562933083,-1.0447863310211478,-0.31296385151259865,-0.5495225412079057,-0.5760573962317269,0.4189253096607101,1.471342914336534,1.0222367104442975,0.15985179971099342,-1.6756594262295046,-0.3772891667954507,0.5683044437292576,-2.049073107560736,0.4903378004188023,0.4530662374795767,-1.308635707523197,0.6446017773525391,-2.4390504610217976,1.4355999105681634,0.4014417106028471,-0.06582744145685468,0.4870730284017431,-1.9493842372661236,2.2826084790025343,-1.2718059047713601,-2.6857235646383626,-0.7201157734494502,-0.1920660069857729,0.5341498433545641,-0.6498776596158321,-0.6881579664154346,-0.017781421996660406,-0.006479640791160362,-1.4875180851261842,-2.151414005208173,-0.06862265103004218,-0.6809989254617403,0.07246770576574128,1.5709090059774033,1.2092234979821614,-1.7336592475299253,0.3750141896515368,-0.7224394257070924,1.569857139426887,0.6761954348997585,0.5973200260553962,-1.3395346590300246,-0.31508903188547854,-0.6159141442383137,-0.8342038355358447,1.5799669056690253,-0.8695982902595847,2.5086007158219537,-0.4983408276616498,0.9792467346219735,0.7202387436322023,1.565905215152806,0.11437371066288606,-0.2344926835279254,0.5064013627686159,0.9212884740745085,-2.438177970385512,-1.1653160008924643,0.5847791301571718,1.1658578569944609,-1.9586439283763402,-0.023745458263176616,-0.9644614734785698,-0.5583469240013501,0.6541854785700131,2.053427150608331,0.8658266947740538,1.8457601392044725,-1.0635193533480607,1.002028410054408],\"type\":\"box\"},{\"boxpoints\":false,\"line\":{\"width\":1.3},\"marker\":{\"color\":\"rgba(50, 171, 96, 1.0)\"},\"name\":\"C\",\"orientation\":\"v\",\"y\":[1.0289581305438282,0.5546223404747419,1.1662749440164377,2.4076552326021776,1.1206589700874514,-1.1510965060464522,-1.036330097185283,1.1035664352354242,0.41018784624515064,-0.6031066567749889,-0.43523375737566006,0.7700034740062437,0.6566952435331103,-0.7114750137325586,-0.05927451573410519,-0.17907593395437119,-0.25568674008505926,1.3422155615457656,-1.0296012082087613,0.8080962087323785,-1.025456298374542,-0.46163767759108804,-1.1598702074305383,-0.6209716060525496,-0.26394655045047843,0.8271151780451435,-1.5574334981928357,0.12883112172237213,0.7907350832481647,-0.435427911330841,1.156895577875462,1.5893737702529305,-0.2848824769301489,0.09526302519980143,-1.9060801587965064,0.9482566637846065,0.44123374245965796,0.39369493025203933,0.2862434970044421,0.0019161241469577708,-1.002830579436456,-1.3323363041288334,-1.1928668685040442,1.3819702487291246,-0.12058307139354957,-0.5323794584400485,0.8609519082160938,-0.34774168612723666,-0.756392204555714,0.6256477073548026,0.46068477788193496,1.0473063481936853,0.9827780522835693,1.9158788978470005,-0.45044272223335735,0.622715458855441,0.39767977706126684,0.47695013610397186,-0.2730982441463706,-0.6543150918670932,-0.2229225756274758,-0.12938908818010844,0.9011976187385268,-0.8714209867366066,-0.04309649572211812,-1.337614470057924,0.3943511231930112,0.3294485083362826,-1.0098554567762619,-0.05027183388256316,0.06852094525818642,-0.8739080296140921,-0.20909017774675226,0.38091131571275527,0.0805704634826217,1.0467337941905117,-1.8512739800484475,-0.03893471147359269,-2.2452278339031078,0.08976975309328514,-0.2476763117555046,-0.7258674697306373,0.7005279592720636,-0.052074197751617694,-0.33574324432113484,0.531058971280717,-0.6360711258670565,-1.1402900718902977,-0.6595388839946046,-0.029147066769622476,-0.7648366879107783,-0.4232246795877898,-0.4195811108756407,-0.016863704992688168,-1.3511475249578464,-0.8396311579884472,-1.704008417464047,0.11973493174520473,-0.20130009398582185,2.54517125639914],\"type\":\"box\"},{\"boxpoints\":false,\"line\":{\"width\":1.3},\"marker\":{\"color\":\"rgba(128, 0, 128, 1.0)\"},\"name\":\"D\",\"orientation\":\"v\",\"y\":[0.9526488790960417,-1.5968100702183643,-0.5433295819264312,0.21387914156124838,0.5992632755866035,-0.03590331987408655,-0.16790739079250558,-0.6809471961924212,1.1128306773770202,-0.1242169865462312,-0.19310070189811843,-0.36464517280134023,0.310488599971796,-2.1630578876836144,-0.32972054778390103,0.25869221922838737,-1.0410314800247165,-0.3605355172297498,1.8471903313054505,-0.13560273947908436,-0.8071879070206959,-0.21518335457844917,-1.8203253804368487,1.3297605096549812,-0.7903310062065573,-0.9094544322492556,0.3371073345110966,0.7328193229092946,0.3086075733476576,0.45729867001915736,2.6522636307066563,1.5557283605369259,-0.6993369988342397,-0.7970781224855026,-0.33219249900301157,0.03137551427390909,0.4841698718340827,1.0664616449784468,-0.8654512204154237,-0.998662866066939,-0.8684079873945336,-0.9204533756188058,0.7399549704871922,-0.06769304274617806,-0.8407441248466904,-0.44226704586481114,-0.06859443206477811,0.04741011209263733,-0.4014834693298488,-0.32535576109556735,0.8224685680259435,-0.029326339591027987,-0.5310560745222764,0.42840277122352355,0.4719035497754577,1.1131298210261316,-0.5237001738833921,0.3057587673337682,-0.37628408527794727,-0.8865576707288084,-1.3114279026947866,0.5246334391909486,0.8771169910861834,-0.2759966284950859,-0.48074156270904084,0.14667455636236404,-1.1822688359181786,-0.8263875315015421,0.2552027396602155,-1.3389823363246451,-0.0739221809686225,-1.2826249948658528,0.12963514155415903,0.6520761962871522,-0.15440062020442194,2.256836634142194,-1.1812134030646015,-0.22704553641637804,1.5825158547690166,0.08476959376703497,1.0724541039190976,-0.2841540152432594,0.0005838753698127481,1.4141860476254873,-0.6445674809748125,-0.0028322728680268932,-0.28642983917000814,0.3480069259952904,-0.8102266727652506,0.11581712026168137,0.7405076829259916,-0.027371441823421164,0.8821390434101007,0.05335963364047773,0.35603809421414434,-0.12940225872618288,0.247627656095243,0.12384122479635257,-2.440242080691085,-0.2699634892117874],\"type\":\"box\"}],                        {\"legend\":{\"bgcolor\":\"#F5F6F9\",\"font\":{\"color\":\"#4D5663\"}},\"paper_bgcolor\":\"#F5F6F9\",\"plot_bgcolor\":\"#F5F6F9\",\"template\":{\"data\":{\"barpolar\":[{\"marker\":{\"line\":{\"color\":\"#E5ECF6\",\"width\":0.5},\"pattern\":{\"fillmode\":\"overlay\",\"size\":10,\"solidity\":0.2}},\"type\":\"barpolar\"}],\"bar\":[{\"error_x\":{\"color\":\"#2a3f5f\"},\"error_y\":{\"color\":\"#2a3f5f\"},\"marker\":{\"line\":{\"color\":\"#E5ECF6\",\"width\":0.5},\"pattern\":{\"fillmode\":\"overlay\",\"size\":10,\"solidity\":0.2}},\"type\":\"bar\"}],\"carpet\":[{\"aaxis\":{\"endlinecolor\":\"#2a3f5f\",\"gridcolor\":\"white\",\"linecolor\":\"white\",\"minorgridcolor\":\"white\",\"startlinecolor\":\"#2a3f5f\"},\"baxis\":{\"endlinecolor\":\"#2a3f5f\",\"gridcolor\":\"white\",\"linecolor\":\"white\",\"minorgridcolor\":\"white\",\"startlinecolor\":\"#2a3f5f\"},\"type\":\"carpet\"}],\"choropleth\":[{\"colorbar\":{\"outlinewidth\":0,\"ticks\":\"\"},\"type\":\"choropleth\"}],\"contourcarpet\":[{\"colorbar\":{\"outlinewidth\":0,\"ticks\":\"\"},\"type\":\"contourcarpet\"}],\"contour\":[{\"colorbar\":{\"outlinewidth\":0,\"ticks\":\"\"},\"colorscale\":[[0.0,\"#0d0887\"],[0.1111111111111111,\"#46039f\"],[0.2222222222222222,\"#7201a8\"],[0.3333333333333333,\"#9c179e\"],[0.4444444444444444,\"#bd3786\"],[0.5555555555555556,\"#d8576b\"],[0.6666666666666666,\"#ed7953\"],[0.7777777777777778,\"#fb9f3a\"],[0.8888888888888888,\"#fdca26\"],[1.0,\"#f0f921\"]],\"type\":\"contour\"}],\"heatmapgl\":[{\"colorbar\":{\"outlinewidth\":0,\"ticks\":\"\"},\"colorscale\":[[0.0,\"#0d0887\"],[0.1111111111111111,\"#46039f\"],[0.2222222222222222,\"#7201a8\"],[0.3333333333333333,\"#9c179e\"],[0.4444444444444444,\"#bd3786\"],[0.5555555555555556,\"#d8576b\"],[0.6666666666666666,\"#ed7953\"],[0.7777777777777778,\"#fb9f3a\"],[0.8888888888888888,\"#fdca26\"],[1.0,\"#f0f921\"]],\"type\":\"heatmapgl\"}],\"heatmap\":[{\"colorbar\":{\"outlinewidth\":0,\"ticks\":\"\"},\"colorscale\":[[0.0,\"#0d0887\"],[0.1111111111111111,\"#46039f\"],[0.2222222222222222,\"#7201a8\"],[0.3333333333333333,\"#9c179e\"],[0.4444444444444444,\"#bd3786\"],[0.5555555555555556,\"#d8576b\"],[0.6666666666666666,\"#ed7953\"],[0.7777777777777778,\"#fb9f3a\"],[0.8888888888888888,\"#fdca26\"],[1.0,\"#f0f921\"]],\"type\":\"heatmap\"}],\"histogram2dcontour\":[{\"colorbar\":{\"outlinewidth\":0,\"ticks\":\"\"},\"colorscale\":[[0.0,\"#0d0887\"],[0.1111111111111111,\"#46039f\"],[0.2222222222222222,\"#7201a8\"],[0.3333333333333333,\"#9c179e\"],[0.4444444444444444,\"#bd3786\"],[0.5555555555555556,\"#d8576b\"],[0.6666666666666666,\"#ed7953\"],[0.7777777777777778,\"#fb9f3a\"],[0.8888888888888888,\"#fdca26\"],[1.0,\"#f0f921\"]],\"type\":\"histogram2dcontour\"}],\"histogram2d\":[{\"colorbar\":{\"outlinewidth\":0,\"ticks\":\"\"},\"colorscale\":[[0.0,\"#0d0887\"],[0.1111111111111111,\"#46039f\"],[0.2222222222222222,\"#7201a8\"],[0.3333333333333333,\"#9c179e\"],[0.4444444444444444,\"#bd3786\"],[0.5555555555555556,\"#d8576b\"],[0.6666666666666666,\"#ed7953\"],[0.7777777777777778,\"#fb9f3a\"],[0.8888888888888888,\"#fdca26\"],[1.0,\"#f0f921\"]],\"type\":\"histogram2d\"}],\"histogram\":[{\"marker\":{\"pattern\":{\"fillmode\":\"overlay\",\"size\":10,\"solidity\":0.2}},\"type\":\"histogram\"}],\"mesh3d\":[{\"colorbar\":{\"outlinewidth\":0,\"ticks\":\"\"},\"type\":\"mesh3d\"}],\"parcoords\":[{\"line\":{\"colorbar\":{\"outlinewidth\":0,\"ticks\":\"\"}},\"type\":\"parcoords\"}],\"pie\":[{\"automargin\":true,\"type\":\"pie\"}],\"scatter3d\":[{\"line\":{\"colorbar\":{\"outlinewidth\":0,\"ticks\":\"\"}},\"marker\":{\"colorbar\":{\"outlinewidth\":0,\"ticks\":\"\"}},\"type\":\"scatter3d\"}],\"scattercarpet\":[{\"marker\":{\"colorbar\":{\"outlinewidth\":0,\"ticks\":\"\"}},\"type\":\"scattercarpet\"}],\"scattergeo\":[{\"marker\":{\"colorbar\":{\"outlinewidth\":0,\"ticks\":\"\"}},\"type\":\"scattergeo\"}],\"scattergl\":[{\"marker\":{\"colorbar\":{\"outlinewidth\":0,\"ticks\":\"\"}},\"type\":\"scattergl\"}],\"scattermapbox\":[{\"marker\":{\"colorbar\":{\"outlinewidth\":0,\"ticks\":\"\"}},\"type\":\"scattermapbox\"}],\"scatterpolargl\":[{\"marker\":{\"colorbar\":{\"outlinewidth\":0,\"ticks\":\"\"}},\"type\":\"scatterpolargl\"}],\"scatterpolar\":[{\"marker\":{\"colorbar\":{\"outlinewidth\":0,\"ticks\":\"\"}},\"type\":\"scatterpolar\"}],\"scatter\":[{\"fillpattern\":{\"fillmode\":\"overlay\",\"size\":10,\"solidity\":0.2},\"type\":\"scatter\"}],\"scatterternary\":[{\"marker\":{\"colorbar\":{\"outlinewidth\":0,\"ticks\":\"\"}},\"type\":\"scatterternary\"}],\"surface\":[{\"colorbar\":{\"outlinewidth\":0,\"ticks\":\"\"},\"colorscale\":[[0.0,\"#0d0887\"],[0.1111111111111111,\"#46039f\"],[0.2222222222222222,\"#7201a8\"],[0.3333333333333333,\"#9c179e\"],[0.4444444444444444,\"#bd3786\"],[0.5555555555555556,\"#d8576b\"],[0.6666666666666666,\"#ed7953\"],[0.7777777777777778,\"#fb9f3a\"],[0.8888888888888888,\"#fdca26\"],[1.0,\"#f0f921\"]],\"type\":\"surface\"}],\"table\":[{\"cells\":{\"fill\":{\"color\":\"#EBF0F8\"},\"line\":{\"color\":\"white\"}},\"header\":{\"fill\":{\"color\":\"#C8D4E3\"},\"line\":{\"color\":\"white\"}},\"type\":\"table\"}]},\"layout\":{\"annotationdefaults\":{\"arrowcolor\":\"#2a3f5f\",\"arrowhead\":0,\"arrowwidth\":1},\"autotypenumbers\":\"strict\",\"coloraxis\":{\"colorbar\":{\"outlinewidth\":0,\"ticks\":\"\"}},\"colorscale\":{\"diverging\":[[0,\"#8e0152\"],[0.1,\"#c51b7d\"],[0.2,\"#de77ae\"],[0.3,\"#f1b6da\"],[0.4,\"#fde0ef\"],[0.5,\"#f7f7f7\"],[0.6,\"#e6f5d0\"],[0.7,\"#b8e186\"],[0.8,\"#7fbc41\"],[0.9,\"#4d9221\"],[1,\"#276419\"]],\"sequential\":[[0.0,\"#0d0887\"],[0.1111111111111111,\"#46039f\"],[0.2222222222222222,\"#7201a8\"],[0.3333333333333333,\"#9c179e\"],[0.4444444444444444,\"#bd3786\"],[0.5555555555555556,\"#d8576b\"],[0.6666666666666666,\"#ed7953\"],[0.7777777777777778,\"#fb9f3a\"],[0.8888888888888888,\"#fdca26\"],[1.0,\"#f0f921\"]],\"sequentialminus\":[[0.0,\"#0d0887\"],[0.1111111111111111,\"#46039f\"],[0.2222222222222222,\"#7201a8\"],[0.3333333333333333,\"#9c179e\"],[0.4444444444444444,\"#bd3786\"],[0.5555555555555556,\"#d8576b\"],[0.6666666666666666,\"#ed7953\"],[0.7777777777777778,\"#fb9f3a\"],[0.8888888888888888,\"#fdca26\"],[1.0,\"#f0f921\"]]},\"colorway\":[\"#636efa\",\"#EF553B\",\"#00cc96\",\"#ab63fa\",\"#FFA15A\",\"#19d3f3\",\"#FF6692\",\"#B6E880\",\"#FF97FF\",\"#FECB52\"],\"font\":{\"color\":\"#2a3f5f\"},\"geo\":{\"bgcolor\":\"white\",\"lakecolor\":\"white\",\"landcolor\":\"#E5ECF6\",\"showlakes\":true,\"showland\":true,\"subunitcolor\":\"white\"},\"hoverlabel\":{\"align\":\"left\"},\"hovermode\":\"closest\",\"mapbox\":{\"style\":\"light\"},\"paper_bgcolor\":\"white\",\"plot_bgcolor\":\"#E5ECF6\",\"polar\":{\"angularaxis\":{\"gridcolor\":\"white\",\"linecolor\":\"white\",\"ticks\":\"\"},\"bgcolor\":\"#E5ECF6\",\"radialaxis\":{\"gridcolor\":\"white\",\"linecolor\":\"white\",\"ticks\":\"\"}},\"scene\":{\"xaxis\":{\"backgroundcolor\":\"#E5ECF6\",\"gridcolor\":\"white\",\"gridwidth\":2,\"linecolor\":\"white\",\"showbackground\":true,\"ticks\":\"\",\"zerolinecolor\":\"white\"},\"yaxis\":{\"backgroundcolor\":\"#E5ECF6\",\"gridcolor\":\"white\",\"gridwidth\":2,\"linecolor\":\"white\",\"showbackground\":true,\"ticks\":\"\",\"zerolinecolor\":\"white\"},\"zaxis\":{\"backgroundcolor\":\"#E5ECF6\",\"gridcolor\":\"white\",\"gridwidth\":2,\"linecolor\":\"white\",\"showbackground\":true,\"ticks\":\"\",\"zerolinecolor\":\"white\"}},\"shapedefaults\":{\"line\":{\"color\":\"#2a3f5f\"}},\"ternary\":{\"aaxis\":{\"gridcolor\":\"white\",\"linecolor\":\"white\",\"ticks\":\"\"},\"baxis\":{\"gridcolor\":\"white\",\"linecolor\":\"white\",\"ticks\":\"\"},\"bgcolor\":\"#E5ECF6\",\"caxis\":{\"gridcolor\":\"white\",\"linecolor\":\"white\",\"ticks\":\"\"}},\"title\":{\"x\":0.05},\"xaxis\":{\"automargin\":true,\"gridcolor\":\"white\",\"linecolor\":\"white\",\"ticks\":\"\",\"title\":{\"standoff\":15},\"zerolinecolor\":\"white\",\"zerolinewidth\":2},\"yaxis\":{\"automargin\":true,\"gridcolor\":\"white\",\"linecolor\":\"white\",\"ticks\":\"\",\"title\":{\"standoff\":15},\"zerolinecolor\":\"white\",\"zerolinewidth\":2}}},\"title\":{\"font\":{\"color\":\"#4D5663\"}},\"xaxis\":{\"gridcolor\":\"#E1E5ED\",\"showgrid\":true,\"tickfont\":{\"color\":\"#4D5663\"},\"title\":{\"font\":{\"color\":\"#4D5663\"},\"text\":\"\"},\"zerolinecolor\":\"#E1E5ED\"},\"yaxis\":{\"gridcolor\":\"#E1E5ED\",\"showgrid\":true,\"tickfont\":{\"color\":\"#4D5663\"},\"title\":{\"font\":{\"color\":\"#4D5663\"},\"text\":\"\"},\"zerolinecolor\":\"#E1E5ED\"}},                        {\"showLink\": true, \"linkText\": \"Export to plot.ly\", \"plotlyServerURL\": \"https://plot.ly\", \"responsive\": true}                    ).then(function(){\n",
       "                            \n",
       "var gd = document.getElementById('26889138-5cfb-49f6-b042-507b330d863d');\n",
       "var x = new MutationObserver(function (mutations, observer) {{\n",
       "        var display = window.getComputedStyle(gd).display;\n",
       "        if (!display || display === 'none') {{\n",
       "            console.log([gd, 'removed!']);\n",
       "            Plotly.purge(gd);\n",
       "            observer.disconnect();\n",
       "        }}\n",
       "}});\n",
       "\n",
       "// Listen for the removal of the full notebook cells\n",
       "var notebookContainer = gd.closest('#notebook-container');\n",
       "if (notebookContainer) {{\n",
       "    x.observe(notebookContainer, {childList: true});\n",
       "}}\n",
       "\n",
       "// Listen for the clearing of the current output cell\n",
       "var outputEl = gd.closest('.output');\n",
       "if (outputEl) {{\n",
       "    x.observe(outputEl, {childList: true});\n",
       "}}\n",
       "\n",
       "                        })                };                });            </script>        </div>"
      ]
     },
     "metadata": {},
     "output_type": "display_data"
    }
   ],
   "source": [
    "df.iplot(kind = 'box')"
   ]
  },
  {
   "cell_type": "markdown",
   "id": "bf3db92c",
   "metadata": {},
   "source": [
    "### 3d Surface"
   ]
  },
  {
   "cell_type": "code",
   "execution_count": 25,
   "id": "0e8cca26",
   "metadata": {
    "scrolled": true
   },
   "outputs": [
    {
     "data": {
      "application/vnd.plotly.v1+json": {
       "config": {
        "linkText": "Export to plot.ly",
        "plotlyServerURL": "https://plot.ly",
        "showLink": true
       },
       "data": [
        {
         "colorscale": [
          [
           0,
           "rgb(165,0,38)"
          ],
          [
           0.1,
           "rgb(215,48,39)"
          ],
          [
           0.2,
           "rgb(244,109,67)"
          ],
          [
           0.3,
           "rgb(253,174,97)"
          ],
          [
           0.4,
           "rgb(254,224,144)"
          ],
          [
           0.5,
           "rgb(255,255,191)"
          ],
          [
           0.6,
           "rgb(224,243,248)"
          ],
          [
           0.7,
           "rgb(171,217,233)"
          ],
          [
           0.8,
           "rgb(116,173,209)"
          ],
          [
           0.9,
           "rgb(69,117,180)"
          ],
          [
           1,
           "rgb(49,54,149)"
          ]
         ],
         "type": "surface",
         "x": [
          0,
          1,
          2,
          3,
          4
         ],
         "y": [
          "x",
          "y",
          "z"
         ],
         "z": [
          [
           1,
           2,
           3,
           4,
           5
          ],
          [
           10,
           20,
           30,
           20,
           10
          ],
          [
           5,
           4,
           3,
           2,
           1
          ]
         ]
        }
       ],
       "layout": {
        "legend": {
         "bgcolor": "#F5F6F9",
         "font": {
          "color": "#4D5663"
         }
        },
        "paper_bgcolor": "#F5F6F9",
        "plot_bgcolor": "#F5F6F9",
        "template": {
         "data": {
          "bar": [
           {
            "error_x": {
             "color": "#2a3f5f"
            },
            "error_y": {
             "color": "#2a3f5f"
            },
            "marker": {
             "line": {
              "color": "#E5ECF6",
              "width": 0.5
             },
             "pattern": {
              "fillmode": "overlay",
              "size": 10,
              "solidity": 0.2
             }
            },
            "type": "bar"
           }
          ],
          "barpolar": [
           {
            "marker": {
             "line": {
              "color": "#E5ECF6",
              "width": 0.5
             },
             "pattern": {
              "fillmode": "overlay",
              "size": 10,
              "solidity": 0.2
             }
            },
            "type": "barpolar"
           }
          ],
          "carpet": [
           {
            "aaxis": {
             "endlinecolor": "#2a3f5f",
             "gridcolor": "white",
             "linecolor": "white",
             "minorgridcolor": "white",
             "startlinecolor": "#2a3f5f"
            },
            "baxis": {
             "endlinecolor": "#2a3f5f",
             "gridcolor": "white",
             "linecolor": "white",
             "minorgridcolor": "white",
             "startlinecolor": "#2a3f5f"
            },
            "type": "carpet"
           }
          ],
          "choropleth": [
           {
            "colorbar": {
             "outlinewidth": 0,
             "ticks": ""
            },
            "type": "choropleth"
           }
          ],
          "contour": [
           {
            "colorbar": {
             "outlinewidth": 0,
             "ticks": ""
            },
            "colorscale": [
             [
              0,
              "#0d0887"
             ],
             [
              0.1111111111111111,
              "#46039f"
             ],
             [
              0.2222222222222222,
              "#7201a8"
             ],
             [
              0.3333333333333333,
              "#9c179e"
             ],
             [
              0.4444444444444444,
              "#bd3786"
             ],
             [
              0.5555555555555556,
              "#d8576b"
             ],
             [
              0.6666666666666666,
              "#ed7953"
             ],
             [
              0.7777777777777778,
              "#fb9f3a"
             ],
             [
              0.8888888888888888,
              "#fdca26"
             ],
             [
              1,
              "#f0f921"
             ]
            ],
            "type": "contour"
           }
          ],
          "contourcarpet": [
           {
            "colorbar": {
             "outlinewidth": 0,
             "ticks": ""
            },
            "type": "contourcarpet"
           }
          ],
          "heatmap": [
           {
            "colorbar": {
             "outlinewidth": 0,
             "ticks": ""
            },
            "colorscale": [
             [
              0,
              "#0d0887"
             ],
             [
              0.1111111111111111,
              "#46039f"
             ],
             [
              0.2222222222222222,
              "#7201a8"
             ],
             [
              0.3333333333333333,
              "#9c179e"
             ],
             [
              0.4444444444444444,
              "#bd3786"
             ],
             [
              0.5555555555555556,
              "#d8576b"
             ],
             [
              0.6666666666666666,
              "#ed7953"
             ],
             [
              0.7777777777777778,
              "#fb9f3a"
             ],
             [
              0.8888888888888888,
              "#fdca26"
             ],
             [
              1,
              "#f0f921"
             ]
            ],
            "type": "heatmap"
           }
          ],
          "heatmapgl": [
           {
            "colorbar": {
             "outlinewidth": 0,
             "ticks": ""
            },
            "colorscale": [
             [
              0,
              "#0d0887"
             ],
             [
              0.1111111111111111,
              "#46039f"
             ],
             [
              0.2222222222222222,
              "#7201a8"
             ],
             [
              0.3333333333333333,
              "#9c179e"
             ],
             [
              0.4444444444444444,
              "#bd3786"
             ],
             [
              0.5555555555555556,
              "#d8576b"
             ],
             [
              0.6666666666666666,
              "#ed7953"
             ],
             [
              0.7777777777777778,
              "#fb9f3a"
             ],
             [
              0.8888888888888888,
              "#fdca26"
             ],
             [
              1,
              "#f0f921"
             ]
            ],
            "type": "heatmapgl"
           }
          ],
          "histogram": [
           {
            "marker": {
             "pattern": {
              "fillmode": "overlay",
              "size": 10,
              "solidity": 0.2
             }
            },
            "type": "histogram"
           }
          ],
          "histogram2d": [
           {
            "colorbar": {
             "outlinewidth": 0,
             "ticks": ""
            },
            "colorscale": [
             [
              0,
              "#0d0887"
             ],
             [
              0.1111111111111111,
              "#46039f"
             ],
             [
              0.2222222222222222,
              "#7201a8"
             ],
             [
              0.3333333333333333,
              "#9c179e"
             ],
             [
              0.4444444444444444,
              "#bd3786"
             ],
             [
              0.5555555555555556,
              "#d8576b"
             ],
             [
              0.6666666666666666,
              "#ed7953"
             ],
             [
              0.7777777777777778,
              "#fb9f3a"
             ],
             [
              0.8888888888888888,
              "#fdca26"
             ],
             [
              1,
              "#f0f921"
             ]
            ],
            "type": "histogram2d"
           }
          ],
          "histogram2dcontour": [
           {
            "colorbar": {
             "outlinewidth": 0,
             "ticks": ""
            },
            "colorscale": [
             [
              0,
              "#0d0887"
             ],
             [
              0.1111111111111111,
              "#46039f"
             ],
             [
              0.2222222222222222,
              "#7201a8"
             ],
             [
              0.3333333333333333,
              "#9c179e"
             ],
             [
              0.4444444444444444,
              "#bd3786"
             ],
             [
              0.5555555555555556,
              "#d8576b"
             ],
             [
              0.6666666666666666,
              "#ed7953"
             ],
             [
              0.7777777777777778,
              "#fb9f3a"
             ],
             [
              0.8888888888888888,
              "#fdca26"
             ],
             [
              1,
              "#f0f921"
             ]
            ],
            "type": "histogram2dcontour"
           }
          ],
          "mesh3d": [
           {
            "colorbar": {
             "outlinewidth": 0,
             "ticks": ""
            },
            "type": "mesh3d"
           }
          ],
          "parcoords": [
           {
            "line": {
             "colorbar": {
              "outlinewidth": 0,
              "ticks": ""
             }
            },
            "type": "parcoords"
           }
          ],
          "pie": [
           {
            "automargin": true,
            "type": "pie"
           }
          ],
          "scatter": [
           {
            "fillpattern": {
             "fillmode": "overlay",
             "size": 10,
             "solidity": 0.2
            },
            "type": "scatter"
           }
          ],
          "scatter3d": [
           {
            "line": {
             "colorbar": {
              "outlinewidth": 0,
              "ticks": ""
             }
            },
            "marker": {
             "colorbar": {
              "outlinewidth": 0,
              "ticks": ""
             }
            },
            "type": "scatter3d"
           }
          ],
          "scattercarpet": [
           {
            "marker": {
             "colorbar": {
              "outlinewidth": 0,
              "ticks": ""
             }
            },
            "type": "scattercarpet"
           }
          ],
          "scattergeo": [
           {
            "marker": {
             "colorbar": {
              "outlinewidth": 0,
              "ticks": ""
             }
            },
            "type": "scattergeo"
           }
          ],
          "scattergl": [
           {
            "marker": {
             "colorbar": {
              "outlinewidth": 0,
              "ticks": ""
             }
            },
            "type": "scattergl"
           }
          ],
          "scattermapbox": [
           {
            "marker": {
             "colorbar": {
              "outlinewidth": 0,
              "ticks": ""
             }
            },
            "type": "scattermapbox"
           }
          ],
          "scatterpolar": [
           {
            "marker": {
             "colorbar": {
              "outlinewidth": 0,
              "ticks": ""
             }
            },
            "type": "scatterpolar"
           }
          ],
          "scatterpolargl": [
           {
            "marker": {
             "colorbar": {
              "outlinewidth": 0,
              "ticks": ""
             }
            },
            "type": "scatterpolargl"
           }
          ],
          "scatterternary": [
           {
            "marker": {
             "colorbar": {
              "outlinewidth": 0,
              "ticks": ""
             }
            },
            "type": "scatterternary"
           }
          ],
          "surface": [
           {
            "colorbar": {
             "outlinewidth": 0,
             "ticks": ""
            },
            "colorscale": [
             [
              0,
              "#0d0887"
             ],
             [
              0.1111111111111111,
              "#46039f"
             ],
             [
              0.2222222222222222,
              "#7201a8"
             ],
             [
              0.3333333333333333,
              "#9c179e"
             ],
             [
              0.4444444444444444,
              "#bd3786"
             ],
             [
              0.5555555555555556,
              "#d8576b"
             ],
             [
              0.6666666666666666,
              "#ed7953"
             ],
             [
              0.7777777777777778,
              "#fb9f3a"
             ],
             [
              0.8888888888888888,
              "#fdca26"
             ],
             [
              1,
              "#f0f921"
             ]
            ],
            "type": "surface"
           }
          ],
          "table": [
           {
            "cells": {
             "fill": {
              "color": "#EBF0F8"
             },
             "line": {
              "color": "white"
             }
            },
            "header": {
             "fill": {
              "color": "#C8D4E3"
             },
             "line": {
              "color": "white"
             }
            },
            "type": "table"
           }
          ]
         },
         "layout": {
          "annotationdefaults": {
           "arrowcolor": "#2a3f5f",
           "arrowhead": 0,
           "arrowwidth": 1
          },
          "autotypenumbers": "strict",
          "coloraxis": {
           "colorbar": {
            "outlinewidth": 0,
            "ticks": ""
           }
          },
          "colorscale": {
           "diverging": [
            [
             0,
             "#8e0152"
            ],
            [
             0.1,
             "#c51b7d"
            ],
            [
             0.2,
             "#de77ae"
            ],
            [
             0.3,
             "#f1b6da"
            ],
            [
             0.4,
             "#fde0ef"
            ],
            [
             0.5,
             "#f7f7f7"
            ],
            [
             0.6,
             "#e6f5d0"
            ],
            [
             0.7,
             "#b8e186"
            ],
            [
             0.8,
             "#7fbc41"
            ],
            [
             0.9,
             "#4d9221"
            ],
            [
             1,
             "#276419"
            ]
           ],
           "sequential": [
            [
             0,
             "#0d0887"
            ],
            [
             0.1111111111111111,
             "#46039f"
            ],
            [
             0.2222222222222222,
             "#7201a8"
            ],
            [
             0.3333333333333333,
             "#9c179e"
            ],
            [
             0.4444444444444444,
             "#bd3786"
            ],
            [
             0.5555555555555556,
             "#d8576b"
            ],
            [
             0.6666666666666666,
             "#ed7953"
            ],
            [
             0.7777777777777778,
             "#fb9f3a"
            ],
            [
             0.8888888888888888,
             "#fdca26"
            ],
            [
             1,
             "#f0f921"
            ]
           ],
           "sequentialminus": [
            [
             0,
             "#0d0887"
            ],
            [
             0.1111111111111111,
             "#46039f"
            ],
            [
             0.2222222222222222,
             "#7201a8"
            ],
            [
             0.3333333333333333,
             "#9c179e"
            ],
            [
             0.4444444444444444,
             "#bd3786"
            ],
            [
             0.5555555555555556,
             "#d8576b"
            ],
            [
             0.6666666666666666,
             "#ed7953"
            ],
            [
             0.7777777777777778,
             "#fb9f3a"
            ],
            [
             0.8888888888888888,
             "#fdca26"
            ],
            [
             1,
             "#f0f921"
            ]
           ]
          },
          "colorway": [
           "#636efa",
           "#EF553B",
           "#00cc96",
           "#ab63fa",
           "#FFA15A",
           "#19d3f3",
           "#FF6692",
           "#B6E880",
           "#FF97FF",
           "#FECB52"
          ],
          "font": {
           "color": "#2a3f5f"
          },
          "geo": {
           "bgcolor": "white",
           "lakecolor": "white",
           "landcolor": "#E5ECF6",
           "showlakes": true,
           "showland": true,
           "subunitcolor": "white"
          },
          "hoverlabel": {
           "align": "left"
          },
          "hovermode": "closest",
          "mapbox": {
           "style": "light"
          },
          "paper_bgcolor": "white",
          "plot_bgcolor": "#E5ECF6",
          "polar": {
           "angularaxis": {
            "gridcolor": "white",
            "linecolor": "white",
            "ticks": ""
           },
           "bgcolor": "#E5ECF6",
           "radialaxis": {
            "gridcolor": "white",
            "linecolor": "white",
            "ticks": ""
           }
          },
          "scene": {
           "xaxis": {
            "backgroundcolor": "#E5ECF6",
            "gridcolor": "white",
            "gridwidth": 2,
            "linecolor": "white",
            "showbackground": true,
            "ticks": "",
            "zerolinecolor": "white"
           },
           "yaxis": {
            "backgroundcolor": "#E5ECF6",
            "gridcolor": "white",
            "gridwidth": 2,
            "linecolor": "white",
            "showbackground": true,
            "ticks": "",
            "zerolinecolor": "white"
           },
           "zaxis": {
            "backgroundcolor": "#E5ECF6",
            "gridcolor": "white",
            "gridwidth": 2,
            "linecolor": "white",
            "showbackground": true,
            "ticks": "",
            "zerolinecolor": "white"
           }
          },
          "shapedefaults": {
           "line": {
            "color": "#2a3f5f"
           }
          },
          "ternary": {
           "aaxis": {
            "gridcolor": "white",
            "linecolor": "white",
            "ticks": ""
           },
           "baxis": {
            "gridcolor": "white",
            "linecolor": "white",
            "ticks": ""
           },
           "bgcolor": "#E5ECF6",
           "caxis": {
            "gridcolor": "white",
            "linecolor": "white",
            "ticks": ""
           }
          },
          "title": {
           "x": 0.05
          },
          "xaxis": {
           "automargin": true,
           "gridcolor": "white",
           "linecolor": "white",
           "ticks": "",
           "title": {
            "standoff": 15
           },
           "zerolinecolor": "white",
           "zerolinewidth": 2
          },
          "yaxis": {
           "automargin": true,
           "gridcolor": "white",
           "linecolor": "white",
           "ticks": "",
           "title": {
            "standoff": 15
           },
           "zerolinecolor": "white",
           "zerolinewidth": 2
          }
         }
        },
        "title": {
         "font": {
          "color": "#4D5663"
         }
        },
        "xaxis": {
         "gridcolor": "#E1E5ED",
         "showgrid": true,
         "tickfont": {
          "color": "#4D5663"
         },
         "title": {
          "font": {
           "color": "#4D5663"
          },
          "text": ""
         },
         "zerolinecolor": "#E1E5ED"
        },
        "yaxis": {
         "gridcolor": "#E1E5ED",
         "showgrid": true,
         "tickfont": {
          "color": "#4D5663"
         },
         "title": {
          "font": {
           "color": "#4D5663"
          },
          "text": ""
         },
         "zerolinecolor": "#E1E5ED"
        }
       }
      },
      "text/html": [
       "<div>                            <div id=\"db9854b1-7e7d-4d69-a53d-4eca2e8bc147\" class=\"plotly-graph-div\" style=\"height:525px; width:100%;\"></div>            <script type=\"text/javascript\">                require([\"plotly\"], function(Plotly) {                    window.PLOTLYENV=window.PLOTLYENV || {};\n",
       "                    window.PLOTLYENV.BASE_URL='https://plot.ly';                                    if (document.getElementById(\"db9854b1-7e7d-4d69-a53d-4eca2e8bc147\")) {                    Plotly.newPlot(                        \"db9854b1-7e7d-4d69-a53d-4eca2e8bc147\",                        [{\"colorscale\":[[0.0,\"rgb(165,0,38)\"],[0.1,\"rgb(215,48,39)\"],[0.2,\"rgb(244,109,67)\"],[0.3,\"rgb(253,174,97)\"],[0.4,\"rgb(254,224,144)\"],[0.5,\"rgb(255,255,191)\"],[0.6,\"rgb(224,243,248)\"],[0.7,\"rgb(171,217,233)\"],[0.8,\"rgb(116,173,209)\"],[0.9,\"rgb(69,117,180)\"],[1.0,\"rgb(49,54,149)\"]],\"x\":[0,1,2,3,4],\"y\":[\"x\",\"y\",\"z\"],\"z\":[[1,2,3,4,5],[10,20,30,20,10],[5,4,3,2,1]],\"type\":\"surface\"}],                        {\"legend\":{\"bgcolor\":\"#F5F6F9\",\"font\":{\"color\":\"#4D5663\"}},\"paper_bgcolor\":\"#F5F6F9\",\"plot_bgcolor\":\"#F5F6F9\",\"template\":{\"data\":{\"barpolar\":[{\"marker\":{\"line\":{\"color\":\"#E5ECF6\",\"width\":0.5},\"pattern\":{\"fillmode\":\"overlay\",\"size\":10,\"solidity\":0.2}},\"type\":\"barpolar\"}],\"bar\":[{\"error_x\":{\"color\":\"#2a3f5f\"},\"error_y\":{\"color\":\"#2a3f5f\"},\"marker\":{\"line\":{\"color\":\"#E5ECF6\",\"width\":0.5},\"pattern\":{\"fillmode\":\"overlay\",\"size\":10,\"solidity\":0.2}},\"type\":\"bar\"}],\"carpet\":[{\"aaxis\":{\"endlinecolor\":\"#2a3f5f\",\"gridcolor\":\"white\",\"linecolor\":\"white\",\"minorgridcolor\":\"white\",\"startlinecolor\":\"#2a3f5f\"},\"baxis\":{\"endlinecolor\":\"#2a3f5f\",\"gridcolor\":\"white\",\"linecolor\":\"white\",\"minorgridcolor\":\"white\",\"startlinecolor\":\"#2a3f5f\"},\"type\":\"carpet\"}],\"choropleth\":[{\"colorbar\":{\"outlinewidth\":0,\"ticks\":\"\"},\"type\":\"choropleth\"}],\"contourcarpet\":[{\"colorbar\":{\"outlinewidth\":0,\"ticks\":\"\"},\"type\":\"contourcarpet\"}],\"contour\":[{\"colorbar\":{\"outlinewidth\":0,\"ticks\":\"\"},\"colorscale\":[[0.0,\"#0d0887\"],[0.1111111111111111,\"#46039f\"],[0.2222222222222222,\"#7201a8\"],[0.3333333333333333,\"#9c179e\"],[0.4444444444444444,\"#bd3786\"],[0.5555555555555556,\"#d8576b\"],[0.6666666666666666,\"#ed7953\"],[0.7777777777777778,\"#fb9f3a\"],[0.8888888888888888,\"#fdca26\"],[1.0,\"#f0f921\"]],\"type\":\"contour\"}],\"heatmapgl\":[{\"colorbar\":{\"outlinewidth\":0,\"ticks\":\"\"},\"colorscale\":[[0.0,\"#0d0887\"],[0.1111111111111111,\"#46039f\"],[0.2222222222222222,\"#7201a8\"],[0.3333333333333333,\"#9c179e\"],[0.4444444444444444,\"#bd3786\"],[0.5555555555555556,\"#d8576b\"],[0.6666666666666666,\"#ed7953\"],[0.7777777777777778,\"#fb9f3a\"],[0.8888888888888888,\"#fdca26\"],[1.0,\"#f0f921\"]],\"type\":\"heatmapgl\"}],\"heatmap\":[{\"colorbar\":{\"outlinewidth\":0,\"ticks\":\"\"},\"colorscale\":[[0.0,\"#0d0887\"],[0.1111111111111111,\"#46039f\"],[0.2222222222222222,\"#7201a8\"],[0.3333333333333333,\"#9c179e\"],[0.4444444444444444,\"#bd3786\"],[0.5555555555555556,\"#d8576b\"],[0.6666666666666666,\"#ed7953\"],[0.7777777777777778,\"#fb9f3a\"],[0.8888888888888888,\"#fdca26\"],[1.0,\"#f0f921\"]],\"type\":\"heatmap\"}],\"histogram2dcontour\":[{\"colorbar\":{\"outlinewidth\":0,\"ticks\":\"\"},\"colorscale\":[[0.0,\"#0d0887\"],[0.1111111111111111,\"#46039f\"],[0.2222222222222222,\"#7201a8\"],[0.3333333333333333,\"#9c179e\"],[0.4444444444444444,\"#bd3786\"],[0.5555555555555556,\"#d8576b\"],[0.6666666666666666,\"#ed7953\"],[0.7777777777777778,\"#fb9f3a\"],[0.8888888888888888,\"#fdca26\"],[1.0,\"#f0f921\"]],\"type\":\"histogram2dcontour\"}],\"histogram2d\":[{\"colorbar\":{\"outlinewidth\":0,\"ticks\":\"\"},\"colorscale\":[[0.0,\"#0d0887\"],[0.1111111111111111,\"#46039f\"],[0.2222222222222222,\"#7201a8\"],[0.3333333333333333,\"#9c179e\"],[0.4444444444444444,\"#bd3786\"],[0.5555555555555556,\"#d8576b\"],[0.6666666666666666,\"#ed7953\"],[0.7777777777777778,\"#fb9f3a\"],[0.8888888888888888,\"#fdca26\"],[1.0,\"#f0f921\"]],\"type\":\"histogram2d\"}],\"histogram\":[{\"marker\":{\"pattern\":{\"fillmode\":\"overlay\",\"size\":10,\"solidity\":0.2}},\"type\":\"histogram\"}],\"mesh3d\":[{\"colorbar\":{\"outlinewidth\":0,\"ticks\":\"\"},\"type\":\"mesh3d\"}],\"parcoords\":[{\"line\":{\"colorbar\":{\"outlinewidth\":0,\"ticks\":\"\"}},\"type\":\"parcoords\"}],\"pie\":[{\"automargin\":true,\"type\":\"pie\"}],\"scatter3d\":[{\"line\":{\"colorbar\":{\"outlinewidth\":0,\"ticks\":\"\"}},\"marker\":{\"colorbar\":{\"outlinewidth\":0,\"ticks\":\"\"}},\"type\":\"scatter3d\"}],\"scattercarpet\":[{\"marker\":{\"colorbar\":{\"outlinewidth\":0,\"ticks\":\"\"}},\"type\":\"scattercarpet\"}],\"scattergeo\":[{\"marker\":{\"colorbar\":{\"outlinewidth\":0,\"ticks\":\"\"}},\"type\":\"scattergeo\"}],\"scattergl\":[{\"marker\":{\"colorbar\":{\"outlinewidth\":0,\"ticks\":\"\"}},\"type\":\"scattergl\"}],\"scattermapbox\":[{\"marker\":{\"colorbar\":{\"outlinewidth\":0,\"ticks\":\"\"}},\"type\":\"scattermapbox\"}],\"scatterpolargl\":[{\"marker\":{\"colorbar\":{\"outlinewidth\":0,\"ticks\":\"\"}},\"type\":\"scatterpolargl\"}],\"scatterpolar\":[{\"marker\":{\"colorbar\":{\"outlinewidth\":0,\"ticks\":\"\"}},\"type\":\"scatterpolar\"}],\"scatter\":[{\"fillpattern\":{\"fillmode\":\"overlay\",\"size\":10,\"solidity\":0.2},\"type\":\"scatter\"}],\"scatterternary\":[{\"marker\":{\"colorbar\":{\"outlinewidth\":0,\"ticks\":\"\"}},\"type\":\"scatterternary\"}],\"surface\":[{\"colorbar\":{\"outlinewidth\":0,\"ticks\":\"\"},\"colorscale\":[[0.0,\"#0d0887\"],[0.1111111111111111,\"#46039f\"],[0.2222222222222222,\"#7201a8\"],[0.3333333333333333,\"#9c179e\"],[0.4444444444444444,\"#bd3786\"],[0.5555555555555556,\"#d8576b\"],[0.6666666666666666,\"#ed7953\"],[0.7777777777777778,\"#fb9f3a\"],[0.8888888888888888,\"#fdca26\"],[1.0,\"#f0f921\"]],\"type\":\"surface\"}],\"table\":[{\"cells\":{\"fill\":{\"color\":\"#EBF0F8\"},\"line\":{\"color\":\"white\"}},\"header\":{\"fill\":{\"color\":\"#C8D4E3\"},\"line\":{\"color\":\"white\"}},\"type\":\"table\"}]},\"layout\":{\"annotationdefaults\":{\"arrowcolor\":\"#2a3f5f\",\"arrowhead\":0,\"arrowwidth\":1},\"autotypenumbers\":\"strict\",\"coloraxis\":{\"colorbar\":{\"outlinewidth\":0,\"ticks\":\"\"}},\"colorscale\":{\"diverging\":[[0,\"#8e0152\"],[0.1,\"#c51b7d\"],[0.2,\"#de77ae\"],[0.3,\"#f1b6da\"],[0.4,\"#fde0ef\"],[0.5,\"#f7f7f7\"],[0.6,\"#e6f5d0\"],[0.7,\"#b8e186\"],[0.8,\"#7fbc41\"],[0.9,\"#4d9221\"],[1,\"#276419\"]],\"sequential\":[[0.0,\"#0d0887\"],[0.1111111111111111,\"#46039f\"],[0.2222222222222222,\"#7201a8\"],[0.3333333333333333,\"#9c179e\"],[0.4444444444444444,\"#bd3786\"],[0.5555555555555556,\"#d8576b\"],[0.6666666666666666,\"#ed7953\"],[0.7777777777777778,\"#fb9f3a\"],[0.8888888888888888,\"#fdca26\"],[1.0,\"#f0f921\"]],\"sequentialminus\":[[0.0,\"#0d0887\"],[0.1111111111111111,\"#46039f\"],[0.2222222222222222,\"#7201a8\"],[0.3333333333333333,\"#9c179e\"],[0.4444444444444444,\"#bd3786\"],[0.5555555555555556,\"#d8576b\"],[0.6666666666666666,\"#ed7953\"],[0.7777777777777778,\"#fb9f3a\"],[0.8888888888888888,\"#fdca26\"],[1.0,\"#f0f921\"]]},\"colorway\":[\"#636efa\",\"#EF553B\",\"#00cc96\",\"#ab63fa\",\"#FFA15A\",\"#19d3f3\",\"#FF6692\",\"#B6E880\",\"#FF97FF\",\"#FECB52\"],\"font\":{\"color\":\"#2a3f5f\"},\"geo\":{\"bgcolor\":\"white\",\"lakecolor\":\"white\",\"landcolor\":\"#E5ECF6\",\"showlakes\":true,\"showland\":true,\"subunitcolor\":\"white\"},\"hoverlabel\":{\"align\":\"left\"},\"hovermode\":\"closest\",\"mapbox\":{\"style\":\"light\"},\"paper_bgcolor\":\"white\",\"plot_bgcolor\":\"#E5ECF6\",\"polar\":{\"angularaxis\":{\"gridcolor\":\"white\",\"linecolor\":\"white\",\"ticks\":\"\"},\"bgcolor\":\"#E5ECF6\",\"radialaxis\":{\"gridcolor\":\"white\",\"linecolor\":\"white\",\"ticks\":\"\"}},\"scene\":{\"xaxis\":{\"backgroundcolor\":\"#E5ECF6\",\"gridcolor\":\"white\",\"gridwidth\":2,\"linecolor\":\"white\",\"showbackground\":true,\"ticks\":\"\",\"zerolinecolor\":\"white\"},\"yaxis\":{\"backgroundcolor\":\"#E5ECF6\",\"gridcolor\":\"white\",\"gridwidth\":2,\"linecolor\":\"white\",\"showbackground\":true,\"ticks\":\"\",\"zerolinecolor\":\"white\"},\"zaxis\":{\"backgroundcolor\":\"#E5ECF6\",\"gridcolor\":\"white\",\"gridwidth\":2,\"linecolor\":\"white\",\"showbackground\":true,\"ticks\":\"\",\"zerolinecolor\":\"white\"}},\"shapedefaults\":{\"line\":{\"color\":\"#2a3f5f\"}},\"ternary\":{\"aaxis\":{\"gridcolor\":\"white\",\"linecolor\":\"white\",\"ticks\":\"\"},\"baxis\":{\"gridcolor\":\"white\",\"linecolor\":\"white\",\"ticks\":\"\"},\"bgcolor\":\"#E5ECF6\",\"caxis\":{\"gridcolor\":\"white\",\"linecolor\":\"white\",\"ticks\":\"\"}},\"title\":{\"x\":0.05},\"xaxis\":{\"automargin\":true,\"gridcolor\":\"white\",\"linecolor\":\"white\",\"ticks\":\"\",\"title\":{\"standoff\":15},\"zerolinecolor\":\"white\",\"zerolinewidth\":2},\"yaxis\":{\"automargin\":true,\"gridcolor\":\"white\",\"linecolor\":\"white\",\"ticks\":\"\",\"title\":{\"standoff\":15},\"zerolinecolor\":\"white\",\"zerolinewidth\":2}}},\"title\":{\"font\":{\"color\":\"#4D5663\"}},\"xaxis\":{\"gridcolor\":\"#E1E5ED\",\"showgrid\":true,\"tickfont\":{\"color\":\"#4D5663\"},\"title\":{\"font\":{\"color\":\"#4D5663\"},\"text\":\"\"},\"zerolinecolor\":\"#E1E5ED\"},\"yaxis\":{\"gridcolor\":\"#E1E5ED\",\"showgrid\":true,\"tickfont\":{\"color\":\"#4D5663\"},\"title\":{\"font\":{\"color\":\"#4D5663\"},\"text\":\"\"},\"zerolinecolor\":\"#E1E5ED\"}},                        {\"showLink\": true, \"linkText\": \"Export to plot.ly\", \"plotlyServerURL\": \"https://plot.ly\", \"responsive\": true}                    ).then(function(){\n",
       "                            \n",
       "var gd = document.getElementById('db9854b1-7e7d-4d69-a53d-4eca2e8bc147');\n",
       "var x = new MutationObserver(function (mutations, observer) {{\n",
       "        var display = window.getComputedStyle(gd).display;\n",
       "        if (!display || display === 'none') {{\n",
       "            console.log([gd, 'removed!']);\n",
       "            Plotly.purge(gd);\n",
       "            observer.disconnect();\n",
       "        }}\n",
       "}});\n",
       "\n",
       "// Listen for the removal of the full notebook cells\n",
       "var notebookContainer = gd.closest('#notebook-container');\n",
       "if (notebookContainer) {{\n",
       "    x.observe(notebookContainer, {childList: true});\n",
       "}}\n",
       "\n",
       "// Listen for the clearing of the current output cell\n",
       "var outputEl = gd.closest('.output');\n",
       "if (outputEl) {{\n",
       "    x.observe(outputEl, {childList: true});\n",
       "}}\n",
       "\n",
       "                        })                };                });            </script>        </div>"
      ]
     },
     "metadata": {},
     "output_type": "display_data"
    }
   ],
   "source": [
    "df3 = pd.DataFrame({'x':[1,2,3,4,5],'y':[10,20,30,20,10],'z':[5,4,3,2,1]})\n",
    "df3.iplot(kind = 'surface', colorscale = 'rdylbu')"
   ]
  },
  {
   "cell_type": "code",
   "execution_count": 26,
   "id": "f4e8128b",
   "metadata": {},
   "outputs": [
    {
     "name": "stderr",
     "output_type": "stream",
     "text": [
      "C:\\Users\\manish kerai\\anaconda3\\lib\\site-packages\\cufflinks\\plotlytools.py:849: FutureWarning:\n",
      "\n",
      "The pandas.np module is deprecated and will be removed from pandas in a future version. Import numpy directly instead\n",
      "\n",
      "C:\\Users\\manish kerai\\anaconda3\\lib\\site-packages\\cufflinks\\plotlytools.py:850: FutureWarning:\n",
      "\n",
      "The pandas.np module is deprecated and will be removed from pandas in a future version. Import numpy directly instead\n",
      "\n"
     ]
    },
    {
     "data": {
      "application/vnd.plotly.v1+json": {
       "config": {
        "linkText": "Export to plot.ly",
        "plotlyServerURL": "https://plot.ly",
        "showLink": true
       },
       "data": [
        {
         "line": {
          "color": "rgba(255, 153, 51, 1.0)",
          "dash": "solid",
          "shape": "linear",
          "width": 1.3
         },
         "mode": "lines",
         "name": "A",
         "text": "",
         "type": "scatter",
         "x": [
          0,
          1,
          2,
          3,
          4,
          5,
          6,
          7,
          8,
          9,
          10,
          11,
          12,
          13,
          14,
          15,
          16,
          17,
          18,
          19,
          20,
          21,
          22,
          23,
          24,
          25,
          26,
          27,
          28,
          29,
          30,
          31,
          32,
          33,
          34,
          35,
          36,
          37,
          38,
          39,
          40,
          41,
          42,
          43,
          44,
          45,
          46,
          47,
          48,
          49,
          50,
          51,
          52,
          53,
          54,
          55,
          56,
          57,
          58,
          59,
          60,
          61,
          62,
          63,
          64,
          65,
          66,
          67,
          68,
          69,
          70,
          71,
          72,
          73,
          74,
          75,
          76,
          77,
          78,
          79,
          80,
          81,
          82,
          83,
          84,
          85,
          86,
          87,
          88,
          89,
          90,
          91,
          92,
          93,
          94,
          95,
          96,
          97,
          98,
          99
         ],
         "y": [
          0.7578306652600714,
          0.6706958613531931,
          -1.786751065174122,
          0.5602920264863411,
          1.2093903118572087,
          -0.07721121963587653,
          -0.6006294853354058,
          -0.20549799611085745,
          0.14447932596359128,
          -0.6194297923494315,
          0.289965871828332,
          1.334295055420149,
          1.2776093322599726,
          0.6941583739260736,
          -0.4768485479531304,
          -1.3945337778497289,
          -0.8308943714415719,
          -0.1908555235678979,
          -0.35903626618040974,
          -2.0200458765769387,
          0.4448500215436498,
          0.20422160240325865,
          0.5392099010996428,
          -0.2690083112201799,
          -0.8563251939013093,
          0.3391207855185764,
          -0.7792248890505376,
          -0.02083868757770441,
          -0.03344647009605206,
          -1.3904501532020737,
          0.3608322091072763,
          -2.2848433711479856,
          -0.13177311715226472,
          -0.25776768300903474,
          0.027962301258553895,
          1.681435385772883,
          -0.6221469941651722,
          -1.1917502523025978,
          -2.1355438596372207,
          -0.29686712138952165,
          0.6467733369508364,
          -0.788778618157295,
          -0.9093268462871056,
          -0.6953376105722637,
          -0.23977448704372462,
          -0.3453021315051399,
          1.4490027915911707,
          0.32472600886413877,
          0.9359226852540424,
          2.6586112671481525,
          -0.32333375611415116,
          4.0344297621507454,
          -0.8205988894356041,
          -1.1362389424169994,
          -0.2111340316655757,
          0.33053613427656303,
          -2.2883541938471232,
          0.15101230122841047,
          0.5630993680418365,
          0.04005306805778204,
          0.7320047941010306,
          2.022400726278812,
          -1.110462875185184,
          1.815902928551929,
          0.23541742291644363,
          -0.299353695139132,
          1.782004055400953,
          0.5886194597980433,
          0.3249032927706249,
          0.22970085014314612,
          1.0296152959656006,
          0.3113892172505194,
          -0.6738285807996732,
          -1.4294071757980833,
          1.0331708534128439,
          1.0786061415606991,
          -1.0927355132299985,
          -0.26801167744466736,
          1.283875352142768,
          -1.1922505632319573,
          -0.11461499732670305,
          0.5612224005874871,
          -1.9495625965611316,
          -0.6754021167285816,
          -0.1713261396526278,
          2.3700737799129836,
          0.20724970718019972,
          0.36570347615770693,
          -0.7904553715348929,
          0.026238426697340594,
          -1.904503266356009,
          1.574480717301306,
          1.3400837073902583,
          -0.4839947096236791,
          -1.1813582092678951,
          1.6626390476575212,
          -1.0216179790542574,
          -0.6949471304302506,
          0.9285689130307127,
          -0.2926143093506573
         ]
        },
        {
         "line": {
          "color": "rgba(55, 128, 191, 1.0)",
          "dash": "solid",
          "shape": "linear",
          "width": 1.3
         },
         "mode": "lines",
         "name": "B",
         "text": "",
         "type": "scatter",
         "x": [
          0,
          1,
          2,
          3,
          4,
          5,
          6,
          7,
          8,
          9,
          10,
          11,
          12,
          13,
          14,
          15,
          16,
          17,
          18,
          19,
          20,
          21,
          22,
          23,
          24,
          25,
          26,
          27,
          28,
          29,
          30,
          31,
          32,
          33,
          34,
          35,
          36,
          37,
          38,
          39,
          40,
          41,
          42,
          43,
          44,
          45,
          46,
          47,
          48,
          49,
          50,
          51,
          52,
          53,
          54,
          55,
          56,
          57,
          58,
          59,
          60,
          61,
          62,
          63,
          64,
          65,
          66,
          67,
          68,
          69,
          70,
          71,
          72,
          73,
          74,
          75,
          76,
          77,
          78,
          79,
          80,
          81,
          82,
          83,
          84,
          85,
          86,
          87,
          88,
          89,
          90,
          91,
          92,
          93,
          94,
          95,
          96,
          97,
          98,
          99
         ],
         "y": [
          -0.2912892972987383,
          -0.5099817648528213,
          1.1908177594187945,
          1.6852654510348208,
          0.14882243470747117,
          -2.3037953168126015,
          -0.24570904973412847,
          0.27026697246654063,
          0.5489241190861819,
          1.0494892047672069,
          1.6449557327042612,
          -1.2435292515972494,
          1.0827059551477518,
          -2.3265514065069826,
          -1.8432176330776107,
          1.2563120938727566,
          2.1016432707721964,
          0.8835351387421774,
          0.7887795942984664,
          1.2320778057208106,
          -0.019410404695273668,
          -1.0221872298474088,
          -1.4324446606118177,
          1.0556769315616874,
          2.6333874524887424,
          1.0219370562933083,
          -1.0447863310211478,
          -0.31296385151259865,
          -0.5495225412079057,
          -0.5760573962317269,
          0.4189253096607101,
          1.471342914336534,
          1.0222367104442975,
          0.15985179971099342,
          -1.6756594262295046,
          -0.3772891667954507,
          0.5683044437292576,
          -2.049073107560736,
          0.4903378004188023,
          0.4530662374795767,
          -1.308635707523197,
          0.6446017773525391,
          -2.4390504610217976,
          1.4355999105681634,
          0.4014417106028471,
          -0.06582744145685468,
          0.4870730284017431,
          -1.9493842372661236,
          2.2826084790025343,
          -1.2718059047713601,
          -2.6857235646383626,
          -0.7201157734494502,
          -0.1920660069857729,
          0.5341498433545641,
          -0.6498776596158321,
          -0.6881579664154346,
          -0.017781421996660406,
          -0.006479640791160362,
          -1.4875180851261842,
          -2.151414005208173,
          -0.06862265103004218,
          -0.6809989254617403,
          0.07246770576574128,
          1.5709090059774033,
          1.2092234979821614,
          -1.7336592475299253,
          0.3750141896515368,
          -0.7224394257070924,
          1.569857139426887,
          0.6761954348997585,
          0.5973200260553962,
          -1.3395346590300246,
          -0.31508903188547854,
          -0.6159141442383137,
          -0.8342038355358447,
          1.5799669056690253,
          -0.8695982902595847,
          2.5086007158219537,
          -0.4983408276616498,
          0.9792467346219735,
          0.7202387436322023,
          1.565905215152806,
          0.11437371066288606,
          -0.2344926835279254,
          0.5064013627686159,
          0.9212884740745085,
          -2.438177970385512,
          -1.1653160008924643,
          0.5847791301571718,
          1.1658578569944609,
          -1.9586439283763402,
          -0.023745458263176616,
          -0.9644614734785698,
          -0.5583469240013501,
          0.6541854785700131,
          2.053427150608331,
          0.8658266947740538,
          1.8457601392044725,
          -1.0635193533480607,
          1.002028410054408
         ]
        },
        {
         "connectgaps": false,
         "fill": "tozeroy",
         "line": {
          "color": "green",
          "dash": "solid",
          "shape": "linear",
          "width": 0.5
         },
         "mode": "lines",
         "name": "Spread",
         "showlegend": false,
         "type": "scatter",
         "x": [
          0,
          1,
          2,
          3,
          4,
          5,
          6,
          7,
          8,
          9,
          10,
          11,
          12,
          13,
          14,
          15,
          16,
          17,
          18,
          19,
          20,
          21,
          22,
          23,
          24,
          25,
          26,
          27,
          28,
          29,
          30,
          31,
          32,
          33,
          34,
          35,
          36,
          37,
          38,
          39,
          40,
          41,
          42,
          43,
          44,
          45,
          46,
          47,
          48,
          49,
          50,
          51,
          52,
          53,
          54,
          55,
          56,
          57,
          58,
          59,
          60,
          61,
          62,
          63,
          64,
          65,
          66,
          67,
          68,
          69,
          70,
          71,
          72,
          73,
          74,
          75,
          76,
          77,
          78,
          79,
          80,
          81,
          82,
          83,
          84,
          85,
          86,
          87,
          88,
          89,
          90,
          91,
          92,
          93,
          94,
          95,
          96,
          97,
          98,
          99
         ],
         "xaxis": "x2",
         "y": [
          1.0491199625588097,
          1.1806776262060144,
          "",
          "",
          1.0605678771497375,
          2.226584097176725,
          "",
          "",
          "",
          "",
          "",
          2.5778243070173983,
          0.19490337711222083,
          3.020709780433056,
          1.3663690851244803,
          "",
          "",
          "",
          "",
          "",
          0.46426042623892344,
          1.2264088322506674,
          1.9716545617114605,
          "",
          "",
          "",
          0.26556144197061027,
          0.29212516393489424,
          0.5160760711118536,
          "",
          "",
          "",
          "",
          "",
          1.7036217274880585,
          2.0587245525683335,
          "",
          0.857322855258138,
          "",
          "",
          1.9554090444740333,
          "",
          1.529723614734692,
          "",
          "",
          "",
          0.9619297631894277,
          2.2741102461302622,
          "",
          3.9304171719195127,
          2.3623898085242114,
          4.7545455356001955,
          "",
          "",
          0.4387436279502564,
          1.0186941006919976,
          "",
          0.15749194201957084,
          2.050617453168021,
          2.191467073265955,
          0.8006274451310728,
          2.7033996517405523,
          "",
          0.24499392257452568,
          "",
          1.4343055523907933,
          1.4069898657494162,
          1.3110588855051357,
          "",
          "",
          0.4322952699102044,
          1.6509238762805438,
          "",
          "",
          1.8673746889486886,
          "",
          "",
          "",
          1.7822161798044176,
          "",
          "",
          "",
          "",
          "",
          "",
          1.448785305838475,
          2.6454276775657117,
          1.5310194770501713,
          "",
          "",
          0.054140662020331076,
          1.5982261755644827,
          2.304545180868828,
          0.07435221437767103,
          "",
          "",
          "",
          "",
          1.9920882663787733,
          ""
         ],
         "yaxis": "y2"
        },
        {
         "connectgaps": false,
         "fill": "tozeroy",
         "line": {
          "color": "red",
          "dash": "solid",
          "shape": "linear",
          "width": 0.5
         },
         "mode": "lines",
         "name": "Spread",
         "showlegend": false,
         "type": "scatter",
         "x": [
          0,
          1,
          2,
          3,
          4,
          5,
          6,
          7,
          8,
          9,
          10,
          11,
          12,
          13,
          14,
          15,
          16,
          17,
          18,
          19,
          20,
          21,
          22,
          23,
          24,
          25,
          26,
          27,
          28,
          29,
          30,
          31,
          32,
          33,
          34,
          35,
          36,
          37,
          38,
          39,
          40,
          41,
          42,
          43,
          44,
          45,
          46,
          47,
          48,
          49,
          50,
          51,
          52,
          53,
          54,
          55,
          56,
          57,
          58,
          59,
          60,
          61,
          62,
          63,
          64,
          65,
          66,
          67,
          68,
          69,
          70,
          71,
          72,
          73,
          74,
          75,
          76,
          77,
          78,
          79,
          80,
          81,
          82,
          83,
          84,
          85,
          86,
          87,
          88,
          89,
          90,
          91,
          92,
          93,
          94,
          95,
          96,
          97,
          98,
          99
         ],
         "xaxis": "x2",
         "y": [
          "",
          "",
          -2.9775688245929164,
          -1.1249734245484797,
          "",
          "",
          -0.3549204356012774,
          -0.4757649685773981,
          -0.40444479312259063,
          -1.6689189971166383,
          -1.3549898608759292,
          "",
          "",
          "",
          "",
          -2.6508458717224856,
          -2.9325376422137683,
          -1.0743906623100752,
          -1.1478158604788762,
          -3.252123682297749,
          "",
          "",
          "",
          -1.3246852427818672,
          -3.4897126463900516,
          -0.682816270774732,
          "",
          "",
          "",
          -0.8143927569703467,
          -0.05809310055343381,
          -3.7561862854845196,
          -1.1540098275965622,
          -0.41761948272002813,
          "",
          "",
          -1.1904514378944298,
          "",
          -2.625881660056023,
          -0.7499333588690984,
          "",
          -1.433380395509834,
          "",
          -2.130937521140427,
          -0.6412161976465718,
          -0.2794746900482852,
          "",
          "",
          -1.3466857937484917,
          "",
          "",
          "",
          -0.6285328824498312,
          -1.6703887857715634,
          "",
          "",
          -2.2705727718504627,
          "",
          "",
          "",
          "",
          "",
          -1.1829305809509252,
          "",
          -0.9738060750657178,
          "",
          "",
          "",
          -1.2449538466562622,
          -0.4464945847566124,
          "",
          "",
          -0.3587395489141947,
          -0.8134930315597696,
          "",
          -0.5013607641083262,
          -0.22313722297041383,
          -2.776612393266621,
          "",
          -2.171497297853931,
          -0.8348537409589054,
          -1.0046828145653188,
          -2.0639363072240178,
          -0.44090943320065623,
          -0.6777275024212437,
          "",
          "",
          "",
          -1.3752345016920646,
          -1.1396194302971203,
          "",
          "",
          "",
          "",
          -1.8355436878379083,
          -0.39078810295080957,
          -1.8874446738283113,
          -2.540707269634723,
          "",
          -1.2946427194050651
         ],
         "yaxis": "y2"
        }
       ],
       "layout": {
        "hovermode": "x",
        "legend": {
         "bgcolor": "#F5F6F9",
         "font": {
          "color": "#4D5663"
         }
        },
        "paper_bgcolor": "#F5F6F9",
        "plot_bgcolor": "#F5F6F9",
        "template": {
         "data": {
          "bar": [
           {
            "error_x": {
             "color": "#2a3f5f"
            },
            "error_y": {
             "color": "#2a3f5f"
            },
            "marker": {
             "line": {
              "color": "#E5ECF6",
              "width": 0.5
             },
             "pattern": {
              "fillmode": "overlay",
              "size": 10,
              "solidity": 0.2
             }
            },
            "type": "bar"
           }
          ],
          "barpolar": [
           {
            "marker": {
             "line": {
              "color": "#E5ECF6",
              "width": 0.5
             },
             "pattern": {
              "fillmode": "overlay",
              "size": 10,
              "solidity": 0.2
             }
            },
            "type": "barpolar"
           }
          ],
          "carpet": [
           {
            "aaxis": {
             "endlinecolor": "#2a3f5f",
             "gridcolor": "white",
             "linecolor": "white",
             "minorgridcolor": "white",
             "startlinecolor": "#2a3f5f"
            },
            "baxis": {
             "endlinecolor": "#2a3f5f",
             "gridcolor": "white",
             "linecolor": "white",
             "minorgridcolor": "white",
             "startlinecolor": "#2a3f5f"
            },
            "type": "carpet"
           }
          ],
          "choropleth": [
           {
            "colorbar": {
             "outlinewidth": 0,
             "ticks": ""
            },
            "type": "choropleth"
           }
          ],
          "contour": [
           {
            "colorbar": {
             "outlinewidth": 0,
             "ticks": ""
            },
            "colorscale": [
             [
              0,
              "#0d0887"
             ],
             [
              0.1111111111111111,
              "#46039f"
             ],
             [
              0.2222222222222222,
              "#7201a8"
             ],
             [
              0.3333333333333333,
              "#9c179e"
             ],
             [
              0.4444444444444444,
              "#bd3786"
             ],
             [
              0.5555555555555556,
              "#d8576b"
             ],
             [
              0.6666666666666666,
              "#ed7953"
             ],
             [
              0.7777777777777778,
              "#fb9f3a"
             ],
             [
              0.8888888888888888,
              "#fdca26"
             ],
             [
              1,
              "#f0f921"
             ]
            ],
            "type": "contour"
           }
          ],
          "contourcarpet": [
           {
            "colorbar": {
             "outlinewidth": 0,
             "ticks": ""
            },
            "type": "contourcarpet"
           }
          ],
          "heatmap": [
           {
            "colorbar": {
             "outlinewidth": 0,
             "ticks": ""
            },
            "colorscale": [
             [
              0,
              "#0d0887"
             ],
             [
              0.1111111111111111,
              "#46039f"
             ],
             [
              0.2222222222222222,
              "#7201a8"
             ],
             [
              0.3333333333333333,
              "#9c179e"
             ],
             [
              0.4444444444444444,
              "#bd3786"
             ],
             [
              0.5555555555555556,
              "#d8576b"
             ],
             [
              0.6666666666666666,
              "#ed7953"
             ],
             [
              0.7777777777777778,
              "#fb9f3a"
             ],
             [
              0.8888888888888888,
              "#fdca26"
             ],
             [
              1,
              "#f0f921"
             ]
            ],
            "type": "heatmap"
           }
          ],
          "heatmapgl": [
           {
            "colorbar": {
             "outlinewidth": 0,
             "ticks": ""
            },
            "colorscale": [
             [
              0,
              "#0d0887"
             ],
             [
              0.1111111111111111,
              "#46039f"
             ],
             [
              0.2222222222222222,
              "#7201a8"
             ],
             [
              0.3333333333333333,
              "#9c179e"
             ],
             [
              0.4444444444444444,
              "#bd3786"
             ],
             [
              0.5555555555555556,
              "#d8576b"
             ],
             [
              0.6666666666666666,
              "#ed7953"
             ],
             [
              0.7777777777777778,
              "#fb9f3a"
             ],
             [
              0.8888888888888888,
              "#fdca26"
             ],
             [
              1,
              "#f0f921"
             ]
            ],
            "type": "heatmapgl"
           }
          ],
          "histogram": [
           {
            "marker": {
             "pattern": {
              "fillmode": "overlay",
              "size": 10,
              "solidity": 0.2
             }
            },
            "type": "histogram"
           }
          ],
          "histogram2d": [
           {
            "colorbar": {
             "outlinewidth": 0,
             "ticks": ""
            },
            "colorscale": [
             [
              0,
              "#0d0887"
             ],
             [
              0.1111111111111111,
              "#46039f"
             ],
             [
              0.2222222222222222,
              "#7201a8"
             ],
             [
              0.3333333333333333,
              "#9c179e"
             ],
             [
              0.4444444444444444,
              "#bd3786"
             ],
             [
              0.5555555555555556,
              "#d8576b"
             ],
             [
              0.6666666666666666,
              "#ed7953"
             ],
             [
              0.7777777777777778,
              "#fb9f3a"
             ],
             [
              0.8888888888888888,
              "#fdca26"
             ],
             [
              1,
              "#f0f921"
             ]
            ],
            "type": "histogram2d"
           }
          ],
          "histogram2dcontour": [
           {
            "colorbar": {
             "outlinewidth": 0,
             "ticks": ""
            },
            "colorscale": [
             [
              0,
              "#0d0887"
             ],
             [
              0.1111111111111111,
              "#46039f"
             ],
             [
              0.2222222222222222,
              "#7201a8"
             ],
             [
              0.3333333333333333,
              "#9c179e"
             ],
             [
              0.4444444444444444,
              "#bd3786"
             ],
             [
              0.5555555555555556,
              "#d8576b"
             ],
             [
              0.6666666666666666,
              "#ed7953"
             ],
             [
              0.7777777777777778,
              "#fb9f3a"
             ],
             [
              0.8888888888888888,
              "#fdca26"
             ],
             [
              1,
              "#f0f921"
             ]
            ],
            "type": "histogram2dcontour"
           }
          ],
          "mesh3d": [
           {
            "colorbar": {
             "outlinewidth": 0,
             "ticks": ""
            },
            "type": "mesh3d"
           }
          ],
          "parcoords": [
           {
            "line": {
             "colorbar": {
              "outlinewidth": 0,
              "ticks": ""
             }
            },
            "type": "parcoords"
           }
          ],
          "pie": [
           {
            "automargin": true,
            "type": "pie"
           }
          ],
          "scatter": [
           {
            "fillpattern": {
             "fillmode": "overlay",
             "size": 10,
             "solidity": 0.2
            },
            "type": "scatter"
           }
          ],
          "scatter3d": [
           {
            "line": {
             "colorbar": {
              "outlinewidth": 0,
              "ticks": ""
             }
            },
            "marker": {
             "colorbar": {
              "outlinewidth": 0,
              "ticks": ""
             }
            },
            "type": "scatter3d"
           }
          ],
          "scattercarpet": [
           {
            "marker": {
             "colorbar": {
              "outlinewidth": 0,
              "ticks": ""
             }
            },
            "type": "scattercarpet"
           }
          ],
          "scattergeo": [
           {
            "marker": {
             "colorbar": {
              "outlinewidth": 0,
              "ticks": ""
             }
            },
            "type": "scattergeo"
           }
          ],
          "scattergl": [
           {
            "marker": {
             "colorbar": {
              "outlinewidth": 0,
              "ticks": ""
             }
            },
            "type": "scattergl"
           }
          ],
          "scattermapbox": [
           {
            "marker": {
             "colorbar": {
              "outlinewidth": 0,
              "ticks": ""
             }
            },
            "type": "scattermapbox"
           }
          ],
          "scatterpolar": [
           {
            "marker": {
             "colorbar": {
              "outlinewidth": 0,
              "ticks": ""
             }
            },
            "type": "scatterpolar"
           }
          ],
          "scatterpolargl": [
           {
            "marker": {
             "colorbar": {
              "outlinewidth": 0,
              "ticks": ""
             }
            },
            "type": "scatterpolargl"
           }
          ],
          "scatterternary": [
           {
            "marker": {
             "colorbar": {
              "outlinewidth": 0,
              "ticks": ""
             }
            },
            "type": "scatterternary"
           }
          ],
          "surface": [
           {
            "colorbar": {
             "outlinewidth": 0,
             "ticks": ""
            },
            "colorscale": [
             [
              0,
              "#0d0887"
             ],
             [
              0.1111111111111111,
              "#46039f"
             ],
             [
              0.2222222222222222,
              "#7201a8"
             ],
             [
              0.3333333333333333,
              "#9c179e"
             ],
             [
              0.4444444444444444,
              "#bd3786"
             ],
             [
              0.5555555555555556,
              "#d8576b"
             ],
             [
              0.6666666666666666,
              "#ed7953"
             ],
             [
              0.7777777777777778,
              "#fb9f3a"
             ],
             [
              0.8888888888888888,
              "#fdca26"
             ],
             [
              1,
              "#f0f921"
             ]
            ],
            "type": "surface"
           }
          ],
          "table": [
           {
            "cells": {
             "fill": {
              "color": "#EBF0F8"
             },
             "line": {
              "color": "white"
             }
            },
            "header": {
             "fill": {
              "color": "#C8D4E3"
             },
             "line": {
              "color": "white"
             }
            },
            "type": "table"
           }
          ]
         },
         "layout": {
          "annotationdefaults": {
           "arrowcolor": "#2a3f5f",
           "arrowhead": 0,
           "arrowwidth": 1
          },
          "autotypenumbers": "strict",
          "coloraxis": {
           "colorbar": {
            "outlinewidth": 0,
            "ticks": ""
           }
          },
          "colorscale": {
           "diverging": [
            [
             0,
             "#8e0152"
            ],
            [
             0.1,
             "#c51b7d"
            ],
            [
             0.2,
             "#de77ae"
            ],
            [
             0.3,
             "#f1b6da"
            ],
            [
             0.4,
             "#fde0ef"
            ],
            [
             0.5,
             "#f7f7f7"
            ],
            [
             0.6,
             "#e6f5d0"
            ],
            [
             0.7,
             "#b8e186"
            ],
            [
             0.8,
             "#7fbc41"
            ],
            [
             0.9,
             "#4d9221"
            ],
            [
             1,
             "#276419"
            ]
           ],
           "sequential": [
            [
             0,
             "#0d0887"
            ],
            [
             0.1111111111111111,
             "#46039f"
            ],
            [
             0.2222222222222222,
             "#7201a8"
            ],
            [
             0.3333333333333333,
             "#9c179e"
            ],
            [
             0.4444444444444444,
             "#bd3786"
            ],
            [
             0.5555555555555556,
             "#d8576b"
            ],
            [
             0.6666666666666666,
             "#ed7953"
            ],
            [
             0.7777777777777778,
             "#fb9f3a"
            ],
            [
             0.8888888888888888,
             "#fdca26"
            ],
            [
             1,
             "#f0f921"
            ]
           ],
           "sequentialminus": [
            [
             0,
             "#0d0887"
            ],
            [
             0.1111111111111111,
             "#46039f"
            ],
            [
             0.2222222222222222,
             "#7201a8"
            ],
            [
             0.3333333333333333,
             "#9c179e"
            ],
            [
             0.4444444444444444,
             "#bd3786"
            ],
            [
             0.5555555555555556,
             "#d8576b"
            ],
            [
             0.6666666666666666,
             "#ed7953"
            ],
            [
             0.7777777777777778,
             "#fb9f3a"
            ],
            [
             0.8888888888888888,
             "#fdca26"
            ],
            [
             1,
             "#f0f921"
            ]
           ]
          },
          "colorway": [
           "#636efa",
           "#EF553B",
           "#00cc96",
           "#ab63fa",
           "#FFA15A",
           "#19d3f3",
           "#FF6692",
           "#B6E880",
           "#FF97FF",
           "#FECB52"
          ],
          "font": {
           "color": "#2a3f5f"
          },
          "geo": {
           "bgcolor": "white",
           "lakecolor": "white",
           "landcolor": "#E5ECF6",
           "showlakes": true,
           "showland": true,
           "subunitcolor": "white"
          },
          "hoverlabel": {
           "align": "left"
          },
          "hovermode": "closest",
          "mapbox": {
           "style": "light"
          },
          "paper_bgcolor": "white",
          "plot_bgcolor": "#E5ECF6",
          "polar": {
           "angularaxis": {
            "gridcolor": "white",
            "linecolor": "white",
            "ticks": ""
           },
           "bgcolor": "#E5ECF6",
           "radialaxis": {
            "gridcolor": "white",
            "linecolor": "white",
            "ticks": ""
           }
          },
          "scene": {
           "xaxis": {
            "backgroundcolor": "#E5ECF6",
            "gridcolor": "white",
            "gridwidth": 2,
            "linecolor": "white",
            "showbackground": true,
            "ticks": "",
            "zerolinecolor": "white"
           },
           "yaxis": {
            "backgroundcolor": "#E5ECF6",
            "gridcolor": "white",
            "gridwidth": 2,
            "linecolor": "white",
            "showbackground": true,
            "ticks": "",
            "zerolinecolor": "white"
           },
           "zaxis": {
            "backgroundcolor": "#E5ECF6",
            "gridcolor": "white",
            "gridwidth": 2,
            "linecolor": "white",
            "showbackground": true,
            "ticks": "",
            "zerolinecolor": "white"
           }
          },
          "shapedefaults": {
           "line": {
            "color": "#2a3f5f"
           }
          },
          "ternary": {
           "aaxis": {
            "gridcolor": "white",
            "linecolor": "white",
            "ticks": ""
           },
           "baxis": {
            "gridcolor": "white",
            "linecolor": "white",
            "ticks": ""
           },
           "bgcolor": "#E5ECF6",
           "caxis": {
            "gridcolor": "white",
            "linecolor": "white",
            "ticks": ""
           }
          },
          "title": {
           "x": 0.05
          },
          "xaxis": {
           "automargin": true,
           "gridcolor": "white",
           "linecolor": "white",
           "ticks": "",
           "title": {
            "standoff": 15
           },
           "zerolinecolor": "white",
           "zerolinewidth": 2
          },
          "yaxis": {
           "automargin": true,
           "gridcolor": "white",
           "linecolor": "white",
           "ticks": "",
           "title": {
            "standoff": 15
           },
           "zerolinecolor": "white",
           "zerolinewidth": 2
          }
         }
        },
        "title": {
         "font": {
          "color": "#4D5663"
         }
        },
        "xaxis": {
         "gridcolor": "#E1E5ED",
         "showgrid": true,
         "tickfont": {
          "color": "#4D5663"
         },
         "title": {
          "font": {
           "color": "#4D5663"
          },
          "text": ""
         },
         "zerolinecolor": "#E1E5ED"
        },
        "xaxis2": {
         "anchor": "y2",
         "gridcolor": "#E1E5ED",
         "showgrid": true,
         "showticklabels": false,
         "tickfont": {
          "color": "#4D5663"
         },
         "title": {
          "font": {
           "color": "#4D5663"
          },
          "text": ""
         },
         "zerolinecolor": "#E1E5ED"
        },
        "yaxis": {
         "domain": [
          0.3,
          1
         ],
         "gridcolor": "#E1E5ED",
         "showgrid": true,
         "tickfont": {
          "color": "#4D5663"
         },
         "title": {
          "font": {
           "color": "#4D5663"
          },
          "text": ""
         },
         "zerolinecolor": "#E1E5ED"
        },
        "yaxis2": {
         "domain": [
          0,
          0.25
         ],
         "gridcolor": "#E1E5ED",
         "showgrid": true,
         "tickfont": {
          "color": "#4D5663"
         },
         "title": {
          "font": {
           "color": "#4D5663"
          },
          "text": "Spread"
         },
         "zerolinecolor": "#E1E5ED"
        }
       }
      },
      "text/html": [
       "<div>                            <div id=\"36d685d1-7dbc-4537-91e3-e5528586c11f\" class=\"plotly-graph-div\" style=\"height:525px; width:100%;\"></div>            <script type=\"text/javascript\">                require([\"plotly\"], function(Plotly) {                    window.PLOTLYENV=window.PLOTLYENV || {};\n",
       "                    window.PLOTLYENV.BASE_URL='https://plot.ly';                                    if (document.getElementById(\"36d685d1-7dbc-4537-91e3-e5528586c11f\")) {                    Plotly.newPlot(                        \"36d685d1-7dbc-4537-91e3-e5528586c11f\",                        [{\"line\":{\"color\":\"rgba(255, 153, 51, 1.0)\",\"dash\":\"solid\",\"shape\":\"linear\",\"width\":1.3},\"mode\":\"lines\",\"name\":\"A\",\"text\":\"\",\"x\":[0,1,2,3,4,5,6,7,8,9,10,11,12,13,14,15,16,17,18,19,20,21,22,23,24,25,26,27,28,29,30,31,32,33,34,35,36,37,38,39,40,41,42,43,44,45,46,47,48,49,50,51,52,53,54,55,56,57,58,59,60,61,62,63,64,65,66,67,68,69,70,71,72,73,74,75,76,77,78,79,80,81,82,83,84,85,86,87,88,89,90,91,92,93,94,95,96,97,98,99],\"y\":[0.7578306652600714,0.6706958613531931,-1.786751065174122,0.5602920264863411,1.2093903118572087,-0.07721121963587653,-0.6006294853354058,-0.20549799611085745,0.14447932596359128,-0.6194297923494315,0.289965871828332,1.334295055420149,1.2776093322599726,0.6941583739260736,-0.4768485479531304,-1.3945337778497289,-0.8308943714415719,-0.1908555235678979,-0.35903626618040974,-2.0200458765769387,0.4448500215436498,0.20422160240325865,0.5392099010996428,-0.2690083112201799,-0.8563251939013093,0.3391207855185764,-0.7792248890505376,-0.02083868757770441,-0.03344647009605206,-1.3904501532020737,0.3608322091072763,-2.2848433711479856,-0.13177311715226472,-0.25776768300903474,0.027962301258553895,1.681435385772883,-0.6221469941651722,-1.1917502523025978,-2.1355438596372207,-0.29686712138952165,0.6467733369508364,-0.788778618157295,-0.9093268462871056,-0.6953376105722637,-0.23977448704372462,-0.3453021315051399,1.4490027915911707,0.32472600886413877,0.9359226852540424,2.6586112671481525,-0.32333375611415116,4.0344297621507454,-0.8205988894356041,-1.1362389424169994,-0.2111340316655757,0.33053613427656303,-2.2883541938471232,0.15101230122841047,0.5630993680418365,0.04005306805778204,0.7320047941010306,2.022400726278812,-1.110462875185184,1.815902928551929,0.23541742291644363,-0.299353695139132,1.782004055400953,0.5886194597980433,0.3249032927706249,0.22970085014314612,1.0296152959656006,0.3113892172505194,-0.6738285807996732,-1.4294071757980833,1.0331708534128439,1.0786061415606991,-1.0927355132299985,-0.26801167744466736,1.283875352142768,-1.1922505632319573,-0.11461499732670305,0.5612224005874871,-1.9495625965611316,-0.6754021167285816,-0.1713261396526278,2.3700737799129836,0.20724970718019972,0.36570347615770693,-0.7904553715348929,0.026238426697340594,-1.904503266356009,1.574480717301306,1.3400837073902583,-0.4839947096236791,-1.1813582092678951,1.6626390476575212,-1.0216179790542574,-0.6949471304302506,0.9285689130307127,-0.2926143093506573],\"type\":\"scatter\"},{\"line\":{\"color\":\"rgba(55, 128, 191, 1.0)\",\"dash\":\"solid\",\"shape\":\"linear\",\"width\":1.3},\"mode\":\"lines\",\"name\":\"B\",\"text\":\"\",\"x\":[0,1,2,3,4,5,6,7,8,9,10,11,12,13,14,15,16,17,18,19,20,21,22,23,24,25,26,27,28,29,30,31,32,33,34,35,36,37,38,39,40,41,42,43,44,45,46,47,48,49,50,51,52,53,54,55,56,57,58,59,60,61,62,63,64,65,66,67,68,69,70,71,72,73,74,75,76,77,78,79,80,81,82,83,84,85,86,87,88,89,90,91,92,93,94,95,96,97,98,99],\"y\":[-0.2912892972987383,-0.5099817648528213,1.1908177594187945,1.6852654510348208,0.14882243470747117,-2.3037953168126015,-0.24570904973412847,0.27026697246654063,0.5489241190861819,1.0494892047672069,1.6449557327042612,-1.2435292515972494,1.0827059551477518,-2.3265514065069826,-1.8432176330776107,1.2563120938727566,2.1016432707721964,0.8835351387421774,0.7887795942984664,1.2320778057208106,-0.019410404695273668,-1.0221872298474088,-1.4324446606118177,1.0556769315616874,2.6333874524887424,1.0219370562933083,-1.0447863310211478,-0.31296385151259865,-0.5495225412079057,-0.5760573962317269,0.4189253096607101,1.471342914336534,1.0222367104442975,0.15985179971099342,-1.6756594262295046,-0.3772891667954507,0.5683044437292576,-2.049073107560736,0.4903378004188023,0.4530662374795767,-1.308635707523197,0.6446017773525391,-2.4390504610217976,1.4355999105681634,0.4014417106028471,-0.06582744145685468,0.4870730284017431,-1.9493842372661236,2.2826084790025343,-1.2718059047713601,-2.6857235646383626,-0.7201157734494502,-0.1920660069857729,0.5341498433545641,-0.6498776596158321,-0.6881579664154346,-0.017781421996660406,-0.006479640791160362,-1.4875180851261842,-2.151414005208173,-0.06862265103004218,-0.6809989254617403,0.07246770576574128,1.5709090059774033,1.2092234979821614,-1.7336592475299253,0.3750141896515368,-0.7224394257070924,1.569857139426887,0.6761954348997585,0.5973200260553962,-1.3395346590300246,-0.31508903188547854,-0.6159141442383137,-0.8342038355358447,1.5799669056690253,-0.8695982902595847,2.5086007158219537,-0.4983408276616498,0.9792467346219735,0.7202387436322023,1.565905215152806,0.11437371066288606,-0.2344926835279254,0.5064013627686159,0.9212884740745085,-2.438177970385512,-1.1653160008924643,0.5847791301571718,1.1658578569944609,-1.9586439283763402,-0.023745458263176616,-0.9644614734785698,-0.5583469240013501,0.6541854785700131,2.053427150608331,0.8658266947740538,1.8457601392044725,-1.0635193533480607,1.002028410054408],\"type\":\"scatter\"},{\"connectgaps\":false,\"fill\":\"tozeroy\",\"line\":{\"color\":\"green\",\"dash\":\"solid\",\"shape\":\"linear\",\"width\":0.5},\"mode\":\"lines\",\"name\":\"Spread\",\"showlegend\":false,\"x\":[0,1,2,3,4,5,6,7,8,9,10,11,12,13,14,15,16,17,18,19,20,21,22,23,24,25,26,27,28,29,30,31,32,33,34,35,36,37,38,39,40,41,42,43,44,45,46,47,48,49,50,51,52,53,54,55,56,57,58,59,60,61,62,63,64,65,66,67,68,69,70,71,72,73,74,75,76,77,78,79,80,81,82,83,84,85,86,87,88,89,90,91,92,93,94,95,96,97,98,99],\"xaxis\":\"x2\",\"y\":[1.0491199625588097,1.1806776262060144,\"\",\"\",1.0605678771497375,2.226584097176725,\"\",\"\",\"\",\"\",\"\",2.5778243070173983,0.19490337711222083,3.020709780433056,1.3663690851244803,\"\",\"\",\"\",\"\",\"\",0.46426042623892344,1.2264088322506674,1.9716545617114605,\"\",\"\",\"\",0.26556144197061027,0.29212516393489424,0.5160760711118536,\"\",\"\",\"\",\"\",\"\",1.7036217274880585,2.0587245525683335,\"\",0.857322855258138,\"\",\"\",1.9554090444740333,\"\",1.529723614734692,\"\",\"\",\"\",0.9619297631894277,2.2741102461302622,\"\",3.9304171719195127,2.3623898085242114,4.7545455356001955,\"\",\"\",0.4387436279502564,1.0186941006919976,\"\",0.15749194201957084,2.050617453168021,2.191467073265955,0.8006274451310728,2.7033996517405523,\"\",0.24499392257452568,\"\",1.4343055523907933,1.4069898657494162,1.3110588855051357,\"\",\"\",0.4322952699102044,1.6509238762805438,\"\",\"\",1.8673746889486886,\"\",\"\",\"\",1.7822161798044176,\"\",\"\",\"\",\"\",\"\",\"\",1.448785305838475,2.6454276775657117,1.5310194770501713,\"\",\"\",0.054140662020331076,1.5982261755644827,2.304545180868828,0.07435221437767103,\"\",\"\",\"\",\"\",1.9920882663787733,\"\"],\"yaxis\":\"y2\",\"type\":\"scatter\"},{\"connectgaps\":false,\"fill\":\"tozeroy\",\"line\":{\"color\":\"red\",\"dash\":\"solid\",\"shape\":\"linear\",\"width\":0.5},\"mode\":\"lines\",\"name\":\"Spread\",\"showlegend\":false,\"x\":[0,1,2,3,4,5,6,7,8,9,10,11,12,13,14,15,16,17,18,19,20,21,22,23,24,25,26,27,28,29,30,31,32,33,34,35,36,37,38,39,40,41,42,43,44,45,46,47,48,49,50,51,52,53,54,55,56,57,58,59,60,61,62,63,64,65,66,67,68,69,70,71,72,73,74,75,76,77,78,79,80,81,82,83,84,85,86,87,88,89,90,91,92,93,94,95,96,97,98,99],\"xaxis\":\"x2\",\"y\":[\"\",\"\",-2.9775688245929164,-1.1249734245484797,\"\",\"\",-0.3549204356012774,-0.4757649685773981,-0.40444479312259063,-1.6689189971166383,-1.3549898608759292,\"\",\"\",\"\",\"\",-2.6508458717224856,-2.9325376422137683,-1.0743906623100752,-1.1478158604788762,-3.252123682297749,\"\",\"\",\"\",-1.3246852427818672,-3.4897126463900516,-0.682816270774732,\"\",\"\",\"\",-0.8143927569703467,-0.05809310055343381,-3.7561862854845196,-1.1540098275965622,-0.41761948272002813,\"\",\"\",-1.1904514378944298,\"\",-2.625881660056023,-0.7499333588690984,\"\",-1.433380395509834,\"\",-2.130937521140427,-0.6412161976465718,-0.2794746900482852,\"\",\"\",-1.3466857937484917,\"\",\"\",\"\",-0.6285328824498312,-1.6703887857715634,\"\",\"\",-2.2705727718504627,\"\",\"\",\"\",\"\",\"\",-1.1829305809509252,\"\",-0.9738060750657178,\"\",\"\",\"\",-1.2449538466562622,-0.4464945847566124,\"\",\"\",-0.3587395489141947,-0.8134930315597696,\"\",-0.5013607641083262,-0.22313722297041383,-2.776612393266621,\"\",-2.171497297853931,-0.8348537409589054,-1.0046828145653188,-2.0639363072240178,-0.44090943320065623,-0.6777275024212437,\"\",\"\",\"\",-1.3752345016920646,-1.1396194302971203,\"\",\"\",\"\",\"\",-1.8355436878379083,-0.39078810295080957,-1.8874446738283113,-2.540707269634723,\"\",-1.2946427194050651],\"yaxis\":\"y2\",\"type\":\"scatter\"}],                        {\"hovermode\":\"x\",\"legend\":{\"bgcolor\":\"#F5F6F9\",\"font\":{\"color\":\"#4D5663\"}},\"paper_bgcolor\":\"#F5F6F9\",\"plot_bgcolor\":\"#F5F6F9\",\"template\":{\"data\":{\"barpolar\":[{\"marker\":{\"line\":{\"color\":\"#E5ECF6\",\"width\":0.5},\"pattern\":{\"fillmode\":\"overlay\",\"size\":10,\"solidity\":0.2}},\"type\":\"barpolar\"}],\"bar\":[{\"error_x\":{\"color\":\"#2a3f5f\"},\"error_y\":{\"color\":\"#2a3f5f\"},\"marker\":{\"line\":{\"color\":\"#E5ECF6\",\"width\":0.5},\"pattern\":{\"fillmode\":\"overlay\",\"size\":10,\"solidity\":0.2}},\"type\":\"bar\"}],\"carpet\":[{\"aaxis\":{\"endlinecolor\":\"#2a3f5f\",\"gridcolor\":\"white\",\"linecolor\":\"white\",\"minorgridcolor\":\"white\",\"startlinecolor\":\"#2a3f5f\"},\"baxis\":{\"endlinecolor\":\"#2a3f5f\",\"gridcolor\":\"white\",\"linecolor\":\"white\",\"minorgridcolor\":\"white\",\"startlinecolor\":\"#2a3f5f\"},\"type\":\"carpet\"}],\"choropleth\":[{\"colorbar\":{\"outlinewidth\":0,\"ticks\":\"\"},\"type\":\"choropleth\"}],\"contourcarpet\":[{\"colorbar\":{\"outlinewidth\":0,\"ticks\":\"\"},\"type\":\"contourcarpet\"}],\"contour\":[{\"colorbar\":{\"outlinewidth\":0,\"ticks\":\"\"},\"colorscale\":[[0.0,\"#0d0887\"],[0.1111111111111111,\"#46039f\"],[0.2222222222222222,\"#7201a8\"],[0.3333333333333333,\"#9c179e\"],[0.4444444444444444,\"#bd3786\"],[0.5555555555555556,\"#d8576b\"],[0.6666666666666666,\"#ed7953\"],[0.7777777777777778,\"#fb9f3a\"],[0.8888888888888888,\"#fdca26\"],[1.0,\"#f0f921\"]],\"type\":\"contour\"}],\"heatmapgl\":[{\"colorbar\":{\"outlinewidth\":0,\"ticks\":\"\"},\"colorscale\":[[0.0,\"#0d0887\"],[0.1111111111111111,\"#46039f\"],[0.2222222222222222,\"#7201a8\"],[0.3333333333333333,\"#9c179e\"],[0.4444444444444444,\"#bd3786\"],[0.5555555555555556,\"#d8576b\"],[0.6666666666666666,\"#ed7953\"],[0.7777777777777778,\"#fb9f3a\"],[0.8888888888888888,\"#fdca26\"],[1.0,\"#f0f921\"]],\"type\":\"heatmapgl\"}],\"heatmap\":[{\"colorbar\":{\"outlinewidth\":0,\"ticks\":\"\"},\"colorscale\":[[0.0,\"#0d0887\"],[0.1111111111111111,\"#46039f\"],[0.2222222222222222,\"#7201a8\"],[0.3333333333333333,\"#9c179e\"],[0.4444444444444444,\"#bd3786\"],[0.5555555555555556,\"#d8576b\"],[0.6666666666666666,\"#ed7953\"],[0.7777777777777778,\"#fb9f3a\"],[0.8888888888888888,\"#fdca26\"],[1.0,\"#f0f921\"]],\"type\":\"heatmap\"}],\"histogram2dcontour\":[{\"colorbar\":{\"outlinewidth\":0,\"ticks\":\"\"},\"colorscale\":[[0.0,\"#0d0887\"],[0.1111111111111111,\"#46039f\"],[0.2222222222222222,\"#7201a8\"],[0.3333333333333333,\"#9c179e\"],[0.4444444444444444,\"#bd3786\"],[0.5555555555555556,\"#d8576b\"],[0.6666666666666666,\"#ed7953\"],[0.7777777777777778,\"#fb9f3a\"],[0.8888888888888888,\"#fdca26\"],[1.0,\"#f0f921\"]],\"type\":\"histogram2dcontour\"}],\"histogram2d\":[{\"colorbar\":{\"outlinewidth\":0,\"ticks\":\"\"},\"colorscale\":[[0.0,\"#0d0887\"],[0.1111111111111111,\"#46039f\"],[0.2222222222222222,\"#7201a8\"],[0.3333333333333333,\"#9c179e\"],[0.4444444444444444,\"#bd3786\"],[0.5555555555555556,\"#d8576b\"],[0.6666666666666666,\"#ed7953\"],[0.7777777777777778,\"#fb9f3a\"],[0.8888888888888888,\"#fdca26\"],[1.0,\"#f0f921\"]],\"type\":\"histogram2d\"}],\"histogram\":[{\"marker\":{\"pattern\":{\"fillmode\":\"overlay\",\"size\":10,\"solidity\":0.2}},\"type\":\"histogram\"}],\"mesh3d\":[{\"colorbar\":{\"outlinewidth\":0,\"ticks\":\"\"},\"type\":\"mesh3d\"}],\"parcoords\":[{\"line\":{\"colorbar\":{\"outlinewidth\":0,\"ticks\":\"\"}},\"type\":\"parcoords\"}],\"pie\":[{\"automargin\":true,\"type\":\"pie\"}],\"scatter3d\":[{\"line\":{\"colorbar\":{\"outlinewidth\":0,\"ticks\":\"\"}},\"marker\":{\"colorbar\":{\"outlinewidth\":0,\"ticks\":\"\"}},\"type\":\"scatter3d\"}],\"scattercarpet\":[{\"marker\":{\"colorbar\":{\"outlinewidth\":0,\"ticks\":\"\"}},\"type\":\"scattercarpet\"}],\"scattergeo\":[{\"marker\":{\"colorbar\":{\"outlinewidth\":0,\"ticks\":\"\"}},\"type\":\"scattergeo\"}],\"scattergl\":[{\"marker\":{\"colorbar\":{\"outlinewidth\":0,\"ticks\":\"\"}},\"type\":\"scattergl\"}],\"scattermapbox\":[{\"marker\":{\"colorbar\":{\"outlinewidth\":0,\"ticks\":\"\"}},\"type\":\"scattermapbox\"}],\"scatterpolargl\":[{\"marker\":{\"colorbar\":{\"outlinewidth\":0,\"ticks\":\"\"}},\"type\":\"scatterpolargl\"}],\"scatterpolar\":[{\"marker\":{\"colorbar\":{\"outlinewidth\":0,\"ticks\":\"\"}},\"type\":\"scatterpolar\"}],\"scatter\":[{\"fillpattern\":{\"fillmode\":\"overlay\",\"size\":10,\"solidity\":0.2},\"type\":\"scatter\"}],\"scatterternary\":[{\"marker\":{\"colorbar\":{\"outlinewidth\":0,\"ticks\":\"\"}},\"type\":\"scatterternary\"}],\"surface\":[{\"colorbar\":{\"outlinewidth\":0,\"ticks\":\"\"},\"colorscale\":[[0.0,\"#0d0887\"],[0.1111111111111111,\"#46039f\"],[0.2222222222222222,\"#7201a8\"],[0.3333333333333333,\"#9c179e\"],[0.4444444444444444,\"#bd3786\"],[0.5555555555555556,\"#d8576b\"],[0.6666666666666666,\"#ed7953\"],[0.7777777777777778,\"#fb9f3a\"],[0.8888888888888888,\"#fdca26\"],[1.0,\"#f0f921\"]],\"type\":\"surface\"}],\"table\":[{\"cells\":{\"fill\":{\"color\":\"#EBF0F8\"},\"line\":{\"color\":\"white\"}},\"header\":{\"fill\":{\"color\":\"#C8D4E3\"},\"line\":{\"color\":\"white\"}},\"type\":\"table\"}]},\"layout\":{\"annotationdefaults\":{\"arrowcolor\":\"#2a3f5f\",\"arrowhead\":0,\"arrowwidth\":1},\"autotypenumbers\":\"strict\",\"coloraxis\":{\"colorbar\":{\"outlinewidth\":0,\"ticks\":\"\"}},\"colorscale\":{\"diverging\":[[0,\"#8e0152\"],[0.1,\"#c51b7d\"],[0.2,\"#de77ae\"],[0.3,\"#f1b6da\"],[0.4,\"#fde0ef\"],[0.5,\"#f7f7f7\"],[0.6,\"#e6f5d0\"],[0.7,\"#b8e186\"],[0.8,\"#7fbc41\"],[0.9,\"#4d9221\"],[1,\"#276419\"]],\"sequential\":[[0.0,\"#0d0887\"],[0.1111111111111111,\"#46039f\"],[0.2222222222222222,\"#7201a8\"],[0.3333333333333333,\"#9c179e\"],[0.4444444444444444,\"#bd3786\"],[0.5555555555555556,\"#d8576b\"],[0.6666666666666666,\"#ed7953\"],[0.7777777777777778,\"#fb9f3a\"],[0.8888888888888888,\"#fdca26\"],[1.0,\"#f0f921\"]],\"sequentialminus\":[[0.0,\"#0d0887\"],[0.1111111111111111,\"#46039f\"],[0.2222222222222222,\"#7201a8\"],[0.3333333333333333,\"#9c179e\"],[0.4444444444444444,\"#bd3786\"],[0.5555555555555556,\"#d8576b\"],[0.6666666666666666,\"#ed7953\"],[0.7777777777777778,\"#fb9f3a\"],[0.8888888888888888,\"#fdca26\"],[1.0,\"#f0f921\"]]},\"colorway\":[\"#636efa\",\"#EF553B\",\"#00cc96\",\"#ab63fa\",\"#FFA15A\",\"#19d3f3\",\"#FF6692\",\"#B6E880\",\"#FF97FF\",\"#FECB52\"],\"font\":{\"color\":\"#2a3f5f\"},\"geo\":{\"bgcolor\":\"white\",\"lakecolor\":\"white\",\"landcolor\":\"#E5ECF6\",\"showlakes\":true,\"showland\":true,\"subunitcolor\":\"white\"},\"hoverlabel\":{\"align\":\"left\"},\"hovermode\":\"closest\",\"mapbox\":{\"style\":\"light\"},\"paper_bgcolor\":\"white\",\"plot_bgcolor\":\"#E5ECF6\",\"polar\":{\"angularaxis\":{\"gridcolor\":\"white\",\"linecolor\":\"white\",\"ticks\":\"\"},\"bgcolor\":\"#E5ECF6\",\"radialaxis\":{\"gridcolor\":\"white\",\"linecolor\":\"white\",\"ticks\":\"\"}},\"scene\":{\"xaxis\":{\"backgroundcolor\":\"#E5ECF6\",\"gridcolor\":\"white\",\"gridwidth\":2,\"linecolor\":\"white\",\"showbackground\":true,\"ticks\":\"\",\"zerolinecolor\":\"white\"},\"yaxis\":{\"backgroundcolor\":\"#E5ECF6\",\"gridcolor\":\"white\",\"gridwidth\":2,\"linecolor\":\"white\",\"showbackground\":true,\"ticks\":\"\",\"zerolinecolor\":\"white\"},\"zaxis\":{\"backgroundcolor\":\"#E5ECF6\",\"gridcolor\":\"white\",\"gridwidth\":2,\"linecolor\":\"white\",\"showbackground\":true,\"ticks\":\"\",\"zerolinecolor\":\"white\"}},\"shapedefaults\":{\"line\":{\"color\":\"#2a3f5f\"}},\"ternary\":{\"aaxis\":{\"gridcolor\":\"white\",\"linecolor\":\"white\",\"ticks\":\"\"},\"baxis\":{\"gridcolor\":\"white\",\"linecolor\":\"white\",\"ticks\":\"\"},\"bgcolor\":\"#E5ECF6\",\"caxis\":{\"gridcolor\":\"white\",\"linecolor\":\"white\",\"ticks\":\"\"}},\"title\":{\"x\":0.05},\"xaxis\":{\"automargin\":true,\"gridcolor\":\"white\",\"linecolor\":\"white\",\"ticks\":\"\",\"title\":{\"standoff\":15},\"zerolinecolor\":\"white\",\"zerolinewidth\":2},\"yaxis\":{\"automargin\":true,\"gridcolor\":\"white\",\"linecolor\":\"white\",\"ticks\":\"\",\"title\":{\"standoff\":15},\"zerolinecolor\":\"white\",\"zerolinewidth\":2}}},\"title\":{\"font\":{\"color\":\"#4D5663\"}},\"xaxis\":{\"gridcolor\":\"#E1E5ED\",\"showgrid\":true,\"tickfont\":{\"color\":\"#4D5663\"},\"title\":{\"font\":{\"color\":\"#4D5663\"},\"text\":\"\"},\"zerolinecolor\":\"#E1E5ED\"},\"yaxis\":{\"domain\":[0.3,1],\"gridcolor\":\"#E1E5ED\",\"showgrid\":true,\"tickfont\":{\"color\":\"#4D5663\"},\"title\":{\"font\":{\"color\":\"#4D5663\"},\"text\":\"\"},\"zerolinecolor\":\"#E1E5ED\"},\"yaxis2\":{\"domain\":[0,0.25],\"gridcolor\":\"#E1E5ED\",\"showgrid\":true,\"tickfont\":{\"color\":\"#4D5663\"},\"title\":{\"font\":{\"color\":\"#4D5663\"},\"text\":\"Spread\"},\"zerolinecolor\":\"#E1E5ED\"},\"xaxis2\":{\"anchor\":\"y2\",\"gridcolor\":\"#E1E5ED\",\"showgrid\":true,\"showticklabels\":false,\"tickfont\":{\"color\":\"#4D5663\"},\"title\":{\"font\":{\"color\":\"#4D5663\"},\"text\":\"\"},\"zerolinecolor\":\"#E1E5ED\"}},                        {\"showLink\": true, \"linkText\": \"Export to plot.ly\", \"plotlyServerURL\": \"https://plot.ly\", \"responsive\": true}                    ).then(function(){\n",
       "                            \n",
       "var gd = document.getElementById('36d685d1-7dbc-4537-91e3-e5528586c11f');\n",
       "var x = new MutationObserver(function (mutations, observer) {{\n",
       "        var display = window.getComputedStyle(gd).display;\n",
       "        if (!display || display === 'none') {{\n",
       "            console.log([gd, 'removed!']);\n",
       "            Plotly.purge(gd);\n",
       "            observer.disconnect();\n",
       "        }}\n",
       "}});\n",
       "\n",
       "// Listen for the removal of the full notebook cells\n",
       "var notebookContainer = gd.closest('#notebook-container');\n",
       "if (notebookContainer) {{\n",
       "    x.observe(notebookContainer, {childList: true});\n",
       "}}\n",
       "\n",
       "// Listen for the clearing of the current output cell\n",
       "var outputEl = gd.closest('.output');\n",
       "if (outputEl) {{\n",
       "    x.observe(outputEl, {childList: true});\n",
       "}}\n",
       "\n",
       "                        })                };                });            </script>        </div>"
      ]
     },
     "metadata": {},
     "output_type": "display_data"
    }
   ],
   "source": [
    "df[['A','B']].iplot(kind = 'spread')"
   ]
  },
  {
   "cell_type": "markdown",
   "id": "69455078",
   "metadata": {},
   "source": [
    "## Histogram"
   ]
  },
  {
   "cell_type": "code",
   "execution_count": 28,
   "id": "63f42cf2",
   "metadata": {},
   "outputs": [
    {
     "data": {
      "application/vnd.plotly.v1+json": {
       "config": {
        "linkText": "Export to plot.ly",
        "plotlyServerURL": "https://plot.ly",
        "showLink": true
       },
       "data": [
        {
         "histfunc": "count",
         "histnorm": "",
         "marker": {
          "color": "rgba(255, 153, 51, 1.0)",
          "line": {
           "color": "#4D5663",
           "width": 1.3
          }
         },
         "name": "A",
         "nbinsx": 25,
         "opacity": 0.8,
         "orientation": "v",
         "type": "histogram",
         "x": [
          0.7578306652600714,
          0.6706958613531931,
          -1.786751065174122,
          0.5602920264863411,
          1.2093903118572087,
          -0.07721121963587653,
          -0.6006294853354058,
          -0.20549799611085745,
          0.14447932596359128,
          -0.6194297923494315,
          0.289965871828332,
          1.334295055420149,
          1.2776093322599726,
          0.6941583739260736,
          -0.4768485479531304,
          -1.3945337778497289,
          -0.8308943714415719,
          -0.1908555235678979,
          -0.35903626618040974,
          -2.0200458765769387,
          0.4448500215436498,
          0.20422160240325865,
          0.5392099010996428,
          -0.2690083112201799,
          -0.8563251939013093,
          0.3391207855185764,
          -0.7792248890505376,
          -0.02083868757770441,
          -0.03344647009605206,
          -1.3904501532020737,
          0.3608322091072763,
          -2.2848433711479856,
          -0.13177311715226472,
          -0.25776768300903474,
          0.027962301258553895,
          1.681435385772883,
          -0.6221469941651722,
          -1.1917502523025978,
          -2.1355438596372207,
          -0.29686712138952165,
          0.6467733369508364,
          -0.788778618157295,
          -0.9093268462871056,
          -0.6953376105722637,
          -0.23977448704372462,
          -0.3453021315051399,
          1.4490027915911707,
          0.32472600886413877,
          0.9359226852540424,
          2.6586112671481525,
          -0.32333375611415116,
          4.0344297621507454,
          -0.8205988894356041,
          -1.1362389424169994,
          -0.2111340316655757,
          0.33053613427656303,
          -2.2883541938471232,
          0.15101230122841047,
          0.5630993680418365,
          0.04005306805778204,
          0.7320047941010306,
          2.022400726278812,
          -1.110462875185184,
          1.815902928551929,
          0.23541742291644363,
          -0.299353695139132,
          1.782004055400953,
          0.5886194597980433,
          0.3249032927706249,
          0.22970085014314612,
          1.0296152959656006,
          0.3113892172505194,
          -0.6738285807996732,
          -1.4294071757980833,
          1.0331708534128439,
          1.0786061415606991,
          -1.0927355132299985,
          -0.26801167744466736,
          1.283875352142768,
          -1.1922505632319573,
          -0.11461499732670305,
          0.5612224005874871,
          -1.9495625965611316,
          -0.6754021167285816,
          -0.1713261396526278,
          2.3700737799129836,
          0.20724970718019972,
          0.36570347615770693,
          -0.7904553715348929,
          0.026238426697340594,
          -1.904503266356009,
          1.574480717301306,
          1.3400837073902583,
          -0.4839947096236791,
          -1.1813582092678951,
          1.6626390476575212,
          -1.0216179790542574,
          -0.6949471304302506,
          0.9285689130307127,
          -0.2926143093506573
         ]
        }
       ],
       "layout": {
        "barmode": "overlay",
        "legend": {
         "bgcolor": "#F5F6F9",
         "font": {
          "color": "#4D5663"
         }
        },
        "paper_bgcolor": "#F5F6F9",
        "plot_bgcolor": "#F5F6F9",
        "template": {
         "data": {
          "bar": [
           {
            "error_x": {
             "color": "#2a3f5f"
            },
            "error_y": {
             "color": "#2a3f5f"
            },
            "marker": {
             "line": {
              "color": "#E5ECF6",
              "width": 0.5
             },
             "pattern": {
              "fillmode": "overlay",
              "size": 10,
              "solidity": 0.2
             }
            },
            "type": "bar"
           }
          ],
          "barpolar": [
           {
            "marker": {
             "line": {
              "color": "#E5ECF6",
              "width": 0.5
             },
             "pattern": {
              "fillmode": "overlay",
              "size": 10,
              "solidity": 0.2
             }
            },
            "type": "barpolar"
           }
          ],
          "carpet": [
           {
            "aaxis": {
             "endlinecolor": "#2a3f5f",
             "gridcolor": "white",
             "linecolor": "white",
             "minorgridcolor": "white",
             "startlinecolor": "#2a3f5f"
            },
            "baxis": {
             "endlinecolor": "#2a3f5f",
             "gridcolor": "white",
             "linecolor": "white",
             "minorgridcolor": "white",
             "startlinecolor": "#2a3f5f"
            },
            "type": "carpet"
           }
          ],
          "choropleth": [
           {
            "colorbar": {
             "outlinewidth": 0,
             "ticks": ""
            },
            "type": "choropleth"
           }
          ],
          "contour": [
           {
            "colorbar": {
             "outlinewidth": 0,
             "ticks": ""
            },
            "colorscale": [
             [
              0,
              "#0d0887"
             ],
             [
              0.1111111111111111,
              "#46039f"
             ],
             [
              0.2222222222222222,
              "#7201a8"
             ],
             [
              0.3333333333333333,
              "#9c179e"
             ],
             [
              0.4444444444444444,
              "#bd3786"
             ],
             [
              0.5555555555555556,
              "#d8576b"
             ],
             [
              0.6666666666666666,
              "#ed7953"
             ],
             [
              0.7777777777777778,
              "#fb9f3a"
             ],
             [
              0.8888888888888888,
              "#fdca26"
             ],
             [
              1,
              "#f0f921"
             ]
            ],
            "type": "contour"
           }
          ],
          "contourcarpet": [
           {
            "colorbar": {
             "outlinewidth": 0,
             "ticks": ""
            },
            "type": "contourcarpet"
           }
          ],
          "heatmap": [
           {
            "colorbar": {
             "outlinewidth": 0,
             "ticks": ""
            },
            "colorscale": [
             [
              0,
              "#0d0887"
             ],
             [
              0.1111111111111111,
              "#46039f"
             ],
             [
              0.2222222222222222,
              "#7201a8"
             ],
             [
              0.3333333333333333,
              "#9c179e"
             ],
             [
              0.4444444444444444,
              "#bd3786"
             ],
             [
              0.5555555555555556,
              "#d8576b"
             ],
             [
              0.6666666666666666,
              "#ed7953"
             ],
             [
              0.7777777777777778,
              "#fb9f3a"
             ],
             [
              0.8888888888888888,
              "#fdca26"
             ],
             [
              1,
              "#f0f921"
             ]
            ],
            "type": "heatmap"
           }
          ],
          "heatmapgl": [
           {
            "colorbar": {
             "outlinewidth": 0,
             "ticks": ""
            },
            "colorscale": [
             [
              0,
              "#0d0887"
             ],
             [
              0.1111111111111111,
              "#46039f"
             ],
             [
              0.2222222222222222,
              "#7201a8"
             ],
             [
              0.3333333333333333,
              "#9c179e"
             ],
             [
              0.4444444444444444,
              "#bd3786"
             ],
             [
              0.5555555555555556,
              "#d8576b"
             ],
             [
              0.6666666666666666,
              "#ed7953"
             ],
             [
              0.7777777777777778,
              "#fb9f3a"
             ],
             [
              0.8888888888888888,
              "#fdca26"
             ],
             [
              1,
              "#f0f921"
             ]
            ],
            "type": "heatmapgl"
           }
          ],
          "histogram": [
           {
            "marker": {
             "pattern": {
              "fillmode": "overlay",
              "size": 10,
              "solidity": 0.2
             }
            },
            "type": "histogram"
           }
          ],
          "histogram2d": [
           {
            "colorbar": {
             "outlinewidth": 0,
             "ticks": ""
            },
            "colorscale": [
             [
              0,
              "#0d0887"
             ],
             [
              0.1111111111111111,
              "#46039f"
             ],
             [
              0.2222222222222222,
              "#7201a8"
             ],
             [
              0.3333333333333333,
              "#9c179e"
             ],
             [
              0.4444444444444444,
              "#bd3786"
             ],
             [
              0.5555555555555556,
              "#d8576b"
             ],
             [
              0.6666666666666666,
              "#ed7953"
             ],
             [
              0.7777777777777778,
              "#fb9f3a"
             ],
             [
              0.8888888888888888,
              "#fdca26"
             ],
             [
              1,
              "#f0f921"
             ]
            ],
            "type": "histogram2d"
           }
          ],
          "histogram2dcontour": [
           {
            "colorbar": {
             "outlinewidth": 0,
             "ticks": ""
            },
            "colorscale": [
             [
              0,
              "#0d0887"
             ],
             [
              0.1111111111111111,
              "#46039f"
             ],
             [
              0.2222222222222222,
              "#7201a8"
             ],
             [
              0.3333333333333333,
              "#9c179e"
             ],
             [
              0.4444444444444444,
              "#bd3786"
             ],
             [
              0.5555555555555556,
              "#d8576b"
             ],
             [
              0.6666666666666666,
              "#ed7953"
             ],
             [
              0.7777777777777778,
              "#fb9f3a"
             ],
             [
              0.8888888888888888,
              "#fdca26"
             ],
             [
              1,
              "#f0f921"
             ]
            ],
            "type": "histogram2dcontour"
           }
          ],
          "mesh3d": [
           {
            "colorbar": {
             "outlinewidth": 0,
             "ticks": ""
            },
            "type": "mesh3d"
           }
          ],
          "parcoords": [
           {
            "line": {
             "colorbar": {
              "outlinewidth": 0,
              "ticks": ""
             }
            },
            "type": "parcoords"
           }
          ],
          "pie": [
           {
            "automargin": true,
            "type": "pie"
           }
          ],
          "scatter": [
           {
            "fillpattern": {
             "fillmode": "overlay",
             "size": 10,
             "solidity": 0.2
            },
            "type": "scatter"
           }
          ],
          "scatter3d": [
           {
            "line": {
             "colorbar": {
              "outlinewidth": 0,
              "ticks": ""
             }
            },
            "marker": {
             "colorbar": {
              "outlinewidth": 0,
              "ticks": ""
             }
            },
            "type": "scatter3d"
           }
          ],
          "scattercarpet": [
           {
            "marker": {
             "colorbar": {
              "outlinewidth": 0,
              "ticks": ""
             }
            },
            "type": "scattercarpet"
           }
          ],
          "scattergeo": [
           {
            "marker": {
             "colorbar": {
              "outlinewidth": 0,
              "ticks": ""
             }
            },
            "type": "scattergeo"
           }
          ],
          "scattergl": [
           {
            "marker": {
             "colorbar": {
              "outlinewidth": 0,
              "ticks": ""
             }
            },
            "type": "scattergl"
           }
          ],
          "scattermapbox": [
           {
            "marker": {
             "colorbar": {
              "outlinewidth": 0,
              "ticks": ""
             }
            },
            "type": "scattermapbox"
           }
          ],
          "scatterpolar": [
           {
            "marker": {
             "colorbar": {
              "outlinewidth": 0,
              "ticks": ""
             }
            },
            "type": "scatterpolar"
           }
          ],
          "scatterpolargl": [
           {
            "marker": {
             "colorbar": {
              "outlinewidth": 0,
              "ticks": ""
             }
            },
            "type": "scatterpolargl"
           }
          ],
          "scatterternary": [
           {
            "marker": {
             "colorbar": {
              "outlinewidth": 0,
              "ticks": ""
             }
            },
            "type": "scatterternary"
           }
          ],
          "surface": [
           {
            "colorbar": {
             "outlinewidth": 0,
             "ticks": ""
            },
            "colorscale": [
             [
              0,
              "#0d0887"
             ],
             [
              0.1111111111111111,
              "#46039f"
             ],
             [
              0.2222222222222222,
              "#7201a8"
             ],
             [
              0.3333333333333333,
              "#9c179e"
             ],
             [
              0.4444444444444444,
              "#bd3786"
             ],
             [
              0.5555555555555556,
              "#d8576b"
             ],
             [
              0.6666666666666666,
              "#ed7953"
             ],
             [
              0.7777777777777778,
              "#fb9f3a"
             ],
             [
              0.8888888888888888,
              "#fdca26"
             ],
             [
              1,
              "#f0f921"
             ]
            ],
            "type": "surface"
           }
          ],
          "table": [
           {
            "cells": {
             "fill": {
              "color": "#EBF0F8"
             },
             "line": {
              "color": "white"
             }
            },
            "header": {
             "fill": {
              "color": "#C8D4E3"
             },
             "line": {
              "color": "white"
             }
            },
            "type": "table"
           }
          ]
         },
         "layout": {
          "annotationdefaults": {
           "arrowcolor": "#2a3f5f",
           "arrowhead": 0,
           "arrowwidth": 1
          },
          "autotypenumbers": "strict",
          "coloraxis": {
           "colorbar": {
            "outlinewidth": 0,
            "ticks": ""
           }
          },
          "colorscale": {
           "diverging": [
            [
             0,
             "#8e0152"
            ],
            [
             0.1,
             "#c51b7d"
            ],
            [
             0.2,
             "#de77ae"
            ],
            [
             0.3,
             "#f1b6da"
            ],
            [
             0.4,
             "#fde0ef"
            ],
            [
             0.5,
             "#f7f7f7"
            ],
            [
             0.6,
             "#e6f5d0"
            ],
            [
             0.7,
             "#b8e186"
            ],
            [
             0.8,
             "#7fbc41"
            ],
            [
             0.9,
             "#4d9221"
            ],
            [
             1,
             "#276419"
            ]
           ],
           "sequential": [
            [
             0,
             "#0d0887"
            ],
            [
             0.1111111111111111,
             "#46039f"
            ],
            [
             0.2222222222222222,
             "#7201a8"
            ],
            [
             0.3333333333333333,
             "#9c179e"
            ],
            [
             0.4444444444444444,
             "#bd3786"
            ],
            [
             0.5555555555555556,
             "#d8576b"
            ],
            [
             0.6666666666666666,
             "#ed7953"
            ],
            [
             0.7777777777777778,
             "#fb9f3a"
            ],
            [
             0.8888888888888888,
             "#fdca26"
            ],
            [
             1,
             "#f0f921"
            ]
           ],
           "sequentialminus": [
            [
             0,
             "#0d0887"
            ],
            [
             0.1111111111111111,
             "#46039f"
            ],
            [
             0.2222222222222222,
             "#7201a8"
            ],
            [
             0.3333333333333333,
             "#9c179e"
            ],
            [
             0.4444444444444444,
             "#bd3786"
            ],
            [
             0.5555555555555556,
             "#d8576b"
            ],
            [
             0.6666666666666666,
             "#ed7953"
            ],
            [
             0.7777777777777778,
             "#fb9f3a"
            ],
            [
             0.8888888888888888,
             "#fdca26"
            ],
            [
             1,
             "#f0f921"
            ]
           ]
          },
          "colorway": [
           "#636efa",
           "#EF553B",
           "#00cc96",
           "#ab63fa",
           "#FFA15A",
           "#19d3f3",
           "#FF6692",
           "#B6E880",
           "#FF97FF",
           "#FECB52"
          ],
          "font": {
           "color": "#2a3f5f"
          },
          "geo": {
           "bgcolor": "white",
           "lakecolor": "white",
           "landcolor": "#E5ECF6",
           "showlakes": true,
           "showland": true,
           "subunitcolor": "white"
          },
          "hoverlabel": {
           "align": "left"
          },
          "hovermode": "closest",
          "mapbox": {
           "style": "light"
          },
          "paper_bgcolor": "white",
          "plot_bgcolor": "#E5ECF6",
          "polar": {
           "angularaxis": {
            "gridcolor": "white",
            "linecolor": "white",
            "ticks": ""
           },
           "bgcolor": "#E5ECF6",
           "radialaxis": {
            "gridcolor": "white",
            "linecolor": "white",
            "ticks": ""
           }
          },
          "scene": {
           "xaxis": {
            "backgroundcolor": "#E5ECF6",
            "gridcolor": "white",
            "gridwidth": 2,
            "linecolor": "white",
            "showbackground": true,
            "ticks": "",
            "zerolinecolor": "white"
           },
           "yaxis": {
            "backgroundcolor": "#E5ECF6",
            "gridcolor": "white",
            "gridwidth": 2,
            "linecolor": "white",
            "showbackground": true,
            "ticks": "",
            "zerolinecolor": "white"
           },
           "zaxis": {
            "backgroundcolor": "#E5ECF6",
            "gridcolor": "white",
            "gridwidth": 2,
            "linecolor": "white",
            "showbackground": true,
            "ticks": "",
            "zerolinecolor": "white"
           }
          },
          "shapedefaults": {
           "line": {
            "color": "#2a3f5f"
           }
          },
          "ternary": {
           "aaxis": {
            "gridcolor": "white",
            "linecolor": "white",
            "ticks": ""
           },
           "baxis": {
            "gridcolor": "white",
            "linecolor": "white",
            "ticks": ""
           },
           "bgcolor": "#E5ECF6",
           "caxis": {
            "gridcolor": "white",
            "linecolor": "white",
            "ticks": ""
           }
          },
          "title": {
           "x": 0.05
          },
          "xaxis": {
           "automargin": true,
           "gridcolor": "white",
           "linecolor": "white",
           "ticks": "",
           "title": {
            "standoff": 15
           },
           "zerolinecolor": "white",
           "zerolinewidth": 2
          },
          "yaxis": {
           "automargin": true,
           "gridcolor": "white",
           "linecolor": "white",
           "ticks": "",
           "title": {
            "standoff": 15
           },
           "zerolinecolor": "white",
           "zerolinewidth": 2
          }
         }
        },
        "title": {
         "font": {
          "color": "#4D5663"
         }
        },
        "xaxis": {
         "gridcolor": "#E1E5ED",
         "showgrid": true,
         "tickfont": {
          "color": "#4D5663"
         },
         "title": {
          "font": {
           "color": "#4D5663"
          },
          "text": ""
         },
         "zerolinecolor": "#E1E5ED"
        },
        "yaxis": {
         "gridcolor": "#E1E5ED",
         "showgrid": true,
         "tickfont": {
          "color": "#4D5663"
         },
         "title": {
          "font": {
           "color": "#4D5663"
          },
          "text": ""
         },
         "zerolinecolor": "#E1E5ED"
        }
       }
      },
      "text/html": [
       "<div>                            <div id=\"ae4102e2-1b36-4aa1-ad53-1771a5478051\" class=\"plotly-graph-div\" style=\"height:525px; width:100%;\"></div>            <script type=\"text/javascript\">                require([\"plotly\"], function(Plotly) {                    window.PLOTLYENV=window.PLOTLYENV || {};\n",
       "                    window.PLOTLYENV.BASE_URL='https://plot.ly';                                    if (document.getElementById(\"ae4102e2-1b36-4aa1-ad53-1771a5478051\")) {                    Plotly.newPlot(                        \"ae4102e2-1b36-4aa1-ad53-1771a5478051\",                        [{\"histfunc\":\"count\",\"histnorm\":\"\",\"marker\":{\"color\":\"rgba(255, 153, 51, 1.0)\",\"line\":{\"color\":\"#4D5663\",\"width\":1.3}},\"name\":\"A\",\"nbinsx\":25,\"opacity\":0.8,\"orientation\":\"v\",\"x\":[0.7578306652600714,0.6706958613531931,-1.786751065174122,0.5602920264863411,1.2093903118572087,-0.07721121963587653,-0.6006294853354058,-0.20549799611085745,0.14447932596359128,-0.6194297923494315,0.289965871828332,1.334295055420149,1.2776093322599726,0.6941583739260736,-0.4768485479531304,-1.3945337778497289,-0.8308943714415719,-0.1908555235678979,-0.35903626618040974,-2.0200458765769387,0.4448500215436498,0.20422160240325865,0.5392099010996428,-0.2690083112201799,-0.8563251939013093,0.3391207855185764,-0.7792248890505376,-0.02083868757770441,-0.03344647009605206,-1.3904501532020737,0.3608322091072763,-2.2848433711479856,-0.13177311715226472,-0.25776768300903474,0.027962301258553895,1.681435385772883,-0.6221469941651722,-1.1917502523025978,-2.1355438596372207,-0.29686712138952165,0.6467733369508364,-0.788778618157295,-0.9093268462871056,-0.6953376105722637,-0.23977448704372462,-0.3453021315051399,1.4490027915911707,0.32472600886413877,0.9359226852540424,2.6586112671481525,-0.32333375611415116,4.0344297621507454,-0.8205988894356041,-1.1362389424169994,-0.2111340316655757,0.33053613427656303,-2.2883541938471232,0.15101230122841047,0.5630993680418365,0.04005306805778204,0.7320047941010306,2.022400726278812,-1.110462875185184,1.815902928551929,0.23541742291644363,-0.299353695139132,1.782004055400953,0.5886194597980433,0.3249032927706249,0.22970085014314612,1.0296152959656006,0.3113892172505194,-0.6738285807996732,-1.4294071757980833,1.0331708534128439,1.0786061415606991,-1.0927355132299985,-0.26801167744466736,1.283875352142768,-1.1922505632319573,-0.11461499732670305,0.5612224005874871,-1.9495625965611316,-0.6754021167285816,-0.1713261396526278,2.3700737799129836,0.20724970718019972,0.36570347615770693,-0.7904553715348929,0.026238426697340594,-1.904503266356009,1.574480717301306,1.3400837073902583,-0.4839947096236791,-1.1813582092678951,1.6626390476575212,-1.0216179790542574,-0.6949471304302506,0.9285689130307127,-0.2926143093506573],\"type\":\"histogram\"}],                        {\"barmode\":\"overlay\",\"legend\":{\"bgcolor\":\"#F5F6F9\",\"font\":{\"color\":\"#4D5663\"}},\"paper_bgcolor\":\"#F5F6F9\",\"plot_bgcolor\":\"#F5F6F9\",\"template\":{\"data\":{\"barpolar\":[{\"marker\":{\"line\":{\"color\":\"#E5ECF6\",\"width\":0.5},\"pattern\":{\"fillmode\":\"overlay\",\"size\":10,\"solidity\":0.2}},\"type\":\"barpolar\"}],\"bar\":[{\"error_x\":{\"color\":\"#2a3f5f\"},\"error_y\":{\"color\":\"#2a3f5f\"},\"marker\":{\"line\":{\"color\":\"#E5ECF6\",\"width\":0.5},\"pattern\":{\"fillmode\":\"overlay\",\"size\":10,\"solidity\":0.2}},\"type\":\"bar\"}],\"carpet\":[{\"aaxis\":{\"endlinecolor\":\"#2a3f5f\",\"gridcolor\":\"white\",\"linecolor\":\"white\",\"minorgridcolor\":\"white\",\"startlinecolor\":\"#2a3f5f\"},\"baxis\":{\"endlinecolor\":\"#2a3f5f\",\"gridcolor\":\"white\",\"linecolor\":\"white\",\"minorgridcolor\":\"white\",\"startlinecolor\":\"#2a3f5f\"},\"type\":\"carpet\"}],\"choropleth\":[{\"colorbar\":{\"outlinewidth\":0,\"ticks\":\"\"},\"type\":\"choropleth\"}],\"contourcarpet\":[{\"colorbar\":{\"outlinewidth\":0,\"ticks\":\"\"},\"type\":\"contourcarpet\"}],\"contour\":[{\"colorbar\":{\"outlinewidth\":0,\"ticks\":\"\"},\"colorscale\":[[0.0,\"#0d0887\"],[0.1111111111111111,\"#46039f\"],[0.2222222222222222,\"#7201a8\"],[0.3333333333333333,\"#9c179e\"],[0.4444444444444444,\"#bd3786\"],[0.5555555555555556,\"#d8576b\"],[0.6666666666666666,\"#ed7953\"],[0.7777777777777778,\"#fb9f3a\"],[0.8888888888888888,\"#fdca26\"],[1.0,\"#f0f921\"]],\"type\":\"contour\"}],\"heatmapgl\":[{\"colorbar\":{\"outlinewidth\":0,\"ticks\":\"\"},\"colorscale\":[[0.0,\"#0d0887\"],[0.1111111111111111,\"#46039f\"],[0.2222222222222222,\"#7201a8\"],[0.3333333333333333,\"#9c179e\"],[0.4444444444444444,\"#bd3786\"],[0.5555555555555556,\"#d8576b\"],[0.6666666666666666,\"#ed7953\"],[0.7777777777777778,\"#fb9f3a\"],[0.8888888888888888,\"#fdca26\"],[1.0,\"#f0f921\"]],\"type\":\"heatmapgl\"}],\"heatmap\":[{\"colorbar\":{\"outlinewidth\":0,\"ticks\":\"\"},\"colorscale\":[[0.0,\"#0d0887\"],[0.1111111111111111,\"#46039f\"],[0.2222222222222222,\"#7201a8\"],[0.3333333333333333,\"#9c179e\"],[0.4444444444444444,\"#bd3786\"],[0.5555555555555556,\"#d8576b\"],[0.6666666666666666,\"#ed7953\"],[0.7777777777777778,\"#fb9f3a\"],[0.8888888888888888,\"#fdca26\"],[1.0,\"#f0f921\"]],\"type\":\"heatmap\"}],\"histogram2dcontour\":[{\"colorbar\":{\"outlinewidth\":0,\"ticks\":\"\"},\"colorscale\":[[0.0,\"#0d0887\"],[0.1111111111111111,\"#46039f\"],[0.2222222222222222,\"#7201a8\"],[0.3333333333333333,\"#9c179e\"],[0.4444444444444444,\"#bd3786\"],[0.5555555555555556,\"#d8576b\"],[0.6666666666666666,\"#ed7953\"],[0.7777777777777778,\"#fb9f3a\"],[0.8888888888888888,\"#fdca26\"],[1.0,\"#f0f921\"]],\"type\":\"histogram2dcontour\"}],\"histogram2d\":[{\"colorbar\":{\"outlinewidth\":0,\"ticks\":\"\"},\"colorscale\":[[0.0,\"#0d0887\"],[0.1111111111111111,\"#46039f\"],[0.2222222222222222,\"#7201a8\"],[0.3333333333333333,\"#9c179e\"],[0.4444444444444444,\"#bd3786\"],[0.5555555555555556,\"#d8576b\"],[0.6666666666666666,\"#ed7953\"],[0.7777777777777778,\"#fb9f3a\"],[0.8888888888888888,\"#fdca26\"],[1.0,\"#f0f921\"]],\"type\":\"histogram2d\"}],\"histogram\":[{\"marker\":{\"pattern\":{\"fillmode\":\"overlay\",\"size\":10,\"solidity\":0.2}},\"type\":\"histogram\"}],\"mesh3d\":[{\"colorbar\":{\"outlinewidth\":0,\"ticks\":\"\"},\"type\":\"mesh3d\"}],\"parcoords\":[{\"line\":{\"colorbar\":{\"outlinewidth\":0,\"ticks\":\"\"}},\"type\":\"parcoords\"}],\"pie\":[{\"automargin\":true,\"type\":\"pie\"}],\"scatter3d\":[{\"line\":{\"colorbar\":{\"outlinewidth\":0,\"ticks\":\"\"}},\"marker\":{\"colorbar\":{\"outlinewidth\":0,\"ticks\":\"\"}},\"type\":\"scatter3d\"}],\"scattercarpet\":[{\"marker\":{\"colorbar\":{\"outlinewidth\":0,\"ticks\":\"\"}},\"type\":\"scattercarpet\"}],\"scattergeo\":[{\"marker\":{\"colorbar\":{\"outlinewidth\":0,\"ticks\":\"\"}},\"type\":\"scattergeo\"}],\"scattergl\":[{\"marker\":{\"colorbar\":{\"outlinewidth\":0,\"ticks\":\"\"}},\"type\":\"scattergl\"}],\"scattermapbox\":[{\"marker\":{\"colorbar\":{\"outlinewidth\":0,\"ticks\":\"\"}},\"type\":\"scattermapbox\"}],\"scatterpolargl\":[{\"marker\":{\"colorbar\":{\"outlinewidth\":0,\"ticks\":\"\"}},\"type\":\"scatterpolargl\"}],\"scatterpolar\":[{\"marker\":{\"colorbar\":{\"outlinewidth\":0,\"ticks\":\"\"}},\"type\":\"scatterpolar\"}],\"scatter\":[{\"fillpattern\":{\"fillmode\":\"overlay\",\"size\":10,\"solidity\":0.2},\"type\":\"scatter\"}],\"scatterternary\":[{\"marker\":{\"colorbar\":{\"outlinewidth\":0,\"ticks\":\"\"}},\"type\":\"scatterternary\"}],\"surface\":[{\"colorbar\":{\"outlinewidth\":0,\"ticks\":\"\"},\"colorscale\":[[0.0,\"#0d0887\"],[0.1111111111111111,\"#46039f\"],[0.2222222222222222,\"#7201a8\"],[0.3333333333333333,\"#9c179e\"],[0.4444444444444444,\"#bd3786\"],[0.5555555555555556,\"#d8576b\"],[0.6666666666666666,\"#ed7953\"],[0.7777777777777778,\"#fb9f3a\"],[0.8888888888888888,\"#fdca26\"],[1.0,\"#f0f921\"]],\"type\":\"surface\"}],\"table\":[{\"cells\":{\"fill\":{\"color\":\"#EBF0F8\"},\"line\":{\"color\":\"white\"}},\"header\":{\"fill\":{\"color\":\"#C8D4E3\"},\"line\":{\"color\":\"white\"}},\"type\":\"table\"}]},\"layout\":{\"annotationdefaults\":{\"arrowcolor\":\"#2a3f5f\",\"arrowhead\":0,\"arrowwidth\":1},\"autotypenumbers\":\"strict\",\"coloraxis\":{\"colorbar\":{\"outlinewidth\":0,\"ticks\":\"\"}},\"colorscale\":{\"diverging\":[[0,\"#8e0152\"],[0.1,\"#c51b7d\"],[0.2,\"#de77ae\"],[0.3,\"#f1b6da\"],[0.4,\"#fde0ef\"],[0.5,\"#f7f7f7\"],[0.6,\"#e6f5d0\"],[0.7,\"#b8e186\"],[0.8,\"#7fbc41\"],[0.9,\"#4d9221\"],[1,\"#276419\"]],\"sequential\":[[0.0,\"#0d0887\"],[0.1111111111111111,\"#46039f\"],[0.2222222222222222,\"#7201a8\"],[0.3333333333333333,\"#9c179e\"],[0.4444444444444444,\"#bd3786\"],[0.5555555555555556,\"#d8576b\"],[0.6666666666666666,\"#ed7953\"],[0.7777777777777778,\"#fb9f3a\"],[0.8888888888888888,\"#fdca26\"],[1.0,\"#f0f921\"]],\"sequentialminus\":[[0.0,\"#0d0887\"],[0.1111111111111111,\"#46039f\"],[0.2222222222222222,\"#7201a8\"],[0.3333333333333333,\"#9c179e\"],[0.4444444444444444,\"#bd3786\"],[0.5555555555555556,\"#d8576b\"],[0.6666666666666666,\"#ed7953\"],[0.7777777777777778,\"#fb9f3a\"],[0.8888888888888888,\"#fdca26\"],[1.0,\"#f0f921\"]]},\"colorway\":[\"#636efa\",\"#EF553B\",\"#00cc96\",\"#ab63fa\",\"#FFA15A\",\"#19d3f3\",\"#FF6692\",\"#B6E880\",\"#FF97FF\",\"#FECB52\"],\"font\":{\"color\":\"#2a3f5f\"},\"geo\":{\"bgcolor\":\"white\",\"lakecolor\":\"white\",\"landcolor\":\"#E5ECF6\",\"showlakes\":true,\"showland\":true,\"subunitcolor\":\"white\"},\"hoverlabel\":{\"align\":\"left\"},\"hovermode\":\"closest\",\"mapbox\":{\"style\":\"light\"},\"paper_bgcolor\":\"white\",\"plot_bgcolor\":\"#E5ECF6\",\"polar\":{\"angularaxis\":{\"gridcolor\":\"white\",\"linecolor\":\"white\",\"ticks\":\"\"},\"bgcolor\":\"#E5ECF6\",\"radialaxis\":{\"gridcolor\":\"white\",\"linecolor\":\"white\",\"ticks\":\"\"}},\"scene\":{\"xaxis\":{\"backgroundcolor\":\"#E5ECF6\",\"gridcolor\":\"white\",\"gridwidth\":2,\"linecolor\":\"white\",\"showbackground\":true,\"ticks\":\"\",\"zerolinecolor\":\"white\"},\"yaxis\":{\"backgroundcolor\":\"#E5ECF6\",\"gridcolor\":\"white\",\"gridwidth\":2,\"linecolor\":\"white\",\"showbackground\":true,\"ticks\":\"\",\"zerolinecolor\":\"white\"},\"zaxis\":{\"backgroundcolor\":\"#E5ECF6\",\"gridcolor\":\"white\",\"gridwidth\":2,\"linecolor\":\"white\",\"showbackground\":true,\"ticks\":\"\",\"zerolinecolor\":\"white\"}},\"shapedefaults\":{\"line\":{\"color\":\"#2a3f5f\"}},\"ternary\":{\"aaxis\":{\"gridcolor\":\"white\",\"linecolor\":\"white\",\"ticks\":\"\"},\"baxis\":{\"gridcolor\":\"white\",\"linecolor\":\"white\",\"ticks\":\"\"},\"bgcolor\":\"#E5ECF6\",\"caxis\":{\"gridcolor\":\"white\",\"linecolor\":\"white\",\"ticks\":\"\"}},\"title\":{\"x\":0.05},\"xaxis\":{\"automargin\":true,\"gridcolor\":\"white\",\"linecolor\":\"white\",\"ticks\":\"\",\"title\":{\"standoff\":15},\"zerolinecolor\":\"white\",\"zerolinewidth\":2},\"yaxis\":{\"automargin\":true,\"gridcolor\":\"white\",\"linecolor\":\"white\",\"ticks\":\"\",\"title\":{\"standoff\":15},\"zerolinecolor\":\"white\",\"zerolinewidth\":2}}},\"title\":{\"font\":{\"color\":\"#4D5663\"}},\"xaxis\":{\"gridcolor\":\"#E1E5ED\",\"showgrid\":true,\"tickfont\":{\"color\":\"#4D5663\"},\"title\":{\"font\":{\"color\":\"#4D5663\"},\"text\":\"\"},\"zerolinecolor\":\"#E1E5ED\"},\"yaxis\":{\"gridcolor\":\"#E1E5ED\",\"showgrid\":true,\"tickfont\":{\"color\":\"#4D5663\"},\"title\":{\"font\":{\"color\":\"#4D5663\"},\"text\":\"\"},\"zerolinecolor\":\"#E1E5ED\"}},                        {\"showLink\": true, \"linkText\": \"Export to plot.ly\", \"plotlyServerURL\": \"https://plot.ly\", \"responsive\": true}                    ).then(function(){\n",
       "                            \n",
       "var gd = document.getElementById('ae4102e2-1b36-4aa1-ad53-1771a5478051');\n",
       "var x = new MutationObserver(function (mutations, observer) {{\n",
       "        var display = window.getComputedStyle(gd).display;\n",
       "        if (!display || display === 'none') {{\n",
       "            console.log([gd, 'removed!']);\n",
       "            Plotly.purge(gd);\n",
       "            observer.disconnect();\n",
       "        }}\n",
       "}});\n",
       "\n",
       "// Listen for the removal of the full notebook cells\n",
       "var notebookContainer = gd.closest('#notebook-container');\n",
       "if (notebookContainer) {{\n",
       "    x.observe(notebookContainer, {childList: true});\n",
       "}}\n",
       "\n",
       "// Listen for the clearing of the current output cell\n",
       "var outputEl = gd.closest('.output');\n",
       "if (outputEl) {{\n",
       "    x.observe(outputEl, {childList: true});\n",
       "}}\n",
       "\n",
       "                        })                };                });            </script>        </div>"
      ]
     },
     "metadata": {},
     "output_type": "display_data"
    }
   ],
   "source": [
    "df['A'].iplot(kind = 'hist', bins = 25)"
   ]
  },
  {
   "cell_type": "code",
   "execution_count": 34,
   "id": "7a66a47d",
   "metadata": {},
   "outputs": [
    {
     "data": {
      "application/vnd.plotly.v1+json": {
       "config": {
        "linkText": "Export to plot.ly",
        "plotlyServerURL": "https://plot.ly",
        "showLink": true
       },
       "data": [
        {
         "marker": {
          "color": [
           "rgb(255, 153, 51)",
           "rgb(55, 128, 191)",
           "rgb(50, 171, 96)",
           "rgb(128, 0, 128)",
           "rgb(219, 64, 82)",
           "rgb(0, 128, 128)",
           "rgb(255, 255, 51)",
           "rgb(128, 128, 0)",
           "rgb(251, 128, 114)",
           "rgb(128, 177, 211)"
          ],
          "line": {
           "width": 1.3
          },
          "size": [
           80,
           70,
           83,
           109,
           82,
           34,
           37,
           81,
           67,
           46,
           49,
           74,
           72,
           44,
           57,
           55,
           53,
           86,
           37,
           75,
           37,
           49,
           34,
           45,
           53,
           76,
           26,
           61,
           75,
           49,
           83,
           92,
           52,
           60,
           19,
           78,
           68,
           67,
           64,
           58,
           37,
           31,
           33,
           87,
           56,
           47,
           76,
           51,
           43,
           71,
           68,
           80,
           79,
           98,
           49,
           71,
           67,
           68,
           53,
           45,
           54,
           56,
           77,
           40,
           57,
           30,
           67,
           65,
           37,
           57,
           60,
           40,
           54,
           66,
           60,
           80,
           20,
           58,
           12,
           60,
           53,
           43,
           73,
           57,
           51,
           69,
           45,
           35,
           45,
           58,
           42,
           50,
           50,
           58,
           30,
           41,
           23,
           61,
           54,
           112
          ],
          "symbol": "circle"
         },
         "mode": "markers",
         "text": "",
         "type": "scatter",
         "x": [
          0.7578306652600714,
          0.6706958613531931,
          -1.786751065174122,
          0.5602920264863411,
          1.2093903118572087,
          -0.07721121963587653,
          -0.6006294853354058,
          -0.20549799611085745,
          0.14447932596359128,
          -0.6194297923494315,
          0.289965871828332,
          1.334295055420149,
          1.2776093322599726,
          0.6941583739260736,
          -0.4768485479531304,
          -1.3945337778497289,
          -0.8308943714415719,
          -0.1908555235678979,
          -0.35903626618040974,
          -2.0200458765769387,
          0.4448500215436498,
          0.20422160240325865,
          0.5392099010996428,
          -0.2690083112201799,
          -0.8563251939013093,
          0.3391207855185764,
          -0.7792248890505376,
          -0.02083868757770441,
          -0.03344647009605206,
          -1.3904501532020737,
          0.3608322091072763,
          -2.2848433711479856,
          -0.13177311715226472,
          -0.25776768300903474,
          0.027962301258553895,
          1.681435385772883,
          -0.6221469941651722,
          -1.1917502523025978,
          -2.1355438596372207,
          -0.29686712138952165,
          0.6467733369508364,
          -0.788778618157295,
          -0.9093268462871056,
          -0.6953376105722637,
          -0.23977448704372462,
          -0.3453021315051399,
          1.4490027915911707,
          0.32472600886413877,
          0.9359226852540424,
          2.6586112671481525,
          -0.32333375611415116,
          4.0344297621507454,
          -0.8205988894356041,
          -1.1362389424169994,
          -0.2111340316655757,
          0.33053613427656303,
          -2.2883541938471232,
          0.15101230122841047,
          0.5630993680418365,
          0.04005306805778204,
          0.7320047941010306,
          2.022400726278812,
          -1.110462875185184,
          1.815902928551929,
          0.23541742291644363,
          -0.299353695139132,
          1.782004055400953,
          0.5886194597980433,
          0.3249032927706249,
          0.22970085014314612,
          1.0296152959656006,
          0.3113892172505194,
          -0.6738285807996732,
          -1.4294071757980833,
          1.0331708534128439,
          1.0786061415606991,
          -1.0927355132299985,
          -0.26801167744466736,
          1.283875352142768,
          -1.1922505632319573,
          -0.11461499732670305,
          0.5612224005874871,
          -1.9495625965611316,
          -0.6754021167285816,
          -0.1713261396526278,
          2.3700737799129836,
          0.20724970718019972,
          0.36570347615770693,
          -0.7904553715348929,
          0.026238426697340594,
          -1.904503266356009,
          1.574480717301306,
          1.3400837073902583,
          -0.4839947096236791,
          -1.1813582092678951,
          1.6626390476575212,
          -1.0216179790542574,
          -0.6949471304302506,
          0.9285689130307127,
          -0.2926143093506573
         ],
         "y": [
          -0.2912892972987383,
          -0.5099817648528213,
          1.1908177594187945,
          1.6852654510348208,
          0.14882243470747117,
          -2.3037953168126015,
          -0.24570904973412847,
          0.27026697246654063,
          0.5489241190861819,
          1.0494892047672069,
          1.6449557327042612,
          -1.2435292515972494,
          1.0827059551477518,
          -2.3265514065069826,
          -1.8432176330776107,
          1.2563120938727566,
          2.1016432707721964,
          0.8835351387421774,
          0.7887795942984664,
          1.2320778057208106,
          -0.019410404695273668,
          -1.0221872298474088,
          -1.4324446606118177,
          1.0556769315616874,
          2.6333874524887424,
          1.0219370562933083,
          -1.0447863310211478,
          -0.31296385151259865,
          -0.5495225412079057,
          -0.5760573962317269,
          0.4189253096607101,
          1.471342914336534,
          1.0222367104442975,
          0.15985179971099342,
          -1.6756594262295046,
          -0.3772891667954507,
          0.5683044437292576,
          -2.049073107560736,
          0.4903378004188023,
          0.4530662374795767,
          -1.308635707523197,
          0.6446017773525391,
          -2.4390504610217976,
          1.4355999105681634,
          0.4014417106028471,
          -0.06582744145685468,
          0.4870730284017431,
          -1.9493842372661236,
          2.2826084790025343,
          -1.2718059047713601,
          -2.6857235646383626,
          -0.7201157734494502,
          -0.1920660069857729,
          0.5341498433545641,
          -0.6498776596158321,
          -0.6881579664154346,
          -0.017781421996660406,
          -0.006479640791160362,
          -1.4875180851261842,
          -2.151414005208173,
          -0.06862265103004218,
          -0.6809989254617403,
          0.07246770576574128,
          1.5709090059774033,
          1.2092234979821614,
          -1.7336592475299253,
          0.3750141896515368,
          -0.7224394257070924,
          1.569857139426887,
          0.6761954348997585,
          0.5973200260553962,
          -1.3395346590300246,
          -0.31508903188547854,
          -0.6159141442383137,
          -0.8342038355358447,
          1.5799669056690253,
          -0.8695982902595847,
          2.5086007158219537,
          -0.4983408276616498,
          0.9792467346219735,
          0.7202387436322023,
          1.565905215152806,
          0.11437371066288606,
          -0.2344926835279254,
          0.5064013627686159,
          0.9212884740745085,
          -2.438177970385512,
          -1.1653160008924643,
          0.5847791301571718,
          1.1658578569944609,
          -1.9586439283763402,
          -0.023745458263176616,
          -0.9644614734785698,
          -0.5583469240013501,
          0.6541854785700131,
          2.053427150608331,
          0.8658266947740538,
          1.8457601392044725,
          -1.0635193533480607,
          1.002028410054408
         ]
        }
       ],
       "layout": {
        "legend": {
         "bgcolor": "#F5F6F9",
         "font": {
          "color": "#4D5663"
         }
        },
        "paper_bgcolor": "#F5F6F9",
        "plot_bgcolor": "#F5F6F9",
        "template": {
         "data": {
          "bar": [
           {
            "error_x": {
             "color": "#2a3f5f"
            },
            "error_y": {
             "color": "#2a3f5f"
            },
            "marker": {
             "line": {
              "color": "#E5ECF6",
              "width": 0.5
             },
             "pattern": {
              "fillmode": "overlay",
              "size": 10,
              "solidity": 0.2
             }
            },
            "type": "bar"
           }
          ],
          "barpolar": [
           {
            "marker": {
             "line": {
              "color": "#E5ECF6",
              "width": 0.5
             },
             "pattern": {
              "fillmode": "overlay",
              "size": 10,
              "solidity": 0.2
             }
            },
            "type": "barpolar"
           }
          ],
          "carpet": [
           {
            "aaxis": {
             "endlinecolor": "#2a3f5f",
             "gridcolor": "white",
             "linecolor": "white",
             "minorgridcolor": "white",
             "startlinecolor": "#2a3f5f"
            },
            "baxis": {
             "endlinecolor": "#2a3f5f",
             "gridcolor": "white",
             "linecolor": "white",
             "minorgridcolor": "white",
             "startlinecolor": "#2a3f5f"
            },
            "type": "carpet"
           }
          ],
          "choropleth": [
           {
            "colorbar": {
             "outlinewidth": 0,
             "ticks": ""
            },
            "type": "choropleth"
           }
          ],
          "contour": [
           {
            "colorbar": {
             "outlinewidth": 0,
             "ticks": ""
            },
            "colorscale": [
             [
              0,
              "#0d0887"
             ],
             [
              0.1111111111111111,
              "#46039f"
             ],
             [
              0.2222222222222222,
              "#7201a8"
             ],
             [
              0.3333333333333333,
              "#9c179e"
             ],
             [
              0.4444444444444444,
              "#bd3786"
             ],
             [
              0.5555555555555556,
              "#d8576b"
             ],
             [
              0.6666666666666666,
              "#ed7953"
             ],
             [
              0.7777777777777778,
              "#fb9f3a"
             ],
             [
              0.8888888888888888,
              "#fdca26"
             ],
             [
              1,
              "#f0f921"
             ]
            ],
            "type": "contour"
           }
          ],
          "contourcarpet": [
           {
            "colorbar": {
             "outlinewidth": 0,
             "ticks": ""
            },
            "type": "contourcarpet"
           }
          ],
          "heatmap": [
           {
            "colorbar": {
             "outlinewidth": 0,
             "ticks": ""
            },
            "colorscale": [
             [
              0,
              "#0d0887"
             ],
             [
              0.1111111111111111,
              "#46039f"
             ],
             [
              0.2222222222222222,
              "#7201a8"
             ],
             [
              0.3333333333333333,
              "#9c179e"
             ],
             [
              0.4444444444444444,
              "#bd3786"
             ],
             [
              0.5555555555555556,
              "#d8576b"
             ],
             [
              0.6666666666666666,
              "#ed7953"
             ],
             [
              0.7777777777777778,
              "#fb9f3a"
             ],
             [
              0.8888888888888888,
              "#fdca26"
             ],
             [
              1,
              "#f0f921"
             ]
            ],
            "type": "heatmap"
           }
          ],
          "heatmapgl": [
           {
            "colorbar": {
             "outlinewidth": 0,
             "ticks": ""
            },
            "colorscale": [
             [
              0,
              "#0d0887"
             ],
             [
              0.1111111111111111,
              "#46039f"
             ],
             [
              0.2222222222222222,
              "#7201a8"
             ],
             [
              0.3333333333333333,
              "#9c179e"
             ],
             [
              0.4444444444444444,
              "#bd3786"
             ],
             [
              0.5555555555555556,
              "#d8576b"
             ],
             [
              0.6666666666666666,
              "#ed7953"
             ],
             [
              0.7777777777777778,
              "#fb9f3a"
             ],
             [
              0.8888888888888888,
              "#fdca26"
             ],
             [
              1,
              "#f0f921"
             ]
            ],
            "type": "heatmapgl"
           }
          ],
          "histogram": [
           {
            "marker": {
             "pattern": {
              "fillmode": "overlay",
              "size": 10,
              "solidity": 0.2
             }
            },
            "type": "histogram"
           }
          ],
          "histogram2d": [
           {
            "colorbar": {
             "outlinewidth": 0,
             "ticks": ""
            },
            "colorscale": [
             [
              0,
              "#0d0887"
             ],
             [
              0.1111111111111111,
              "#46039f"
             ],
             [
              0.2222222222222222,
              "#7201a8"
             ],
             [
              0.3333333333333333,
              "#9c179e"
             ],
             [
              0.4444444444444444,
              "#bd3786"
             ],
             [
              0.5555555555555556,
              "#d8576b"
             ],
             [
              0.6666666666666666,
              "#ed7953"
             ],
             [
              0.7777777777777778,
              "#fb9f3a"
             ],
             [
              0.8888888888888888,
              "#fdca26"
             ],
             [
              1,
              "#f0f921"
             ]
            ],
            "type": "histogram2d"
           }
          ],
          "histogram2dcontour": [
           {
            "colorbar": {
             "outlinewidth": 0,
             "ticks": ""
            },
            "colorscale": [
             [
              0,
              "#0d0887"
             ],
             [
              0.1111111111111111,
              "#46039f"
             ],
             [
              0.2222222222222222,
              "#7201a8"
             ],
             [
              0.3333333333333333,
              "#9c179e"
             ],
             [
              0.4444444444444444,
              "#bd3786"
             ],
             [
              0.5555555555555556,
              "#d8576b"
             ],
             [
              0.6666666666666666,
              "#ed7953"
             ],
             [
              0.7777777777777778,
              "#fb9f3a"
             ],
             [
              0.8888888888888888,
              "#fdca26"
             ],
             [
              1,
              "#f0f921"
             ]
            ],
            "type": "histogram2dcontour"
           }
          ],
          "mesh3d": [
           {
            "colorbar": {
             "outlinewidth": 0,
             "ticks": ""
            },
            "type": "mesh3d"
           }
          ],
          "parcoords": [
           {
            "line": {
             "colorbar": {
              "outlinewidth": 0,
              "ticks": ""
             }
            },
            "type": "parcoords"
           }
          ],
          "pie": [
           {
            "automargin": true,
            "type": "pie"
           }
          ],
          "scatter": [
           {
            "fillpattern": {
             "fillmode": "overlay",
             "size": 10,
             "solidity": 0.2
            },
            "type": "scatter"
           }
          ],
          "scatter3d": [
           {
            "line": {
             "colorbar": {
              "outlinewidth": 0,
              "ticks": ""
             }
            },
            "marker": {
             "colorbar": {
              "outlinewidth": 0,
              "ticks": ""
             }
            },
            "type": "scatter3d"
           }
          ],
          "scattercarpet": [
           {
            "marker": {
             "colorbar": {
              "outlinewidth": 0,
              "ticks": ""
             }
            },
            "type": "scattercarpet"
           }
          ],
          "scattergeo": [
           {
            "marker": {
             "colorbar": {
              "outlinewidth": 0,
              "ticks": ""
             }
            },
            "type": "scattergeo"
           }
          ],
          "scattergl": [
           {
            "marker": {
             "colorbar": {
              "outlinewidth": 0,
              "ticks": ""
             }
            },
            "type": "scattergl"
           }
          ],
          "scattermapbox": [
           {
            "marker": {
             "colorbar": {
              "outlinewidth": 0,
              "ticks": ""
             }
            },
            "type": "scattermapbox"
           }
          ],
          "scatterpolar": [
           {
            "marker": {
             "colorbar": {
              "outlinewidth": 0,
              "ticks": ""
             }
            },
            "type": "scatterpolar"
           }
          ],
          "scatterpolargl": [
           {
            "marker": {
             "colorbar": {
              "outlinewidth": 0,
              "ticks": ""
             }
            },
            "type": "scatterpolargl"
           }
          ],
          "scatterternary": [
           {
            "marker": {
             "colorbar": {
              "outlinewidth": 0,
              "ticks": ""
             }
            },
            "type": "scatterternary"
           }
          ],
          "surface": [
           {
            "colorbar": {
             "outlinewidth": 0,
             "ticks": ""
            },
            "colorscale": [
             [
              0,
              "#0d0887"
             ],
             [
              0.1111111111111111,
              "#46039f"
             ],
             [
              0.2222222222222222,
              "#7201a8"
             ],
             [
              0.3333333333333333,
              "#9c179e"
             ],
             [
              0.4444444444444444,
              "#bd3786"
             ],
             [
              0.5555555555555556,
              "#d8576b"
             ],
             [
              0.6666666666666666,
              "#ed7953"
             ],
             [
              0.7777777777777778,
              "#fb9f3a"
             ],
             [
              0.8888888888888888,
              "#fdca26"
             ],
             [
              1,
              "#f0f921"
             ]
            ],
            "type": "surface"
           }
          ],
          "table": [
           {
            "cells": {
             "fill": {
              "color": "#EBF0F8"
             },
             "line": {
              "color": "white"
             }
            },
            "header": {
             "fill": {
              "color": "#C8D4E3"
             },
             "line": {
              "color": "white"
             }
            },
            "type": "table"
           }
          ]
         },
         "layout": {
          "annotationdefaults": {
           "arrowcolor": "#2a3f5f",
           "arrowhead": 0,
           "arrowwidth": 1
          },
          "autotypenumbers": "strict",
          "coloraxis": {
           "colorbar": {
            "outlinewidth": 0,
            "ticks": ""
           }
          },
          "colorscale": {
           "diverging": [
            [
             0,
             "#8e0152"
            ],
            [
             0.1,
             "#c51b7d"
            ],
            [
             0.2,
             "#de77ae"
            ],
            [
             0.3,
             "#f1b6da"
            ],
            [
             0.4,
             "#fde0ef"
            ],
            [
             0.5,
             "#f7f7f7"
            ],
            [
             0.6,
             "#e6f5d0"
            ],
            [
             0.7,
             "#b8e186"
            ],
            [
             0.8,
             "#7fbc41"
            ],
            [
             0.9,
             "#4d9221"
            ],
            [
             1,
             "#276419"
            ]
           ],
           "sequential": [
            [
             0,
             "#0d0887"
            ],
            [
             0.1111111111111111,
             "#46039f"
            ],
            [
             0.2222222222222222,
             "#7201a8"
            ],
            [
             0.3333333333333333,
             "#9c179e"
            ],
            [
             0.4444444444444444,
             "#bd3786"
            ],
            [
             0.5555555555555556,
             "#d8576b"
            ],
            [
             0.6666666666666666,
             "#ed7953"
            ],
            [
             0.7777777777777778,
             "#fb9f3a"
            ],
            [
             0.8888888888888888,
             "#fdca26"
            ],
            [
             1,
             "#f0f921"
            ]
           ],
           "sequentialminus": [
            [
             0,
             "#0d0887"
            ],
            [
             0.1111111111111111,
             "#46039f"
            ],
            [
             0.2222222222222222,
             "#7201a8"
            ],
            [
             0.3333333333333333,
             "#9c179e"
            ],
            [
             0.4444444444444444,
             "#bd3786"
            ],
            [
             0.5555555555555556,
             "#d8576b"
            ],
            [
             0.6666666666666666,
             "#ed7953"
            ],
            [
             0.7777777777777778,
             "#fb9f3a"
            ],
            [
             0.8888888888888888,
             "#fdca26"
            ],
            [
             1,
             "#f0f921"
            ]
           ]
          },
          "colorway": [
           "#636efa",
           "#EF553B",
           "#00cc96",
           "#ab63fa",
           "#FFA15A",
           "#19d3f3",
           "#FF6692",
           "#B6E880",
           "#FF97FF",
           "#FECB52"
          ],
          "font": {
           "color": "#2a3f5f"
          },
          "geo": {
           "bgcolor": "white",
           "lakecolor": "white",
           "landcolor": "#E5ECF6",
           "showlakes": true,
           "showland": true,
           "subunitcolor": "white"
          },
          "hoverlabel": {
           "align": "left"
          },
          "hovermode": "closest",
          "mapbox": {
           "style": "light"
          },
          "paper_bgcolor": "white",
          "plot_bgcolor": "#E5ECF6",
          "polar": {
           "angularaxis": {
            "gridcolor": "white",
            "linecolor": "white",
            "ticks": ""
           },
           "bgcolor": "#E5ECF6",
           "radialaxis": {
            "gridcolor": "white",
            "linecolor": "white",
            "ticks": ""
           }
          },
          "scene": {
           "xaxis": {
            "backgroundcolor": "#E5ECF6",
            "gridcolor": "white",
            "gridwidth": 2,
            "linecolor": "white",
            "showbackground": true,
            "ticks": "",
            "zerolinecolor": "white"
           },
           "yaxis": {
            "backgroundcolor": "#E5ECF6",
            "gridcolor": "white",
            "gridwidth": 2,
            "linecolor": "white",
            "showbackground": true,
            "ticks": "",
            "zerolinecolor": "white"
           },
           "zaxis": {
            "backgroundcolor": "#E5ECF6",
            "gridcolor": "white",
            "gridwidth": 2,
            "linecolor": "white",
            "showbackground": true,
            "ticks": "",
            "zerolinecolor": "white"
           }
          },
          "shapedefaults": {
           "line": {
            "color": "#2a3f5f"
           }
          },
          "ternary": {
           "aaxis": {
            "gridcolor": "white",
            "linecolor": "white",
            "ticks": ""
           },
           "baxis": {
            "gridcolor": "white",
            "linecolor": "white",
            "ticks": ""
           },
           "bgcolor": "#E5ECF6",
           "caxis": {
            "gridcolor": "white",
            "linecolor": "white",
            "ticks": ""
           }
          },
          "title": {
           "x": 0.05
          },
          "xaxis": {
           "automargin": true,
           "gridcolor": "white",
           "linecolor": "white",
           "ticks": "",
           "title": {
            "standoff": 15
           },
           "zerolinecolor": "white",
           "zerolinewidth": 2
          },
          "yaxis": {
           "automargin": true,
           "gridcolor": "white",
           "linecolor": "white",
           "ticks": "",
           "title": {
            "standoff": 15
           },
           "zerolinecolor": "white",
           "zerolinewidth": 2
          }
         }
        },
        "title": {
         "font": {
          "color": "#4D5663"
         }
        },
        "xaxis": {
         "gridcolor": "#E1E5ED",
         "showgrid": true,
         "tickfont": {
          "color": "#4D5663"
         },
         "title": {
          "font": {
           "color": "#4D5663"
          },
          "text": ""
         },
         "zerolinecolor": "#E1E5ED"
        },
        "yaxis": {
         "gridcolor": "#E1E5ED",
         "showgrid": true,
         "tickfont": {
          "color": "#4D5663"
         },
         "title": {
          "font": {
           "color": "#4D5663"
          },
          "text": ""
         },
         "zerolinecolor": "#E1E5ED"
        }
       }
      },
      "text/html": [
       "<div>                            <div id=\"77bdeda8-69a2-493c-95eb-be44e1bcaf77\" class=\"plotly-graph-div\" style=\"height:525px; width:100%;\"></div>            <script type=\"text/javascript\">                require([\"plotly\"], function(Plotly) {                    window.PLOTLYENV=window.PLOTLYENV || {};\n",
       "                    window.PLOTLYENV.BASE_URL='https://plot.ly';                                    if (document.getElementById(\"77bdeda8-69a2-493c-95eb-be44e1bcaf77\")) {                    Plotly.newPlot(                        \"77bdeda8-69a2-493c-95eb-be44e1bcaf77\",                        [{\"marker\":{\"color\":[\"rgb(255, 153, 51)\",\"rgb(55, 128, 191)\",\"rgb(50, 171, 96)\",\"rgb(128, 0, 128)\",\"rgb(219, 64, 82)\",\"rgb(0, 128, 128)\",\"rgb(255, 255, 51)\",\"rgb(128, 128, 0)\",\"rgb(251, 128, 114)\",\"rgb(128, 177, 211)\"],\"line\":{\"width\":1.3},\"size\":[80,70,83,109,82,34,37,81,67,46,49,74,72,44,57,55,53,86,37,75,37,49,34,45,53,76,26,61,75,49,83,92,52,60,19,78,68,67,64,58,37,31,33,87,56,47,76,51,43,71,68,80,79,98,49,71,67,68,53,45,54,56,77,40,57,30,67,65,37,57,60,40,54,66,60,80,20,58,12,60,53,43,73,57,51,69,45,35,45,58,42,50,50,58,30,41,23,61,54,112],\"symbol\":\"circle\"},\"mode\":\"markers\",\"text\":\"\",\"x\":[0.7578306652600714,0.6706958613531931,-1.786751065174122,0.5602920264863411,1.2093903118572087,-0.07721121963587653,-0.6006294853354058,-0.20549799611085745,0.14447932596359128,-0.6194297923494315,0.289965871828332,1.334295055420149,1.2776093322599726,0.6941583739260736,-0.4768485479531304,-1.3945337778497289,-0.8308943714415719,-0.1908555235678979,-0.35903626618040974,-2.0200458765769387,0.4448500215436498,0.20422160240325865,0.5392099010996428,-0.2690083112201799,-0.8563251939013093,0.3391207855185764,-0.7792248890505376,-0.02083868757770441,-0.03344647009605206,-1.3904501532020737,0.3608322091072763,-2.2848433711479856,-0.13177311715226472,-0.25776768300903474,0.027962301258553895,1.681435385772883,-0.6221469941651722,-1.1917502523025978,-2.1355438596372207,-0.29686712138952165,0.6467733369508364,-0.788778618157295,-0.9093268462871056,-0.6953376105722637,-0.23977448704372462,-0.3453021315051399,1.4490027915911707,0.32472600886413877,0.9359226852540424,2.6586112671481525,-0.32333375611415116,4.0344297621507454,-0.8205988894356041,-1.1362389424169994,-0.2111340316655757,0.33053613427656303,-2.2883541938471232,0.15101230122841047,0.5630993680418365,0.04005306805778204,0.7320047941010306,2.022400726278812,-1.110462875185184,1.815902928551929,0.23541742291644363,-0.299353695139132,1.782004055400953,0.5886194597980433,0.3249032927706249,0.22970085014314612,1.0296152959656006,0.3113892172505194,-0.6738285807996732,-1.4294071757980833,1.0331708534128439,1.0786061415606991,-1.0927355132299985,-0.26801167744466736,1.283875352142768,-1.1922505632319573,-0.11461499732670305,0.5612224005874871,-1.9495625965611316,-0.6754021167285816,-0.1713261396526278,2.3700737799129836,0.20724970718019972,0.36570347615770693,-0.7904553715348929,0.026238426697340594,-1.904503266356009,1.574480717301306,1.3400837073902583,-0.4839947096236791,-1.1813582092678951,1.6626390476575212,-1.0216179790542574,-0.6949471304302506,0.9285689130307127,-0.2926143093506573],\"y\":[-0.2912892972987383,-0.5099817648528213,1.1908177594187945,1.6852654510348208,0.14882243470747117,-2.3037953168126015,-0.24570904973412847,0.27026697246654063,0.5489241190861819,1.0494892047672069,1.6449557327042612,-1.2435292515972494,1.0827059551477518,-2.3265514065069826,-1.8432176330776107,1.2563120938727566,2.1016432707721964,0.8835351387421774,0.7887795942984664,1.2320778057208106,-0.019410404695273668,-1.0221872298474088,-1.4324446606118177,1.0556769315616874,2.6333874524887424,1.0219370562933083,-1.0447863310211478,-0.31296385151259865,-0.5495225412079057,-0.5760573962317269,0.4189253096607101,1.471342914336534,1.0222367104442975,0.15985179971099342,-1.6756594262295046,-0.3772891667954507,0.5683044437292576,-2.049073107560736,0.4903378004188023,0.4530662374795767,-1.308635707523197,0.6446017773525391,-2.4390504610217976,1.4355999105681634,0.4014417106028471,-0.06582744145685468,0.4870730284017431,-1.9493842372661236,2.2826084790025343,-1.2718059047713601,-2.6857235646383626,-0.7201157734494502,-0.1920660069857729,0.5341498433545641,-0.6498776596158321,-0.6881579664154346,-0.017781421996660406,-0.006479640791160362,-1.4875180851261842,-2.151414005208173,-0.06862265103004218,-0.6809989254617403,0.07246770576574128,1.5709090059774033,1.2092234979821614,-1.7336592475299253,0.3750141896515368,-0.7224394257070924,1.569857139426887,0.6761954348997585,0.5973200260553962,-1.3395346590300246,-0.31508903188547854,-0.6159141442383137,-0.8342038355358447,1.5799669056690253,-0.8695982902595847,2.5086007158219537,-0.4983408276616498,0.9792467346219735,0.7202387436322023,1.565905215152806,0.11437371066288606,-0.2344926835279254,0.5064013627686159,0.9212884740745085,-2.438177970385512,-1.1653160008924643,0.5847791301571718,1.1658578569944609,-1.9586439283763402,-0.023745458263176616,-0.9644614734785698,-0.5583469240013501,0.6541854785700131,2.053427150608331,0.8658266947740538,1.8457601392044725,-1.0635193533480607,1.002028410054408],\"type\":\"scatter\"}],                        {\"legend\":{\"bgcolor\":\"#F5F6F9\",\"font\":{\"color\":\"#4D5663\"}},\"paper_bgcolor\":\"#F5F6F9\",\"plot_bgcolor\":\"#F5F6F9\",\"template\":{\"data\":{\"barpolar\":[{\"marker\":{\"line\":{\"color\":\"#E5ECF6\",\"width\":0.5},\"pattern\":{\"fillmode\":\"overlay\",\"size\":10,\"solidity\":0.2}},\"type\":\"barpolar\"}],\"bar\":[{\"error_x\":{\"color\":\"#2a3f5f\"},\"error_y\":{\"color\":\"#2a3f5f\"},\"marker\":{\"line\":{\"color\":\"#E5ECF6\",\"width\":0.5},\"pattern\":{\"fillmode\":\"overlay\",\"size\":10,\"solidity\":0.2}},\"type\":\"bar\"}],\"carpet\":[{\"aaxis\":{\"endlinecolor\":\"#2a3f5f\",\"gridcolor\":\"white\",\"linecolor\":\"white\",\"minorgridcolor\":\"white\",\"startlinecolor\":\"#2a3f5f\"},\"baxis\":{\"endlinecolor\":\"#2a3f5f\",\"gridcolor\":\"white\",\"linecolor\":\"white\",\"minorgridcolor\":\"white\",\"startlinecolor\":\"#2a3f5f\"},\"type\":\"carpet\"}],\"choropleth\":[{\"colorbar\":{\"outlinewidth\":0,\"ticks\":\"\"},\"type\":\"choropleth\"}],\"contourcarpet\":[{\"colorbar\":{\"outlinewidth\":0,\"ticks\":\"\"},\"type\":\"contourcarpet\"}],\"contour\":[{\"colorbar\":{\"outlinewidth\":0,\"ticks\":\"\"},\"colorscale\":[[0.0,\"#0d0887\"],[0.1111111111111111,\"#46039f\"],[0.2222222222222222,\"#7201a8\"],[0.3333333333333333,\"#9c179e\"],[0.4444444444444444,\"#bd3786\"],[0.5555555555555556,\"#d8576b\"],[0.6666666666666666,\"#ed7953\"],[0.7777777777777778,\"#fb9f3a\"],[0.8888888888888888,\"#fdca26\"],[1.0,\"#f0f921\"]],\"type\":\"contour\"}],\"heatmapgl\":[{\"colorbar\":{\"outlinewidth\":0,\"ticks\":\"\"},\"colorscale\":[[0.0,\"#0d0887\"],[0.1111111111111111,\"#46039f\"],[0.2222222222222222,\"#7201a8\"],[0.3333333333333333,\"#9c179e\"],[0.4444444444444444,\"#bd3786\"],[0.5555555555555556,\"#d8576b\"],[0.6666666666666666,\"#ed7953\"],[0.7777777777777778,\"#fb9f3a\"],[0.8888888888888888,\"#fdca26\"],[1.0,\"#f0f921\"]],\"type\":\"heatmapgl\"}],\"heatmap\":[{\"colorbar\":{\"outlinewidth\":0,\"ticks\":\"\"},\"colorscale\":[[0.0,\"#0d0887\"],[0.1111111111111111,\"#46039f\"],[0.2222222222222222,\"#7201a8\"],[0.3333333333333333,\"#9c179e\"],[0.4444444444444444,\"#bd3786\"],[0.5555555555555556,\"#d8576b\"],[0.6666666666666666,\"#ed7953\"],[0.7777777777777778,\"#fb9f3a\"],[0.8888888888888888,\"#fdca26\"],[1.0,\"#f0f921\"]],\"type\":\"heatmap\"}],\"histogram2dcontour\":[{\"colorbar\":{\"outlinewidth\":0,\"ticks\":\"\"},\"colorscale\":[[0.0,\"#0d0887\"],[0.1111111111111111,\"#46039f\"],[0.2222222222222222,\"#7201a8\"],[0.3333333333333333,\"#9c179e\"],[0.4444444444444444,\"#bd3786\"],[0.5555555555555556,\"#d8576b\"],[0.6666666666666666,\"#ed7953\"],[0.7777777777777778,\"#fb9f3a\"],[0.8888888888888888,\"#fdca26\"],[1.0,\"#f0f921\"]],\"type\":\"histogram2dcontour\"}],\"histogram2d\":[{\"colorbar\":{\"outlinewidth\":0,\"ticks\":\"\"},\"colorscale\":[[0.0,\"#0d0887\"],[0.1111111111111111,\"#46039f\"],[0.2222222222222222,\"#7201a8\"],[0.3333333333333333,\"#9c179e\"],[0.4444444444444444,\"#bd3786\"],[0.5555555555555556,\"#d8576b\"],[0.6666666666666666,\"#ed7953\"],[0.7777777777777778,\"#fb9f3a\"],[0.8888888888888888,\"#fdca26\"],[1.0,\"#f0f921\"]],\"type\":\"histogram2d\"}],\"histogram\":[{\"marker\":{\"pattern\":{\"fillmode\":\"overlay\",\"size\":10,\"solidity\":0.2}},\"type\":\"histogram\"}],\"mesh3d\":[{\"colorbar\":{\"outlinewidth\":0,\"ticks\":\"\"},\"type\":\"mesh3d\"}],\"parcoords\":[{\"line\":{\"colorbar\":{\"outlinewidth\":0,\"ticks\":\"\"}},\"type\":\"parcoords\"}],\"pie\":[{\"automargin\":true,\"type\":\"pie\"}],\"scatter3d\":[{\"line\":{\"colorbar\":{\"outlinewidth\":0,\"ticks\":\"\"}},\"marker\":{\"colorbar\":{\"outlinewidth\":0,\"ticks\":\"\"}},\"type\":\"scatter3d\"}],\"scattercarpet\":[{\"marker\":{\"colorbar\":{\"outlinewidth\":0,\"ticks\":\"\"}},\"type\":\"scattercarpet\"}],\"scattergeo\":[{\"marker\":{\"colorbar\":{\"outlinewidth\":0,\"ticks\":\"\"}},\"type\":\"scattergeo\"}],\"scattergl\":[{\"marker\":{\"colorbar\":{\"outlinewidth\":0,\"ticks\":\"\"}},\"type\":\"scattergl\"}],\"scattermapbox\":[{\"marker\":{\"colorbar\":{\"outlinewidth\":0,\"ticks\":\"\"}},\"type\":\"scattermapbox\"}],\"scatterpolargl\":[{\"marker\":{\"colorbar\":{\"outlinewidth\":0,\"ticks\":\"\"}},\"type\":\"scatterpolargl\"}],\"scatterpolar\":[{\"marker\":{\"colorbar\":{\"outlinewidth\":0,\"ticks\":\"\"}},\"type\":\"scatterpolar\"}],\"scatter\":[{\"fillpattern\":{\"fillmode\":\"overlay\",\"size\":10,\"solidity\":0.2},\"type\":\"scatter\"}],\"scatterternary\":[{\"marker\":{\"colorbar\":{\"outlinewidth\":0,\"ticks\":\"\"}},\"type\":\"scatterternary\"}],\"surface\":[{\"colorbar\":{\"outlinewidth\":0,\"ticks\":\"\"},\"colorscale\":[[0.0,\"#0d0887\"],[0.1111111111111111,\"#46039f\"],[0.2222222222222222,\"#7201a8\"],[0.3333333333333333,\"#9c179e\"],[0.4444444444444444,\"#bd3786\"],[0.5555555555555556,\"#d8576b\"],[0.6666666666666666,\"#ed7953\"],[0.7777777777777778,\"#fb9f3a\"],[0.8888888888888888,\"#fdca26\"],[1.0,\"#f0f921\"]],\"type\":\"surface\"}],\"table\":[{\"cells\":{\"fill\":{\"color\":\"#EBF0F8\"},\"line\":{\"color\":\"white\"}},\"header\":{\"fill\":{\"color\":\"#C8D4E3\"},\"line\":{\"color\":\"white\"}},\"type\":\"table\"}]},\"layout\":{\"annotationdefaults\":{\"arrowcolor\":\"#2a3f5f\",\"arrowhead\":0,\"arrowwidth\":1},\"autotypenumbers\":\"strict\",\"coloraxis\":{\"colorbar\":{\"outlinewidth\":0,\"ticks\":\"\"}},\"colorscale\":{\"diverging\":[[0,\"#8e0152\"],[0.1,\"#c51b7d\"],[0.2,\"#de77ae\"],[0.3,\"#f1b6da\"],[0.4,\"#fde0ef\"],[0.5,\"#f7f7f7\"],[0.6,\"#e6f5d0\"],[0.7,\"#b8e186\"],[0.8,\"#7fbc41\"],[0.9,\"#4d9221\"],[1,\"#276419\"]],\"sequential\":[[0.0,\"#0d0887\"],[0.1111111111111111,\"#46039f\"],[0.2222222222222222,\"#7201a8\"],[0.3333333333333333,\"#9c179e\"],[0.4444444444444444,\"#bd3786\"],[0.5555555555555556,\"#d8576b\"],[0.6666666666666666,\"#ed7953\"],[0.7777777777777778,\"#fb9f3a\"],[0.8888888888888888,\"#fdca26\"],[1.0,\"#f0f921\"]],\"sequentialminus\":[[0.0,\"#0d0887\"],[0.1111111111111111,\"#46039f\"],[0.2222222222222222,\"#7201a8\"],[0.3333333333333333,\"#9c179e\"],[0.4444444444444444,\"#bd3786\"],[0.5555555555555556,\"#d8576b\"],[0.6666666666666666,\"#ed7953\"],[0.7777777777777778,\"#fb9f3a\"],[0.8888888888888888,\"#fdca26\"],[1.0,\"#f0f921\"]]},\"colorway\":[\"#636efa\",\"#EF553B\",\"#00cc96\",\"#ab63fa\",\"#FFA15A\",\"#19d3f3\",\"#FF6692\",\"#B6E880\",\"#FF97FF\",\"#FECB52\"],\"font\":{\"color\":\"#2a3f5f\"},\"geo\":{\"bgcolor\":\"white\",\"lakecolor\":\"white\",\"landcolor\":\"#E5ECF6\",\"showlakes\":true,\"showland\":true,\"subunitcolor\":\"white\"},\"hoverlabel\":{\"align\":\"left\"},\"hovermode\":\"closest\",\"mapbox\":{\"style\":\"light\"},\"paper_bgcolor\":\"white\",\"plot_bgcolor\":\"#E5ECF6\",\"polar\":{\"angularaxis\":{\"gridcolor\":\"white\",\"linecolor\":\"white\",\"ticks\":\"\"},\"bgcolor\":\"#E5ECF6\",\"radialaxis\":{\"gridcolor\":\"white\",\"linecolor\":\"white\",\"ticks\":\"\"}},\"scene\":{\"xaxis\":{\"backgroundcolor\":\"#E5ECF6\",\"gridcolor\":\"white\",\"gridwidth\":2,\"linecolor\":\"white\",\"showbackground\":true,\"ticks\":\"\",\"zerolinecolor\":\"white\"},\"yaxis\":{\"backgroundcolor\":\"#E5ECF6\",\"gridcolor\":\"white\",\"gridwidth\":2,\"linecolor\":\"white\",\"showbackground\":true,\"ticks\":\"\",\"zerolinecolor\":\"white\"},\"zaxis\":{\"backgroundcolor\":\"#E5ECF6\",\"gridcolor\":\"white\",\"gridwidth\":2,\"linecolor\":\"white\",\"showbackground\":true,\"ticks\":\"\",\"zerolinecolor\":\"white\"}},\"shapedefaults\":{\"line\":{\"color\":\"#2a3f5f\"}},\"ternary\":{\"aaxis\":{\"gridcolor\":\"white\",\"linecolor\":\"white\",\"ticks\":\"\"},\"baxis\":{\"gridcolor\":\"white\",\"linecolor\":\"white\",\"ticks\":\"\"},\"bgcolor\":\"#E5ECF6\",\"caxis\":{\"gridcolor\":\"white\",\"linecolor\":\"white\",\"ticks\":\"\"}},\"title\":{\"x\":0.05},\"xaxis\":{\"automargin\":true,\"gridcolor\":\"white\",\"linecolor\":\"white\",\"ticks\":\"\",\"title\":{\"standoff\":15},\"zerolinecolor\":\"white\",\"zerolinewidth\":2},\"yaxis\":{\"automargin\":true,\"gridcolor\":\"white\",\"linecolor\":\"white\",\"ticks\":\"\",\"title\":{\"standoff\":15},\"zerolinecolor\":\"white\",\"zerolinewidth\":2}}},\"title\":{\"font\":{\"color\":\"#4D5663\"}},\"xaxis\":{\"gridcolor\":\"#E1E5ED\",\"showgrid\":true,\"tickfont\":{\"color\":\"#4D5663\"},\"title\":{\"font\":{\"color\":\"#4D5663\"},\"text\":\"\"},\"zerolinecolor\":\"#E1E5ED\"},\"yaxis\":{\"gridcolor\":\"#E1E5ED\",\"showgrid\":true,\"tickfont\":{\"color\":\"#4D5663\"},\"title\":{\"font\":{\"color\":\"#4D5663\"},\"text\":\"\"},\"zerolinecolor\":\"#E1E5ED\"}},                        {\"showLink\": true, \"linkText\": \"Export to plot.ly\", \"plotlyServerURL\": \"https://plot.ly\", \"responsive\": true}                    ).then(function(){\n",
       "                            \n",
       "var gd = document.getElementById('77bdeda8-69a2-493c-95eb-be44e1bcaf77');\n",
       "var x = new MutationObserver(function (mutations, observer) {{\n",
       "        var display = window.getComputedStyle(gd).display;\n",
       "        if (!display || display === 'none') {{\n",
       "            console.log([gd, 'removed!']);\n",
       "            Plotly.purge(gd);\n",
       "            observer.disconnect();\n",
       "        }}\n",
       "}});\n",
       "\n",
       "// Listen for the removal of the full notebook cells\n",
       "var notebookContainer = gd.closest('#notebook-container');\n",
       "if (notebookContainer) {{\n",
       "    x.observe(notebookContainer, {childList: true});\n",
       "}}\n",
       "\n",
       "// Listen for the clearing of the current output cell\n",
       "var outputEl = gd.closest('.output');\n",
       "if (outputEl) {{\n",
       "    x.observe(outputEl, {childList: true});\n",
       "}}\n",
       "\n",
       "                        })                };                });            </script>        </div>"
      ]
     },
     "metadata": {},
     "output_type": "display_data"
    }
   ],
   "source": [
    "df.iplot(kind = 'bubble', x = 'A', y = 'B', size = 'C')"
   ]
  },
  {
   "cell_type": "markdown",
   "id": "4ab300af",
   "metadata": {},
   "source": [
    "### scatter_matrix()\n",
    "\n",
    "similar to sns.pairplot()"
   ]
  },
  {
   "cell_type": "code",
   "execution_count": 35,
   "id": "84c886fc",
   "metadata": {},
   "outputs": [
    {
     "data": {
      "application/vnd.plotly.v1+json": {
       "config": {
        "linkText": "Export to plot.ly",
        "plotlyServerURL": "https://plot.ly",
        "showLink": true
       },
       "data": [
        {
         "histfunc": "count",
         "histnorm": "",
         "marker": {
          "color": "rgba(255, 153, 51, 1.0)",
          "line": {
           "color": "#4D5663",
           "width": 1.3
          }
         },
         "name": "A",
         "nbinsx": 10,
         "opacity": 0.8,
         "orientation": "v",
         "type": "histogram",
         "x": [
          0.7578306652600714,
          0.6706958613531931,
          -1.786751065174122,
          0.5602920264863411,
          1.2093903118572087,
          -0.07721121963587653,
          -0.6006294853354058,
          -0.20549799611085745,
          0.14447932596359128,
          -0.6194297923494315,
          0.289965871828332,
          1.334295055420149,
          1.2776093322599726,
          0.6941583739260736,
          -0.4768485479531304,
          -1.3945337778497289,
          -0.8308943714415719,
          -0.1908555235678979,
          -0.35903626618040974,
          -2.0200458765769387,
          0.4448500215436498,
          0.20422160240325865,
          0.5392099010996428,
          -0.2690083112201799,
          -0.8563251939013093,
          0.3391207855185764,
          -0.7792248890505376,
          -0.02083868757770441,
          -0.03344647009605206,
          -1.3904501532020737,
          0.3608322091072763,
          -2.2848433711479856,
          -0.13177311715226472,
          -0.25776768300903474,
          0.027962301258553895,
          1.681435385772883,
          -0.6221469941651722,
          -1.1917502523025978,
          -2.1355438596372207,
          -0.29686712138952165,
          0.6467733369508364,
          -0.788778618157295,
          -0.9093268462871056,
          -0.6953376105722637,
          -0.23977448704372462,
          -0.3453021315051399,
          1.4490027915911707,
          0.32472600886413877,
          0.9359226852540424,
          2.6586112671481525,
          -0.32333375611415116,
          4.0344297621507454,
          -0.8205988894356041,
          -1.1362389424169994,
          -0.2111340316655757,
          0.33053613427656303,
          -2.2883541938471232,
          0.15101230122841047,
          0.5630993680418365,
          0.04005306805778204,
          0.7320047941010306,
          2.022400726278812,
          -1.110462875185184,
          1.815902928551929,
          0.23541742291644363,
          -0.299353695139132,
          1.782004055400953,
          0.5886194597980433,
          0.3249032927706249,
          0.22970085014314612,
          1.0296152959656006,
          0.3113892172505194,
          -0.6738285807996732,
          -1.4294071757980833,
          1.0331708534128439,
          1.0786061415606991,
          -1.0927355132299985,
          -0.26801167744466736,
          1.283875352142768,
          -1.1922505632319573,
          -0.11461499732670305,
          0.5612224005874871,
          -1.9495625965611316,
          -0.6754021167285816,
          -0.1713261396526278,
          2.3700737799129836,
          0.20724970718019972,
          0.36570347615770693,
          -0.7904553715348929,
          0.026238426697340594,
          -1.904503266356009,
          1.574480717301306,
          1.3400837073902583,
          -0.4839947096236791,
          -1.1813582092678951,
          1.6626390476575212,
          -1.0216179790542574,
          -0.6949471304302506,
          0.9285689130307127,
          -0.2926143093506573
         ],
         "xaxis": "x",
         "yaxis": "y"
        },
        {
         "line": {
          "color": "rgba(128, 128, 128, 1.0)",
          "dash": "solid",
          "shape": "linear",
          "width": 1.3
         },
         "marker": {
          "size": 2,
          "symbol": "circle"
         },
         "mode": "markers",
         "name": "A",
         "text": "",
         "type": "scatter",
         "x": [
          -0.2912892972987383,
          -0.5099817648528213,
          1.1908177594187945,
          1.6852654510348208,
          0.14882243470747117,
          -2.3037953168126015,
          -0.24570904973412847,
          0.27026697246654063,
          0.5489241190861819,
          1.0494892047672069,
          1.6449557327042612,
          -1.2435292515972494,
          1.0827059551477518,
          -2.3265514065069826,
          -1.8432176330776107,
          1.2563120938727566,
          2.1016432707721964,
          0.8835351387421774,
          0.7887795942984664,
          1.2320778057208106,
          -0.019410404695273668,
          -1.0221872298474088,
          -1.4324446606118177,
          1.0556769315616874,
          2.6333874524887424,
          1.0219370562933083,
          -1.0447863310211478,
          -0.31296385151259865,
          -0.5495225412079057,
          -0.5760573962317269,
          0.4189253096607101,
          1.471342914336534,
          1.0222367104442975,
          0.15985179971099342,
          -1.6756594262295046,
          -0.3772891667954507,
          0.5683044437292576,
          -2.049073107560736,
          0.4903378004188023,
          0.4530662374795767,
          -1.308635707523197,
          0.6446017773525391,
          -2.4390504610217976,
          1.4355999105681634,
          0.4014417106028471,
          -0.06582744145685468,
          0.4870730284017431,
          -1.9493842372661236,
          2.2826084790025343,
          -1.2718059047713601,
          -2.6857235646383626,
          -0.7201157734494502,
          -0.1920660069857729,
          0.5341498433545641,
          -0.6498776596158321,
          -0.6881579664154346,
          -0.017781421996660406,
          -0.006479640791160362,
          -1.4875180851261842,
          -2.151414005208173,
          -0.06862265103004218,
          -0.6809989254617403,
          0.07246770576574128,
          1.5709090059774033,
          1.2092234979821614,
          -1.7336592475299253,
          0.3750141896515368,
          -0.7224394257070924,
          1.569857139426887,
          0.6761954348997585,
          0.5973200260553962,
          -1.3395346590300246,
          -0.31508903188547854,
          -0.6159141442383137,
          -0.8342038355358447,
          1.5799669056690253,
          -0.8695982902595847,
          2.5086007158219537,
          -0.4983408276616498,
          0.9792467346219735,
          0.7202387436322023,
          1.565905215152806,
          0.11437371066288606,
          -0.2344926835279254,
          0.5064013627686159,
          0.9212884740745085,
          -2.438177970385512,
          -1.1653160008924643,
          0.5847791301571718,
          1.1658578569944609,
          -1.9586439283763402,
          -0.023745458263176616,
          -0.9644614734785698,
          -0.5583469240013501,
          0.6541854785700131,
          2.053427150608331,
          0.8658266947740538,
          1.8457601392044725,
          -1.0635193533480607,
          1.002028410054408
         ],
         "xaxis": "x2",
         "y": [
          0.7578306652600714,
          0.6706958613531931,
          -1.786751065174122,
          0.5602920264863411,
          1.2093903118572087,
          -0.07721121963587653,
          -0.6006294853354058,
          -0.20549799611085745,
          0.14447932596359128,
          -0.6194297923494315,
          0.289965871828332,
          1.334295055420149,
          1.2776093322599726,
          0.6941583739260736,
          -0.4768485479531304,
          -1.3945337778497289,
          -0.8308943714415719,
          -0.1908555235678979,
          -0.35903626618040974,
          -2.0200458765769387,
          0.4448500215436498,
          0.20422160240325865,
          0.5392099010996428,
          -0.2690083112201799,
          -0.8563251939013093,
          0.3391207855185764,
          -0.7792248890505376,
          -0.02083868757770441,
          -0.03344647009605206,
          -1.3904501532020737,
          0.3608322091072763,
          -2.2848433711479856,
          -0.13177311715226472,
          -0.25776768300903474,
          0.027962301258553895,
          1.681435385772883,
          -0.6221469941651722,
          -1.1917502523025978,
          -2.1355438596372207,
          -0.29686712138952165,
          0.6467733369508364,
          -0.788778618157295,
          -0.9093268462871056,
          -0.6953376105722637,
          -0.23977448704372462,
          -0.3453021315051399,
          1.4490027915911707,
          0.32472600886413877,
          0.9359226852540424,
          2.6586112671481525,
          -0.32333375611415116,
          4.0344297621507454,
          -0.8205988894356041,
          -1.1362389424169994,
          -0.2111340316655757,
          0.33053613427656303,
          -2.2883541938471232,
          0.15101230122841047,
          0.5630993680418365,
          0.04005306805778204,
          0.7320047941010306,
          2.022400726278812,
          -1.110462875185184,
          1.815902928551929,
          0.23541742291644363,
          -0.299353695139132,
          1.782004055400953,
          0.5886194597980433,
          0.3249032927706249,
          0.22970085014314612,
          1.0296152959656006,
          0.3113892172505194,
          -0.6738285807996732,
          -1.4294071757980833,
          1.0331708534128439,
          1.0786061415606991,
          -1.0927355132299985,
          -0.26801167744466736,
          1.283875352142768,
          -1.1922505632319573,
          -0.11461499732670305,
          0.5612224005874871,
          -1.9495625965611316,
          -0.6754021167285816,
          -0.1713261396526278,
          2.3700737799129836,
          0.20724970718019972,
          0.36570347615770693,
          -0.7904553715348929,
          0.026238426697340594,
          -1.904503266356009,
          1.574480717301306,
          1.3400837073902583,
          -0.4839947096236791,
          -1.1813582092678951,
          1.6626390476575212,
          -1.0216179790542574,
          -0.6949471304302506,
          0.9285689130307127,
          -0.2926143093506573
         ],
         "yaxis": "y2"
        },
        {
         "line": {
          "color": "rgba(128, 128, 128, 1.0)",
          "dash": "solid",
          "shape": "linear",
          "width": 1.3
         },
         "marker": {
          "size": 2,
          "symbol": "circle"
         },
         "mode": "markers",
         "name": "A",
         "text": "",
         "type": "scatter",
         "x": [
          1.0289581305438282,
          0.5546223404747419,
          1.1662749440164377,
          2.4076552326021776,
          1.1206589700874514,
          -1.1510965060464522,
          -1.036330097185283,
          1.1035664352354242,
          0.41018784624515064,
          -0.6031066567749889,
          -0.43523375737566006,
          0.7700034740062437,
          0.6566952435331103,
          -0.7114750137325586,
          -0.05927451573410519,
          -0.17907593395437119,
          -0.25568674008505926,
          1.3422155615457656,
          -1.0296012082087613,
          0.8080962087323785,
          -1.025456298374542,
          -0.46163767759108804,
          -1.1598702074305383,
          -0.6209716060525496,
          -0.26394655045047843,
          0.8271151780451435,
          -1.5574334981928357,
          0.12883112172237213,
          0.7907350832481647,
          -0.435427911330841,
          1.156895577875462,
          1.5893737702529305,
          -0.2848824769301489,
          0.09526302519980143,
          -1.9060801587965064,
          0.9482566637846065,
          0.44123374245965796,
          0.39369493025203933,
          0.2862434970044421,
          0.0019161241469577708,
          -1.002830579436456,
          -1.3323363041288334,
          -1.1928668685040442,
          1.3819702487291246,
          -0.12058307139354957,
          -0.5323794584400485,
          0.8609519082160938,
          -0.34774168612723666,
          -0.756392204555714,
          0.6256477073548026,
          0.46068477788193496,
          1.0473063481936853,
          0.9827780522835693,
          1.9158788978470005,
          -0.45044272223335735,
          0.622715458855441,
          0.39767977706126684,
          0.47695013610397186,
          -0.2730982441463706,
          -0.6543150918670932,
          -0.2229225756274758,
          -0.12938908818010844,
          0.9011976187385268,
          -0.8714209867366066,
          -0.04309649572211812,
          -1.337614470057924,
          0.3943511231930112,
          0.3294485083362826,
          -1.0098554567762619,
          -0.05027183388256316,
          0.06852094525818642,
          -0.8739080296140921,
          -0.20909017774675226,
          0.38091131571275527,
          0.0805704634826217,
          1.0467337941905117,
          -1.8512739800484475,
          -0.03893471147359269,
          -2.2452278339031078,
          0.08976975309328514,
          -0.2476763117555046,
          -0.7258674697306373,
          0.7005279592720636,
          -0.052074197751617694,
          -0.33574324432113484,
          0.531058971280717,
          -0.6360711258670565,
          -1.1402900718902977,
          -0.6595388839946046,
          -0.029147066769622476,
          -0.7648366879107783,
          -0.4232246795877898,
          -0.4195811108756407,
          -0.016863704992688168,
          -1.3511475249578464,
          -0.8396311579884472,
          -1.704008417464047,
          0.11973493174520473,
          -0.20130009398582185,
          2.54517125639914
         ],
         "xaxis": "x3",
         "y": [
          0.7578306652600714,
          0.6706958613531931,
          -1.786751065174122,
          0.5602920264863411,
          1.2093903118572087,
          -0.07721121963587653,
          -0.6006294853354058,
          -0.20549799611085745,
          0.14447932596359128,
          -0.6194297923494315,
          0.289965871828332,
          1.334295055420149,
          1.2776093322599726,
          0.6941583739260736,
          -0.4768485479531304,
          -1.3945337778497289,
          -0.8308943714415719,
          -0.1908555235678979,
          -0.35903626618040974,
          -2.0200458765769387,
          0.4448500215436498,
          0.20422160240325865,
          0.5392099010996428,
          -0.2690083112201799,
          -0.8563251939013093,
          0.3391207855185764,
          -0.7792248890505376,
          -0.02083868757770441,
          -0.03344647009605206,
          -1.3904501532020737,
          0.3608322091072763,
          -2.2848433711479856,
          -0.13177311715226472,
          -0.25776768300903474,
          0.027962301258553895,
          1.681435385772883,
          -0.6221469941651722,
          -1.1917502523025978,
          -2.1355438596372207,
          -0.29686712138952165,
          0.6467733369508364,
          -0.788778618157295,
          -0.9093268462871056,
          -0.6953376105722637,
          -0.23977448704372462,
          -0.3453021315051399,
          1.4490027915911707,
          0.32472600886413877,
          0.9359226852540424,
          2.6586112671481525,
          -0.32333375611415116,
          4.0344297621507454,
          -0.8205988894356041,
          -1.1362389424169994,
          -0.2111340316655757,
          0.33053613427656303,
          -2.2883541938471232,
          0.15101230122841047,
          0.5630993680418365,
          0.04005306805778204,
          0.7320047941010306,
          2.022400726278812,
          -1.110462875185184,
          1.815902928551929,
          0.23541742291644363,
          -0.299353695139132,
          1.782004055400953,
          0.5886194597980433,
          0.3249032927706249,
          0.22970085014314612,
          1.0296152959656006,
          0.3113892172505194,
          -0.6738285807996732,
          -1.4294071757980833,
          1.0331708534128439,
          1.0786061415606991,
          -1.0927355132299985,
          -0.26801167744466736,
          1.283875352142768,
          -1.1922505632319573,
          -0.11461499732670305,
          0.5612224005874871,
          -1.9495625965611316,
          -0.6754021167285816,
          -0.1713261396526278,
          2.3700737799129836,
          0.20724970718019972,
          0.36570347615770693,
          -0.7904553715348929,
          0.026238426697340594,
          -1.904503266356009,
          1.574480717301306,
          1.3400837073902583,
          -0.4839947096236791,
          -1.1813582092678951,
          1.6626390476575212,
          -1.0216179790542574,
          -0.6949471304302506,
          0.9285689130307127,
          -0.2926143093506573
         ],
         "yaxis": "y3"
        },
        {
         "line": {
          "color": "rgba(128, 128, 128, 1.0)",
          "dash": "solid",
          "shape": "linear",
          "width": 1.3
         },
         "marker": {
          "size": 2,
          "symbol": "circle"
         },
         "mode": "markers",
         "name": "A",
         "text": "",
         "type": "scatter",
         "x": [
          0.9526488790960417,
          -1.5968100702183643,
          -0.5433295819264312,
          0.21387914156124838,
          0.5992632755866035,
          -0.03590331987408655,
          -0.16790739079250558,
          -0.6809471961924212,
          1.1128306773770202,
          -0.1242169865462312,
          -0.19310070189811843,
          -0.36464517280134023,
          0.310488599971796,
          -2.1630578876836144,
          -0.32972054778390103,
          0.25869221922838737,
          -1.0410314800247165,
          -0.3605355172297498,
          1.8471903313054505,
          -0.13560273947908436,
          -0.8071879070206959,
          -0.21518335457844917,
          -1.8203253804368487,
          1.3297605096549812,
          -0.7903310062065573,
          -0.9094544322492556,
          0.3371073345110966,
          0.7328193229092946,
          0.3086075733476576,
          0.45729867001915736,
          2.6522636307066563,
          1.5557283605369259,
          -0.6993369988342397,
          -0.7970781224855026,
          -0.33219249900301157,
          0.03137551427390909,
          0.4841698718340827,
          1.0664616449784468,
          -0.8654512204154237,
          -0.998662866066939,
          -0.8684079873945336,
          -0.9204533756188058,
          0.7399549704871922,
          -0.06769304274617806,
          -0.8407441248466904,
          -0.44226704586481114,
          -0.06859443206477811,
          0.04741011209263733,
          -0.4014834693298488,
          -0.32535576109556735,
          0.8224685680259435,
          -0.029326339591027987,
          -0.5310560745222764,
          0.42840277122352355,
          0.4719035497754577,
          1.1131298210261316,
          -0.5237001738833921,
          0.3057587673337682,
          -0.37628408527794727,
          -0.8865576707288084,
          -1.3114279026947866,
          0.5246334391909486,
          0.8771169910861834,
          -0.2759966284950859,
          -0.48074156270904084,
          0.14667455636236404,
          -1.1822688359181786,
          -0.8263875315015421,
          0.2552027396602155,
          -1.3389823363246451,
          -0.0739221809686225,
          -1.2826249948658528,
          0.12963514155415903,
          0.6520761962871522,
          -0.15440062020442194,
          2.256836634142194,
          -1.1812134030646015,
          -0.22704553641637804,
          1.5825158547690166,
          0.08476959376703497,
          1.0724541039190976,
          -0.2841540152432594,
          0.0005838753698127481,
          1.4141860476254873,
          -0.6445674809748125,
          -0.0028322728680268932,
          -0.28642983917000814,
          0.3480069259952904,
          -0.8102266727652506,
          0.11581712026168137,
          0.7405076829259916,
          -0.027371441823421164,
          0.8821390434101007,
          0.05335963364047773,
          0.35603809421414434,
          -0.12940225872618288,
          0.247627656095243,
          0.12384122479635257,
          -2.440242080691085,
          -0.2699634892117874
         ],
         "xaxis": "x4",
         "y": [
          0.7578306652600714,
          0.6706958613531931,
          -1.786751065174122,
          0.5602920264863411,
          1.2093903118572087,
          -0.07721121963587653,
          -0.6006294853354058,
          -0.20549799611085745,
          0.14447932596359128,
          -0.6194297923494315,
          0.289965871828332,
          1.334295055420149,
          1.2776093322599726,
          0.6941583739260736,
          -0.4768485479531304,
          -1.3945337778497289,
          -0.8308943714415719,
          -0.1908555235678979,
          -0.35903626618040974,
          -2.0200458765769387,
          0.4448500215436498,
          0.20422160240325865,
          0.5392099010996428,
          -0.2690083112201799,
          -0.8563251939013093,
          0.3391207855185764,
          -0.7792248890505376,
          -0.02083868757770441,
          -0.03344647009605206,
          -1.3904501532020737,
          0.3608322091072763,
          -2.2848433711479856,
          -0.13177311715226472,
          -0.25776768300903474,
          0.027962301258553895,
          1.681435385772883,
          -0.6221469941651722,
          -1.1917502523025978,
          -2.1355438596372207,
          -0.29686712138952165,
          0.6467733369508364,
          -0.788778618157295,
          -0.9093268462871056,
          -0.6953376105722637,
          -0.23977448704372462,
          -0.3453021315051399,
          1.4490027915911707,
          0.32472600886413877,
          0.9359226852540424,
          2.6586112671481525,
          -0.32333375611415116,
          4.0344297621507454,
          -0.8205988894356041,
          -1.1362389424169994,
          -0.2111340316655757,
          0.33053613427656303,
          -2.2883541938471232,
          0.15101230122841047,
          0.5630993680418365,
          0.04005306805778204,
          0.7320047941010306,
          2.022400726278812,
          -1.110462875185184,
          1.815902928551929,
          0.23541742291644363,
          -0.299353695139132,
          1.782004055400953,
          0.5886194597980433,
          0.3249032927706249,
          0.22970085014314612,
          1.0296152959656006,
          0.3113892172505194,
          -0.6738285807996732,
          -1.4294071757980833,
          1.0331708534128439,
          1.0786061415606991,
          -1.0927355132299985,
          -0.26801167744466736,
          1.283875352142768,
          -1.1922505632319573,
          -0.11461499732670305,
          0.5612224005874871,
          -1.9495625965611316,
          -0.6754021167285816,
          -0.1713261396526278,
          2.3700737799129836,
          0.20724970718019972,
          0.36570347615770693,
          -0.7904553715348929,
          0.026238426697340594,
          -1.904503266356009,
          1.574480717301306,
          1.3400837073902583,
          -0.4839947096236791,
          -1.1813582092678951,
          1.6626390476575212,
          -1.0216179790542574,
          -0.6949471304302506,
          0.9285689130307127,
          -0.2926143093506573
         ],
         "yaxis": "y4"
        },
        {
         "line": {
          "color": "rgba(128, 128, 128, 1.0)",
          "dash": "solid",
          "shape": "linear",
          "width": 1.3
         },
         "marker": {
          "size": 2,
          "symbol": "circle"
         },
         "mode": "markers",
         "name": "B",
         "text": "",
         "type": "scatter",
         "x": [
          0.7578306652600714,
          0.6706958613531931,
          -1.786751065174122,
          0.5602920264863411,
          1.2093903118572087,
          -0.07721121963587653,
          -0.6006294853354058,
          -0.20549799611085745,
          0.14447932596359128,
          -0.6194297923494315,
          0.289965871828332,
          1.334295055420149,
          1.2776093322599726,
          0.6941583739260736,
          -0.4768485479531304,
          -1.3945337778497289,
          -0.8308943714415719,
          -0.1908555235678979,
          -0.35903626618040974,
          -2.0200458765769387,
          0.4448500215436498,
          0.20422160240325865,
          0.5392099010996428,
          -0.2690083112201799,
          -0.8563251939013093,
          0.3391207855185764,
          -0.7792248890505376,
          -0.02083868757770441,
          -0.03344647009605206,
          -1.3904501532020737,
          0.3608322091072763,
          -2.2848433711479856,
          -0.13177311715226472,
          -0.25776768300903474,
          0.027962301258553895,
          1.681435385772883,
          -0.6221469941651722,
          -1.1917502523025978,
          -2.1355438596372207,
          -0.29686712138952165,
          0.6467733369508364,
          -0.788778618157295,
          -0.9093268462871056,
          -0.6953376105722637,
          -0.23977448704372462,
          -0.3453021315051399,
          1.4490027915911707,
          0.32472600886413877,
          0.9359226852540424,
          2.6586112671481525,
          -0.32333375611415116,
          4.0344297621507454,
          -0.8205988894356041,
          -1.1362389424169994,
          -0.2111340316655757,
          0.33053613427656303,
          -2.2883541938471232,
          0.15101230122841047,
          0.5630993680418365,
          0.04005306805778204,
          0.7320047941010306,
          2.022400726278812,
          -1.110462875185184,
          1.815902928551929,
          0.23541742291644363,
          -0.299353695139132,
          1.782004055400953,
          0.5886194597980433,
          0.3249032927706249,
          0.22970085014314612,
          1.0296152959656006,
          0.3113892172505194,
          -0.6738285807996732,
          -1.4294071757980833,
          1.0331708534128439,
          1.0786061415606991,
          -1.0927355132299985,
          -0.26801167744466736,
          1.283875352142768,
          -1.1922505632319573,
          -0.11461499732670305,
          0.5612224005874871,
          -1.9495625965611316,
          -0.6754021167285816,
          -0.1713261396526278,
          2.3700737799129836,
          0.20724970718019972,
          0.36570347615770693,
          -0.7904553715348929,
          0.026238426697340594,
          -1.904503266356009,
          1.574480717301306,
          1.3400837073902583,
          -0.4839947096236791,
          -1.1813582092678951,
          1.6626390476575212,
          -1.0216179790542574,
          -0.6949471304302506,
          0.9285689130307127,
          -0.2926143093506573
         ],
         "xaxis": "x5",
         "y": [
          -0.2912892972987383,
          -0.5099817648528213,
          1.1908177594187945,
          1.6852654510348208,
          0.14882243470747117,
          -2.3037953168126015,
          -0.24570904973412847,
          0.27026697246654063,
          0.5489241190861819,
          1.0494892047672069,
          1.6449557327042612,
          -1.2435292515972494,
          1.0827059551477518,
          -2.3265514065069826,
          -1.8432176330776107,
          1.2563120938727566,
          2.1016432707721964,
          0.8835351387421774,
          0.7887795942984664,
          1.2320778057208106,
          -0.019410404695273668,
          -1.0221872298474088,
          -1.4324446606118177,
          1.0556769315616874,
          2.6333874524887424,
          1.0219370562933083,
          -1.0447863310211478,
          -0.31296385151259865,
          -0.5495225412079057,
          -0.5760573962317269,
          0.4189253096607101,
          1.471342914336534,
          1.0222367104442975,
          0.15985179971099342,
          -1.6756594262295046,
          -0.3772891667954507,
          0.5683044437292576,
          -2.049073107560736,
          0.4903378004188023,
          0.4530662374795767,
          -1.308635707523197,
          0.6446017773525391,
          -2.4390504610217976,
          1.4355999105681634,
          0.4014417106028471,
          -0.06582744145685468,
          0.4870730284017431,
          -1.9493842372661236,
          2.2826084790025343,
          -1.2718059047713601,
          -2.6857235646383626,
          -0.7201157734494502,
          -0.1920660069857729,
          0.5341498433545641,
          -0.6498776596158321,
          -0.6881579664154346,
          -0.017781421996660406,
          -0.006479640791160362,
          -1.4875180851261842,
          -2.151414005208173,
          -0.06862265103004218,
          -0.6809989254617403,
          0.07246770576574128,
          1.5709090059774033,
          1.2092234979821614,
          -1.7336592475299253,
          0.3750141896515368,
          -0.7224394257070924,
          1.569857139426887,
          0.6761954348997585,
          0.5973200260553962,
          -1.3395346590300246,
          -0.31508903188547854,
          -0.6159141442383137,
          -0.8342038355358447,
          1.5799669056690253,
          -0.8695982902595847,
          2.5086007158219537,
          -0.4983408276616498,
          0.9792467346219735,
          0.7202387436322023,
          1.565905215152806,
          0.11437371066288606,
          -0.2344926835279254,
          0.5064013627686159,
          0.9212884740745085,
          -2.438177970385512,
          -1.1653160008924643,
          0.5847791301571718,
          1.1658578569944609,
          -1.9586439283763402,
          -0.023745458263176616,
          -0.9644614734785698,
          -0.5583469240013501,
          0.6541854785700131,
          2.053427150608331,
          0.8658266947740538,
          1.8457601392044725,
          -1.0635193533480607,
          1.002028410054408
         ],
         "yaxis": "y5"
        },
        {
         "histfunc": "count",
         "histnorm": "",
         "marker": {
          "color": "rgba(55, 128, 191, 1.0)",
          "line": {
           "color": "#4D5663",
           "width": 1.3
          }
         },
         "name": "B",
         "nbinsx": 10,
         "opacity": 0.8,
         "orientation": "v",
         "type": "histogram",
         "x": [
          -0.2912892972987383,
          -0.5099817648528213,
          1.1908177594187945,
          1.6852654510348208,
          0.14882243470747117,
          -2.3037953168126015,
          -0.24570904973412847,
          0.27026697246654063,
          0.5489241190861819,
          1.0494892047672069,
          1.6449557327042612,
          -1.2435292515972494,
          1.0827059551477518,
          -2.3265514065069826,
          -1.8432176330776107,
          1.2563120938727566,
          2.1016432707721964,
          0.8835351387421774,
          0.7887795942984664,
          1.2320778057208106,
          -0.019410404695273668,
          -1.0221872298474088,
          -1.4324446606118177,
          1.0556769315616874,
          2.6333874524887424,
          1.0219370562933083,
          -1.0447863310211478,
          -0.31296385151259865,
          -0.5495225412079057,
          -0.5760573962317269,
          0.4189253096607101,
          1.471342914336534,
          1.0222367104442975,
          0.15985179971099342,
          -1.6756594262295046,
          -0.3772891667954507,
          0.5683044437292576,
          -2.049073107560736,
          0.4903378004188023,
          0.4530662374795767,
          -1.308635707523197,
          0.6446017773525391,
          -2.4390504610217976,
          1.4355999105681634,
          0.4014417106028471,
          -0.06582744145685468,
          0.4870730284017431,
          -1.9493842372661236,
          2.2826084790025343,
          -1.2718059047713601,
          -2.6857235646383626,
          -0.7201157734494502,
          -0.1920660069857729,
          0.5341498433545641,
          -0.6498776596158321,
          -0.6881579664154346,
          -0.017781421996660406,
          -0.006479640791160362,
          -1.4875180851261842,
          -2.151414005208173,
          -0.06862265103004218,
          -0.6809989254617403,
          0.07246770576574128,
          1.5709090059774033,
          1.2092234979821614,
          -1.7336592475299253,
          0.3750141896515368,
          -0.7224394257070924,
          1.569857139426887,
          0.6761954348997585,
          0.5973200260553962,
          -1.3395346590300246,
          -0.31508903188547854,
          -0.6159141442383137,
          -0.8342038355358447,
          1.5799669056690253,
          -0.8695982902595847,
          2.5086007158219537,
          -0.4983408276616498,
          0.9792467346219735,
          0.7202387436322023,
          1.565905215152806,
          0.11437371066288606,
          -0.2344926835279254,
          0.5064013627686159,
          0.9212884740745085,
          -2.438177970385512,
          -1.1653160008924643,
          0.5847791301571718,
          1.1658578569944609,
          -1.9586439283763402,
          -0.023745458263176616,
          -0.9644614734785698,
          -0.5583469240013501,
          0.6541854785700131,
          2.053427150608331,
          0.8658266947740538,
          1.8457601392044725,
          -1.0635193533480607,
          1.002028410054408
         ],
         "xaxis": "x6",
         "yaxis": "y6"
        },
        {
         "line": {
          "color": "rgba(128, 128, 128, 1.0)",
          "dash": "solid",
          "shape": "linear",
          "width": 1.3
         },
         "marker": {
          "size": 2,
          "symbol": "circle"
         },
         "mode": "markers",
         "name": "B",
         "text": "",
         "type": "scatter",
         "x": [
          1.0289581305438282,
          0.5546223404747419,
          1.1662749440164377,
          2.4076552326021776,
          1.1206589700874514,
          -1.1510965060464522,
          -1.036330097185283,
          1.1035664352354242,
          0.41018784624515064,
          -0.6031066567749889,
          -0.43523375737566006,
          0.7700034740062437,
          0.6566952435331103,
          -0.7114750137325586,
          -0.05927451573410519,
          -0.17907593395437119,
          -0.25568674008505926,
          1.3422155615457656,
          -1.0296012082087613,
          0.8080962087323785,
          -1.025456298374542,
          -0.46163767759108804,
          -1.1598702074305383,
          -0.6209716060525496,
          -0.26394655045047843,
          0.8271151780451435,
          -1.5574334981928357,
          0.12883112172237213,
          0.7907350832481647,
          -0.435427911330841,
          1.156895577875462,
          1.5893737702529305,
          -0.2848824769301489,
          0.09526302519980143,
          -1.9060801587965064,
          0.9482566637846065,
          0.44123374245965796,
          0.39369493025203933,
          0.2862434970044421,
          0.0019161241469577708,
          -1.002830579436456,
          -1.3323363041288334,
          -1.1928668685040442,
          1.3819702487291246,
          -0.12058307139354957,
          -0.5323794584400485,
          0.8609519082160938,
          -0.34774168612723666,
          -0.756392204555714,
          0.6256477073548026,
          0.46068477788193496,
          1.0473063481936853,
          0.9827780522835693,
          1.9158788978470005,
          -0.45044272223335735,
          0.622715458855441,
          0.39767977706126684,
          0.47695013610397186,
          -0.2730982441463706,
          -0.6543150918670932,
          -0.2229225756274758,
          -0.12938908818010844,
          0.9011976187385268,
          -0.8714209867366066,
          -0.04309649572211812,
          -1.337614470057924,
          0.3943511231930112,
          0.3294485083362826,
          -1.0098554567762619,
          -0.05027183388256316,
          0.06852094525818642,
          -0.8739080296140921,
          -0.20909017774675226,
          0.38091131571275527,
          0.0805704634826217,
          1.0467337941905117,
          -1.8512739800484475,
          -0.03893471147359269,
          -2.2452278339031078,
          0.08976975309328514,
          -0.2476763117555046,
          -0.7258674697306373,
          0.7005279592720636,
          -0.052074197751617694,
          -0.33574324432113484,
          0.531058971280717,
          -0.6360711258670565,
          -1.1402900718902977,
          -0.6595388839946046,
          -0.029147066769622476,
          -0.7648366879107783,
          -0.4232246795877898,
          -0.4195811108756407,
          -0.016863704992688168,
          -1.3511475249578464,
          -0.8396311579884472,
          -1.704008417464047,
          0.11973493174520473,
          -0.20130009398582185,
          2.54517125639914
         ],
         "xaxis": "x7",
         "y": [
          -0.2912892972987383,
          -0.5099817648528213,
          1.1908177594187945,
          1.6852654510348208,
          0.14882243470747117,
          -2.3037953168126015,
          -0.24570904973412847,
          0.27026697246654063,
          0.5489241190861819,
          1.0494892047672069,
          1.6449557327042612,
          -1.2435292515972494,
          1.0827059551477518,
          -2.3265514065069826,
          -1.8432176330776107,
          1.2563120938727566,
          2.1016432707721964,
          0.8835351387421774,
          0.7887795942984664,
          1.2320778057208106,
          -0.019410404695273668,
          -1.0221872298474088,
          -1.4324446606118177,
          1.0556769315616874,
          2.6333874524887424,
          1.0219370562933083,
          -1.0447863310211478,
          -0.31296385151259865,
          -0.5495225412079057,
          -0.5760573962317269,
          0.4189253096607101,
          1.471342914336534,
          1.0222367104442975,
          0.15985179971099342,
          -1.6756594262295046,
          -0.3772891667954507,
          0.5683044437292576,
          -2.049073107560736,
          0.4903378004188023,
          0.4530662374795767,
          -1.308635707523197,
          0.6446017773525391,
          -2.4390504610217976,
          1.4355999105681634,
          0.4014417106028471,
          -0.06582744145685468,
          0.4870730284017431,
          -1.9493842372661236,
          2.2826084790025343,
          -1.2718059047713601,
          -2.6857235646383626,
          -0.7201157734494502,
          -0.1920660069857729,
          0.5341498433545641,
          -0.6498776596158321,
          -0.6881579664154346,
          -0.017781421996660406,
          -0.006479640791160362,
          -1.4875180851261842,
          -2.151414005208173,
          -0.06862265103004218,
          -0.6809989254617403,
          0.07246770576574128,
          1.5709090059774033,
          1.2092234979821614,
          -1.7336592475299253,
          0.3750141896515368,
          -0.7224394257070924,
          1.569857139426887,
          0.6761954348997585,
          0.5973200260553962,
          -1.3395346590300246,
          -0.31508903188547854,
          -0.6159141442383137,
          -0.8342038355358447,
          1.5799669056690253,
          -0.8695982902595847,
          2.5086007158219537,
          -0.4983408276616498,
          0.9792467346219735,
          0.7202387436322023,
          1.565905215152806,
          0.11437371066288606,
          -0.2344926835279254,
          0.5064013627686159,
          0.9212884740745085,
          -2.438177970385512,
          -1.1653160008924643,
          0.5847791301571718,
          1.1658578569944609,
          -1.9586439283763402,
          -0.023745458263176616,
          -0.9644614734785698,
          -0.5583469240013501,
          0.6541854785700131,
          2.053427150608331,
          0.8658266947740538,
          1.8457601392044725,
          -1.0635193533480607,
          1.002028410054408
         ],
         "yaxis": "y7"
        },
        {
         "line": {
          "color": "rgba(128, 128, 128, 1.0)",
          "dash": "solid",
          "shape": "linear",
          "width": 1.3
         },
         "marker": {
          "size": 2,
          "symbol": "circle"
         },
         "mode": "markers",
         "name": "B",
         "text": "",
         "type": "scatter",
         "x": [
          0.9526488790960417,
          -1.5968100702183643,
          -0.5433295819264312,
          0.21387914156124838,
          0.5992632755866035,
          -0.03590331987408655,
          -0.16790739079250558,
          -0.6809471961924212,
          1.1128306773770202,
          -0.1242169865462312,
          -0.19310070189811843,
          -0.36464517280134023,
          0.310488599971796,
          -2.1630578876836144,
          -0.32972054778390103,
          0.25869221922838737,
          -1.0410314800247165,
          -0.3605355172297498,
          1.8471903313054505,
          -0.13560273947908436,
          -0.8071879070206959,
          -0.21518335457844917,
          -1.8203253804368487,
          1.3297605096549812,
          -0.7903310062065573,
          -0.9094544322492556,
          0.3371073345110966,
          0.7328193229092946,
          0.3086075733476576,
          0.45729867001915736,
          2.6522636307066563,
          1.5557283605369259,
          -0.6993369988342397,
          -0.7970781224855026,
          -0.33219249900301157,
          0.03137551427390909,
          0.4841698718340827,
          1.0664616449784468,
          -0.8654512204154237,
          -0.998662866066939,
          -0.8684079873945336,
          -0.9204533756188058,
          0.7399549704871922,
          -0.06769304274617806,
          -0.8407441248466904,
          -0.44226704586481114,
          -0.06859443206477811,
          0.04741011209263733,
          -0.4014834693298488,
          -0.32535576109556735,
          0.8224685680259435,
          -0.029326339591027987,
          -0.5310560745222764,
          0.42840277122352355,
          0.4719035497754577,
          1.1131298210261316,
          -0.5237001738833921,
          0.3057587673337682,
          -0.37628408527794727,
          -0.8865576707288084,
          -1.3114279026947866,
          0.5246334391909486,
          0.8771169910861834,
          -0.2759966284950859,
          -0.48074156270904084,
          0.14667455636236404,
          -1.1822688359181786,
          -0.8263875315015421,
          0.2552027396602155,
          -1.3389823363246451,
          -0.0739221809686225,
          -1.2826249948658528,
          0.12963514155415903,
          0.6520761962871522,
          -0.15440062020442194,
          2.256836634142194,
          -1.1812134030646015,
          -0.22704553641637804,
          1.5825158547690166,
          0.08476959376703497,
          1.0724541039190976,
          -0.2841540152432594,
          0.0005838753698127481,
          1.4141860476254873,
          -0.6445674809748125,
          -0.0028322728680268932,
          -0.28642983917000814,
          0.3480069259952904,
          -0.8102266727652506,
          0.11581712026168137,
          0.7405076829259916,
          -0.027371441823421164,
          0.8821390434101007,
          0.05335963364047773,
          0.35603809421414434,
          -0.12940225872618288,
          0.247627656095243,
          0.12384122479635257,
          -2.440242080691085,
          -0.2699634892117874
         ],
         "xaxis": "x8",
         "y": [
          -0.2912892972987383,
          -0.5099817648528213,
          1.1908177594187945,
          1.6852654510348208,
          0.14882243470747117,
          -2.3037953168126015,
          -0.24570904973412847,
          0.27026697246654063,
          0.5489241190861819,
          1.0494892047672069,
          1.6449557327042612,
          -1.2435292515972494,
          1.0827059551477518,
          -2.3265514065069826,
          -1.8432176330776107,
          1.2563120938727566,
          2.1016432707721964,
          0.8835351387421774,
          0.7887795942984664,
          1.2320778057208106,
          -0.019410404695273668,
          -1.0221872298474088,
          -1.4324446606118177,
          1.0556769315616874,
          2.6333874524887424,
          1.0219370562933083,
          -1.0447863310211478,
          -0.31296385151259865,
          -0.5495225412079057,
          -0.5760573962317269,
          0.4189253096607101,
          1.471342914336534,
          1.0222367104442975,
          0.15985179971099342,
          -1.6756594262295046,
          -0.3772891667954507,
          0.5683044437292576,
          -2.049073107560736,
          0.4903378004188023,
          0.4530662374795767,
          -1.308635707523197,
          0.6446017773525391,
          -2.4390504610217976,
          1.4355999105681634,
          0.4014417106028471,
          -0.06582744145685468,
          0.4870730284017431,
          -1.9493842372661236,
          2.2826084790025343,
          -1.2718059047713601,
          -2.6857235646383626,
          -0.7201157734494502,
          -0.1920660069857729,
          0.5341498433545641,
          -0.6498776596158321,
          -0.6881579664154346,
          -0.017781421996660406,
          -0.006479640791160362,
          -1.4875180851261842,
          -2.151414005208173,
          -0.06862265103004218,
          -0.6809989254617403,
          0.07246770576574128,
          1.5709090059774033,
          1.2092234979821614,
          -1.7336592475299253,
          0.3750141896515368,
          -0.7224394257070924,
          1.569857139426887,
          0.6761954348997585,
          0.5973200260553962,
          -1.3395346590300246,
          -0.31508903188547854,
          -0.6159141442383137,
          -0.8342038355358447,
          1.5799669056690253,
          -0.8695982902595847,
          2.5086007158219537,
          -0.4983408276616498,
          0.9792467346219735,
          0.7202387436322023,
          1.565905215152806,
          0.11437371066288606,
          -0.2344926835279254,
          0.5064013627686159,
          0.9212884740745085,
          -2.438177970385512,
          -1.1653160008924643,
          0.5847791301571718,
          1.1658578569944609,
          -1.9586439283763402,
          -0.023745458263176616,
          -0.9644614734785698,
          -0.5583469240013501,
          0.6541854785700131,
          2.053427150608331,
          0.8658266947740538,
          1.8457601392044725,
          -1.0635193533480607,
          1.002028410054408
         ],
         "yaxis": "y8"
        },
        {
         "line": {
          "color": "rgba(128, 128, 128, 1.0)",
          "dash": "solid",
          "shape": "linear",
          "width": 1.3
         },
         "marker": {
          "size": 2,
          "symbol": "circle"
         },
         "mode": "markers",
         "name": "C",
         "text": "",
         "type": "scatter",
         "x": [
          0.7578306652600714,
          0.6706958613531931,
          -1.786751065174122,
          0.5602920264863411,
          1.2093903118572087,
          -0.07721121963587653,
          -0.6006294853354058,
          -0.20549799611085745,
          0.14447932596359128,
          -0.6194297923494315,
          0.289965871828332,
          1.334295055420149,
          1.2776093322599726,
          0.6941583739260736,
          -0.4768485479531304,
          -1.3945337778497289,
          -0.8308943714415719,
          -0.1908555235678979,
          -0.35903626618040974,
          -2.0200458765769387,
          0.4448500215436498,
          0.20422160240325865,
          0.5392099010996428,
          -0.2690083112201799,
          -0.8563251939013093,
          0.3391207855185764,
          -0.7792248890505376,
          -0.02083868757770441,
          -0.03344647009605206,
          -1.3904501532020737,
          0.3608322091072763,
          -2.2848433711479856,
          -0.13177311715226472,
          -0.25776768300903474,
          0.027962301258553895,
          1.681435385772883,
          -0.6221469941651722,
          -1.1917502523025978,
          -2.1355438596372207,
          -0.29686712138952165,
          0.6467733369508364,
          -0.788778618157295,
          -0.9093268462871056,
          -0.6953376105722637,
          -0.23977448704372462,
          -0.3453021315051399,
          1.4490027915911707,
          0.32472600886413877,
          0.9359226852540424,
          2.6586112671481525,
          -0.32333375611415116,
          4.0344297621507454,
          -0.8205988894356041,
          -1.1362389424169994,
          -0.2111340316655757,
          0.33053613427656303,
          -2.2883541938471232,
          0.15101230122841047,
          0.5630993680418365,
          0.04005306805778204,
          0.7320047941010306,
          2.022400726278812,
          -1.110462875185184,
          1.815902928551929,
          0.23541742291644363,
          -0.299353695139132,
          1.782004055400953,
          0.5886194597980433,
          0.3249032927706249,
          0.22970085014314612,
          1.0296152959656006,
          0.3113892172505194,
          -0.6738285807996732,
          -1.4294071757980833,
          1.0331708534128439,
          1.0786061415606991,
          -1.0927355132299985,
          -0.26801167744466736,
          1.283875352142768,
          -1.1922505632319573,
          -0.11461499732670305,
          0.5612224005874871,
          -1.9495625965611316,
          -0.6754021167285816,
          -0.1713261396526278,
          2.3700737799129836,
          0.20724970718019972,
          0.36570347615770693,
          -0.7904553715348929,
          0.026238426697340594,
          -1.904503266356009,
          1.574480717301306,
          1.3400837073902583,
          -0.4839947096236791,
          -1.1813582092678951,
          1.6626390476575212,
          -1.0216179790542574,
          -0.6949471304302506,
          0.9285689130307127,
          -0.2926143093506573
         ],
         "xaxis": "x9",
         "y": [
          1.0289581305438282,
          0.5546223404747419,
          1.1662749440164377,
          2.4076552326021776,
          1.1206589700874514,
          -1.1510965060464522,
          -1.036330097185283,
          1.1035664352354242,
          0.41018784624515064,
          -0.6031066567749889,
          -0.43523375737566006,
          0.7700034740062437,
          0.6566952435331103,
          -0.7114750137325586,
          -0.05927451573410519,
          -0.17907593395437119,
          -0.25568674008505926,
          1.3422155615457656,
          -1.0296012082087613,
          0.8080962087323785,
          -1.025456298374542,
          -0.46163767759108804,
          -1.1598702074305383,
          -0.6209716060525496,
          -0.26394655045047843,
          0.8271151780451435,
          -1.5574334981928357,
          0.12883112172237213,
          0.7907350832481647,
          -0.435427911330841,
          1.156895577875462,
          1.5893737702529305,
          -0.2848824769301489,
          0.09526302519980143,
          -1.9060801587965064,
          0.9482566637846065,
          0.44123374245965796,
          0.39369493025203933,
          0.2862434970044421,
          0.0019161241469577708,
          -1.002830579436456,
          -1.3323363041288334,
          -1.1928668685040442,
          1.3819702487291246,
          -0.12058307139354957,
          -0.5323794584400485,
          0.8609519082160938,
          -0.34774168612723666,
          -0.756392204555714,
          0.6256477073548026,
          0.46068477788193496,
          1.0473063481936853,
          0.9827780522835693,
          1.9158788978470005,
          -0.45044272223335735,
          0.622715458855441,
          0.39767977706126684,
          0.47695013610397186,
          -0.2730982441463706,
          -0.6543150918670932,
          -0.2229225756274758,
          -0.12938908818010844,
          0.9011976187385268,
          -0.8714209867366066,
          -0.04309649572211812,
          -1.337614470057924,
          0.3943511231930112,
          0.3294485083362826,
          -1.0098554567762619,
          -0.05027183388256316,
          0.06852094525818642,
          -0.8739080296140921,
          -0.20909017774675226,
          0.38091131571275527,
          0.0805704634826217,
          1.0467337941905117,
          -1.8512739800484475,
          -0.03893471147359269,
          -2.2452278339031078,
          0.08976975309328514,
          -0.2476763117555046,
          -0.7258674697306373,
          0.7005279592720636,
          -0.052074197751617694,
          -0.33574324432113484,
          0.531058971280717,
          -0.6360711258670565,
          -1.1402900718902977,
          -0.6595388839946046,
          -0.029147066769622476,
          -0.7648366879107783,
          -0.4232246795877898,
          -0.4195811108756407,
          -0.016863704992688168,
          -1.3511475249578464,
          -0.8396311579884472,
          -1.704008417464047,
          0.11973493174520473,
          -0.20130009398582185,
          2.54517125639914
         ],
         "yaxis": "y9"
        },
        {
         "line": {
          "color": "rgba(128, 128, 128, 1.0)",
          "dash": "solid",
          "shape": "linear",
          "width": 1.3
         },
         "marker": {
          "size": 2,
          "symbol": "circle"
         },
         "mode": "markers",
         "name": "C",
         "text": "",
         "type": "scatter",
         "x": [
          -0.2912892972987383,
          -0.5099817648528213,
          1.1908177594187945,
          1.6852654510348208,
          0.14882243470747117,
          -2.3037953168126015,
          -0.24570904973412847,
          0.27026697246654063,
          0.5489241190861819,
          1.0494892047672069,
          1.6449557327042612,
          -1.2435292515972494,
          1.0827059551477518,
          -2.3265514065069826,
          -1.8432176330776107,
          1.2563120938727566,
          2.1016432707721964,
          0.8835351387421774,
          0.7887795942984664,
          1.2320778057208106,
          -0.019410404695273668,
          -1.0221872298474088,
          -1.4324446606118177,
          1.0556769315616874,
          2.6333874524887424,
          1.0219370562933083,
          -1.0447863310211478,
          -0.31296385151259865,
          -0.5495225412079057,
          -0.5760573962317269,
          0.4189253096607101,
          1.471342914336534,
          1.0222367104442975,
          0.15985179971099342,
          -1.6756594262295046,
          -0.3772891667954507,
          0.5683044437292576,
          -2.049073107560736,
          0.4903378004188023,
          0.4530662374795767,
          -1.308635707523197,
          0.6446017773525391,
          -2.4390504610217976,
          1.4355999105681634,
          0.4014417106028471,
          -0.06582744145685468,
          0.4870730284017431,
          -1.9493842372661236,
          2.2826084790025343,
          -1.2718059047713601,
          -2.6857235646383626,
          -0.7201157734494502,
          -0.1920660069857729,
          0.5341498433545641,
          -0.6498776596158321,
          -0.6881579664154346,
          -0.017781421996660406,
          -0.006479640791160362,
          -1.4875180851261842,
          -2.151414005208173,
          -0.06862265103004218,
          -0.6809989254617403,
          0.07246770576574128,
          1.5709090059774033,
          1.2092234979821614,
          -1.7336592475299253,
          0.3750141896515368,
          -0.7224394257070924,
          1.569857139426887,
          0.6761954348997585,
          0.5973200260553962,
          -1.3395346590300246,
          -0.31508903188547854,
          -0.6159141442383137,
          -0.8342038355358447,
          1.5799669056690253,
          -0.8695982902595847,
          2.5086007158219537,
          -0.4983408276616498,
          0.9792467346219735,
          0.7202387436322023,
          1.565905215152806,
          0.11437371066288606,
          -0.2344926835279254,
          0.5064013627686159,
          0.9212884740745085,
          -2.438177970385512,
          -1.1653160008924643,
          0.5847791301571718,
          1.1658578569944609,
          -1.9586439283763402,
          -0.023745458263176616,
          -0.9644614734785698,
          -0.5583469240013501,
          0.6541854785700131,
          2.053427150608331,
          0.8658266947740538,
          1.8457601392044725,
          -1.0635193533480607,
          1.002028410054408
         ],
         "xaxis": "x10",
         "y": [
          1.0289581305438282,
          0.5546223404747419,
          1.1662749440164377,
          2.4076552326021776,
          1.1206589700874514,
          -1.1510965060464522,
          -1.036330097185283,
          1.1035664352354242,
          0.41018784624515064,
          -0.6031066567749889,
          -0.43523375737566006,
          0.7700034740062437,
          0.6566952435331103,
          -0.7114750137325586,
          -0.05927451573410519,
          -0.17907593395437119,
          -0.25568674008505926,
          1.3422155615457656,
          -1.0296012082087613,
          0.8080962087323785,
          -1.025456298374542,
          -0.46163767759108804,
          -1.1598702074305383,
          -0.6209716060525496,
          -0.26394655045047843,
          0.8271151780451435,
          -1.5574334981928357,
          0.12883112172237213,
          0.7907350832481647,
          -0.435427911330841,
          1.156895577875462,
          1.5893737702529305,
          -0.2848824769301489,
          0.09526302519980143,
          -1.9060801587965064,
          0.9482566637846065,
          0.44123374245965796,
          0.39369493025203933,
          0.2862434970044421,
          0.0019161241469577708,
          -1.002830579436456,
          -1.3323363041288334,
          -1.1928668685040442,
          1.3819702487291246,
          -0.12058307139354957,
          -0.5323794584400485,
          0.8609519082160938,
          -0.34774168612723666,
          -0.756392204555714,
          0.6256477073548026,
          0.46068477788193496,
          1.0473063481936853,
          0.9827780522835693,
          1.9158788978470005,
          -0.45044272223335735,
          0.622715458855441,
          0.39767977706126684,
          0.47695013610397186,
          -0.2730982441463706,
          -0.6543150918670932,
          -0.2229225756274758,
          -0.12938908818010844,
          0.9011976187385268,
          -0.8714209867366066,
          -0.04309649572211812,
          -1.337614470057924,
          0.3943511231930112,
          0.3294485083362826,
          -1.0098554567762619,
          -0.05027183388256316,
          0.06852094525818642,
          -0.8739080296140921,
          -0.20909017774675226,
          0.38091131571275527,
          0.0805704634826217,
          1.0467337941905117,
          -1.8512739800484475,
          -0.03893471147359269,
          -2.2452278339031078,
          0.08976975309328514,
          -0.2476763117555046,
          -0.7258674697306373,
          0.7005279592720636,
          -0.052074197751617694,
          -0.33574324432113484,
          0.531058971280717,
          -0.6360711258670565,
          -1.1402900718902977,
          -0.6595388839946046,
          -0.029147066769622476,
          -0.7648366879107783,
          -0.4232246795877898,
          -0.4195811108756407,
          -0.016863704992688168,
          -1.3511475249578464,
          -0.8396311579884472,
          -1.704008417464047,
          0.11973493174520473,
          -0.20130009398582185,
          2.54517125639914
         ],
         "yaxis": "y10"
        },
        {
         "histfunc": "count",
         "histnorm": "",
         "marker": {
          "color": "rgba(50, 171, 96, 1.0)",
          "line": {
           "color": "#4D5663",
           "width": 1.3
          }
         },
         "name": "C",
         "nbinsx": 10,
         "opacity": 0.8,
         "orientation": "v",
         "type": "histogram",
         "x": [
          1.0289581305438282,
          0.5546223404747419,
          1.1662749440164377,
          2.4076552326021776,
          1.1206589700874514,
          -1.1510965060464522,
          -1.036330097185283,
          1.1035664352354242,
          0.41018784624515064,
          -0.6031066567749889,
          -0.43523375737566006,
          0.7700034740062437,
          0.6566952435331103,
          -0.7114750137325586,
          -0.05927451573410519,
          -0.17907593395437119,
          -0.25568674008505926,
          1.3422155615457656,
          -1.0296012082087613,
          0.8080962087323785,
          -1.025456298374542,
          -0.46163767759108804,
          -1.1598702074305383,
          -0.6209716060525496,
          -0.26394655045047843,
          0.8271151780451435,
          -1.5574334981928357,
          0.12883112172237213,
          0.7907350832481647,
          -0.435427911330841,
          1.156895577875462,
          1.5893737702529305,
          -0.2848824769301489,
          0.09526302519980143,
          -1.9060801587965064,
          0.9482566637846065,
          0.44123374245965796,
          0.39369493025203933,
          0.2862434970044421,
          0.0019161241469577708,
          -1.002830579436456,
          -1.3323363041288334,
          -1.1928668685040442,
          1.3819702487291246,
          -0.12058307139354957,
          -0.5323794584400485,
          0.8609519082160938,
          -0.34774168612723666,
          -0.756392204555714,
          0.6256477073548026,
          0.46068477788193496,
          1.0473063481936853,
          0.9827780522835693,
          1.9158788978470005,
          -0.45044272223335735,
          0.622715458855441,
          0.39767977706126684,
          0.47695013610397186,
          -0.2730982441463706,
          -0.6543150918670932,
          -0.2229225756274758,
          -0.12938908818010844,
          0.9011976187385268,
          -0.8714209867366066,
          -0.04309649572211812,
          -1.337614470057924,
          0.3943511231930112,
          0.3294485083362826,
          -1.0098554567762619,
          -0.05027183388256316,
          0.06852094525818642,
          -0.8739080296140921,
          -0.20909017774675226,
          0.38091131571275527,
          0.0805704634826217,
          1.0467337941905117,
          -1.8512739800484475,
          -0.03893471147359269,
          -2.2452278339031078,
          0.08976975309328514,
          -0.2476763117555046,
          -0.7258674697306373,
          0.7005279592720636,
          -0.052074197751617694,
          -0.33574324432113484,
          0.531058971280717,
          -0.6360711258670565,
          -1.1402900718902977,
          -0.6595388839946046,
          -0.029147066769622476,
          -0.7648366879107783,
          -0.4232246795877898,
          -0.4195811108756407,
          -0.016863704992688168,
          -1.3511475249578464,
          -0.8396311579884472,
          -1.704008417464047,
          0.11973493174520473,
          -0.20130009398582185,
          2.54517125639914
         ],
         "xaxis": "x11",
         "yaxis": "y11"
        },
        {
         "line": {
          "color": "rgba(128, 128, 128, 1.0)",
          "dash": "solid",
          "shape": "linear",
          "width": 1.3
         },
         "marker": {
          "size": 2,
          "symbol": "circle"
         },
         "mode": "markers",
         "name": "C",
         "text": "",
         "type": "scatter",
         "x": [
          0.9526488790960417,
          -1.5968100702183643,
          -0.5433295819264312,
          0.21387914156124838,
          0.5992632755866035,
          -0.03590331987408655,
          -0.16790739079250558,
          -0.6809471961924212,
          1.1128306773770202,
          -0.1242169865462312,
          -0.19310070189811843,
          -0.36464517280134023,
          0.310488599971796,
          -2.1630578876836144,
          -0.32972054778390103,
          0.25869221922838737,
          -1.0410314800247165,
          -0.3605355172297498,
          1.8471903313054505,
          -0.13560273947908436,
          -0.8071879070206959,
          -0.21518335457844917,
          -1.8203253804368487,
          1.3297605096549812,
          -0.7903310062065573,
          -0.9094544322492556,
          0.3371073345110966,
          0.7328193229092946,
          0.3086075733476576,
          0.45729867001915736,
          2.6522636307066563,
          1.5557283605369259,
          -0.6993369988342397,
          -0.7970781224855026,
          -0.33219249900301157,
          0.03137551427390909,
          0.4841698718340827,
          1.0664616449784468,
          -0.8654512204154237,
          -0.998662866066939,
          -0.8684079873945336,
          -0.9204533756188058,
          0.7399549704871922,
          -0.06769304274617806,
          -0.8407441248466904,
          -0.44226704586481114,
          -0.06859443206477811,
          0.04741011209263733,
          -0.4014834693298488,
          -0.32535576109556735,
          0.8224685680259435,
          -0.029326339591027987,
          -0.5310560745222764,
          0.42840277122352355,
          0.4719035497754577,
          1.1131298210261316,
          -0.5237001738833921,
          0.3057587673337682,
          -0.37628408527794727,
          -0.8865576707288084,
          -1.3114279026947866,
          0.5246334391909486,
          0.8771169910861834,
          -0.2759966284950859,
          -0.48074156270904084,
          0.14667455636236404,
          -1.1822688359181786,
          -0.8263875315015421,
          0.2552027396602155,
          -1.3389823363246451,
          -0.0739221809686225,
          -1.2826249948658528,
          0.12963514155415903,
          0.6520761962871522,
          -0.15440062020442194,
          2.256836634142194,
          -1.1812134030646015,
          -0.22704553641637804,
          1.5825158547690166,
          0.08476959376703497,
          1.0724541039190976,
          -0.2841540152432594,
          0.0005838753698127481,
          1.4141860476254873,
          -0.6445674809748125,
          -0.0028322728680268932,
          -0.28642983917000814,
          0.3480069259952904,
          -0.8102266727652506,
          0.11581712026168137,
          0.7405076829259916,
          -0.027371441823421164,
          0.8821390434101007,
          0.05335963364047773,
          0.35603809421414434,
          -0.12940225872618288,
          0.247627656095243,
          0.12384122479635257,
          -2.440242080691085,
          -0.2699634892117874
         ],
         "xaxis": "x12",
         "y": [
          1.0289581305438282,
          0.5546223404747419,
          1.1662749440164377,
          2.4076552326021776,
          1.1206589700874514,
          -1.1510965060464522,
          -1.036330097185283,
          1.1035664352354242,
          0.41018784624515064,
          -0.6031066567749889,
          -0.43523375737566006,
          0.7700034740062437,
          0.6566952435331103,
          -0.7114750137325586,
          -0.05927451573410519,
          -0.17907593395437119,
          -0.25568674008505926,
          1.3422155615457656,
          -1.0296012082087613,
          0.8080962087323785,
          -1.025456298374542,
          -0.46163767759108804,
          -1.1598702074305383,
          -0.6209716060525496,
          -0.26394655045047843,
          0.8271151780451435,
          -1.5574334981928357,
          0.12883112172237213,
          0.7907350832481647,
          -0.435427911330841,
          1.156895577875462,
          1.5893737702529305,
          -0.2848824769301489,
          0.09526302519980143,
          -1.9060801587965064,
          0.9482566637846065,
          0.44123374245965796,
          0.39369493025203933,
          0.2862434970044421,
          0.0019161241469577708,
          -1.002830579436456,
          -1.3323363041288334,
          -1.1928668685040442,
          1.3819702487291246,
          -0.12058307139354957,
          -0.5323794584400485,
          0.8609519082160938,
          -0.34774168612723666,
          -0.756392204555714,
          0.6256477073548026,
          0.46068477788193496,
          1.0473063481936853,
          0.9827780522835693,
          1.9158788978470005,
          -0.45044272223335735,
          0.622715458855441,
          0.39767977706126684,
          0.47695013610397186,
          -0.2730982441463706,
          -0.6543150918670932,
          -0.2229225756274758,
          -0.12938908818010844,
          0.9011976187385268,
          -0.8714209867366066,
          -0.04309649572211812,
          -1.337614470057924,
          0.3943511231930112,
          0.3294485083362826,
          -1.0098554567762619,
          -0.05027183388256316,
          0.06852094525818642,
          -0.8739080296140921,
          -0.20909017774675226,
          0.38091131571275527,
          0.0805704634826217,
          1.0467337941905117,
          -1.8512739800484475,
          -0.03893471147359269,
          -2.2452278339031078,
          0.08976975309328514,
          -0.2476763117555046,
          -0.7258674697306373,
          0.7005279592720636,
          -0.052074197751617694,
          -0.33574324432113484,
          0.531058971280717,
          -0.6360711258670565,
          -1.1402900718902977,
          -0.6595388839946046,
          -0.029147066769622476,
          -0.7648366879107783,
          -0.4232246795877898,
          -0.4195811108756407,
          -0.016863704992688168,
          -1.3511475249578464,
          -0.8396311579884472,
          -1.704008417464047,
          0.11973493174520473,
          -0.20130009398582185,
          2.54517125639914
         ],
         "yaxis": "y12"
        },
        {
         "line": {
          "color": "rgba(128, 128, 128, 1.0)",
          "dash": "solid",
          "shape": "linear",
          "width": 1.3
         },
         "marker": {
          "size": 2,
          "symbol": "circle"
         },
         "mode": "markers",
         "name": "D",
         "text": "",
         "type": "scatter",
         "x": [
          0.7578306652600714,
          0.6706958613531931,
          -1.786751065174122,
          0.5602920264863411,
          1.2093903118572087,
          -0.07721121963587653,
          -0.6006294853354058,
          -0.20549799611085745,
          0.14447932596359128,
          -0.6194297923494315,
          0.289965871828332,
          1.334295055420149,
          1.2776093322599726,
          0.6941583739260736,
          -0.4768485479531304,
          -1.3945337778497289,
          -0.8308943714415719,
          -0.1908555235678979,
          -0.35903626618040974,
          -2.0200458765769387,
          0.4448500215436498,
          0.20422160240325865,
          0.5392099010996428,
          -0.2690083112201799,
          -0.8563251939013093,
          0.3391207855185764,
          -0.7792248890505376,
          -0.02083868757770441,
          -0.03344647009605206,
          -1.3904501532020737,
          0.3608322091072763,
          -2.2848433711479856,
          -0.13177311715226472,
          -0.25776768300903474,
          0.027962301258553895,
          1.681435385772883,
          -0.6221469941651722,
          -1.1917502523025978,
          -2.1355438596372207,
          -0.29686712138952165,
          0.6467733369508364,
          -0.788778618157295,
          -0.9093268462871056,
          -0.6953376105722637,
          -0.23977448704372462,
          -0.3453021315051399,
          1.4490027915911707,
          0.32472600886413877,
          0.9359226852540424,
          2.6586112671481525,
          -0.32333375611415116,
          4.0344297621507454,
          -0.8205988894356041,
          -1.1362389424169994,
          -0.2111340316655757,
          0.33053613427656303,
          -2.2883541938471232,
          0.15101230122841047,
          0.5630993680418365,
          0.04005306805778204,
          0.7320047941010306,
          2.022400726278812,
          -1.110462875185184,
          1.815902928551929,
          0.23541742291644363,
          -0.299353695139132,
          1.782004055400953,
          0.5886194597980433,
          0.3249032927706249,
          0.22970085014314612,
          1.0296152959656006,
          0.3113892172505194,
          -0.6738285807996732,
          -1.4294071757980833,
          1.0331708534128439,
          1.0786061415606991,
          -1.0927355132299985,
          -0.26801167744466736,
          1.283875352142768,
          -1.1922505632319573,
          -0.11461499732670305,
          0.5612224005874871,
          -1.9495625965611316,
          -0.6754021167285816,
          -0.1713261396526278,
          2.3700737799129836,
          0.20724970718019972,
          0.36570347615770693,
          -0.7904553715348929,
          0.026238426697340594,
          -1.904503266356009,
          1.574480717301306,
          1.3400837073902583,
          -0.4839947096236791,
          -1.1813582092678951,
          1.6626390476575212,
          -1.0216179790542574,
          -0.6949471304302506,
          0.9285689130307127,
          -0.2926143093506573
         ],
         "xaxis": "x13",
         "y": [
          0.9526488790960417,
          -1.5968100702183643,
          -0.5433295819264312,
          0.21387914156124838,
          0.5992632755866035,
          -0.03590331987408655,
          -0.16790739079250558,
          -0.6809471961924212,
          1.1128306773770202,
          -0.1242169865462312,
          -0.19310070189811843,
          -0.36464517280134023,
          0.310488599971796,
          -2.1630578876836144,
          -0.32972054778390103,
          0.25869221922838737,
          -1.0410314800247165,
          -0.3605355172297498,
          1.8471903313054505,
          -0.13560273947908436,
          -0.8071879070206959,
          -0.21518335457844917,
          -1.8203253804368487,
          1.3297605096549812,
          -0.7903310062065573,
          -0.9094544322492556,
          0.3371073345110966,
          0.7328193229092946,
          0.3086075733476576,
          0.45729867001915736,
          2.6522636307066563,
          1.5557283605369259,
          -0.6993369988342397,
          -0.7970781224855026,
          -0.33219249900301157,
          0.03137551427390909,
          0.4841698718340827,
          1.0664616449784468,
          -0.8654512204154237,
          -0.998662866066939,
          -0.8684079873945336,
          -0.9204533756188058,
          0.7399549704871922,
          -0.06769304274617806,
          -0.8407441248466904,
          -0.44226704586481114,
          -0.06859443206477811,
          0.04741011209263733,
          -0.4014834693298488,
          -0.32535576109556735,
          0.8224685680259435,
          -0.029326339591027987,
          -0.5310560745222764,
          0.42840277122352355,
          0.4719035497754577,
          1.1131298210261316,
          -0.5237001738833921,
          0.3057587673337682,
          -0.37628408527794727,
          -0.8865576707288084,
          -1.3114279026947866,
          0.5246334391909486,
          0.8771169910861834,
          -0.2759966284950859,
          -0.48074156270904084,
          0.14667455636236404,
          -1.1822688359181786,
          -0.8263875315015421,
          0.2552027396602155,
          -1.3389823363246451,
          -0.0739221809686225,
          -1.2826249948658528,
          0.12963514155415903,
          0.6520761962871522,
          -0.15440062020442194,
          2.256836634142194,
          -1.1812134030646015,
          -0.22704553641637804,
          1.5825158547690166,
          0.08476959376703497,
          1.0724541039190976,
          -0.2841540152432594,
          0.0005838753698127481,
          1.4141860476254873,
          -0.6445674809748125,
          -0.0028322728680268932,
          -0.28642983917000814,
          0.3480069259952904,
          -0.8102266727652506,
          0.11581712026168137,
          0.7405076829259916,
          -0.027371441823421164,
          0.8821390434101007,
          0.05335963364047773,
          0.35603809421414434,
          -0.12940225872618288,
          0.247627656095243,
          0.12384122479635257,
          -2.440242080691085,
          -0.2699634892117874
         ],
         "yaxis": "y13"
        },
        {
         "line": {
          "color": "rgba(128, 128, 128, 1.0)",
          "dash": "solid",
          "shape": "linear",
          "width": 1.3
         },
         "marker": {
          "size": 2,
          "symbol": "circle"
         },
         "mode": "markers",
         "name": "D",
         "text": "",
         "type": "scatter",
         "x": [
          -0.2912892972987383,
          -0.5099817648528213,
          1.1908177594187945,
          1.6852654510348208,
          0.14882243470747117,
          -2.3037953168126015,
          -0.24570904973412847,
          0.27026697246654063,
          0.5489241190861819,
          1.0494892047672069,
          1.6449557327042612,
          -1.2435292515972494,
          1.0827059551477518,
          -2.3265514065069826,
          -1.8432176330776107,
          1.2563120938727566,
          2.1016432707721964,
          0.8835351387421774,
          0.7887795942984664,
          1.2320778057208106,
          -0.019410404695273668,
          -1.0221872298474088,
          -1.4324446606118177,
          1.0556769315616874,
          2.6333874524887424,
          1.0219370562933083,
          -1.0447863310211478,
          -0.31296385151259865,
          -0.5495225412079057,
          -0.5760573962317269,
          0.4189253096607101,
          1.471342914336534,
          1.0222367104442975,
          0.15985179971099342,
          -1.6756594262295046,
          -0.3772891667954507,
          0.5683044437292576,
          -2.049073107560736,
          0.4903378004188023,
          0.4530662374795767,
          -1.308635707523197,
          0.6446017773525391,
          -2.4390504610217976,
          1.4355999105681634,
          0.4014417106028471,
          -0.06582744145685468,
          0.4870730284017431,
          -1.9493842372661236,
          2.2826084790025343,
          -1.2718059047713601,
          -2.6857235646383626,
          -0.7201157734494502,
          -0.1920660069857729,
          0.5341498433545641,
          -0.6498776596158321,
          -0.6881579664154346,
          -0.017781421996660406,
          -0.006479640791160362,
          -1.4875180851261842,
          -2.151414005208173,
          -0.06862265103004218,
          -0.6809989254617403,
          0.07246770576574128,
          1.5709090059774033,
          1.2092234979821614,
          -1.7336592475299253,
          0.3750141896515368,
          -0.7224394257070924,
          1.569857139426887,
          0.6761954348997585,
          0.5973200260553962,
          -1.3395346590300246,
          -0.31508903188547854,
          -0.6159141442383137,
          -0.8342038355358447,
          1.5799669056690253,
          -0.8695982902595847,
          2.5086007158219537,
          -0.4983408276616498,
          0.9792467346219735,
          0.7202387436322023,
          1.565905215152806,
          0.11437371066288606,
          -0.2344926835279254,
          0.5064013627686159,
          0.9212884740745085,
          -2.438177970385512,
          -1.1653160008924643,
          0.5847791301571718,
          1.1658578569944609,
          -1.9586439283763402,
          -0.023745458263176616,
          -0.9644614734785698,
          -0.5583469240013501,
          0.6541854785700131,
          2.053427150608331,
          0.8658266947740538,
          1.8457601392044725,
          -1.0635193533480607,
          1.002028410054408
         ],
         "xaxis": "x14",
         "y": [
          0.9526488790960417,
          -1.5968100702183643,
          -0.5433295819264312,
          0.21387914156124838,
          0.5992632755866035,
          -0.03590331987408655,
          -0.16790739079250558,
          -0.6809471961924212,
          1.1128306773770202,
          -0.1242169865462312,
          -0.19310070189811843,
          -0.36464517280134023,
          0.310488599971796,
          -2.1630578876836144,
          -0.32972054778390103,
          0.25869221922838737,
          -1.0410314800247165,
          -0.3605355172297498,
          1.8471903313054505,
          -0.13560273947908436,
          -0.8071879070206959,
          -0.21518335457844917,
          -1.8203253804368487,
          1.3297605096549812,
          -0.7903310062065573,
          -0.9094544322492556,
          0.3371073345110966,
          0.7328193229092946,
          0.3086075733476576,
          0.45729867001915736,
          2.6522636307066563,
          1.5557283605369259,
          -0.6993369988342397,
          -0.7970781224855026,
          -0.33219249900301157,
          0.03137551427390909,
          0.4841698718340827,
          1.0664616449784468,
          -0.8654512204154237,
          -0.998662866066939,
          -0.8684079873945336,
          -0.9204533756188058,
          0.7399549704871922,
          -0.06769304274617806,
          -0.8407441248466904,
          -0.44226704586481114,
          -0.06859443206477811,
          0.04741011209263733,
          -0.4014834693298488,
          -0.32535576109556735,
          0.8224685680259435,
          -0.029326339591027987,
          -0.5310560745222764,
          0.42840277122352355,
          0.4719035497754577,
          1.1131298210261316,
          -0.5237001738833921,
          0.3057587673337682,
          -0.37628408527794727,
          -0.8865576707288084,
          -1.3114279026947866,
          0.5246334391909486,
          0.8771169910861834,
          -0.2759966284950859,
          -0.48074156270904084,
          0.14667455636236404,
          -1.1822688359181786,
          -0.8263875315015421,
          0.2552027396602155,
          -1.3389823363246451,
          -0.0739221809686225,
          -1.2826249948658528,
          0.12963514155415903,
          0.6520761962871522,
          -0.15440062020442194,
          2.256836634142194,
          -1.1812134030646015,
          -0.22704553641637804,
          1.5825158547690166,
          0.08476959376703497,
          1.0724541039190976,
          -0.2841540152432594,
          0.0005838753698127481,
          1.4141860476254873,
          -0.6445674809748125,
          -0.0028322728680268932,
          -0.28642983917000814,
          0.3480069259952904,
          -0.8102266727652506,
          0.11581712026168137,
          0.7405076829259916,
          -0.027371441823421164,
          0.8821390434101007,
          0.05335963364047773,
          0.35603809421414434,
          -0.12940225872618288,
          0.247627656095243,
          0.12384122479635257,
          -2.440242080691085,
          -0.2699634892117874
         ],
         "yaxis": "y14"
        },
        {
         "line": {
          "color": "rgba(128, 128, 128, 1.0)",
          "dash": "solid",
          "shape": "linear",
          "width": 1.3
         },
         "marker": {
          "size": 2,
          "symbol": "circle"
         },
         "mode": "markers",
         "name": "D",
         "text": "",
         "type": "scatter",
         "x": [
          1.0289581305438282,
          0.5546223404747419,
          1.1662749440164377,
          2.4076552326021776,
          1.1206589700874514,
          -1.1510965060464522,
          -1.036330097185283,
          1.1035664352354242,
          0.41018784624515064,
          -0.6031066567749889,
          -0.43523375737566006,
          0.7700034740062437,
          0.6566952435331103,
          -0.7114750137325586,
          -0.05927451573410519,
          -0.17907593395437119,
          -0.25568674008505926,
          1.3422155615457656,
          -1.0296012082087613,
          0.8080962087323785,
          -1.025456298374542,
          -0.46163767759108804,
          -1.1598702074305383,
          -0.6209716060525496,
          -0.26394655045047843,
          0.8271151780451435,
          -1.5574334981928357,
          0.12883112172237213,
          0.7907350832481647,
          -0.435427911330841,
          1.156895577875462,
          1.5893737702529305,
          -0.2848824769301489,
          0.09526302519980143,
          -1.9060801587965064,
          0.9482566637846065,
          0.44123374245965796,
          0.39369493025203933,
          0.2862434970044421,
          0.0019161241469577708,
          -1.002830579436456,
          -1.3323363041288334,
          -1.1928668685040442,
          1.3819702487291246,
          -0.12058307139354957,
          -0.5323794584400485,
          0.8609519082160938,
          -0.34774168612723666,
          -0.756392204555714,
          0.6256477073548026,
          0.46068477788193496,
          1.0473063481936853,
          0.9827780522835693,
          1.9158788978470005,
          -0.45044272223335735,
          0.622715458855441,
          0.39767977706126684,
          0.47695013610397186,
          -0.2730982441463706,
          -0.6543150918670932,
          -0.2229225756274758,
          -0.12938908818010844,
          0.9011976187385268,
          -0.8714209867366066,
          -0.04309649572211812,
          -1.337614470057924,
          0.3943511231930112,
          0.3294485083362826,
          -1.0098554567762619,
          -0.05027183388256316,
          0.06852094525818642,
          -0.8739080296140921,
          -0.20909017774675226,
          0.38091131571275527,
          0.0805704634826217,
          1.0467337941905117,
          -1.8512739800484475,
          -0.03893471147359269,
          -2.2452278339031078,
          0.08976975309328514,
          -0.2476763117555046,
          -0.7258674697306373,
          0.7005279592720636,
          -0.052074197751617694,
          -0.33574324432113484,
          0.531058971280717,
          -0.6360711258670565,
          -1.1402900718902977,
          -0.6595388839946046,
          -0.029147066769622476,
          -0.7648366879107783,
          -0.4232246795877898,
          -0.4195811108756407,
          -0.016863704992688168,
          -1.3511475249578464,
          -0.8396311579884472,
          -1.704008417464047,
          0.11973493174520473,
          -0.20130009398582185,
          2.54517125639914
         ],
         "xaxis": "x15",
         "y": [
          0.9526488790960417,
          -1.5968100702183643,
          -0.5433295819264312,
          0.21387914156124838,
          0.5992632755866035,
          -0.03590331987408655,
          -0.16790739079250558,
          -0.6809471961924212,
          1.1128306773770202,
          -0.1242169865462312,
          -0.19310070189811843,
          -0.36464517280134023,
          0.310488599971796,
          -2.1630578876836144,
          -0.32972054778390103,
          0.25869221922838737,
          -1.0410314800247165,
          -0.3605355172297498,
          1.8471903313054505,
          -0.13560273947908436,
          -0.8071879070206959,
          -0.21518335457844917,
          -1.8203253804368487,
          1.3297605096549812,
          -0.7903310062065573,
          -0.9094544322492556,
          0.3371073345110966,
          0.7328193229092946,
          0.3086075733476576,
          0.45729867001915736,
          2.6522636307066563,
          1.5557283605369259,
          -0.6993369988342397,
          -0.7970781224855026,
          -0.33219249900301157,
          0.03137551427390909,
          0.4841698718340827,
          1.0664616449784468,
          -0.8654512204154237,
          -0.998662866066939,
          -0.8684079873945336,
          -0.9204533756188058,
          0.7399549704871922,
          -0.06769304274617806,
          -0.8407441248466904,
          -0.44226704586481114,
          -0.06859443206477811,
          0.04741011209263733,
          -0.4014834693298488,
          -0.32535576109556735,
          0.8224685680259435,
          -0.029326339591027987,
          -0.5310560745222764,
          0.42840277122352355,
          0.4719035497754577,
          1.1131298210261316,
          -0.5237001738833921,
          0.3057587673337682,
          -0.37628408527794727,
          -0.8865576707288084,
          -1.3114279026947866,
          0.5246334391909486,
          0.8771169910861834,
          -0.2759966284950859,
          -0.48074156270904084,
          0.14667455636236404,
          -1.1822688359181786,
          -0.8263875315015421,
          0.2552027396602155,
          -1.3389823363246451,
          -0.0739221809686225,
          -1.2826249948658528,
          0.12963514155415903,
          0.6520761962871522,
          -0.15440062020442194,
          2.256836634142194,
          -1.1812134030646015,
          -0.22704553641637804,
          1.5825158547690166,
          0.08476959376703497,
          1.0724541039190976,
          -0.2841540152432594,
          0.0005838753698127481,
          1.4141860476254873,
          -0.6445674809748125,
          -0.0028322728680268932,
          -0.28642983917000814,
          0.3480069259952904,
          -0.8102266727652506,
          0.11581712026168137,
          0.7405076829259916,
          -0.027371441823421164,
          0.8821390434101007,
          0.05335963364047773,
          0.35603809421414434,
          -0.12940225872618288,
          0.247627656095243,
          0.12384122479635257,
          -2.440242080691085,
          -0.2699634892117874
         ],
         "yaxis": "y15"
        },
        {
         "histfunc": "count",
         "histnorm": "",
         "marker": {
          "color": "rgba(128, 0, 128, 1.0)",
          "line": {
           "color": "#4D5663",
           "width": 1.3
          }
         },
         "name": "D",
         "nbinsx": 10,
         "opacity": 0.8,
         "orientation": "v",
         "type": "histogram",
         "x": [
          0.9526488790960417,
          -1.5968100702183643,
          -0.5433295819264312,
          0.21387914156124838,
          0.5992632755866035,
          -0.03590331987408655,
          -0.16790739079250558,
          -0.6809471961924212,
          1.1128306773770202,
          -0.1242169865462312,
          -0.19310070189811843,
          -0.36464517280134023,
          0.310488599971796,
          -2.1630578876836144,
          -0.32972054778390103,
          0.25869221922838737,
          -1.0410314800247165,
          -0.3605355172297498,
          1.8471903313054505,
          -0.13560273947908436,
          -0.8071879070206959,
          -0.21518335457844917,
          -1.8203253804368487,
          1.3297605096549812,
          -0.7903310062065573,
          -0.9094544322492556,
          0.3371073345110966,
          0.7328193229092946,
          0.3086075733476576,
          0.45729867001915736,
          2.6522636307066563,
          1.5557283605369259,
          -0.6993369988342397,
          -0.7970781224855026,
          -0.33219249900301157,
          0.03137551427390909,
          0.4841698718340827,
          1.0664616449784468,
          -0.8654512204154237,
          -0.998662866066939,
          -0.8684079873945336,
          -0.9204533756188058,
          0.7399549704871922,
          -0.06769304274617806,
          -0.8407441248466904,
          -0.44226704586481114,
          -0.06859443206477811,
          0.04741011209263733,
          -0.4014834693298488,
          -0.32535576109556735,
          0.8224685680259435,
          -0.029326339591027987,
          -0.5310560745222764,
          0.42840277122352355,
          0.4719035497754577,
          1.1131298210261316,
          -0.5237001738833921,
          0.3057587673337682,
          -0.37628408527794727,
          -0.8865576707288084,
          -1.3114279026947866,
          0.5246334391909486,
          0.8771169910861834,
          -0.2759966284950859,
          -0.48074156270904084,
          0.14667455636236404,
          -1.1822688359181786,
          -0.8263875315015421,
          0.2552027396602155,
          -1.3389823363246451,
          -0.0739221809686225,
          -1.2826249948658528,
          0.12963514155415903,
          0.6520761962871522,
          -0.15440062020442194,
          2.256836634142194,
          -1.1812134030646015,
          -0.22704553641637804,
          1.5825158547690166,
          0.08476959376703497,
          1.0724541039190976,
          -0.2841540152432594,
          0.0005838753698127481,
          1.4141860476254873,
          -0.6445674809748125,
          -0.0028322728680268932,
          -0.28642983917000814,
          0.3480069259952904,
          -0.8102266727652506,
          0.11581712026168137,
          0.7405076829259916,
          -0.027371441823421164,
          0.8821390434101007,
          0.05335963364047773,
          0.35603809421414434,
          -0.12940225872618288,
          0.247627656095243,
          0.12384122479635257,
          -2.440242080691085,
          -0.2699634892117874
         ],
         "xaxis": "x16",
         "yaxis": "y16"
        }
       ],
       "layout": {
        "bargap": 0.02,
        "legend": {
         "bgcolor": "#F5F6F9",
         "font": {
          "color": "#4D5663"
         }
        },
        "paper_bgcolor": "#F5F6F9",
        "plot_bgcolor": "#F5F6F9",
        "showlegend": false,
        "template": {
         "data": {
          "bar": [
           {
            "error_x": {
             "color": "#2a3f5f"
            },
            "error_y": {
             "color": "#2a3f5f"
            },
            "marker": {
             "line": {
              "color": "#E5ECF6",
              "width": 0.5
             },
             "pattern": {
              "fillmode": "overlay",
              "size": 10,
              "solidity": 0.2
             }
            },
            "type": "bar"
           }
          ],
          "barpolar": [
           {
            "marker": {
             "line": {
              "color": "#E5ECF6",
              "width": 0.5
             },
             "pattern": {
              "fillmode": "overlay",
              "size": 10,
              "solidity": 0.2
             }
            },
            "type": "barpolar"
           }
          ],
          "carpet": [
           {
            "aaxis": {
             "endlinecolor": "#2a3f5f",
             "gridcolor": "white",
             "linecolor": "white",
             "minorgridcolor": "white",
             "startlinecolor": "#2a3f5f"
            },
            "baxis": {
             "endlinecolor": "#2a3f5f",
             "gridcolor": "white",
             "linecolor": "white",
             "minorgridcolor": "white",
             "startlinecolor": "#2a3f5f"
            },
            "type": "carpet"
           }
          ],
          "choropleth": [
           {
            "colorbar": {
             "outlinewidth": 0,
             "ticks": ""
            },
            "type": "choropleth"
           }
          ],
          "contour": [
           {
            "colorbar": {
             "outlinewidth": 0,
             "ticks": ""
            },
            "colorscale": [
             [
              0,
              "#0d0887"
             ],
             [
              0.1111111111111111,
              "#46039f"
             ],
             [
              0.2222222222222222,
              "#7201a8"
             ],
             [
              0.3333333333333333,
              "#9c179e"
             ],
             [
              0.4444444444444444,
              "#bd3786"
             ],
             [
              0.5555555555555556,
              "#d8576b"
             ],
             [
              0.6666666666666666,
              "#ed7953"
             ],
             [
              0.7777777777777778,
              "#fb9f3a"
             ],
             [
              0.8888888888888888,
              "#fdca26"
             ],
             [
              1,
              "#f0f921"
             ]
            ],
            "type": "contour"
           }
          ],
          "contourcarpet": [
           {
            "colorbar": {
             "outlinewidth": 0,
             "ticks": ""
            },
            "type": "contourcarpet"
           }
          ],
          "heatmap": [
           {
            "colorbar": {
             "outlinewidth": 0,
             "ticks": ""
            },
            "colorscale": [
             [
              0,
              "#0d0887"
             ],
             [
              0.1111111111111111,
              "#46039f"
             ],
             [
              0.2222222222222222,
              "#7201a8"
             ],
             [
              0.3333333333333333,
              "#9c179e"
             ],
             [
              0.4444444444444444,
              "#bd3786"
             ],
             [
              0.5555555555555556,
              "#d8576b"
             ],
             [
              0.6666666666666666,
              "#ed7953"
             ],
             [
              0.7777777777777778,
              "#fb9f3a"
             ],
             [
              0.8888888888888888,
              "#fdca26"
             ],
             [
              1,
              "#f0f921"
             ]
            ],
            "type": "heatmap"
           }
          ],
          "heatmapgl": [
           {
            "colorbar": {
             "outlinewidth": 0,
             "ticks": ""
            },
            "colorscale": [
             [
              0,
              "#0d0887"
             ],
             [
              0.1111111111111111,
              "#46039f"
             ],
             [
              0.2222222222222222,
              "#7201a8"
             ],
             [
              0.3333333333333333,
              "#9c179e"
             ],
             [
              0.4444444444444444,
              "#bd3786"
             ],
             [
              0.5555555555555556,
              "#d8576b"
             ],
             [
              0.6666666666666666,
              "#ed7953"
             ],
             [
              0.7777777777777778,
              "#fb9f3a"
             ],
             [
              0.8888888888888888,
              "#fdca26"
             ],
             [
              1,
              "#f0f921"
             ]
            ],
            "type": "heatmapgl"
           }
          ],
          "histogram": [
           {
            "marker": {
             "pattern": {
              "fillmode": "overlay",
              "size": 10,
              "solidity": 0.2
             }
            },
            "type": "histogram"
           }
          ],
          "histogram2d": [
           {
            "colorbar": {
             "outlinewidth": 0,
             "ticks": ""
            },
            "colorscale": [
             [
              0,
              "#0d0887"
             ],
             [
              0.1111111111111111,
              "#46039f"
             ],
             [
              0.2222222222222222,
              "#7201a8"
             ],
             [
              0.3333333333333333,
              "#9c179e"
             ],
             [
              0.4444444444444444,
              "#bd3786"
             ],
             [
              0.5555555555555556,
              "#d8576b"
             ],
             [
              0.6666666666666666,
              "#ed7953"
             ],
             [
              0.7777777777777778,
              "#fb9f3a"
             ],
             [
              0.8888888888888888,
              "#fdca26"
             ],
             [
              1,
              "#f0f921"
             ]
            ],
            "type": "histogram2d"
           }
          ],
          "histogram2dcontour": [
           {
            "colorbar": {
             "outlinewidth": 0,
             "ticks": ""
            },
            "colorscale": [
             [
              0,
              "#0d0887"
             ],
             [
              0.1111111111111111,
              "#46039f"
             ],
             [
              0.2222222222222222,
              "#7201a8"
             ],
             [
              0.3333333333333333,
              "#9c179e"
             ],
             [
              0.4444444444444444,
              "#bd3786"
             ],
             [
              0.5555555555555556,
              "#d8576b"
             ],
             [
              0.6666666666666666,
              "#ed7953"
             ],
             [
              0.7777777777777778,
              "#fb9f3a"
             ],
             [
              0.8888888888888888,
              "#fdca26"
             ],
             [
              1,
              "#f0f921"
             ]
            ],
            "type": "histogram2dcontour"
           }
          ],
          "mesh3d": [
           {
            "colorbar": {
             "outlinewidth": 0,
             "ticks": ""
            },
            "type": "mesh3d"
           }
          ],
          "parcoords": [
           {
            "line": {
             "colorbar": {
              "outlinewidth": 0,
              "ticks": ""
             }
            },
            "type": "parcoords"
           }
          ],
          "pie": [
           {
            "automargin": true,
            "type": "pie"
           }
          ],
          "scatter": [
           {
            "fillpattern": {
             "fillmode": "overlay",
             "size": 10,
             "solidity": 0.2
            },
            "type": "scatter"
           }
          ],
          "scatter3d": [
           {
            "line": {
             "colorbar": {
              "outlinewidth": 0,
              "ticks": ""
             }
            },
            "marker": {
             "colorbar": {
              "outlinewidth": 0,
              "ticks": ""
             }
            },
            "type": "scatter3d"
           }
          ],
          "scattercarpet": [
           {
            "marker": {
             "colorbar": {
              "outlinewidth": 0,
              "ticks": ""
             }
            },
            "type": "scattercarpet"
           }
          ],
          "scattergeo": [
           {
            "marker": {
             "colorbar": {
              "outlinewidth": 0,
              "ticks": ""
             }
            },
            "type": "scattergeo"
           }
          ],
          "scattergl": [
           {
            "marker": {
             "colorbar": {
              "outlinewidth": 0,
              "ticks": ""
             }
            },
            "type": "scattergl"
           }
          ],
          "scattermapbox": [
           {
            "marker": {
             "colorbar": {
              "outlinewidth": 0,
              "ticks": ""
             }
            },
            "type": "scattermapbox"
           }
          ],
          "scatterpolar": [
           {
            "marker": {
             "colorbar": {
              "outlinewidth": 0,
              "ticks": ""
             }
            },
            "type": "scatterpolar"
           }
          ],
          "scatterpolargl": [
           {
            "marker": {
             "colorbar": {
              "outlinewidth": 0,
              "ticks": ""
             }
            },
            "type": "scatterpolargl"
           }
          ],
          "scatterternary": [
           {
            "marker": {
             "colorbar": {
              "outlinewidth": 0,
              "ticks": ""
             }
            },
            "type": "scatterternary"
           }
          ],
          "surface": [
           {
            "colorbar": {
             "outlinewidth": 0,
             "ticks": ""
            },
            "colorscale": [
             [
              0,
              "#0d0887"
             ],
             [
              0.1111111111111111,
              "#46039f"
             ],
             [
              0.2222222222222222,
              "#7201a8"
             ],
             [
              0.3333333333333333,
              "#9c179e"
             ],
             [
              0.4444444444444444,
              "#bd3786"
             ],
             [
              0.5555555555555556,
              "#d8576b"
             ],
             [
              0.6666666666666666,
              "#ed7953"
             ],
             [
              0.7777777777777778,
              "#fb9f3a"
             ],
             [
              0.8888888888888888,
              "#fdca26"
             ],
             [
              1,
              "#f0f921"
             ]
            ],
            "type": "surface"
           }
          ],
          "table": [
           {
            "cells": {
             "fill": {
              "color": "#EBF0F8"
             },
             "line": {
              "color": "white"
             }
            },
            "header": {
             "fill": {
              "color": "#C8D4E3"
             },
             "line": {
              "color": "white"
             }
            },
            "type": "table"
           }
          ]
         },
         "layout": {
          "annotationdefaults": {
           "arrowcolor": "#2a3f5f",
           "arrowhead": 0,
           "arrowwidth": 1
          },
          "autotypenumbers": "strict",
          "coloraxis": {
           "colorbar": {
            "outlinewidth": 0,
            "ticks": ""
           }
          },
          "colorscale": {
           "diverging": [
            [
             0,
             "#8e0152"
            ],
            [
             0.1,
             "#c51b7d"
            ],
            [
             0.2,
             "#de77ae"
            ],
            [
             0.3,
             "#f1b6da"
            ],
            [
             0.4,
             "#fde0ef"
            ],
            [
             0.5,
             "#f7f7f7"
            ],
            [
             0.6,
             "#e6f5d0"
            ],
            [
             0.7,
             "#b8e186"
            ],
            [
             0.8,
             "#7fbc41"
            ],
            [
             0.9,
             "#4d9221"
            ],
            [
             1,
             "#276419"
            ]
           ],
           "sequential": [
            [
             0,
             "#0d0887"
            ],
            [
             0.1111111111111111,
             "#46039f"
            ],
            [
             0.2222222222222222,
             "#7201a8"
            ],
            [
             0.3333333333333333,
             "#9c179e"
            ],
            [
             0.4444444444444444,
             "#bd3786"
            ],
            [
             0.5555555555555556,
             "#d8576b"
            ],
            [
             0.6666666666666666,
             "#ed7953"
            ],
            [
             0.7777777777777778,
             "#fb9f3a"
            ],
            [
             0.8888888888888888,
             "#fdca26"
            ],
            [
             1,
             "#f0f921"
            ]
           ],
           "sequentialminus": [
            [
             0,
             "#0d0887"
            ],
            [
             0.1111111111111111,
             "#46039f"
            ],
            [
             0.2222222222222222,
             "#7201a8"
            ],
            [
             0.3333333333333333,
             "#9c179e"
            ],
            [
             0.4444444444444444,
             "#bd3786"
            ],
            [
             0.5555555555555556,
             "#d8576b"
            ],
            [
             0.6666666666666666,
             "#ed7953"
            ],
            [
             0.7777777777777778,
             "#fb9f3a"
            ],
            [
             0.8888888888888888,
             "#fdca26"
            ],
            [
             1,
             "#f0f921"
            ]
           ]
          },
          "colorway": [
           "#636efa",
           "#EF553B",
           "#00cc96",
           "#ab63fa",
           "#FFA15A",
           "#19d3f3",
           "#FF6692",
           "#B6E880",
           "#FF97FF",
           "#FECB52"
          ],
          "font": {
           "color": "#2a3f5f"
          },
          "geo": {
           "bgcolor": "white",
           "lakecolor": "white",
           "landcolor": "#E5ECF6",
           "showlakes": true,
           "showland": true,
           "subunitcolor": "white"
          },
          "hoverlabel": {
           "align": "left"
          },
          "hovermode": "closest",
          "mapbox": {
           "style": "light"
          },
          "paper_bgcolor": "white",
          "plot_bgcolor": "#E5ECF6",
          "polar": {
           "angularaxis": {
            "gridcolor": "white",
            "linecolor": "white",
            "ticks": ""
           },
           "bgcolor": "#E5ECF6",
           "radialaxis": {
            "gridcolor": "white",
            "linecolor": "white",
            "ticks": ""
           }
          },
          "scene": {
           "xaxis": {
            "backgroundcolor": "#E5ECF6",
            "gridcolor": "white",
            "gridwidth": 2,
            "linecolor": "white",
            "showbackground": true,
            "ticks": "",
            "zerolinecolor": "white"
           },
           "yaxis": {
            "backgroundcolor": "#E5ECF6",
            "gridcolor": "white",
            "gridwidth": 2,
            "linecolor": "white",
            "showbackground": true,
            "ticks": "",
            "zerolinecolor": "white"
           },
           "zaxis": {
            "backgroundcolor": "#E5ECF6",
            "gridcolor": "white",
            "gridwidth": 2,
            "linecolor": "white",
            "showbackground": true,
            "ticks": "",
            "zerolinecolor": "white"
           }
          },
          "shapedefaults": {
           "line": {
            "color": "#2a3f5f"
           }
          },
          "ternary": {
           "aaxis": {
            "gridcolor": "white",
            "linecolor": "white",
            "ticks": ""
           },
           "baxis": {
            "gridcolor": "white",
            "linecolor": "white",
            "ticks": ""
           },
           "bgcolor": "#E5ECF6",
           "caxis": {
            "gridcolor": "white",
            "linecolor": "white",
            "ticks": ""
           }
          },
          "title": {
           "x": 0.05
          },
          "xaxis": {
           "automargin": true,
           "gridcolor": "white",
           "linecolor": "white",
           "ticks": "",
           "title": {
            "standoff": 15
           },
           "zerolinecolor": "white",
           "zerolinewidth": 2
          },
          "yaxis": {
           "automargin": true,
           "gridcolor": "white",
           "linecolor": "white",
           "ticks": "",
           "title": {
            "standoff": 15
           },
           "zerolinecolor": "white",
           "zerolinewidth": 2
          }
         }
        },
        "title": {
         "font": {
          "color": "#4D5663"
         }
        },
        "xaxis": {
         "anchor": "y",
         "domain": [
          0,
          0.2125
         ],
         "gridcolor": "#E1E5ED",
         "showgrid": false,
         "tickfont": {
          "color": "#4D5663"
         },
         "title": {
          "font": {
           "color": "#4D5663"
          },
          "text": ""
         },
         "zerolinecolor": "#E1E5ED"
        },
        "xaxis10": {
         "anchor": "y10",
         "domain": [
          0.2625,
          0.475
         ],
         "gridcolor": "#E1E5ED",
         "showgrid": false,
         "tickfont": {
          "color": "#4D5663"
         },
         "title": {
          "font": {
           "color": "#4D5663"
          },
          "text": ""
         },
         "zerolinecolor": "#E1E5ED"
        },
        "xaxis11": {
         "anchor": "y11",
         "domain": [
          0.525,
          0.7375
         ],
         "gridcolor": "#E1E5ED",
         "showgrid": false,
         "tickfont": {
          "color": "#4D5663"
         },
         "title": {
          "font": {
           "color": "#4D5663"
          },
          "text": ""
         },
         "zerolinecolor": "#E1E5ED"
        },
        "xaxis12": {
         "anchor": "y12",
         "domain": [
          0.7875,
          1
         ],
         "gridcolor": "#E1E5ED",
         "showgrid": false,
         "tickfont": {
          "color": "#4D5663"
         },
         "title": {
          "font": {
           "color": "#4D5663"
          },
          "text": ""
         },
         "zerolinecolor": "#E1E5ED"
        },
        "xaxis13": {
         "anchor": "y13",
         "domain": [
          0,
          0.2125
         ],
         "gridcolor": "#E1E5ED",
         "showgrid": false,
         "tickfont": {
          "color": "#4D5663"
         },
         "title": {
          "font": {
           "color": "#4D5663"
          },
          "text": ""
         },
         "zerolinecolor": "#E1E5ED"
        },
        "xaxis14": {
         "anchor": "y14",
         "domain": [
          0.2625,
          0.475
         ],
         "gridcolor": "#E1E5ED",
         "showgrid": false,
         "tickfont": {
          "color": "#4D5663"
         },
         "title": {
          "font": {
           "color": "#4D5663"
          },
          "text": ""
         },
         "zerolinecolor": "#E1E5ED"
        },
        "xaxis15": {
         "anchor": "y15",
         "domain": [
          0.525,
          0.7375
         ],
         "gridcolor": "#E1E5ED",
         "showgrid": false,
         "tickfont": {
          "color": "#4D5663"
         },
         "title": {
          "font": {
           "color": "#4D5663"
          },
          "text": ""
         },
         "zerolinecolor": "#E1E5ED"
        },
        "xaxis16": {
         "anchor": "y16",
         "domain": [
          0.7875,
          1
         ],
         "gridcolor": "#E1E5ED",
         "showgrid": false,
         "tickfont": {
          "color": "#4D5663"
         },
         "title": {
          "font": {
           "color": "#4D5663"
          },
          "text": ""
         },
         "zerolinecolor": "#E1E5ED"
        },
        "xaxis2": {
         "anchor": "y2",
         "domain": [
          0.2625,
          0.475
         ],
         "gridcolor": "#E1E5ED",
         "showgrid": false,
         "tickfont": {
          "color": "#4D5663"
         },
         "title": {
          "font": {
           "color": "#4D5663"
          },
          "text": ""
         },
         "zerolinecolor": "#E1E5ED"
        },
        "xaxis3": {
         "anchor": "y3",
         "domain": [
          0.525,
          0.7375
         ],
         "gridcolor": "#E1E5ED",
         "showgrid": false,
         "tickfont": {
          "color": "#4D5663"
         },
         "title": {
          "font": {
           "color": "#4D5663"
          },
          "text": ""
         },
         "zerolinecolor": "#E1E5ED"
        },
        "xaxis4": {
         "anchor": "y4",
         "domain": [
          0.7875,
          1
         ],
         "gridcolor": "#E1E5ED",
         "showgrid": false,
         "tickfont": {
          "color": "#4D5663"
         },
         "title": {
          "font": {
           "color": "#4D5663"
          },
          "text": ""
         },
         "zerolinecolor": "#E1E5ED"
        },
        "xaxis5": {
         "anchor": "y5",
         "domain": [
          0,
          0.2125
         ],
         "gridcolor": "#E1E5ED",
         "showgrid": false,
         "tickfont": {
          "color": "#4D5663"
         },
         "title": {
          "font": {
           "color": "#4D5663"
          },
          "text": ""
         },
         "zerolinecolor": "#E1E5ED"
        },
        "xaxis6": {
         "anchor": "y6",
         "domain": [
          0.2625,
          0.475
         ],
         "gridcolor": "#E1E5ED",
         "showgrid": false,
         "tickfont": {
          "color": "#4D5663"
         },
         "title": {
          "font": {
           "color": "#4D5663"
          },
          "text": ""
         },
         "zerolinecolor": "#E1E5ED"
        },
        "xaxis7": {
         "anchor": "y7",
         "domain": [
          0.525,
          0.7375
         ],
         "gridcolor": "#E1E5ED",
         "showgrid": false,
         "tickfont": {
          "color": "#4D5663"
         },
         "title": {
          "font": {
           "color": "#4D5663"
          },
          "text": ""
         },
         "zerolinecolor": "#E1E5ED"
        },
        "xaxis8": {
         "anchor": "y8",
         "domain": [
          0.7875,
          1
         ],
         "gridcolor": "#E1E5ED",
         "showgrid": false,
         "tickfont": {
          "color": "#4D5663"
         },
         "title": {
          "font": {
           "color": "#4D5663"
          },
          "text": ""
         },
         "zerolinecolor": "#E1E5ED"
        },
        "xaxis9": {
         "anchor": "y9",
         "domain": [
          0,
          0.2125
         ],
         "gridcolor": "#E1E5ED",
         "showgrid": false,
         "tickfont": {
          "color": "#4D5663"
         },
         "title": {
          "font": {
           "color": "#4D5663"
          },
          "text": ""
         },
         "zerolinecolor": "#E1E5ED"
        },
        "yaxis": {
         "anchor": "x",
         "domain": [
          0.8025,
          1
         ],
         "gridcolor": "#E1E5ED",
         "showgrid": false,
         "tickfont": {
          "color": "#4D5663"
         },
         "title": {
          "font": {
           "color": "#4D5663"
          },
          "text": ""
         },
         "zerolinecolor": "#E1E5ED"
        },
        "yaxis10": {
         "anchor": "x10",
         "domain": [
          0.2675,
          0.465
         ],
         "gridcolor": "#E1E5ED",
         "showgrid": false,
         "tickfont": {
          "color": "#4D5663"
         },
         "title": {
          "font": {
           "color": "#4D5663"
          },
          "text": ""
         },
         "zerolinecolor": "#E1E5ED"
        },
        "yaxis11": {
         "anchor": "x11",
         "domain": [
          0.2675,
          0.465
         ],
         "gridcolor": "#E1E5ED",
         "showgrid": false,
         "tickfont": {
          "color": "#4D5663"
         },
         "title": {
          "font": {
           "color": "#4D5663"
          },
          "text": ""
         },
         "zerolinecolor": "#E1E5ED"
        },
        "yaxis12": {
         "anchor": "x12",
         "domain": [
          0.2675,
          0.465
         ],
         "gridcolor": "#E1E5ED",
         "showgrid": false,
         "tickfont": {
          "color": "#4D5663"
         },
         "title": {
          "font": {
           "color": "#4D5663"
          },
          "text": ""
         },
         "zerolinecolor": "#E1E5ED"
        },
        "yaxis13": {
         "anchor": "x13",
         "domain": [
          0,
          0.1975
         ],
         "gridcolor": "#E1E5ED",
         "showgrid": false,
         "tickfont": {
          "color": "#4D5663"
         },
         "title": {
          "font": {
           "color": "#4D5663"
          },
          "text": ""
         },
         "zerolinecolor": "#E1E5ED"
        },
        "yaxis14": {
         "anchor": "x14",
         "domain": [
          0,
          0.1975
         ],
         "gridcolor": "#E1E5ED",
         "showgrid": false,
         "tickfont": {
          "color": "#4D5663"
         },
         "title": {
          "font": {
           "color": "#4D5663"
          },
          "text": ""
         },
         "zerolinecolor": "#E1E5ED"
        },
        "yaxis15": {
         "anchor": "x15",
         "domain": [
          0,
          0.1975
         ],
         "gridcolor": "#E1E5ED",
         "showgrid": false,
         "tickfont": {
          "color": "#4D5663"
         },
         "title": {
          "font": {
           "color": "#4D5663"
          },
          "text": ""
         },
         "zerolinecolor": "#E1E5ED"
        },
        "yaxis16": {
         "anchor": "x16",
         "domain": [
          0,
          0.1975
         ],
         "gridcolor": "#E1E5ED",
         "showgrid": false,
         "tickfont": {
          "color": "#4D5663"
         },
         "title": {
          "font": {
           "color": "#4D5663"
          },
          "text": ""
         },
         "zerolinecolor": "#E1E5ED"
        },
        "yaxis2": {
         "anchor": "x2",
         "domain": [
          0.8025,
          1
         ],
         "gridcolor": "#E1E5ED",
         "showgrid": false,
         "tickfont": {
          "color": "#4D5663"
         },
         "title": {
          "font": {
           "color": "#4D5663"
          },
          "text": ""
         },
         "zerolinecolor": "#E1E5ED"
        },
        "yaxis3": {
         "anchor": "x3",
         "domain": [
          0.8025,
          1
         ],
         "gridcolor": "#E1E5ED",
         "showgrid": false,
         "tickfont": {
          "color": "#4D5663"
         },
         "title": {
          "font": {
           "color": "#4D5663"
          },
          "text": ""
         },
         "zerolinecolor": "#E1E5ED"
        },
        "yaxis4": {
         "anchor": "x4",
         "domain": [
          0.8025,
          1
         ],
         "gridcolor": "#E1E5ED",
         "showgrid": false,
         "tickfont": {
          "color": "#4D5663"
         },
         "title": {
          "font": {
           "color": "#4D5663"
          },
          "text": ""
         },
         "zerolinecolor": "#E1E5ED"
        },
        "yaxis5": {
         "anchor": "x5",
         "domain": [
          0.535,
          0.7325
         ],
         "gridcolor": "#E1E5ED",
         "showgrid": false,
         "tickfont": {
          "color": "#4D5663"
         },
         "title": {
          "font": {
           "color": "#4D5663"
          },
          "text": ""
         },
         "zerolinecolor": "#E1E5ED"
        },
        "yaxis6": {
         "anchor": "x6",
         "domain": [
          0.535,
          0.7325
         ],
         "gridcolor": "#E1E5ED",
         "showgrid": false,
         "tickfont": {
          "color": "#4D5663"
         },
         "title": {
          "font": {
           "color": "#4D5663"
          },
          "text": ""
         },
         "zerolinecolor": "#E1E5ED"
        },
        "yaxis7": {
         "anchor": "x7",
         "domain": [
          0.535,
          0.7325
         ],
         "gridcolor": "#E1E5ED",
         "showgrid": false,
         "tickfont": {
          "color": "#4D5663"
         },
         "title": {
          "font": {
           "color": "#4D5663"
          },
          "text": ""
         },
         "zerolinecolor": "#E1E5ED"
        },
        "yaxis8": {
         "anchor": "x8",
         "domain": [
          0.535,
          0.7325
         ],
         "gridcolor": "#E1E5ED",
         "showgrid": false,
         "tickfont": {
          "color": "#4D5663"
         },
         "title": {
          "font": {
           "color": "#4D5663"
          },
          "text": ""
         },
         "zerolinecolor": "#E1E5ED"
        },
        "yaxis9": {
         "anchor": "x9",
         "domain": [
          0.2675,
          0.465
         ],
         "gridcolor": "#E1E5ED",
         "showgrid": false,
         "tickfont": {
          "color": "#4D5663"
         },
         "title": {
          "font": {
           "color": "#4D5663"
          },
          "text": ""
         },
         "zerolinecolor": "#E1E5ED"
        }
       }
      },
      "text/html": [
       "<div>                            <div id=\"ebcaa357-fe2f-4581-9780-7aa8077ecccd\" class=\"plotly-graph-div\" style=\"height:525px; width:100%;\"></div>            <script type=\"text/javascript\">                require([\"plotly\"], function(Plotly) {                    window.PLOTLYENV=window.PLOTLYENV || {};\n",
       "                    window.PLOTLYENV.BASE_URL='https://plot.ly';                                    if (document.getElementById(\"ebcaa357-fe2f-4581-9780-7aa8077ecccd\")) {                    Plotly.newPlot(                        \"ebcaa357-fe2f-4581-9780-7aa8077ecccd\",                        [{\"histfunc\":\"count\",\"histnorm\":\"\",\"marker\":{\"color\":\"rgba(255, 153, 51, 1.0)\",\"line\":{\"color\":\"#4D5663\",\"width\":1.3}},\"name\":\"A\",\"nbinsx\":10,\"opacity\":0.8,\"orientation\":\"v\",\"x\":[0.7578306652600714,0.6706958613531931,-1.786751065174122,0.5602920264863411,1.2093903118572087,-0.07721121963587653,-0.6006294853354058,-0.20549799611085745,0.14447932596359128,-0.6194297923494315,0.289965871828332,1.334295055420149,1.2776093322599726,0.6941583739260736,-0.4768485479531304,-1.3945337778497289,-0.8308943714415719,-0.1908555235678979,-0.35903626618040974,-2.0200458765769387,0.4448500215436498,0.20422160240325865,0.5392099010996428,-0.2690083112201799,-0.8563251939013093,0.3391207855185764,-0.7792248890505376,-0.02083868757770441,-0.03344647009605206,-1.3904501532020737,0.3608322091072763,-2.2848433711479856,-0.13177311715226472,-0.25776768300903474,0.027962301258553895,1.681435385772883,-0.6221469941651722,-1.1917502523025978,-2.1355438596372207,-0.29686712138952165,0.6467733369508364,-0.788778618157295,-0.9093268462871056,-0.6953376105722637,-0.23977448704372462,-0.3453021315051399,1.4490027915911707,0.32472600886413877,0.9359226852540424,2.6586112671481525,-0.32333375611415116,4.0344297621507454,-0.8205988894356041,-1.1362389424169994,-0.2111340316655757,0.33053613427656303,-2.2883541938471232,0.15101230122841047,0.5630993680418365,0.04005306805778204,0.7320047941010306,2.022400726278812,-1.110462875185184,1.815902928551929,0.23541742291644363,-0.299353695139132,1.782004055400953,0.5886194597980433,0.3249032927706249,0.22970085014314612,1.0296152959656006,0.3113892172505194,-0.6738285807996732,-1.4294071757980833,1.0331708534128439,1.0786061415606991,-1.0927355132299985,-0.26801167744466736,1.283875352142768,-1.1922505632319573,-0.11461499732670305,0.5612224005874871,-1.9495625965611316,-0.6754021167285816,-0.1713261396526278,2.3700737799129836,0.20724970718019972,0.36570347615770693,-0.7904553715348929,0.026238426697340594,-1.904503266356009,1.574480717301306,1.3400837073902583,-0.4839947096236791,-1.1813582092678951,1.6626390476575212,-1.0216179790542574,-0.6949471304302506,0.9285689130307127,-0.2926143093506573],\"xaxis\":\"x\",\"yaxis\":\"y\",\"type\":\"histogram\"},{\"line\":{\"color\":\"rgba(128, 128, 128, 1.0)\",\"dash\":\"solid\",\"shape\":\"linear\",\"width\":1.3},\"marker\":{\"size\":2,\"symbol\":\"circle\"},\"mode\":\"markers\",\"name\":\"A\",\"text\":\"\",\"x\":[-0.2912892972987383,-0.5099817648528213,1.1908177594187945,1.6852654510348208,0.14882243470747117,-2.3037953168126015,-0.24570904973412847,0.27026697246654063,0.5489241190861819,1.0494892047672069,1.6449557327042612,-1.2435292515972494,1.0827059551477518,-2.3265514065069826,-1.8432176330776107,1.2563120938727566,2.1016432707721964,0.8835351387421774,0.7887795942984664,1.2320778057208106,-0.019410404695273668,-1.0221872298474088,-1.4324446606118177,1.0556769315616874,2.6333874524887424,1.0219370562933083,-1.0447863310211478,-0.31296385151259865,-0.5495225412079057,-0.5760573962317269,0.4189253096607101,1.471342914336534,1.0222367104442975,0.15985179971099342,-1.6756594262295046,-0.3772891667954507,0.5683044437292576,-2.049073107560736,0.4903378004188023,0.4530662374795767,-1.308635707523197,0.6446017773525391,-2.4390504610217976,1.4355999105681634,0.4014417106028471,-0.06582744145685468,0.4870730284017431,-1.9493842372661236,2.2826084790025343,-1.2718059047713601,-2.6857235646383626,-0.7201157734494502,-0.1920660069857729,0.5341498433545641,-0.6498776596158321,-0.6881579664154346,-0.017781421996660406,-0.006479640791160362,-1.4875180851261842,-2.151414005208173,-0.06862265103004218,-0.6809989254617403,0.07246770576574128,1.5709090059774033,1.2092234979821614,-1.7336592475299253,0.3750141896515368,-0.7224394257070924,1.569857139426887,0.6761954348997585,0.5973200260553962,-1.3395346590300246,-0.31508903188547854,-0.6159141442383137,-0.8342038355358447,1.5799669056690253,-0.8695982902595847,2.5086007158219537,-0.4983408276616498,0.9792467346219735,0.7202387436322023,1.565905215152806,0.11437371066288606,-0.2344926835279254,0.5064013627686159,0.9212884740745085,-2.438177970385512,-1.1653160008924643,0.5847791301571718,1.1658578569944609,-1.9586439283763402,-0.023745458263176616,-0.9644614734785698,-0.5583469240013501,0.6541854785700131,2.053427150608331,0.8658266947740538,1.8457601392044725,-1.0635193533480607,1.002028410054408],\"xaxis\":\"x2\",\"y\":[0.7578306652600714,0.6706958613531931,-1.786751065174122,0.5602920264863411,1.2093903118572087,-0.07721121963587653,-0.6006294853354058,-0.20549799611085745,0.14447932596359128,-0.6194297923494315,0.289965871828332,1.334295055420149,1.2776093322599726,0.6941583739260736,-0.4768485479531304,-1.3945337778497289,-0.8308943714415719,-0.1908555235678979,-0.35903626618040974,-2.0200458765769387,0.4448500215436498,0.20422160240325865,0.5392099010996428,-0.2690083112201799,-0.8563251939013093,0.3391207855185764,-0.7792248890505376,-0.02083868757770441,-0.03344647009605206,-1.3904501532020737,0.3608322091072763,-2.2848433711479856,-0.13177311715226472,-0.25776768300903474,0.027962301258553895,1.681435385772883,-0.6221469941651722,-1.1917502523025978,-2.1355438596372207,-0.29686712138952165,0.6467733369508364,-0.788778618157295,-0.9093268462871056,-0.6953376105722637,-0.23977448704372462,-0.3453021315051399,1.4490027915911707,0.32472600886413877,0.9359226852540424,2.6586112671481525,-0.32333375611415116,4.0344297621507454,-0.8205988894356041,-1.1362389424169994,-0.2111340316655757,0.33053613427656303,-2.2883541938471232,0.15101230122841047,0.5630993680418365,0.04005306805778204,0.7320047941010306,2.022400726278812,-1.110462875185184,1.815902928551929,0.23541742291644363,-0.299353695139132,1.782004055400953,0.5886194597980433,0.3249032927706249,0.22970085014314612,1.0296152959656006,0.3113892172505194,-0.6738285807996732,-1.4294071757980833,1.0331708534128439,1.0786061415606991,-1.0927355132299985,-0.26801167744466736,1.283875352142768,-1.1922505632319573,-0.11461499732670305,0.5612224005874871,-1.9495625965611316,-0.6754021167285816,-0.1713261396526278,2.3700737799129836,0.20724970718019972,0.36570347615770693,-0.7904553715348929,0.026238426697340594,-1.904503266356009,1.574480717301306,1.3400837073902583,-0.4839947096236791,-1.1813582092678951,1.6626390476575212,-1.0216179790542574,-0.6949471304302506,0.9285689130307127,-0.2926143093506573],\"yaxis\":\"y2\",\"type\":\"scatter\"},{\"line\":{\"color\":\"rgba(128, 128, 128, 1.0)\",\"dash\":\"solid\",\"shape\":\"linear\",\"width\":1.3},\"marker\":{\"size\":2,\"symbol\":\"circle\"},\"mode\":\"markers\",\"name\":\"A\",\"text\":\"\",\"x\":[1.0289581305438282,0.5546223404747419,1.1662749440164377,2.4076552326021776,1.1206589700874514,-1.1510965060464522,-1.036330097185283,1.1035664352354242,0.41018784624515064,-0.6031066567749889,-0.43523375737566006,0.7700034740062437,0.6566952435331103,-0.7114750137325586,-0.05927451573410519,-0.17907593395437119,-0.25568674008505926,1.3422155615457656,-1.0296012082087613,0.8080962087323785,-1.025456298374542,-0.46163767759108804,-1.1598702074305383,-0.6209716060525496,-0.26394655045047843,0.8271151780451435,-1.5574334981928357,0.12883112172237213,0.7907350832481647,-0.435427911330841,1.156895577875462,1.5893737702529305,-0.2848824769301489,0.09526302519980143,-1.9060801587965064,0.9482566637846065,0.44123374245965796,0.39369493025203933,0.2862434970044421,0.0019161241469577708,-1.002830579436456,-1.3323363041288334,-1.1928668685040442,1.3819702487291246,-0.12058307139354957,-0.5323794584400485,0.8609519082160938,-0.34774168612723666,-0.756392204555714,0.6256477073548026,0.46068477788193496,1.0473063481936853,0.9827780522835693,1.9158788978470005,-0.45044272223335735,0.622715458855441,0.39767977706126684,0.47695013610397186,-0.2730982441463706,-0.6543150918670932,-0.2229225756274758,-0.12938908818010844,0.9011976187385268,-0.8714209867366066,-0.04309649572211812,-1.337614470057924,0.3943511231930112,0.3294485083362826,-1.0098554567762619,-0.05027183388256316,0.06852094525818642,-0.8739080296140921,-0.20909017774675226,0.38091131571275527,0.0805704634826217,1.0467337941905117,-1.8512739800484475,-0.03893471147359269,-2.2452278339031078,0.08976975309328514,-0.2476763117555046,-0.7258674697306373,0.7005279592720636,-0.052074197751617694,-0.33574324432113484,0.531058971280717,-0.6360711258670565,-1.1402900718902977,-0.6595388839946046,-0.029147066769622476,-0.7648366879107783,-0.4232246795877898,-0.4195811108756407,-0.016863704992688168,-1.3511475249578464,-0.8396311579884472,-1.704008417464047,0.11973493174520473,-0.20130009398582185,2.54517125639914],\"xaxis\":\"x3\",\"y\":[0.7578306652600714,0.6706958613531931,-1.786751065174122,0.5602920264863411,1.2093903118572087,-0.07721121963587653,-0.6006294853354058,-0.20549799611085745,0.14447932596359128,-0.6194297923494315,0.289965871828332,1.334295055420149,1.2776093322599726,0.6941583739260736,-0.4768485479531304,-1.3945337778497289,-0.8308943714415719,-0.1908555235678979,-0.35903626618040974,-2.0200458765769387,0.4448500215436498,0.20422160240325865,0.5392099010996428,-0.2690083112201799,-0.8563251939013093,0.3391207855185764,-0.7792248890505376,-0.02083868757770441,-0.03344647009605206,-1.3904501532020737,0.3608322091072763,-2.2848433711479856,-0.13177311715226472,-0.25776768300903474,0.027962301258553895,1.681435385772883,-0.6221469941651722,-1.1917502523025978,-2.1355438596372207,-0.29686712138952165,0.6467733369508364,-0.788778618157295,-0.9093268462871056,-0.6953376105722637,-0.23977448704372462,-0.3453021315051399,1.4490027915911707,0.32472600886413877,0.9359226852540424,2.6586112671481525,-0.32333375611415116,4.0344297621507454,-0.8205988894356041,-1.1362389424169994,-0.2111340316655757,0.33053613427656303,-2.2883541938471232,0.15101230122841047,0.5630993680418365,0.04005306805778204,0.7320047941010306,2.022400726278812,-1.110462875185184,1.815902928551929,0.23541742291644363,-0.299353695139132,1.782004055400953,0.5886194597980433,0.3249032927706249,0.22970085014314612,1.0296152959656006,0.3113892172505194,-0.6738285807996732,-1.4294071757980833,1.0331708534128439,1.0786061415606991,-1.0927355132299985,-0.26801167744466736,1.283875352142768,-1.1922505632319573,-0.11461499732670305,0.5612224005874871,-1.9495625965611316,-0.6754021167285816,-0.1713261396526278,2.3700737799129836,0.20724970718019972,0.36570347615770693,-0.7904553715348929,0.026238426697340594,-1.904503266356009,1.574480717301306,1.3400837073902583,-0.4839947096236791,-1.1813582092678951,1.6626390476575212,-1.0216179790542574,-0.6949471304302506,0.9285689130307127,-0.2926143093506573],\"yaxis\":\"y3\",\"type\":\"scatter\"},{\"line\":{\"color\":\"rgba(128, 128, 128, 1.0)\",\"dash\":\"solid\",\"shape\":\"linear\",\"width\":1.3},\"marker\":{\"size\":2,\"symbol\":\"circle\"},\"mode\":\"markers\",\"name\":\"A\",\"text\":\"\",\"x\":[0.9526488790960417,-1.5968100702183643,-0.5433295819264312,0.21387914156124838,0.5992632755866035,-0.03590331987408655,-0.16790739079250558,-0.6809471961924212,1.1128306773770202,-0.1242169865462312,-0.19310070189811843,-0.36464517280134023,0.310488599971796,-2.1630578876836144,-0.32972054778390103,0.25869221922838737,-1.0410314800247165,-0.3605355172297498,1.8471903313054505,-0.13560273947908436,-0.8071879070206959,-0.21518335457844917,-1.8203253804368487,1.3297605096549812,-0.7903310062065573,-0.9094544322492556,0.3371073345110966,0.7328193229092946,0.3086075733476576,0.45729867001915736,2.6522636307066563,1.5557283605369259,-0.6993369988342397,-0.7970781224855026,-0.33219249900301157,0.03137551427390909,0.4841698718340827,1.0664616449784468,-0.8654512204154237,-0.998662866066939,-0.8684079873945336,-0.9204533756188058,0.7399549704871922,-0.06769304274617806,-0.8407441248466904,-0.44226704586481114,-0.06859443206477811,0.04741011209263733,-0.4014834693298488,-0.32535576109556735,0.8224685680259435,-0.029326339591027987,-0.5310560745222764,0.42840277122352355,0.4719035497754577,1.1131298210261316,-0.5237001738833921,0.3057587673337682,-0.37628408527794727,-0.8865576707288084,-1.3114279026947866,0.5246334391909486,0.8771169910861834,-0.2759966284950859,-0.48074156270904084,0.14667455636236404,-1.1822688359181786,-0.8263875315015421,0.2552027396602155,-1.3389823363246451,-0.0739221809686225,-1.2826249948658528,0.12963514155415903,0.6520761962871522,-0.15440062020442194,2.256836634142194,-1.1812134030646015,-0.22704553641637804,1.5825158547690166,0.08476959376703497,1.0724541039190976,-0.2841540152432594,0.0005838753698127481,1.4141860476254873,-0.6445674809748125,-0.0028322728680268932,-0.28642983917000814,0.3480069259952904,-0.8102266727652506,0.11581712026168137,0.7405076829259916,-0.027371441823421164,0.8821390434101007,0.05335963364047773,0.35603809421414434,-0.12940225872618288,0.247627656095243,0.12384122479635257,-2.440242080691085,-0.2699634892117874],\"xaxis\":\"x4\",\"y\":[0.7578306652600714,0.6706958613531931,-1.786751065174122,0.5602920264863411,1.2093903118572087,-0.07721121963587653,-0.6006294853354058,-0.20549799611085745,0.14447932596359128,-0.6194297923494315,0.289965871828332,1.334295055420149,1.2776093322599726,0.6941583739260736,-0.4768485479531304,-1.3945337778497289,-0.8308943714415719,-0.1908555235678979,-0.35903626618040974,-2.0200458765769387,0.4448500215436498,0.20422160240325865,0.5392099010996428,-0.2690083112201799,-0.8563251939013093,0.3391207855185764,-0.7792248890505376,-0.02083868757770441,-0.03344647009605206,-1.3904501532020737,0.3608322091072763,-2.2848433711479856,-0.13177311715226472,-0.25776768300903474,0.027962301258553895,1.681435385772883,-0.6221469941651722,-1.1917502523025978,-2.1355438596372207,-0.29686712138952165,0.6467733369508364,-0.788778618157295,-0.9093268462871056,-0.6953376105722637,-0.23977448704372462,-0.3453021315051399,1.4490027915911707,0.32472600886413877,0.9359226852540424,2.6586112671481525,-0.32333375611415116,4.0344297621507454,-0.8205988894356041,-1.1362389424169994,-0.2111340316655757,0.33053613427656303,-2.2883541938471232,0.15101230122841047,0.5630993680418365,0.04005306805778204,0.7320047941010306,2.022400726278812,-1.110462875185184,1.815902928551929,0.23541742291644363,-0.299353695139132,1.782004055400953,0.5886194597980433,0.3249032927706249,0.22970085014314612,1.0296152959656006,0.3113892172505194,-0.6738285807996732,-1.4294071757980833,1.0331708534128439,1.0786061415606991,-1.0927355132299985,-0.26801167744466736,1.283875352142768,-1.1922505632319573,-0.11461499732670305,0.5612224005874871,-1.9495625965611316,-0.6754021167285816,-0.1713261396526278,2.3700737799129836,0.20724970718019972,0.36570347615770693,-0.7904553715348929,0.026238426697340594,-1.904503266356009,1.574480717301306,1.3400837073902583,-0.4839947096236791,-1.1813582092678951,1.6626390476575212,-1.0216179790542574,-0.6949471304302506,0.9285689130307127,-0.2926143093506573],\"yaxis\":\"y4\",\"type\":\"scatter\"},{\"line\":{\"color\":\"rgba(128, 128, 128, 1.0)\",\"dash\":\"solid\",\"shape\":\"linear\",\"width\":1.3},\"marker\":{\"size\":2,\"symbol\":\"circle\"},\"mode\":\"markers\",\"name\":\"B\",\"text\":\"\",\"x\":[0.7578306652600714,0.6706958613531931,-1.786751065174122,0.5602920264863411,1.2093903118572087,-0.07721121963587653,-0.6006294853354058,-0.20549799611085745,0.14447932596359128,-0.6194297923494315,0.289965871828332,1.334295055420149,1.2776093322599726,0.6941583739260736,-0.4768485479531304,-1.3945337778497289,-0.8308943714415719,-0.1908555235678979,-0.35903626618040974,-2.0200458765769387,0.4448500215436498,0.20422160240325865,0.5392099010996428,-0.2690083112201799,-0.8563251939013093,0.3391207855185764,-0.7792248890505376,-0.02083868757770441,-0.03344647009605206,-1.3904501532020737,0.3608322091072763,-2.2848433711479856,-0.13177311715226472,-0.25776768300903474,0.027962301258553895,1.681435385772883,-0.6221469941651722,-1.1917502523025978,-2.1355438596372207,-0.29686712138952165,0.6467733369508364,-0.788778618157295,-0.9093268462871056,-0.6953376105722637,-0.23977448704372462,-0.3453021315051399,1.4490027915911707,0.32472600886413877,0.9359226852540424,2.6586112671481525,-0.32333375611415116,4.0344297621507454,-0.8205988894356041,-1.1362389424169994,-0.2111340316655757,0.33053613427656303,-2.2883541938471232,0.15101230122841047,0.5630993680418365,0.04005306805778204,0.7320047941010306,2.022400726278812,-1.110462875185184,1.815902928551929,0.23541742291644363,-0.299353695139132,1.782004055400953,0.5886194597980433,0.3249032927706249,0.22970085014314612,1.0296152959656006,0.3113892172505194,-0.6738285807996732,-1.4294071757980833,1.0331708534128439,1.0786061415606991,-1.0927355132299985,-0.26801167744466736,1.283875352142768,-1.1922505632319573,-0.11461499732670305,0.5612224005874871,-1.9495625965611316,-0.6754021167285816,-0.1713261396526278,2.3700737799129836,0.20724970718019972,0.36570347615770693,-0.7904553715348929,0.026238426697340594,-1.904503266356009,1.574480717301306,1.3400837073902583,-0.4839947096236791,-1.1813582092678951,1.6626390476575212,-1.0216179790542574,-0.6949471304302506,0.9285689130307127,-0.2926143093506573],\"xaxis\":\"x5\",\"y\":[-0.2912892972987383,-0.5099817648528213,1.1908177594187945,1.6852654510348208,0.14882243470747117,-2.3037953168126015,-0.24570904973412847,0.27026697246654063,0.5489241190861819,1.0494892047672069,1.6449557327042612,-1.2435292515972494,1.0827059551477518,-2.3265514065069826,-1.8432176330776107,1.2563120938727566,2.1016432707721964,0.8835351387421774,0.7887795942984664,1.2320778057208106,-0.019410404695273668,-1.0221872298474088,-1.4324446606118177,1.0556769315616874,2.6333874524887424,1.0219370562933083,-1.0447863310211478,-0.31296385151259865,-0.5495225412079057,-0.5760573962317269,0.4189253096607101,1.471342914336534,1.0222367104442975,0.15985179971099342,-1.6756594262295046,-0.3772891667954507,0.5683044437292576,-2.049073107560736,0.4903378004188023,0.4530662374795767,-1.308635707523197,0.6446017773525391,-2.4390504610217976,1.4355999105681634,0.4014417106028471,-0.06582744145685468,0.4870730284017431,-1.9493842372661236,2.2826084790025343,-1.2718059047713601,-2.6857235646383626,-0.7201157734494502,-0.1920660069857729,0.5341498433545641,-0.6498776596158321,-0.6881579664154346,-0.017781421996660406,-0.006479640791160362,-1.4875180851261842,-2.151414005208173,-0.06862265103004218,-0.6809989254617403,0.07246770576574128,1.5709090059774033,1.2092234979821614,-1.7336592475299253,0.3750141896515368,-0.7224394257070924,1.569857139426887,0.6761954348997585,0.5973200260553962,-1.3395346590300246,-0.31508903188547854,-0.6159141442383137,-0.8342038355358447,1.5799669056690253,-0.8695982902595847,2.5086007158219537,-0.4983408276616498,0.9792467346219735,0.7202387436322023,1.565905215152806,0.11437371066288606,-0.2344926835279254,0.5064013627686159,0.9212884740745085,-2.438177970385512,-1.1653160008924643,0.5847791301571718,1.1658578569944609,-1.9586439283763402,-0.023745458263176616,-0.9644614734785698,-0.5583469240013501,0.6541854785700131,2.053427150608331,0.8658266947740538,1.8457601392044725,-1.0635193533480607,1.002028410054408],\"yaxis\":\"y5\",\"type\":\"scatter\"},{\"histfunc\":\"count\",\"histnorm\":\"\",\"marker\":{\"color\":\"rgba(55, 128, 191, 1.0)\",\"line\":{\"color\":\"#4D5663\",\"width\":1.3}},\"name\":\"B\",\"nbinsx\":10,\"opacity\":0.8,\"orientation\":\"v\",\"x\":[-0.2912892972987383,-0.5099817648528213,1.1908177594187945,1.6852654510348208,0.14882243470747117,-2.3037953168126015,-0.24570904973412847,0.27026697246654063,0.5489241190861819,1.0494892047672069,1.6449557327042612,-1.2435292515972494,1.0827059551477518,-2.3265514065069826,-1.8432176330776107,1.2563120938727566,2.1016432707721964,0.8835351387421774,0.7887795942984664,1.2320778057208106,-0.019410404695273668,-1.0221872298474088,-1.4324446606118177,1.0556769315616874,2.6333874524887424,1.0219370562933083,-1.0447863310211478,-0.31296385151259865,-0.5495225412079057,-0.5760573962317269,0.4189253096607101,1.471342914336534,1.0222367104442975,0.15985179971099342,-1.6756594262295046,-0.3772891667954507,0.5683044437292576,-2.049073107560736,0.4903378004188023,0.4530662374795767,-1.308635707523197,0.6446017773525391,-2.4390504610217976,1.4355999105681634,0.4014417106028471,-0.06582744145685468,0.4870730284017431,-1.9493842372661236,2.2826084790025343,-1.2718059047713601,-2.6857235646383626,-0.7201157734494502,-0.1920660069857729,0.5341498433545641,-0.6498776596158321,-0.6881579664154346,-0.017781421996660406,-0.006479640791160362,-1.4875180851261842,-2.151414005208173,-0.06862265103004218,-0.6809989254617403,0.07246770576574128,1.5709090059774033,1.2092234979821614,-1.7336592475299253,0.3750141896515368,-0.7224394257070924,1.569857139426887,0.6761954348997585,0.5973200260553962,-1.3395346590300246,-0.31508903188547854,-0.6159141442383137,-0.8342038355358447,1.5799669056690253,-0.8695982902595847,2.5086007158219537,-0.4983408276616498,0.9792467346219735,0.7202387436322023,1.565905215152806,0.11437371066288606,-0.2344926835279254,0.5064013627686159,0.9212884740745085,-2.438177970385512,-1.1653160008924643,0.5847791301571718,1.1658578569944609,-1.9586439283763402,-0.023745458263176616,-0.9644614734785698,-0.5583469240013501,0.6541854785700131,2.053427150608331,0.8658266947740538,1.8457601392044725,-1.0635193533480607,1.002028410054408],\"xaxis\":\"x6\",\"yaxis\":\"y6\",\"type\":\"histogram\"},{\"line\":{\"color\":\"rgba(128, 128, 128, 1.0)\",\"dash\":\"solid\",\"shape\":\"linear\",\"width\":1.3},\"marker\":{\"size\":2,\"symbol\":\"circle\"},\"mode\":\"markers\",\"name\":\"B\",\"text\":\"\",\"x\":[1.0289581305438282,0.5546223404747419,1.1662749440164377,2.4076552326021776,1.1206589700874514,-1.1510965060464522,-1.036330097185283,1.1035664352354242,0.41018784624515064,-0.6031066567749889,-0.43523375737566006,0.7700034740062437,0.6566952435331103,-0.7114750137325586,-0.05927451573410519,-0.17907593395437119,-0.25568674008505926,1.3422155615457656,-1.0296012082087613,0.8080962087323785,-1.025456298374542,-0.46163767759108804,-1.1598702074305383,-0.6209716060525496,-0.26394655045047843,0.8271151780451435,-1.5574334981928357,0.12883112172237213,0.7907350832481647,-0.435427911330841,1.156895577875462,1.5893737702529305,-0.2848824769301489,0.09526302519980143,-1.9060801587965064,0.9482566637846065,0.44123374245965796,0.39369493025203933,0.2862434970044421,0.0019161241469577708,-1.002830579436456,-1.3323363041288334,-1.1928668685040442,1.3819702487291246,-0.12058307139354957,-0.5323794584400485,0.8609519082160938,-0.34774168612723666,-0.756392204555714,0.6256477073548026,0.46068477788193496,1.0473063481936853,0.9827780522835693,1.9158788978470005,-0.45044272223335735,0.622715458855441,0.39767977706126684,0.47695013610397186,-0.2730982441463706,-0.6543150918670932,-0.2229225756274758,-0.12938908818010844,0.9011976187385268,-0.8714209867366066,-0.04309649572211812,-1.337614470057924,0.3943511231930112,0.3294485083362826,-1.0098554567762619,-0.05027183388256316,0.06852094525818642,-0.8739080296140921,-0.20909017774675226,0.38091131571275527,0.0805704634826217,1.0467337941905117,-1.8512739800484475,-0.03893471147359269,-2.2452278339031078,0.08976975309328514,-0.2476763117555046,-0.7258674697306373,0.7005279592720636,-0.052074197751617694,-0.33574324432113484,0.531058971280717,-0.6360711258670565,-1.1402900718902977,-0.6595388839946046,-0.029147066769622476,-0.7648366879107783,-0.4232246795877898,-0.4195811108756407,-0.016863704992688168,-1.3511475249578464,-0.8396311579884472,-1.704008417464047,0.11973493174520473,-0.20130009398582185,2.54517125639914],\"xaxis\":\"x7\",\"y\":[-0.2912892972987383,-0.5099817648528213,1.1908177594187945,1.6852654510348208,0.14882243470747117,-2.3037953168126015,-0.24570904973412847,0.27026697246654063,0.5489241190861819,1.0494892047672069,1.6449557327042612,-1.2435292515972494,1.0827059551477518,-2.3265514065069826,-1.8432176330776107,1.2563120938727566,2.1016432707721964,0.8835351387421774,0.7887795942984664,1.2320778057208106,-0.019410404695273668,-1.0221872298474088,-1.4324446606118177,1.0556769315616874,2.6333874524887424,1.0219370562933083,-1.0447863310211478,-0.31296385151259865,-0.5495225412079057,-0.5760573962317269,0.4189253096607101,1.471342914336534,1.0222367104442975,0.15985179971099342,-1.6756594262295046,-0.3772891667954507,0.5683044437292576,-2.049073107560736,0.4903378004188023,0.4530662374795767,-1.308635707523197,0.6446017773525391,-2.4390504610217976,1.4355999105681634,0.4014417106028471,-0.06582744145685468,0.4870730284017431,-1.9493842372661236,2.2826084790025343,-1.2718059047713601,-2.6857235646383626,-0.7201157734494502,-0.1920660069857729,0.5341498433545641,-0.6498776596158321,-0.6881579664154346,-0.017781421996660406,-0.006479640791160362,-1.4875180851261842,-2.151414005208173,-0.06862265103004218,-0.6809989254617403,0.07246770576574128,1.5709090059774033,1.2092234979821614,-1.7336592475299253,0.3750141896515368,-0.7224394257070924,1.569857139426887,0.6761954348997585,0.5973200260553962,-1.3395346590300246,-0.31508903188547854,-0.6159141442383137,-0.8342038355358447,1.5799669056690253,-0.8695982902595847,2.5086007158219537,-0.4983408276616498,0.9792467346219735,0.7202387436322023,1.565905215152806,0.11437371066288606,-0.2344926835279254,0.5064013627686159,0.9212884740745085,-2.438177970385512,-1.1653160008924643,0.5847791301571718,1.1658578569944609,-1.9586439283763402,-0.023745458263176616,-0.9644614734785698,-0.5583469240013501,0.6541854785700131,2.053427150608331,0.8658266947740538,1.8457601392044725,-1.0635193533480607,1.002028410054408],\"yaxis\":\"y7\",\"type\":\"scatter\"},{\"line\":{\"color\":\"rgba(128, 128, 128, 1.0)\",\"dash\":\"solid\",\"shape\":\"linear\",\"width\":1.3},\"marker\":{\"size\":2,\"symbol\":\"circle\"},\"mode\":\"markers\",\"name\":\"B\",\"text\":\"\",\"x\":[0.9526488790960417,-1.5968100702183643,-0.5433295819264312,0.21387914156124838,0.5992632755866035,-0.03590331987408655,-0.16790739079250558,-0.6809471961924212,1.1128306773770202,-0.1242169865462312,-0.19310070189811843,-0.36464517280134023,0.310488599971796,-2.1630578876836144,-0.32972054778390103,0.25869221922838737,-1.0410314800247165,-0.3605355172297498,1.8471903313054505,-0.13560273947908436,-0.8071879070206959,-0.21518335457844917,-1.8203253804368487,1.3297605096549812,-0.7903310062065573,-0.9094544322492556,0.3371073345110966,0.7328193229092946,0.3086075733476576,0.45729867001915736,2.6522636307066563,1.5557283605369259,-0.6993369988342397,-0.7970781224855026,-0.33219249900301157,0.03137551427390909,0.4841698718340827,1.0664616449784468,-0.8654512204154237,-0.998662866066939,-0.8684079873945336,-0.9204533756188058,0.7399549704871922,-0.06769304274617806,-0.8407441248466904,-0.44226704586481114,-0.06859443206477811,0.04741011209263733,-0.4014834693298488,-0.32535576109556735,0.8224685680259435,-0.029326339591027987,-0.5310560745222764,0.42840277122352355,0.4719035497754577,1.1131298210261316,-0.5237001738833921,0.3057587673337682,-0.37628408527794727,-0.8865576707288084,-1.3114279026947866,0.5246334391909486,0.8771169910861834,-0.2759966284950859,-0.48074156270904084,0.14667455636236404,-1.1822688359181786,-0.8263875315015421,0.2552027396602155,-1.3389823363246451,-0.0739221809686225,-1.2826249948658528,0.12963514155415903,0.6520761962871522,-0.15440062020442194,2.256836634142194,-1.1812134030646015,-0.22704553641637804,1.5825158547690166,0.08476959376703497,1.0724541039190976,-0.2841540152432594,0.0005838753698127481,1.4141860476254873,-0.6445674809748125,-0.0028322728680268932,-0.28642983917000814,0.3480069259952904,-0.8102266727652506,0.11581712026168137,0.7405076829259916,-0.027371441823421164,0.8821390434101007,0.05335963364047773,0.35603809421414434,-0.12940225872618288,0.247627656095243,0.12384122479635257,-2.440242080691085,-0.2699634892117874],\"xaxis\":\"x8\",\"y\":[-0.2912892972987383,-0.5099817648528213,1.1908177594187945,1.6852654510348208,0.14882243470747117,-2.3037953168126015,-0.24570904973412847,0.27026697246654063,0.5489241190861819,1.0494892047672069,1.6449557327042612,-1.2435292515972494,1.0827059551477518,-2.3265514065069826,-1.8432176330776107,1.2563120938727566,2.1016432707721964,0.8835351387421774,0.7887795942984664,1.2320778057208106,-0.019410404695273668,-1.0221872298474088,-1.4324446606118177,1.0556769315616874,2.6333874524887424,1.0219370562933083,-1.0447863310211478,-0.31296385151259865,-0.5495225412079057,-0.5760573962317269,0.4189253096607101,1.471342914336534,1.0222367104442975,0.15985179971099342,-1.6756594262295046,-0.3772891667954507,0.5683044437292576,-2.049073107560736,0.4903378004188023,0.4530662374795767,-1.308635707523197,0.6446017773525391,-2.4390504610217976,1.4355999105681634,0.4014417106028471,-0.06582744145685468,0.4870730284017431,-1.9493842372661236,2.2826084790025343,-1.2718059047713601,-2.6857235646383626,-0.7201157734494502,-0.1920660069857729,0.5341498433545641,-0.6498776596158321,-0.6881579664154346,-0.017781421996660406,-0.006479640791160362,-1.4875180851261842,-2.151414005208173,-0.06862265103004218,-0.6809989254617403,0.07246770576574128,1.5709090059774033,1.2092234979821614,-1.7336592475299253,0.3750141896515368,-0.7224394257070924,1.569857139426887,0.6761954348997585,0.5973200260553962,-1.3395346590300246,-0.31508903188547854,-0.6159141442383137,-0.8342038355358447,1.5799669056690253,-0.8695982902595847,2.5086007158219537,-0.4983408276616498,0.9792467346219735,0.7202387436322023,1.565905215152806,0.11437371066288606,-0.2344926835279254,0.5064013627686159,0.9212884740745085,-2.438177970385512,-1.1653160008924643,0.5847791301571718,1.1658578569944609,-1.9586439283763402,-0.023745458263176616,-0.9644614734785698,-0.5583469240013501,0.6541854785700131,2.053427150608331,0.8658266947740538,1.8457601392044725,-1.0635193533480607,1.002028410054408],\"yaxis\":\"y8\",\"type\":\"scatter\"},{\"line\":{\"color\":\"rgba(128, 128, 128, 1.0)\",\"dash\":\"solid\",\"shape\":\"linear\",\"width\":1.3},\"marker\":{\"size\":2,\"symbol\":\"circle\"},\"mode\":\"markers\",\"name\":\"C\",\"text\":\"\",\"x\":[0.7578306652600714,0.6706958613531931,-1.786751065174122,0.5602920264863411,1.2093903118572087,-0.07721121963587653,-0.6006294853354058,-0.20549799611085745,0.14447932596359128,-0.6194297923494315,0.289965871828332,1.334295055420149,1.2776093322599726,0.6941583739260736,-0.4768485479531304,-1.3945337778497289,-0.8308943714415719,-0.1908555235678979,-0.35903626618040974,-2.0200458765769387,0.4448500215436498,0.20422160240325865,0.5392099010996428,-0.2690083112201799,-0.8563251939013093,0.3391207855185764,-0.7792248890505376,-0.02083868757770441,-0.03344647009605206,-1.3904501532020737,0.3608322091072763,-2.2848433711479856,-0.13177311715226472,-0.25776768300903474,0.027962301258553895,1.681435385772883,-0.6221469941651722,-1.1917502523025978,-2.1355438596372207,-0.29686712138952165,0.6467733369508364,-0.788778618157295,-0.9093268462871056,-0.6953376105722637,-0.23977448704372462,-0.3453021315051399,1.4490027915911707,0.32472600886413877,0.9359226852540424,2.6586112671481525,-0.32333375611415116,4.0344297621507454,-0.8205988894356041,-1.1362389424169994,-0.2111340316655757,0.33053613427656303,-2.2883541938471232,0.15101230122841047,0.5630993680418365,0.04005306805778204,0.7320047941010306,2.022400726278812,-1.110462875185184,1.815902928551929,0.23541742291644363,-0.299353695139132,1.782004055400953,0.5886194597980433,0.3249032927706249,0.22970085014314612,1.0296152959656006,0.3113892172505194,-0.6738285807996732,-1.4294071757980833,1.0331708534128439,1.0786061415606991,-1.0927355132299985,-0.26801167744466736,1.283875352142768,-1.1922505632319573,-0.11461499732670305,0.5612224005874871,-1.9495625965611316,-0.6754021167285816,-0.1713261396526278,2.3700737799129836,0.20724970718019972,0.36570347615770693,-0.7904553715348929,0.026238426697340594,-1.904503266356009,1.574480717301306,1.3400837073902583,-0.4839947096236791,-1.1813582092678951,1.6626390476575212,-1.0216179790542574,-0.6949471304302506,0.9285689130307127,-0.2926143093506573],\"xaxis\":\"x9\",\"y\":[1.0289581305438282,0.5546223404747419,1.1662749440164377,2.4076552326021776,1.1206589700874514,-1.1510965060464522,-1.036330097185283,1.1035664352354242,0.41018784624515064,-0.6031066567749889,-0.43523375737566006,0.7700034740062437,0.6566952435331103,-0.7114750137325586,-0.05927451573410519,-0.17907593395437119,-0.25568674008505926,1.3422155615457656,-1.0296012082087613,0.8080962087323785,-1.025456298374542,-0.46163767759108804,-1.1598702074305383,-0.6209716060525496,-0.26394655045047843,0.8271151780451435,-1.5574334981928357,0.12883112172237213,0.7907350832481647,-0.435427911330841,1.156895577875462,1.5893737702529305,-0.2848824769301489,0.09526302519980143,-1.9060801587965064,0.9482566637846065,0.44123374245965796,0.39369493025203933,0.2862434970044421,0.0019161241469577708,-1.002830579436456,-1.3323363041288334,-1.1928668685040442,1.3819702487291246,-0.12058307139354957,-0.5323794584400485,0.8609519082160938,-0.34774168612723666,-0.756392204555714,0.6256477073548026,0.46068477788193496,1.0473063481936853,0.9827780522835693,1.9158788978470005,-0.45044272223335735,0.622715458855441,0.39767977706126684,0.47695013610397186,-0.2730982441463706,-0.6543150918670932,-0.2229225756274758,-0.12938908818010844,0.9011976187385268,-0.8714209867366066,-0.04309649572211812,-1.337614470057924,0.3943511231930112,0.3294485083362826,-1.0098554567762619,-0.05027183388256316,0.06852094525818642,-0.8739080296140921,-0.20909017774675226,0.38091131571275527,0.0805704634826217,1.0467337941905117,-1.8512739800484475,-0.03893471147359269,-2.2452278339031078,0.08976975309328514,-0.2476763117555046,-0.7258674697306373,0.7005279592720636,-0.052074197751617694,-0.33574324432113484,0.531058971280717,-0.6360711258670565,-1.1402900718902977,-0.6595388839946046,-0.029147066769622476,-0.7648366879107783,-0.4232246795877898,-0.4195811108756407,-0.016863704992688168,-1.3511475249578464,-0.8396311579884472,-1.704008417464047,0.11973493174520473,-0.20130009398582185,2.54517125639914],\"yaxis\":\"y9\",\"type\":\"scatter\"},{\"line\":{\"color\":\"rgba(128, 128, 128, 1.0)\",\"dash\":\"solid\",\"shape\":\"linear\",\"width\":1.3},\"marker\":{\"size\":2,\"symbol\":\"circle\"},\"mode\":\"markers\",\"name\":\"C\",\"text\":\"\",\"x\":[-0.2912892972987383,-0.5099817648528213,1.1908177594187945,1.6852654510348208,0.14882243470747117,-2.3037953168126015,-0.24570904973412847,0.27026697246654063,0.5489241190861819,1.0494892047672069,1.6449557327042612,-1.2435292515972494,1.0827059551477518,-2.3265514065069826,-1.8432176330776107,1.2563120938727566,2.1016432707721964,0.8835351387421774,0.7887795942984664,1.2320778057208106,-0.019410404695273668,-1.0221872298474088,-1.4324446606118177,1.0556769315616874,2.6333874524887424,1.0219370562933083,-1.0447863310211478,-0.31296385151259865,-0.5495225412079057,-0.5760573962317269,0.4189253096607101,1.471342914336534,1.0222367104442975,0.15985179971099342,-1.6756594262295046,-0.3772891667954507,0.5683044437292576,-2.049073107560736,0.4903378004188023,0.4530662374795767,-1.308635707523197,0.6446017773525391,-2.4390504610217976,1.4355999105681634,0.4014417106028471,-0.06582744145685468,0.4870730284017431,-1.9493842372661236,2.2826084790025343,-1.2718059047713601,-2.6857235646383626,-0.7201157734494502,-0.1920660069857729,0.5341498433545641,-0.6498776596158321,-0.6881579664154346,-0.017781421996660406,-0.006479640791160362,-1.4875180851261842,-2.151414005208173,-0.06862265103004218,-0.6809989254617403,0.07246770576574128,1.5709090059774033,1.2092234979821614,-1.7336592475299253,0.3750141896515368,-0.7224394257070924,1.569857139426887,0.6761954348997585,0.5973200260553962,-1.3395346590300246,-0.31508903188547854,-0.6159141442383137,-0.8342038355358447,1.5799669056690253,-0.8695982902595847,2.5086007158219537,-0.4983408276616498,0.9792467346219735,0.7202387436322023,1.565905215152806,0.11437371066288606,-0.2344926835279254,0.5064013627686159,0.9212884740745085,-2.438177970385512,-1.1653160008924643,0.5847791301571718,1.1658578569944609,-1.9586439283763402,-0.023745458263176616,-0.9644614734785698,-0.5583469240013501,0.6541854785700131,2.053427150608331,0.8658266947740538,1.8457601392044725,-1.0635193533480607,1.002028410054408],\"xaxis\":\"x10\",\"y\":[1.0289581305438282,0.5546223404747419,1.1662749440164377,2.4076552326021776,1.1206589700874514,-1.1510965060464522,-1.036330097185283,1.1035664352354242,0.41018784624515064,-0.6031066567749889,-0.43523375737566006,0.7700034740062437,0.6566952435331103,-0.7114750137325586,-0.05927451573410519,-0.17907593395437119,-0.25568674008505926,1.3422155615457656,-1.0296012082087613,0.8080962087323785,-1.025456298374542,-0.46163767759108804,-1.1598702074305383,-0.6209716060525496,-0.26394655045047843,0.8271151780451435,-1.5574334981928357,0.12883112172237213,0.7907350832481647,-0.435427911330841,1.156895577875462,1.5893737702529305,-0.2848824769301489,0.09526302519980143,-1.9060801587965064,0.9482566637846065,0.44123374245965796,0.39369493025203933,0.2862434970044421,0.0019161241469577708,-1.002830579436456,-1.3323363041288334,-1.1928668685040442,1.3819702487291246,-0.12058307139354957,-0.5323794584400485,0.8609519082160938,-0.34774168612723666,-0.756392204555714,0.6256477073548026,0.46068477788193496,1.0473063481936853,0.9827780522835693,1.9158788978470005,-0.45044272223335735,0.622715458855441,0.39767977706126684,0.47695013610397186,-0.2730982441463706,-0.6543150918670932,-0.2229225756274758,-0.12938908818010844,0.9011976187385268,-0.8714209867366066,-0.04309649572211812,-1.337614470057924,0.3943511231930112,0.3294485083362826,-1.0098554567762619,-0.05027183388256316,0.06852094525818642,-0.8739080296140921,-0.20909017774675226,0.38091131571275527,0.0805704634826217,1.0467337941905117,-1.8512739800484475,-0.03893471147359269,-2.2452278339031078,0.08976975309328514,-0.2476763117555046,-0.7258674697306373,0.7005279592720636,-0.052074197751617694,-0.33574324432113484,0.531058971280717,-0.6360711258670565,-1.1402900718902977,-0.6595388839946046,-0.029147066769622476,-0.7648366879107783,-0.4232246795877898,-0.4195811108756407,-0.016863704992688168,-1.3511475249578464,-0.8396311579884472,-1.704008417464047,0.11973493174520473,-0.20130009398582185,2.54517125639914],\"yaxis\":\"y10\",\"type\":\"scatter\"},{\"histfunc\":\"count\",\"histnorm\":\"\",\"marker\":{\"color\":\"rgba(50, 171, 96, 1.0)\",\"line\":{\"color\":\"#4D5663\",\"width\":1.3}},\"name\":\"C\",\"nbinsx\":10,\"opacity\":0.8,\"orientation\":\"v\",\"x\":[1.0289581305438282,0.5546223404747419,1.1662749440164377,2.4076552326021776,1.1206589700874514,-1.1510965060464522,-1.036330097185283,1.1035664352354242,0.41018784624515064,-0.6031066567749889,-0.43523375737566006,0.7700034740062437,0.6566952435331103,-0.7114750137325586,-0.05927451573410519,-0.17907593395437119,-0.25568674008505926,1.3422155615457656,-1.0296012082087613,0.8080962087323785,-1.025456298374542,-0.46163767759108804,-1.1598702074305383,-0.6209716060525496,-0.26394655045047843,0.8271151780451435,-1.5574334981928357,0.12883112172237213,0.7907350832481647,-0.435427911330841,1.156895577875462,1.5893737702529305,-0.2848824769301489,0.09526302519980143,-1.9060801587965064,0.9482566637846065,0.44123374245965796,0.39369493025203933,0.2862434970044421,0.0019161241469577708,-1.002830579436456,-1.3323363041288334,-1.1928668685040442,1.3819702487291246,-0.12058307139354957,-0.5323794584400485,0.8609519082160938,-0.34774168612723666,-0.756392204555714,0.6256477073548026,0.46068477788193496,1.0473063481936853,0.9827780522835693,1.9158788978470005,-0.45044272223335735,0.622715458855441,0.39767977706126684,0.47695013610397186,-0.2730982441463706,-0.6543150918670932,-0.2229225756274758,-0.12938908818010844,0.9011976187385268,-0.8714209867366066,-0.04309649572211812,-1.337614470057924,0.3943511231930112,0.3294485083362826,-1.0098554567762619,-0.05027183388256316,0.06852094525818642,-0.8739080296140921,-0.20909017774675226,0.38091131571275527,0.0805704634826217,1.0467337941905117,-1.8512739800484475,-0.03893471147359269,-2.2452278339031078,0.08976975309328514,-0.2476763117555046,-0.7258674697306373,0.7005279592720636,-0.052074197751617694,-0.33574324432113484,0.531058971280717,-0.6360711258670565,-1.1402900718902977,-0.6595388839946046,-0.029147066769622476,-0.7648366879107783,-0.4232246795877898,-0.4195811108756407,-0.016863704992688168,-1.3511475249578464,-0.8396311579884472,-1.704008417464047,0.11973493174520473,-0.20130009398582185,2.54517125639914],\"xaxis\":\"x11\",\"yaxis\":\"y11\",\"type\":\"histogram\"},{\"line\":{\"color\":\"rgba(128, 128, 128, 1.0)\",\"dash\":\"solid\",\"shape\":\"linear\",\"width\":1.3},\"marker\":{\"size\":2,\"symbol\":\"circle\"},\"mode\":\"markers\",\"name\":\"C\",\"text\":\"\",\"x\":[0.9526488790960417,-1.5968100702183643,-0.5433295819264312,0.21387914156124838,0.5992632755866035,-0.03590331987408655,-0.16790739079250558,-0.6809471961924212,1.1128306773770202,-0.1242169865462312,-0.19310070189811843,-0.36464517280134023,0.310488599971796,-2.1630578876836144,-0.32972054778390103,0.25869221922838737,-1.0410314800247165,-0.3605355172297498,1.8471903313054505,-0.13560273947908436,-0.8071879070206959,-0.21518335457844917,-1.8203253804368487,1.3297605096549812,-0.7903310062065573,-0.9094544322492556,0.3371073345110966,0.7328193229092946,0.3086075733476576,0.45729867001915736,2.6522636307066563,1.5557283605369259,-0.6993369988342397,-0.7970781224855026,-0.33219249900301157,0.03137551427390909,0.4841698718340827,1.0664616449784468,-0.8654512204154237,-0.998662866066939,-0.8684079873945336,-0.9204533756188058,0.7399549704871922,-0.06769304274617806,-0.8407441248466904,-0.44226704586481114,-0.06859443206477811,0.04741011209263733,-0.4014834693298488,-0.32535576109556735,0.8224685680259435,-0.029326339591027987,-0.5310560745222764,0.42840277122352355,0.4719035497754577,1.1131298210261316,-0.5237001738833921,0.3057587673337682,-0.37628408527794727,-0.8865576707288084,-1.3114279026947866,0.5246334391909486,0.8771169910861834,-0.2759966284950859,-0.48074156270904084,0.14667455636236404,-1.1822688359181786,-0.8263875315015421,0.2552027396602155,-1.3389823363246451,-0.0739221809686225,-1.2826249948658528,0.12963514155415903,0.6520761962871522,-0.15440062020442194,2.256836634142194,-1.1812134030646015,-0.22704553641637804,1.5825158547690166,0.08476959376703497,1.0724541039190976,-0.2841540152432594,0.0005838753698127481,1.4141860476254873,-0.6445674809748125,-0.0028322728680268932,-0.28642983917000814,0.3480069259952904,-0.8102266727652506,0.11581712026168137,0.7405076829259916,-0.027371441823421164,0.8821390434101007,0.05335963364047773,0.35603809421414434,-0.12940225872618288,0.247627656095243,0.12384122479635257,-2.440242080691085,-0.2699634892117874],\"xaxis\":\"x12\",\"y\":[1.0289581305438282,0.5546223404747419,1.1662749440164377,2.4076552326021776,1.1206589700874514,-1.1510965060464522,-1.036330097185283,1.1035664352354242,0.41018784624515064,-0.6031066567749889,-0.43523375737566006,0.7700034740062437,0.6566952435331103,-0.7114750137325586,-0.05927451573410519,-0.17907593395437119,-0.25568674008505926,1.3422155615457656,-1.0296012082087613,0.8080962087323785,-1.025456298374542,-0.46163767759108804,-1.1598702074305383,-0.6209716060525496,-0.26394655045047843,0.8271151780451435,-1.5574334981928357,0.12883112172237213,0.7907350832481647,-0.435427911330841,1.156895577875462,1.5893737702529305,-0.2848824769301489,0.09526302519980143,-1.9060801587965064,0.9482566637846065,0.44123374245965796,0.39369493025203933,0.2862434970044421,0.0019161241469577708,-1.002830579436456,-1.3323363041288334,-1.1928668685040442,1.3819702487291246,-0.12058307139354957,-0.5323794584400485,0.8609519082160938,-0.34774168612723666,-0.756392204555714,0.6256477073548026,0.46068477788193496,1.0473063481936853,0.9827780522835693,1.9158788978470005,-0.45044272223335735,0.622715458855441,0.39767977706126684,0.47695013610397186,-0.2730982441463706,-0.6543150918670932,-0.2229225756274758,-0.12938908818010844,0.9011976187385268,-0.8714209867366066,-0.04309649572211812,-1.337614470057924,0.3943511231930112,0.3294485083362826,-1.0098554567762619,-0.05027183388256316,0.06852094525818642,-0.8739080296140921,-0.20909017774675226,0.38091131571275527,0.0805704634826217,1.0467337941905117,-1.8512739800484475,-0.03893471147359269,-2.2452278339031078,0.08976975309328514,-0.2476763117555046,-0.7258674697306373,0.7005279592720636,-0.052074197751617694,-0.33574324432113484,0.531058971280717,-0.6360711258670565,-1.1402900718902977,-0.6595388839946046,-0.029147066769622476,-0.7648366879107783,-0.4232246795877898,-0.4195811108756407,-0.016863704992688168,-1.3511475249578464,-0.8396311579884472,-1.704008417464047,0.11973493174520473,-0.20130009398582185,2.54517125639914],\"yaxis\":\"y12\",\"type\":\"scatter\"},{\"line\":{\"color\":\"rgba(128, 128, 128, 1.0)\",\"dash\":\"solid\",\"shape\":\"linear\",\"width\":1.3},\"marker\":{\"size\":2,\"symbol\":\"circle\"},\"mode\":\"markers\",\"name\":\"D\",\"text\":\"\",\"x\":[0.7578306652600714,0.6706958613531931,-1.786751065174122,0.5602920264863411,1.2093903118572087,-0.07721121963587653,-0.6006294853354058,-0.20549799611085745,0.14447932596359128,-0.6194297923494315,0.289965871828332,1.334295055420149,1.2776093322599726,0.6941583739260736,-0.4768485479531304,-1.3945337778497289,-0.8308943714415719,-0.1908555235678979,-0.35903626618040974,-2.0200458765769387,0.4448500215436498,0.20422160240325865,0.5392099010996428,-0.2690083112201799,-0.8563251939013093,0.3391207855185764,-0.7792248890505376,-0.02083868757770441,-0.03344647009605206,-1.3904501532020737,0.3608322091072763,-2.2848433711479856,-0.13177311715226472,-0.25776768300903474,0.027962301258553895,1.681435385772883,-0.6221469941651722,-1.1917502523025978,-2.1355438596372207,-0.29686712138952165,0.6467733369508364,-0.788778618157295,-0.9093268462871056,-0.6953376105722637,-0.23977448704372462,-0.3453021315051399,1.4490027915911707,0.32472600886413877,0.9359226852540424,2.6586112671481525,-0.32333375611415116,4.0344297621507454,-0.8205988894356041,-1.1362389424169994,-0.2111340316655757,0.33053613427656303,-2.2883541938471232,0.15101230122841047,0.5630993680418365,0.04005306805778204,0.7320047941010306,2.022400726278812,-1.110462875185184,1.815902928551929,0.23541742291644363,-0.299353695139132,1.782004055400953,0.5886194597980433,0.3249032927706249,0.22970085014314612,1.0296152959656006,0.3113892172505194,-0.6738285807996732,-1.4294071757980833,1.0331708534128439,1.0786061415606991,-1.0927355132299985,-0.26801167744466736,1.283875352142768,-1.1922505632319573,-0.11461499732670305,0.5612224005874871,-1.9495625965611316,-0.6754021167285816,-0.1713261396526278,2.3700737799129836,0.20724970718019972,0.36570347615770693,-0.7904553715348929,0.026238426697340594,-1.904503266356009,1.574480717301306,1.3400837073902583,-0.4839947096236791,-1.1813582092678951,1.6626390476575212,-1.0216179790542574,-0.6949471304302506,0.9285689130307127,-0.2926143093506573],\"xaxis\":\"x13\",\"y\":[0.9526488790960417,-1.5968100702183643,-0.5433295819264312,0.21387914156124838,0.5992632755866035,-0.03590331987408655,-0.16790739079250558,-0.6809471961924212,1.1128306773770202,-0.1242169865462312,-0.19310070189811843,-0.36464517280134023,0.310488599971796,-2.1630578876836144,-0.32972054778390103,0.25869221922838737,-1.0410314800247165,-0.3605355172297498,1.8471903313054505,-0.13560273947908436,-0.8071879070206959,-0.21518335457844917,-1.8203253804368487,1.3297605096549812,-0.7903310062065573,-0.9094544322492556,0.3371073345110966,0.7328193229092946,0.3086075733476576,0.45729867001915736,2.6522636307066563,1.5557283605369259,-0.6993369988342397,-0.7970781224855026,-0.33219249900301157,0.03137551427390909,0.4841698718340827,1.0664616449784468,-0.8654512204154237,-0.998662866066939,-0.8684079873945336,-0.9204533756188058,0.7399549704871922,-0.06769304274617806,-0.8407441248466904,-0.44226704586481114,-0.06859443206477811,0.04741011209263733,-0.4014834693298488,-0.32535576109556735,0.8224685680259435,-0.029326339591027987,-0.5310560745222764,0.42840277122352355,0.4719035497754577,1.1131298210261316,-0.5237001738833921,0.3057587673337682,-0.37628408527794727,-0.8865576707288084,-1.3114279026947866,0.5246334391909486,0.8771169910861834,-0.2759966284950859,-0.48074156270904084,0.14667455636236404,-1.1822688359181786,-0.8263875315015421,0.2552027396602155,-1.3389823363246451,-0.0739221809686225,-1.2826249948658528,0.12963514155415903,0.6520761962871522,-0.15440062020442194,2.256836634142194,-1.1812134030646015,-0.22704553641637804,1.5825158547690166,0.08476959376703497,1.0724541039190976,-0.2841540152432594,0.0005838753698127481,1.4141860476254873,-0.6445674809748125,-0.0028322728680268932,-0.28642983917000814,0.3480069259952904,-0.8102266727652506,0.11581712026168137,0.7405076829259916,-0.027371441823421164,0.8821390434101007,0.05335963364047773,0.35603809421414434,-0.12940225872618288,0.247627656095243,0.12384122479635257,-2.440242080691085,-0.2699634892117874],\"yaxis\":\"y13\",\"type\":\"scatter\"},{\"line\":{\"color\":\"rgba(128, 128, 128, 1.0)\",\"dash\":\"solid\",\"shape\":\"linear\",\"width\":1.3},\"marker\":{\"size\":2,\"symbol\":\"circle\"},\"mode\":\"markers\",\"name\":\"D\",\"text\":\"\",\"x\":[-0.2912892972987383,-0.5099817648528213,1.1908177594187945,1.6852654510348208,0.14882243470747117,-2.3037953168126015,-0.24570904973412847,0.27026697246654063,0.5489241190861819,1.0494892047672069,1.6449557327042612,-1.2435292515972494,1.0827059551477518,-2.3265514065069826,-1.8432176330776107,1.2563120938727566,2.1016432707721964,0.8835351387421774,0.7887795942984664,1.2320778057208106,-0.019410404695273668,-1.0221872298474088,-1.4324446606118177,1.0556769315616874,2.6333874524887424,1.0219370562933083,-1.0447863310211478,-0.31296385151259865,-0.5495225412079057,-0.5760573962317269,0.4189253096607101,1.471342914336534,1.0222367104442975,0.15985179971099342,-1.6756594262295046,-0.3772891667954507,0.5683044437292576,-2.049073107560736,0.4903378004188023,0.4530662374795767,-1.308635707523197,0.6446017773525391,-2.4390504610217976,1.4355999105681634,0.4014417106028471,-0.06582744145685468,0.4870730284017431,-1.9493842372661236,2.2826084790025343,-1.2718059047713601,-2.6857235646383626,-0.7201157734494502,-0.1920660069857729,0.5341498433545641,-0.6498776596158321,-0.6881579664154346,-0.017781421996660406,-0.006479640791160362,-1.4875180851261842,-2.151414005208173,-0.06862265103004218,-0.6809989254617403,0.07246770576574128,1.5709090059774033,1.2092234979821614,-1.7336592475299253,0.3750141896515368,-0.7224394257070924,1.569857139426887,0.6761954348997585,0.5973200260553962,-1.3395346590300246,-0.31508903188547854,-0.6159141442383137,-0.8342038355358447,1.5799669056690253,-0.8695982902595847,2.5086007158219537,-0.4983408276616498,0.9792467346219735,0.7202387436322023,1.565905215152806,0.11437371066288606,-0.2344926835279254,0.5064013627686159,0.9212884740745085,-2.438177970385512,-1.1653160008924643,0.5847791301571718,1.1658578569944609,-1.9586439283763402,-0.023745458263176616,-0.9644614734785698,-0.5583469240013501,0.6541854785700131,2.053427150608331,0.8658266947740538,1.8457601392044725,-1.0635193533480607,1.002028410054408],\"xaxis\":\"x14\",\"y\":[0.9526488790960417,-1.5968100702183643,-0.5433295819264312,0.21387914156124838,0.5992632755866035,-0.03590331987408655,-0.16790739079250558,-0.6809471961924212,1.1128306773770202,-0.1242169865462312,-0.19310070189811843,-0.36464517280134023,0.310488599971796,-2.1630578876836144,-0.32972054778390103,0.25869221922838737,-1.0410314800247165,-0.3605355172297498,1.8471903313054505,-0.13560273947908436,-0.8071879070206959,-0.21518335457844917,-1.8203253804368487,1.3297605096549812,-0.7903310062065573,-0.9094544322492556,0.3371073345110966,0.7328193229092946,0.3086075733476576,0.45729867001915736,2.6522636307066563,1.5557283605369259,-0.6993369988342397,-0.7970781224855026,-0.33219249900301157,0.03137551427390909,0.4841698718340827,1.0664616449784468,-0.8654512204154237,-0.998662866066939,-0.8684079873945336,-0.9204533756188058,0.7399549704871922,-0.06769304274617806,-0.8407441248466904,-0.44226704586481114,-0.06859443206477811,0.04741011209263733,-0.4014834693298488,-0.32535576109556735,0.8224685680259435,-0.029326339591027987,-0.5310560745222764,0.42840277122352355,0.4719035497754577,1.1131298210261316,-0.5237001738833921,0.3057587673337682,-0.37628408527794727,-0.8865576707288084,-1.3114279026947866,0.5246334391909486,0.8771169910861834,-0.2759966284950859,-0.48074156270904084,0.14667455636236404,-1.1822688359181786,-0.8263875315015421,0.2552027396602155,-1.3389823363246451,-0.0739221809686225,-1.2826249948658528,0.12963514155415903,0.6520761962871522,-0.15440062020442194,2.256836634142194,-1.1812134030646015,-0.22704553641637804,1.5825158547690166,0.08476959376703497,1.0724541039190976,-0.2841540152432594,0.0005838753698127481,1.4141860476254873,-0.6445674809748125,-0.0028322728680268932,-0.28642983917000814,0.3480069259952904,-0.8102266727652506,0.11581712026168137,0.7405076829259916,-0.027371441823421164,0.8821390434101007,0.05335963364047773,0.35603809421414434,-0.12940225872618288,0.247627656095243,0.12384122479635257,-2.440242080691085,-0.2699634892117874],\"yaxis\":\"y14\",\"type\":\"scatter\"},{\"line\":{\"color\":\"rgba(128, 128, 128, 1.0)\",\"dash\":\"solid\",\"shape\":\"linear\",\"width\":1.3},\"marker\":{\"size\":2,\"symbol\":\"circle\"},\"mode\":\"markers\",\"name\":\"D\",\"text\":\"\",\"x\":[1.0289581305438282,0.5546223404747419,1.1662749440164377,2.4076552326021776,1.1206589700874514,-1.1510965060464522,-1.036330097185283,1.1035664352354242,0.41018784624515064,-0.6031066567749889,-0.43523375737566006,0.7700034740062437,0.6566952435331103,-0.7114750137325586,-0.05927451573410519,-0.17907593395437119,-0.25568674008505926,1.3422155615457656,-1.0296012082087613,0.8080962087323785,-1.025456298374542,-0.46163767759108804,-1.1598702074305383,-0.6209716060525496,-0.26394655045047843,0.8271151780451435,-1.5574334981928357,0.12883112172237213,0.7907350832481647,-0.435427911330841,1.156895577875462,1.5893737702529305,-0.2848824769301489,0.09526302519980143,-1.9060801587965064,0.9482566637846065,0.44123374245965796,0.39369493025203933,0.2862434970044421,0.0019161241469577708,-1.002830579436456,-1.3323363041288334,-1.1928668685040442,1.3819702487291246,-0.12058307139354957,-0.5323794584400485,0.8609519082160938,-0.34774168612723666,-0.756392204555714,0.6256477073548026,0.46068477788193496,1.0473063481936853,0.9827780522835693,1.9158788978470005,-0.45044272223335735,0.622715458855441,0.39767977706126684,0.47695013610397186,-0.2730982441463706,-0.6543150918670932,-0.2229225756274758,-0.12938908818010844,0.9011976187385268,-0.8714209867366066,-0.04309649572211812,-1.337614470057924,0.3943511231930112,0.3294485083362826,-1.0098554567762619,-0.05027183388256316,0.06852094525818642,-0.8739080296140921,-0.20909017774675226,0.38091131571275527,0.0805704634826217,1.0467337941905117,-1.8512739800484475,-0.03893471147359269,-2.2452278339031078,0.08976975309328514,-0.2476763117555046,-0.7258674697306373,0.7005279592720636,-0.052074197751617694,-0.33574324432113484,0.531058971280717,-0.6360711258670565,-1.1402900718902977,-0.6595388839946046,-0.029147066769622476,-0.7648366879107783,-0.4232246795877898,-0.4195811108756407,-0.016863704992688168,-1.3511475249578464,-0.8396311579884472,-1.704008417464047,0.11973493174520473,-0.20130009398582185,2.54517125639914],\"xaxis\":\"x15\",\"y\":[0.9526488790960417,-1.5968100702183643,-0.5433295819264312,0.21387914156124838,0.5992632755866035,-0.03590331987408655,-0.16790739079250558,-0.6809471961924212,1.1128306773770202,-0.1242169865462312,-0.19310070189811843,-0.36464517280134023,0.310488599971796,-2.1630578876836144,-0.32972054778390103,0.25869221922838737,-1.0410314800247165,-0.3605355172297498,1.8471903313054505,-0.13560273947908436,-0.8071879070206959,-0.21518335457844917,-1.8203253804368487,1.3297605096549812,-0.7903310062065573,-0.9094544322492556,0.3371073345110966,0.7328193229092946,0.3086075733476576,0.45729867001915736,2.6522636307066563,1.5557283605369259,-0.6993369988342397,-0.7970781224855026,-0.33219249900301157,0.03137551427390909,0.4841698718340827,1.0664616449784468,-0.8654512204154237,-0.998662866066939,-0.8684079873945336,-0.9204533756188058,0.7399549704871922,-0.06769304274617806,-0.8407441248466904,-0.44226704586481114,-0.06859443206477811,0.04741011209263733,-0.4014834693298488,-0.32535576109556735,0.8224685680259435,-0.029326339591027987,-0.5310560745222764,0.42840277122352355,0.4719035497754577,1.1131298210261316,-0.5237001738833921,0.3057587673337682,-0.37628408527794727,-0.8865576707288084,-1.3114279026947866,0.5246334391909486,0.8771169910861834,-0.2759966284950859,-0.48074156270904084,0.14667455636236404,-1.1822688359181786,-0.8263875315015421,0.2552027396602155,-1.3389823363246451,-0.0739221809686225,-1.2826249948658528,0.12963514155415903,0.6520761962871522,-0.15440062020442194,2.256836634142194,-1.1812134030646015,-0.22704553641637804,1.5825158547690166,0.08476959376703497,1.0724541039190976,-0.2841540152432594,0.0005838753698127481,1.4141860476254873,-0.6445674809748125,-0.0028322728680268932,-0.28642983917000814,0.3480069259952904,-0.8102266727652506,0.11581712026168137,0.7405076829259916,-0.027371441823421164,0.8821390434101007,0.05335963364047773,0.35603809421414434,-0.12940225872618288,0.247627656095243,0.12384122479635257,-2.440242080691085,-0.2699634892117874],\"yaxis\":\"y15\",\"type\":\"scatter\"},{\"histfunc\":\"count\",\"histnorm\":\"\",\"marker\":{\"color\":\"rgba(128, 0, 128, 1.0)\",\"line\":{\"color\":\"#4D5663\",\"width\":1.3}},\"name\":\"D\",\"nbinsx\":10,\"opacity\":0.8,\"orientation\":\"v\",\"x\":[0.9526488790960417,-1.5968100702183643,-0.5433295819264312,0.21387914156124838,0.5992632755866035,-0.03590331987408655,-0.16790739079250558,-0.6809471961924212,1.1128306773770202,-0.1242169865462312,-0.19310070189811843,-0.36464517280134023,0.310488599971796,-2.1630578876836144,-0.32972054778390103,0.25869221922838737,-1.0410314800247165,-0.3605355172297498,1.8471903313054505,-0.13560273947908436,-0.8071879070206959,-0.21518335457844917,-1.8203253804368487,1.3297605096549812,-0.7903310062065573,-0.9094544322492556,0.3371073345110966,0.7328193229092946,0.3086075733476576,0.45729867001915736,2.6522636307066563,1.5557283605369259,-0.6993369988342397,-0.7970781224855026,-0.33219249900301157,0.03137551427390909,0.4841698718340827,1.0664616449784468,-0.8654512204154237,-0.998662866066939,-0.8684079873945336,-0.9204533756188058,0.7399549704871922,-0.06769304274617806,-0.8407441248466904,-0.44226704586481114,-0.06859443206477811,0.04741011209263733,-0.4014834693298488,-0.32535576109556735,0.8224685680259435,-0.029326339591027987,-0.5310560745222764,0.42840277122352355,0.4719035497754577,1.1131298210261316,-0.5237001738833921,0.3057587673337682,-0.37628408527794727,-0.8865576707288084,-1.3114279026947866,0.5246334391909486,0.8771169910861834,-0.2759966284950859,-0.48074156270904084,0.14667455636236404,-1.1822688359181786,-0.8263875315015421,0.2552027396602155,-1.3389823363246451,-0.0739221809686225,-1.2826249948658528,0.12963514155415903,0.6520761962871522,-0.15440062020442194,2.256836634142194,-1.1812134030646015,-0.22704553641637804,1.5825158547690166,0.08476959376703497,1.0724541039190976,-0.2841540152432594,0.0005838753698127481,1.4141860476254873,-0.6445674809748125,-0.0028322728680268932,-0.28642983917000814,0.3480069259952904,-0.8102266727652506,0.11581712026168137,0.7405076829259916,-0.027371441823421164,0.8821390434101007,0.05335963364047773,0.35603809421414434,-0.12940225872618288,0.247627656095243,0.12384122479635257,-2.440242080691085,-0.2699634892117874],\"xaxis\":\"x16\",\"yaxis\":\"y16\",\"type\":\"histogram\"}],                        {\"bargap\":0.02,\"legend\":{\"bgcolor\":\"#F5F6F9\",\"font\":{\"color\":\"#4D5663\"}},\"paper_bgcolor\":\"#F5F6F9\",\"plot_bgcolor\":\"#F5F6F9\",\"showlegend\":false,\"template\":{\"data\":{\"barpolar\":[{\"marker\":{\"line\":{\"color\":\"#E5ECF6\",\"width\":0.5},\"pattern\":{\"fillmode\":\"overlay\",\"size\":10,\"solidity\":0.2}},\"type\":\"barpolar\"}],\"bar\":[{\"error_x\":{\"color\":\"#2a3f5f\"},\"error_y\":{\"color\":\"#2a3f5f\"},\"marker\":{\"line\":{\"color\":\"#E5ECF6\",\"width\":0.5},\"pattern\":{\"fillmode\":\"overlay\",\"size\":10,\"solidity\":0.2}},\"type\":\"bar\"}],\"carpet\":[{\"aaxis\":{\"endlinecolor\":\"#2a3f5f\",\"gridcolor\":\"white\",\"linecolor\":\"white\",\"minorgridcolor\":\"white\",\"startlinecolor\":\"#2a3f5f\"},\"baxis\":{\"endlinecolor\":\"#2a3f5f\",\"gridcolor\":\"white\",\"linecolor\":\"white\",\"minorgridcolor\":\"white\",\"startlinecolor\":\"#2a3f5f\"},\"type\":\"carpet\"}],\"choropleth\":[{\"colorbar\":{\"outlinewidth\":0,\"ticks\":\"\"},\"type\":\"choropleth\"}],\"contourcarpet\":[{\"colorbar\":{\"outlinewidth\":0,\"ticks\":\"\"},\"type\":\"contourcarpet\"}],\"contour\":[{\"colorbar\":{\"outlinewidth\":0,\"ticks\":\"\"},\"colorscale\":[[0.0,\"#0d0887\"],[0.1111111111111111,\"#46039f\"],[0.2222222222222222,\"#7201a8\"],[0.3333333333333333,\"#9c179e\"],[0.4444444444444444,\"#bd3786\"],[0.5555555555555556,\"#d8576b\"],[0.6666666666666666,\"#ed7953\"],[0.7777777777777778,\"#fb9f3a\"],[0.8888888888888888,\"#fdca26\"],[1.0,\"#f0f921\"]],\"type\":\"contour\"}],\"heatmapgl\":[{\"colorbar\":{\"outlinewidth\":0,\"ticks\":\"\"},\"colorscale\":[[0.0,\"#0d0887\"],[0.1111111111111111,\"#46039f\"],[0.2222222222222222,\"#7201a8\"],[0.3333333333333333,\"#9c179e\"],[0.4444444444444444,\"#bd3786\"],[0.5555555555555556,\"#d8576b\"],[0.6666666666666666,\"#ed7953\"],[0.7777777777777778,\"#fb9f3a\"],[0.8888888888888888,\"#fdca26\"],[1.0,\"#f0f921\"]],\"type\":\"heatmapgl\"}],\"heatmap\":[{\"colorbar\":{\"outlinewidth\":0,\"ticks\":\"\"},\"colorscale\":[[0.0,\"#0d0887\"],[0.1111111111111111,\"#46039f\"],[0.2222222222222222,\"#7201a8\"],[0.3333333333333333,\"#9c179e\"],[0.4444444444444444,\"#bd3786\"],[0.5555555555555556,\"#d8576b\"],[0.6666666666666666,\"#ed7953\"],[0.7777777777777778,\"#fb9f3a\"],[0.8888888888888888,\"#fdca26\"],[1.0,\"#f0f921\"]],\"type\":\"heatmap\"}],\"histogram2dcontour\":[{\"colorbar\":{\"outlinewidth\":0,\"ticks\":\"\"},\"colorscale\":[[0.0,\"#0d0887\"],[0.1111111111111111,\"#46039f\"],[0.2222222222222222,\"#7201a8\"],[0.3333333333333333,\"#9c179e\"],[0.4444444444444444,\"#bd3786\"],[0.5555555555555556,\"#d8576b\"],[0.6666666666666666,\"#ed7953\"],[0.7777777777777778,\"#fb9f3a\"],[0.8888888888888888,\"#fdca26\"],[1.0,\"#f0f921\"]],\"type\":\"histogram2dcontour\"}],\"histogram2d\":[{\"colorbar\":{\"outlinewidth\":0,\"ticks\":\"\"},\"colorscale\":[[0.0,\"#0d0887\"],[0.1111111111111111,\"#46039f\"],[0.2222222222222222,\"#7201a8\"],[0.3333333333333333,\"#9c179e\"],[0.4444444444444444,\"#bd3786\"],[0.5555555555555556,\"#d8576b\"],[0.6666666666666666,\"#ed7953\"],[0.7777777777777778,\"#fb9f3a\"],[0.8888888888888888,\"#fdca26\"],[1.0,\"#f0f921\"]],\"type\":\"histogram2d\"}],\"histogram\":[{\"marker\":{\"pattern\":{\"fillmode\":\"overlay\",\"size\":10,\"solidity\":0.2}},\"type\":\"histogram\"}],\"mesh3d\":[{\"colorbar\":{\"outlinewidth\":0,\"ticks\":\"\"},\"type\":\"mesh3d\"}],\"parcoords\":[{\"line\":{\"colorbar\":{\"outlinewidth\":0,\"ticks\":\"\"}},\"type\":\"parcoords\"}],\"pie\":[{\"automargin\":true,\"type\":\"pie\"}],\"scatter3d\":[{\"line\":{\"colorbar\":{\"outlinewidth\":0,\"ticks\":\"\"}},\"marker\":{\"colorbar\":{\"outlinewidth\":0,\"ticks\":\"\"}},\"type\":\"scatter3d\"}],\"scattercarpet\":[{\"marker\":{\"colorbar\":{\"outlinewidth\":0,\"ticks\":\"\"}},\"type\":\"scattercarpet\"}],\"scattergeo\":[{\"marker\":{\"colorbar\":{\"outlinewidth\":0,\"ticks\":\"\"}},\"type\":\"scattergeo\"}],\"scattergl\":[{\"marker\":{\"colorbar\":{\"outlinewidth\":0,\"ticks\":\"\"}},\"type\":\"scattergl\"}],\"scattermapbox\":[{\"marker\":{\"colorbar\":{\"outlinewidth\":0,\"ticks\":\"\"}},\"type\":\"scattermapbox\"}],\"scatterpolargl\":[{\"marker\":{\"colorbar\":{\"outlinewidth\":0,\"ticks\":\"\"}},\"type\":\"scatterpolargl\"}],\"scatterpolar\":[{\"marker\":{\"colorbar\":{\"outlinewidth\":0,\"ticks\":\"\"}},\"type\":\"scatterpolar\"}],\"scatter\":[{\"fillpattern\":{\"fillmode\":\"overlay\",\"size\":10,\"solidity\":0.2},\"type\":\"scatter\"}],\"scatterternary\":[{\"marker\":{\"colorbar\":{\"outlinewidth\":0,\"ticks\":\"\"}},\"type\":\"scatterternary\"}],\"surface\":[{\"colorbar\":{\"outlinewidth\":0,\"ticks\":\"\"},\"colorscale\":[[0.0,\"#0d0887\"],[0.1111111111111111,\"#46039f\"],[0.2222222222222222,\"#7201a8\"],[0.3333333333333333,\"#9c179e\"],[0.4444444444444444,\"#bd3786\"],[0.5555555555555556,\"#d8576b\"],[0.6666666666666666,\"#ed7953\"],[0.7777777777777778,\"#fb9f3a\"],[0.8888888888888888,\"#fdca26\"],[1.0,\"#f0f921\"]],\"type\":\"surface\"}],\"table\":[{\"cells\":{\"fill\":{\"color\":\"#EBF0F8\"},\"line\":{\"color\":\"white\"}},\"header\":{\"fill\":{\"color\":\"#C8D4E3\"},\"line\":{\"color\":\"white\"}},\"type\":\"table\"}]},\"layout\":{\"annotationdefaults\":{\"arrowcolor\":\"#2a3f5f\",\"arrowhead\":0,\"arrowwidth\":1},\"autotypenumbers\":\"strict\",\"coloraxis\":{\"colorbar\":{\"outlinewidth\":0,\"ticks\":\"\"}},\"colorscale\":{\"diverging\":[[0,\"#8e0152\"],[0.1,\"#c51b7d\"],[0.2,\"#de77ae\"],[0.3,\"#f1b6da\"],[0.4,\"#fde0ef\"],[0.5,\"#f7f7f7\"],[0.6,\"#e6f5d0\"],[0.7,\"#b8e186\"],[0.8,\"#7fbc41\"],[0.9,\"#4d9221\"],[1,\"#276419\"]],\"sequential\":[[0.0,\"#0d0887\"],[0.1111111111111111,\"#46039f\"],[0.2222222222222222,\"#7201a8\"],[0.3333333333333333,\"#9c179e\"],[0.4444444444444444,\"#bd3786\"],[0.5555555555555556,\"#d8576b\"],[0.6666666666666666,\"#ed7953\"],[0.7777777777777778,\"#fb9f3a\"],[0.8888888888888888,\"#fdca26\"],[1.0,\"#f0f921\"]],\"sequentialminus\":[[0.0,\"#0d0887\"],[0.1111111111111111,\"#46039f\"],[0.2222222222222222,\"#7201a8\"],[0.3333333333333333,\"#9c179e\"],[0.4444444444444444,\"#bd3786\"],[0.5555555555555556,\"#d8576b\"],[0.6666666666666666,\"#ed7953\"],[0.7777777777777778,\"#fb9f3a\"],[0.8888888888888888,\"#fdca26\"],[1.0,\"#f0f921\"]]},\"colorway\":[\"#636efa\",\"#EF553B\",\"#00cc96\",\"#ab63fa\",\"#FFA15A\",\"#19d3f3\",\"#FF6692\",\"#B6E880\",\"#FF97FF\",\"#FECB52\"],\"font\":{\"color\":\"#2a3f5f\"},\"geo\":{\"bgcolor\":\"white\",\"lakecolor\":\"white\",\"landcolor\":\"#E5ECF6\",\"showlakes\":true,\"showland\":true,\"subunitcolor\":\"white\"},\"hoverlabel\":{\"align\":\"left\"},\"hovermode\":\"closest\",\"mapbox\":{\"style\":\"light\"},\"paper_bgcolor\":\"white\",\"plot_bgcolor\":\"#E5ECF6\",\"polar\":{\"angularaxis\":{\"gridcolor\":\"white\",\"linecolor\":\"white\",\"ticks\":\"\"},\"bgcolor\":\"#E5ECF6\",\"radialaxis\":{\"gridcolor\":\"white\",\"linecolor\":\"white\",\"ticks\":\"\"}},\"scene\":{\"xaxis\":{\"backgroundcolor\":\"#E5ECF6\",\"gridcolor\":\"white\",\"gridwidth\":2,\"linecolor\":\"white\",\"showbackground\":true,\"ticks\":\"\",\"zerolinecolor\":\"white\"},\"yaxis\":{\"backgroundcolor\":\"#E5ECF6\",\"gridcolor\":\"white\",\"gridwidth\":2,\"linecolor\":\"white\",\"showbackground\":true,\"ticks\":\"\",\"zerolinecolor\":\"white\"},\"zaxis\":{\"backgroundcolor\":\"#E5ECF6\",\"gridcolor\":\"white\",\"gridwidth\":2,\"linecolor\":\"white\",\"showbackground\":true,\"ticks\":\"\",\"zerolinecolor\":\"white\"}},\"shapedefaults\":{\"line\":{\"color\":\"#2a3f5f\"}},\"ternary\":{\"aaxis\":{\"gridcolor\":\"white\",\"linecolor\":\"white\",\"ticks\":\"\"},\"baxis\":{\"gridcolor\":\"white\",\"linecolor\":\"white\",\"ticks\":\"\"},\"bgcolor\":\"#E5ECF6\",\"caxis\":{\"gridcolor\":\"white\",\"linecolor\":\"white\",\"ticks\":\"\"}},\"title\":{\"x\":0.05},\"xaxis\":{\"automargin\":true,\"gridcolor\":\"white\",\"linecolor\":\"white\",\"ticks\":\"\",\"title\":{\"standoff\":15},\"zerolinecolor\":\"white\",\"zerolinewidth\":2},\"yaxis\":{\"automargin\":true,\"gridcolor\":\"white\",\"linecolor\":\"white\",\"ticks\":\"\",\"title\":{\"standoff\":15},\"zerolinecolor\":\"white\",\"zerolinewidth\":2}}},\"title\":{\"font\":{\"color\":\"#4D5663\"}},\"xaxis\":{\"anchor\":\"y\",\"domain\":[0.0,0.2125],\"gridcolor\":\"#E1E5ED\",\"showgrid\":false,\"tickfont\":{\"color\":\"#4D5663\"},\"title\":{\"font\":{\"color\":\"#4D5663\"},\"text\":\"\"},\"zerolinecolor\":\"#E1E5ED\"},\"yaxis\":{\"anchor\":\"x\",\"domain\":[0.8025,1.0],\"gridcolor\":\"#E1E5ED\",\"showgrid\":false,\"tickfont\":{\"color\":\"#4D5663\"},\"title\":{\"font\":{\"color\":\"#4D5663\"},\"text\":\"\"},\"zerolinecolor\":\"#E1E5ED\"},\"xaxis2\":{\"anchor\":\"y2\",\"domain\":[0.2625,0.475],\"gridcolor\":\"#E1E5ED\",\"showgrid\":false,\"tickfont\":{\"color\":\"#4D5663\"},\"title\":{\"font\":{\"color\":\"#4D5663\"},\"text\":\"\"},\"zerolinecolor\":\"#E1E5ED\"},\"yaxis2\":{\"anchor\":\"x2\",\"domain\":[0.8025,1.0],\"gridcolor\":\"#E1E5ED\",\"showgrid\":false,\"tickfont\":{\"color\":\"#4D5663\"},\"title\":{\"font\":{\"color\":\"#4D5663\"},\"text\":\"\"},\"zerolinecolor\":\"#E1E5ED\"},\"xaxis3\":{\"anchor\":\"y3\",\"domain\":[0.525,0.7375],\"gridcolor\":\"#E1E5ED\",\"showgrid\":false,\"tickfont\":{\"color\":\"#4D5663\"},\"title\":{\"font\":{\"color\":\"#4D5663\"},\"text\":\"\"},\"zerolinecolor\":\"#E1E5ED\"},\"yaxis3\":{\"anchor\":\"x3\",\"domain\":[0.8025,1.0],\"gridcolor\":\"#E1E5ED\",\"showgrid\":false,\"tickfont\":{\"color\":\"#4D5663\"},\"title\":{\"font\":{\"color\":\"#4D5663\"},\"text\":\"\"},\"zerolinecolor\":\"#E1E5ED\"},\"xaxis4\":{\"anchor\":\"y4\",\"domain\":[0.7875,1.0],\"gridcolor\":\"#E1E5ED\",\"showgrid\":false,\"tickfont\":{\"color\":\"#4D5663\"},\"title\":{\"font\":{\"color\":\"#4D5663\"},\"text\":\"\"},\"zerolinecolor\":\"#E1E5ED\"},\"yaxis4\":{\"anchor\":\"x4\",\"domain\":[0.8025,1.0],\"gridcolor\":\"#E1E5ED\",\"showgrid\":false,\"tickfont\":{\"color\":\"#4D5663\"},\"title\":{\"font\":{\"color\":\"#4D5663\"},\"text\":\"\"},\"zerolinecolor\":\"#E1E5ED\"},\"xaxis5\":{\"anchor\":\"y5\",\"domain\":[0.0,0.2125],\"gridcolor\":\"#E1E5ED\",\"showgrid\":false,\"tickfont\":{\"color\":\"#4D5663\"},\"title\":{\"font\":{\"color\":\"#4D5663\"},\"text\":\"\"},\"zerolinecolor\":\"#E1E5ED\"},\"yaxis5\":{\"anchor\":\"x5\",\"domain\":[0.535,0.7325],\"gridcolor\":\"#E1E5ED\",\"showgrid\":false,\"tickfont\":{\"color\":\"#4D5663\"},\"title\":{\"font\":{\"color\":\"#4D5663\"},\"text\":\"\"},\"zerolinecolor\":\"#E1E5ED\"},\"xaxis6\":{\"anchor\":\"y6\",\"domain\":[0.2625,0.475],\"gridcolor\":\"#E1E5ED\",\"showgrid\":false,\"tickfont\":{\"color\":\"#4D5663\"},\"title\":{\"font\":{\"color\":\"#4D5663\"},\"text\":\"\"},\"zerolinecolor\":\"#E1E5ED\"},\"yaxis6\":{\"anchor\":\"x6\",\"domain\":[0.535,0.7325],\"gridcolor\":\"#E1E5ED\",\"showgrid\":false,\"tickfont\":{\"color\":\"#4D5663\"},\"title\":{\"font\":{\"color\":\"#4D5663\"},\"text\":\"\"},\"zerolinecolor\":\"#E1E5ED\"},\"xaxis7\":{\"anchor\":\"y7\",\"domain\":[0.525,0.7375],\"gridcolor\":\"#E1E5ED\",\"showgrid\":false,\"tickfont\":{\"color\":\"#4D5663\"},\"title\":{\"font\":{\"color\":\"#4D5663\"},\"text\":\"\"},\"zerolinecolor\":\"#E1E5ED\"},\"yaxis7\":{\"anchor\":\"x7\",\"domain\":[0.535,0.7325],\"gridcolor\":\"#E1E5ED\",\"showgrid\":false,\"tickfont\":{\"color\":\"#4D5663\"},\"title\":{\"font\":{\"color\":\"#4D5663\"},\"text\":\"\"},\"zerolinecolor\":\"#E1E5ED\"},\"xaxis8\":{\"anchor\":\"y8\",\"domain\":[0.7875,1.0],\"gridcolor\":\"#E1E5ED\",\"showgrid\":false,\"tickfont\":{\"color\":\"#4D5663\"},\"title\":{\"font\":{\"color\":\"#4D5663\"},\"text\":\"\"},\"zerolinecolor\":\"#E1E5ED\"},\"yaxis8\":{\"anchor\":\"x8\",\"domain\":[0.535,0.7325],\"gridcolor\":\"#E1E5ED\",\"showgrid\":false,\"tickfont\":{\"color\":\"#4D5663\"},\"title\":{\"font\":{\"color\":\"#4D5663\"},\"text\":\"\"},\"zerolinecolor\":\"#E1E5ED\"},\"xaxis9\":{\"anchor\":\"y9\",\"domain\":[0.0,0.2125],\"gridcolor\":\"#E1E5ED\",\"showgrid\":false,\"tickfont\":{\"color\":\"#4D5663\"},\"title\":{\"font\":{\"color\":\"#4D5663\"},\"text\":\"\"},\"zerolinecolor\":\"#E1E5ED\"},\"yaxis9\":{\"anchor\":\"x9\",\"domain\":[0.2675,0.465],\"gridcolor\":\"#E1E5ED\",\"showgrid\":false,\"tickfont\":{\"color\":\"#4D5663\"},\"title\":{\"font\":{\"color\":\"#4D5663\"},\"text\":\"\"},\"zerolinecolor\":\"#E1E5ED\"},\"xaxis10\":{\"anchor\":\"y10\",\"domain\":[0.2625,0.475],\"gridcolor\":\"#E1E5ED\",\"showgrid\":false,\"tickfont\":{\"color\":\"#4D5663\"},\"title\":{\"font\":{\"color\":\"#4D5663\"},\"text\":\"\"},\"zerolinecolor\":\"#E1E5ED\"},\"yaxis10\":{\"anchor\":\"x10\",\"domain\":[0.2675,0.465],\"gridcolor\":\"#E1E5ED\",\"showgrid\":false,\"tickfont\":{\"color\":\"#4D5663\"},\"title\":{\"font\":{\"color\":\"#4D5663\"},\"text\":\"\"},\"zerolinecolor\":\"#E1E5ED\"},\"xaxis11\":{\"anchor\":\"y11\",\"domain\":[0.525,0.7375],\"gridcolor\":\"#E1E5ED\",\"showgrid\":false,\"tickfont\":{\"color\":\"#4D5663\"},\"title\":{\"font\":{\"color\":\"#4D5663\"},\"text\":\"\"},\"zerolinecolor\":\"#E1E5ED\"},\"yaxis11\":{\"anchor\":\"x11\",\"domain\":[0.2675,0.465],\"gridcolor\":\"#E1E5ED\",\"showgrid\":false,\"tickfont\":{\"color\":\"#4D5663\"},\"title\":{\"font\":{\"color\":\"#4D5663\"},\"text\":\"\"},\"zerolinecolor\":\"#E1E5ED\"},\"xaxis12\":{\"anchor\":\"y12\",\"domain\":[0.7875,1.0],\"gridcolor\":\"#E1E5ED\",\"showgrid\":false,\"tickfont\":{\"color\":\"#4D5663\"},\"title\":{\"font\":{\"color\":\"#4D5663\"},\"text\":\"\"},\"zerolinecolor\":\"#E1E5ED\"},\"yaxis12\":{\"anchor\":\"x12\",\"domain\":[0.2675,0.465],\"gridcolor\":\"#E1E5ED\",\"showgrid\":false,\"tickfont\":{\"color\":\"#4D5663\"},\"title\":{\"font\":{\"color\":\"#4D5663\"},\"text\":\"\"},\"zerolinecolor\":\"#E1E5ED\"},\"xaxis13\":{\"anchor\":\"y13\",\"domain\":[0.0,0.2125],\"gridcolor\":\"#E1E5ED\",\"showgrid\":false,\"tickfont\":{\"color\":\"#4D5663\"},\"title\":{\"font\":{\"color\":\"#4D5663\"},\"text\":\"\"},\"zerolinecolor\":\"#E1E5ED\"},\"yaxis13\":{\"anchor\":\"x13\",\"domain\":[0.0,0.1975],\"gridcolor\":\"#E1E5ED\",\"showgrid\":false,\"tickfont\":{\"color\":\"#4D5663\"},\"title\":{\"font\":{\"color\":\"#4D5663\"},\"text\":\"\"},\"zerolinecolor\":\"#E1E5ED\"},\"xaxis14\":{\"anchor\":\"y14\",\"domain\":[0.2625,0.475],\"gridcolor\":\"#E1E5ED\",\"showgrid\":false,\"tickfont\":{\"color\":\"#4D5663\"},\"title\":{\"font\":{\"color\":\"#4D5663\"},\"text\":\"\"},\"zerolinecolor\":\"#E1E5ED\"},\"yaxis14\":{\"anchor\":\"x14\",\"domain\":[0.0,0.1975],\"gridcolor\":\"#E1E5ED\",\"showgrid\":false,\"tickfont\":{\"color\":\"#4D5663\"},\"title\":{\"font\":{\"color\":\"#4D5663\"},\"text\":\"\"},\"zerolinecolor\":\"#E1E5ED\"},\"xaxis15\":{\"anchor\":\"y15\",\"domain\":[0.525,0.7375],\"gridcolor\":\"#E1E5ED\",\"showgrid\":false,\"tickfont\":{\"color\":\"#4D5663\"},\"title\":{\"font\":{\"color\":\"#4D5663\"},\"text\":\"\"},\"zerolinecolor\":\"#E1E5ED\"},\"yaxis15\":{\"anchor\":\"x15\",\"domain\":[0.0,0.1975],\"gridcolor\":\"#E1E5ED\",\"showgrid\":false,\"tickfont\":{\"color\":\"#4D5663\"},\"title\":{\"font\":{\"color\":\"#4D5663\"},\"text\":\"\"},\"zerolinecolor\":\"#E1E5ED\"},\"xaxis16\":{\"anchor\":\"y16\",\"domain\":[0.7875,1.0],\"gridcolor\":\"#E1E5ED\",\"showgrid\":false,\"tickfont\":{\"color\":\"#4D5663\"},\"title\":{\"font\":{\"color\":\"#4D5663\"},\"text\":\"\"},\"zerolinecolor\":\"#E1E5ED\"},\"yaxis16\":{\"anchor\":\"x16\",\"domain\":[0.0,0.1975],\"gridcolor\":\"#E1E5ED\",\"showgrid\":false,\"tickfont\":{\"color\":\"#4D5663\"},\"title\":{\"font\":{\"color\":\"#4D5663\"},\"text\":\"\"},\"zerolinecolor\":\"#E1E5ED\"}},                        {\"showLink\": true, \"linkText\": \"Export to plot.ly\", \"plotlyServerURL\": \"https://plot.ly\", \"responsive\": true}                    ).then(function(){\n",
       "                            \n",
       "var gd = document.getElementById('ebcaa357-fe2f-4581-9780-7aa8077ecccd');\n",
       "var x = new MutationObserver(function (mutations, observer) {{\n",
       "        var display = window.getComputedStyle(gd).display;\n",
       "        if (!display || display === 'none') {{\n",
       "            console.log([gd, 'removed!']);\n",
       "            Plotly.purge(gd);\n",
       "            observer.disconnect();\n",
       "        }}\n",
       "}});\n",
       "\n",
       "// Listen for the removal of the full notebook cells\n",
       "var notebookContainer = gd.closest('#notebook-container');\n",
       "if (notebookContainer) {{\n",
       "    x.observe(notebookContainer, {childList: true});\n",
       "}}\n",
       "\n",
       "// Listen for the clearing of the current output cell\n",
       "var outputEl = gd.closest('.output');\n",
       "if (outputEl) {{\n",
       "    x.observe(outputEl, {childList: true});\n",
       "}}\n",
       "\n",
       "                        })                };                });            </script>        </div>"
      ]
     },
     "metadata": {},
     "output_type": "display_data"
    }
   ],
   "source": [
    "df.scatter_matrix()"
   ]
  },
  {
   "cell_type": "code",
   "execution_count": null,
   "id": "cce14a5a",
   "metadata": {},
   "outputs": [],
   "source": []
  }
 ],
 "metadata": {
  "kernelspec": {
   "display_name": "Python 3 (ipykernel)",
   "language": "python",
   "name": "python3"
  },
  "language_info": {
   "codemirror_mode": {
    "name": "ipython",
    "version": 3
   },
   "file_extension": ".py",
   "mimetype": "text/x-python",
   "name": "python",
   "nbconvert_exporter": "python",
   "pygments_lexer": "ipython3",
   "version": "3.9.7"
  }
 },
 "nbformat": 4,
 "nbformat_minor": 5
}
